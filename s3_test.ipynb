{
 "cells": [
  {
   "cell_type": "code",
   "execution_count": 2,
   "metadata": {},
   "outputs": [],
   "source": [
    "import boto3"
   ]
  },
  {
   "cell_type": "code",
   "execution_count": 3,
   "metadata": {},
   "outputs": [],
   "source": [
    "bucket_name='w251-final-project'\n",
    "bucket_url='https://w251-final-project.s3.us-east.2.amazonaws.com'"
   ]
  },
  {
   "cell_type": "code",
   "execution_count": 3,
   "metadata": {},
   "outputs": [],
   "source": [
    "s3=boto3.resource('s3')"
   ]
  },
  {
   "cell_type": "code",
   "execution_count": 4,
   "metadata": {},
   "outputs": [
    {
     "name": "stdout",
     "output_type": "stream",
     "text": [
      "sagemaker-studio-315188036985-srni0ojoz6\n",
      "trm-test-bucket\n",
      "w251-final-project\n"
     ]
    }
   ],
   "source": [
    "for bucket in s3.buckets.all():\n",
    "    print(bucket.name)"
   ]
  },
  {
   "cell_type": "code",
   "execution_count": 6,
   "metadata": {},
   "outputs": [
    {
     "data": {
      "text/plain": [
       "s3.Object(bucket_name='w251-final-project', key='test_file')"
      ]
     },
     "execution_count": 6,
     "metadata": {},
     "output_type": "execute_result"
    }
   ],
   "source": [
    "#upload a file\n",
    "#!ls -l\n",
    "data=open('test.test','rb')\n",
    "s3.Bucket(bucket_name).put_object(Key='test_file',Body=data)"
   ]
  },
  {
   "cell_type": "code",
   "execution_count": 7,
   "metadata": {},
   "outputs": [],
   "source": [
    "def upload_file(file_name, bucket, object_name=None):\n",
    "    \"\"\"Upload a file to an S3 bucket\n",
    "\n",
    "    :param file_name: File to upload\n",
    "    :param bucket: Bucket to upload to\n",
    "    :param object_name: S3 object name. If not specified then file_name is used\n",
    "    :return: True if file was uploaded, else False\n",
    "    \"\"\"\n",
    "\n",
    "    # If S3 object_name was not specified, use file_name\n",
    "    if object_name is None:\n",
    "        object_name = file_name\n",
    "\n",
    "    # Upload the file\n",
    "    s3_client = boto3.client('s3')\n",
    "    try:\n",
    "        response = s3_client.upload_file(file_name, bucket, object_name)\n",
    "    except ClientError as e:\n",
    "        logging.error(e)\n",
    "        return False\n",
    "    return True"
   ]
  },
  {
   "cell_type": "code",
   "execution_count": 8,
   "metadata": {},
   "outputs": [],
   "source": [
    "#upload using function\n",
    "s3 = boto3.client('s3')\n",
    "with open(\"test2.test\", \"rb\") as f:\n",
    "    s3.upload_fileobj(f, bucket_name, \"test_file2\")"
   ]
  },
  {
   "cell_type": "code",
   "execution_count": 12,
   "metadata": {},
   "outputs": [],
   "source": [
    "#download\n",
    "s3_file='test_file2'\n",
    "download_file='downloaded_touch2.touch'\n",
    "s3 = boto3.client('s3')\n",
    "with open(download_file, 'wb') as f:\n",
    "    s3.download_fileobj(bucket_name, s3_file, f)"
   ]
  },
  {
   "cell_type": "code",
   "execution_count": 13,
   "metadata": {},
   "outputs": [
    {
     "ename": "AttributeError",
     "evalue": "'S3' object has no attribute 'Object'",
     "output_type": "error",
     "traceback": [
      "\u001b[0;31m---------------------------------------------------------------------------\u001b[0m",
      "\u001b[0;31mAttributeError\u001b[0m                            Traceback (most recent call last)",
      "\u001b[0;32m<ipython-input-13-99193f971f35>\u001b[0m in \u001b[0;36m<module>\u001b[0;34m\u001b[0m\n\u001b[1;32m      8\u001b[0m \u001b[0;34m\u001b[0m\u001b[0m\n\u001b[1;32m      9\u001b[0m \u001b[0mfile_name\u001b[0m\u001b[0;34m=\u001b[0m\u001b[0;34m'test_file2'\u001b[0m\u001b[0;34m\u001b[0m\u001b[0;34m\u001b[0m\u001b[0m\n\u001b[0;32m---> 10\u001b[0;31m \u001b[0mprint\u001b[0m\u001b[0;34m(\u001b[0m\u001b[0mcheck\u001b[0m\u001b[0;34m(\u001b[0m\u001b[0ms3\u001b[0m\u001b[0;34m,\u001b[0m\u001b[0mbucket_name\u001b[0m\u001b[0;34m,\u001b[0m \u001b[0mfile_name\u001b[0m\u001b[0;34m)\u001b[0m\u001b[0;34m)\u001b[0m\u001b[0;34m\u001b[0m\u001b[0;34m\u001b[0m\u001b[0m\n\u001b[0m",
      "\u001b[0;32m<ipython-input-13-99193f971f35>\u001b[0m in \u001b[0;36mcheck\u001b[0;34m(s3_service, bucket, key)\u001b[0m\n\u001b[1;32m      2\u001b[0m \u001b[0;32mdef\u001b[0m \u001b[0mcheck\u001b[0m\u001b[0;34m(\u001b[0m\u001b[0ms3_service\u001b[0m\u001b[0;34m,\u001b[0m \u001b[0mbucket\u001b[0m\u001b[0;34m,\u001b[0m \u001b[0mkey\u001b[0m\u001b[0;34m)\u001b[0m\u001b[0;34m:\u001b[0m\u001b[0;34m\u001b[0m\u001b[0;34m\u001b[0m\u001b[0m\n\u001b[1;32m      3\u001b[0m     \u001b[0;32mtry\u001b[0m\u001b[0;34m:\u001b[0m\u001b[0;34m\u001b[0m\u001b[0;34m\u001b[0m\u001b[0m\n\u001b[0;32m----> 4\u001b[0;31m         \u001b[0ms3_service\u001b[0m\u001b[0;34m.\u001b[0m\u001b[0mObject\u001b[0m\u001b[0;34m(\u001b[0m\u001b[0mbucket\u001b[0m\u001b[0;34m,\u001b[0m \u001b[0mkey\u001b[0m\u001b[0;34m)\u001b[0m\u001b[0;34m.\u001b[0m\u001b[0mload\u001b[0m\u001b[0;34m(\u001b[0m\u001b[0;34m)\u001b[0m\u001b[0;34m\u001b[0m\u001b[0;34m\u001b[0m\u001b[0m\n\u001b[0m\u001b[1;32m      5\u001b[0m     \u001b[0;32mexcept\u001b[0m \u001b[0mClientError\u001b[0m \u001b[0;32mas\u001b[0m \u001b[0me\u001b[0m\u001b[0;34m:\u001b[0m\u001b[0;34m\u001b[0m\u001b[0;34m\u001b[0m\u001b[0m\n\u001b[1;32m      6\u001b[0m         \u001b[0;32mreturn\u001b[0m \u001b[0mint\u001b[0m\u001b[0;34m(\u001b[0m\u001b[0me\u001b[0m\u001b[0;34m.\u001b[0m\u001b[0mresponse\u001b[0m\u001b[0;34m[\u001b[0m\u001b[0;34m'Error'\u001b[0m\u001b[0;34m]\u001b[0m\u001b[0;34m[\u001b[0m\u001b[0;34m'Code'\u001b[0m\u001b[0;34m]\u001b[0m\u001b[0;34m)\u001b[0m \u001b[0;34m!=\u001b[0m \u001b[0;36m404\u001b[0m\u001b[0;34m\u001b[0m\u001b[0;34m\u001b[0m\u001b[0m\n",
      "\u001b[0;32m~/anaconda3/envs/tensorflow2_p36/lib/python3.6/site-packages/botocore/client.py\u001b[0m in \u001b[0;36m__getattr__\u001b[0;34m(self, item)\u001b[0m\n\u001b[1;32m    573\u001b[0m         raise AttributeError(\n\u001b[1;32m    574\u001b[0m             \"'%s' object has no attribute '%s'\" % (\n\u001b[0;32m--> 575\u001b[0;31m                 self.__class__.__name__, item)\n\u001b[0m\u001b[1;32m    576\u001b[0m         )\n\u001b[1;32m    577\u001b[0m \u001b[0;34m\u001b[0m\u001b[0m\n",
      "\u001b[0;31mAttributeError\u001b[0m: 'S3' object has no attribute 'Object'"
     ]
    }
   ],
   "source": [
    "from botocore.exceptions import ClientError\n",
    "def check(s3_service, bucket, key):\n",
    "    try:\n",
    "        s3_service.Object(bucket, key).load()\n",
    "    except ClientError as e:\n",
    "        return int(e.response['Error']['Code']) != 404\n",
    "    return True\n",
    "\n",
    "file_name='test_file2'\n",
    "print(check(s3,bucket_name, file_name))"
   ]
  },
  {
   "cell_type": "code",
   "execution_count": 15,
   "metadata": {},
   "outputs": [
    {
     "name": "stdout",
     "output_type": "stream",
     "text": [
      "False\n"
     ]
    }
   ],
   "source": [
    "#check if file already exists\n",
    "def check(s3_client, bucket, key):\n",
    "    try:\n",
    "        s3_client.head_object(Bucket=bucket, Key=key)\n",
    "    except ClientError as e:\n",
    "        return int(e.response['Error']['Code']) != 404\n",
    "    return True\n",
    "\n",
    "s3_client = boto3.client('s3')\n",
    "file_name='test_file'\n",
    "print(check(s3_client, bucket_name, file_name))"
   ]
  },
  {
   "cell_type": "code",
   "execution_count": 9,
   "metadata": {},
   "outputs": [],
   "source": [
    "\n",
    "def get_matching_s3_objects(bucket, prefix=\"\", suffix=\"\"):\n",
    "    \"\"\"\n",
    "    Generate objects in an S3 bucket.\n",
    "\n",
    "    :param bucket: Name of the S3 bucket.\n",
    "    :param prefix: Only fetch objects whose key starts with\n",
    "        this prefix (optional).\n",
    "    :param suffix: Only fetch objects whose keys end with\n",
    "        this suffix (optional).\n",
    "    \"\"\"\n",
    "    s3 = boto3.client(\"s3\")\n",
    "    paginator = s3.get_paginator(\"list_objects_v2\")\n",
    "\n",
    "    kwargs = {'Bucket': bucket}\n",
    "\n",
    "    # We can pass the prefix directly to the S3 API.  If the user has passed\n",
    "    # a tuple or list of prefixes, we go through them one by one.\n",
    "    if isinstance(prefix, str):\n",
    "        prefixes = (prefix, )\n",
    "    else:\n",
    "        prefixes = prefix\n",
    "\n",
    "    for key_prefix in prefixes:\n",
    "        kwargs[\"Prefix\"] = key_prefix\n",
    "\n",
    "        for page in paginator.paginate(**kwargs):\n",
    "            try:\n",
    "                contents = page[\"Contents\"]\n",
    "            except KeyError:\n",
    "                break\n",
    "\n",
    "            for obj in contents:\n",
    "                key = obj[\"Key\"]\n",
    "                if key.endswith(suffix):\n",
    "                    yield obj\n",
    "\n",
    "\n",
    "def get_matching_s3_keys(bucket, prefix=\"\", suffix=\"\"):\n",
    "    \"\"\"\n",
    "    Generate the keys in an S3 bucket.\n",
    "\n",
    "    :param bucket: Name of the S3 bucket.\n",
    "    :param prefix: Only fetch keys that start with this prefix (optional).\n",
    "    :param suffix: Only fetch keys that end with this suffix (optional).\n",
    "    \"\"\"\n",
    "    obj_list=[]\n",
    "    for obj in get_matching_s3_objects(bucket, prefix, suffix):\n",
    "        obj_list.append(obj[\"Key\"])\n",
    "    return(obj_list)\n",
    "\n",
    "test=get_matching_s3_keys(bucket_name)"
   ]
  },
  {
   "cell_type": "code",
   "execution_count": 10,
   "metadata": {},
   "outputs": [
    {
     "name": "stdout",
     "output_type": "stream",
     "text": [
      "['/w251-project/stars/images/0+0.0+2020-05-25T00:59:02.png', '/w251-project/stars/images/0+0.8983152841195212+2020-05-25T00:59:02.png', '/w251-project/stars/images/0+1.796630568239042+2020-05-25T00:59:02.png', '/w251-project/stars/images/0+10.779783409434389+2020-05-25T00:59:02.png', '/w251-project/stars/images/0+101.50962710550905+2020-05-25T00:59:02.png', '/w251-project/stars/images/0+102.40794238962876+2020-05-25T00:59:02.png', '/w251-project/stars/images/0+103.30625767374846+2020-05-25T00:59:02.png', '/w251-project/stars/images/0+104.20457295786817+2020-05-25T00:59:02.png', '/w251-project/stars/images/0+105.10288824198787+2020-05-25T00:59:02.png', '/w251-project/stars/images/0+106.00120352610757+2020-05-25T00:59:02.png', '/w251-project/stars/images/0+106.89951881022728+2020-05-25T00:59:02.png', '/w251-project/stars/images/0+107.79783409434698+2020-05-25T00:59:02.png', '/w251-project/stars/images/0+108.69614937846669+2020-05-25T00:59:02.png', '/w251-project/stars/images/0+109.59446466258639+2020-05-25T00:59:02.png', '/w251-project/stars/images/0+11.67809869355393+2020-05-25T00:59:02.png', '/w251-project/stars/images/0+111.3910952308258+2020-05-25T00:59:02.png', '/w251-project/stars/images/0+112.2894105149455+2020-05-25T00:59:02.png', '/w251-project/stars/images/0+113.1877257990652+2020-05-25T00:59:02.png', '/w251-project/stars/images/0+114.08604108318491+2020-05-25T00:59:02.png', '/w251-project/stars/images/0+114.98435636730461+2020-05-25T00:59:02.png', '/w251-project/stars/images/0+115.88267165142432+2020-05-25T00:59:02.png', '/w251-project/stars/images/0+116.78098693554402+2020-05-25T00:59:02.png', '/w251-project/stars/images/0+117.67930221966373+2020-05-25T00:59:02.png', '/w251-project/stars/images/0+118.57761750378343+2020-05-25T00:59:02.png', '/w251-project/stars/images/0+119.47593278790313+2020-05-25T00:59:02.png', '/w251-project/stars/images/0+12.57641397767347+2020-05-25T00:59:02.png', '/w251-project/stars/images/0+13.47472926179301+2020-05-25T00:59:02.png', '/w251-project/stars/images/0+14.37304454591255+2020-05-25T00:59:02.png', '/w251-project/stars/images/0+15.271359830032091+2020-05-25T00:59:02.png', '/w251-project/stars/images/0+16.169675114151634+2020-05-25T00:59:02.png', '/w251-project/stars/images/0+17.067990398271174+2020-05-25T00:59:02.png', '/w251-project/stars/images/0+17.966305682390715+2020-05-25T00:59:02.png', '/w251-project/stars/images/0+18.864620966510255+2020-05-25T00:59:02.png', '/w251-project/stars/images/0+19.762936250629796+2020-05-25T00:59:02.png', '/w251-project/stars/images/0+2.694945852358563+2020-05-25T00:59:02.png', '/w251-project/stars/images/0+20.661251534749336+2020-05-25T00:59:02.png', '/w251-project/stars/images/0+21.559566818868877+2020-05-25T00:59:02.png', '/w251-project/stars/images/0+22.457882102988417+2020-05-25T00:59:02.png', '/w251-project/stars/images/0+23.356197387107958+2020-05-25T00:59:02.png', '/w251-project/stars/images/0+24.2545126712275+2020-05-25T00:59:02.png', '/w251-project/stars/images/0+25.15282795534704+2020-05-25T00:59:02.png', '/w251-project/stars/images/0+26.05114323946658+2020-05-25T00:59:02.png', '/w251-project/stars/images/0+26.94945852358612+2020-05-25T00:59:02.png', '/w251-project/stars/images/0+27.84777380770566+2020-05-25T00:59:02.png', '/w251-project/stars/images/0+28.7460890918252+2020-05-25T00:59:02.png', '/w251-project/stars/images/0+29.64440437594474+2020-05-25T00:59:02.png', '/w251-project/stars/images/0+3.593261136478084+2020-05-25T00:59:02.png', '/w251-project/stars/images/0+30.542719660064282+2020-05-25T00:59:02.png', '/w251-project/stars/images/0+31.441034944183823+2020-05-25T00:59:02.png', '/w251-project/stars/images/0+32.33935022830337+2020-05-25T00:59:02.png', '/w251-project/stars/images/0+33.23766551242275+2020-05-25T00:59:02.png', '/w251-project/stars/images/0+34.135980796542135+2020-05-25T00:59:02.png', '/w251-project/stars/images/0+35.03429608066152+2020-05-25T00:59:02.png', '/w251-project/stars/images/0+35.932611364780904+2020-05-25T00:59:02.png', '/w251-project/stars/images/0+36.83092664890029+2020-05-25T00:59:02.png', '/w251-project/stars/images/0+37.72924193301967+2020-05-25T00:59:02.png', '/w251-project/stars/images/0+38.627557217139056+2020-05-25T00:59:02.png', '/w251-project/stars/images/0+39.52587250125844+2020-05-25T00:59:02.png', '/w251-project/stars/images/0+4.491576420597605+2020-05-25T00:59:02.png', '/w251-project/stars/images/0+40.424187785377825+2020-05-25T00:59:02.png', '/w251-project/stars/images/0+41.32250306949721+2020-05-25T00:59:02.png', '/w251-project/stars/images/0+42.22081835361659+2020-05-25T00:59:02.png', '/w251-project/stars/images/0+43.11913363773598+2020-05-25T00:59:02.png', '/w251-project/stars/images/0+44.01744892185536+2020-05-25T00:59:02.png', '/w251-project/stars/images/0+44.915764205974746+2020-05-25T00:59:02.png', '/w251-project/stars/images/0+45.81407949009413+2020-05-25T00:59:02.png', '/w251-project/stars/images/0+46.712394774213514+2020-05-25T00:59:02.png', '/w251-project/stars/images/0+47.6107100583329+2020-05-25T00:59:02.png', '/w251-project/stars/images/0+48.50902534245228+2020-05-25T00:59:02.png', '/w251-project/stars/images/0+49.40734062657167+2020-05-25T00:59:02.png', '/w251-project/stars/images/0+5.3898917047171455+2020-05-25T00:59:02.png', '/w251-project/stars/images/0+50.30565591069105+2020-05-25T00:59:02.png', '/w251-project/stars/images/0+51.203971194810435+2020-05-25T00:59:02.png', '/w251-project/stars/images/0+52.10228647892982+2020-05-25T00:59:02.png', '/w251-project/stars/images/0+53.000601763049204+2020-05-25T00:59:02.png', '/w251-project/stars/images/0+53.89891704716859+2020-05-25T00:59:02.png', '/w251-project/stars/images/0+54.79723233128797+2020-05-25T00:59:02.png', '/w251-project/stars/images/0+55.69554761540736+2020-05-25T00:59:02.png', '/w251-project/stars/images/0+56.59386289952674+2020-05-25T00:59:02.png', '/w251-project/stars/images/0+57.492178183646125+2020-05-25T00:59:02.png', '/w251-project/stars/images/0+58.39049346776551+2020-05-25T00:59:02.png', '/w251-project/stars/images/0+59.28880875188489+2020-05-25T00:59:02.png', '/w251-project/stars/images/0+6.288206988836686+2020-05-25T00:59:02.png', '/w251-project/stars/images/0+60.18712403600428+2020-05-25T00:59:02.png', '/w251-project/stars/images/0+61.08543932012366+2020-05-25T00:59:02.png', '/w251-project/stars/images/0+61.983754604243046+2020-05-25T00:59:02.png', '/w251-project/stars/images/0+62.88206988836243+2020-05-25T00:59:02.png', '/w251-project/stars/images/0+63.780385172481814+2020-05-25T00:59:02.png', '/w251-project/stars/images/0+64.67870045660119+2020-05-25T00:59:02.png', '/w251-project/stars/images/0+65.5770157407209+2020-05-25T00:59:02.png', '/w251-project/stars/images/0+66.4753310248406+2020-05-25T00:59:02.png', '/w251-project/stars/images/0+68.27196159308001+2020-05-25T00:59:02.png', '/w251-project/stars/images/0+69.17027687719971+2020-05-25T00:59:02.png', '/w251-project/stars/images/0+7.186522272956227+2020-05-25T00:59:02.png', '/w251-project/stars/images/0+70.06859216131942+2020-05-25T00:59:02.png', '/w251-project/stars/images/0+70.96690744543912+2020-05-25T00:59:02.png', '/w251-project/stars/images/0+71.86522272955882+2020-05-25T00:59:02.png', '/w251-project/stars/images/0+72.76353801367853+2020-05-25T00:59:02.png', '/w251-project/stars/images/0+73.66185329779823+2020-05-25T00:59:02.png', '/w251-project/stars/images/0+74.56016858191794+2020-05-25T00:59:02.png', '/w251-project/stars/images/0+75.45848386603764+2020-05-25T00:59:02.png', '/w251-project/stars/images/0+76.35679915015734+2020-05-25T00:59:02.png', '/w251-project/stars/images/0+77.25511443427705+2020-05-25T00:59:02.png', '/w251-project/stars/images/0+78.15342971839675+2020-05-25T00:59:02.png', '/w251-project/stars/images/0+79.95006028663616+2020-05-25T00:59:02.png', '/w251-project/stars/images/0+8.084837557075767+2020-05-25T00:59:02.png', '/w251-project/stars/images/0+8.983152841195308+2020-05-25T00:59:02.png', '/w251-project/stars/images/0+80.84837557075586+2020-05-25T00:59:02.png', '/w251-project/stars/images/0+81.74669085487557+2020-05-25T00:59:02.png', '/w251-project/stars/images/0+82.64500613899527+2020-05-25T00:59:02.png', '/w251-project/stars/images/0+83.54332142311497+2020-05-25T00:59:02.png', '/w251-project/stars/images/0+84.44163670723468+2020-05-25T00:59:02.png', '/w251-project/stars/images/0+85.33995199135438+2020-05-25T00:59:02.png', '/w251-project/stars/images/0+86.23826727547409+2020-05-25T00:59:02.png', '/w251-project/stars/images/0+87.13658255959379+2020-05-25T00:59:02.png', '/w251-project/stars/images/0+88.0348978437135+2020-05-25T00:59:02.png', '/w251-project/stars/images/0+88.9332131278332+2020-05-25T00:59:02.png', '/w251-project/stars/images/0+89.8315284119529+2020-05-25T00:59:02.png', '/w251-project/stars/images/0+9.881468125314848+2020-05-25T00:59:02.png', '/w251-project/stars/images/0+90.7298436960726+2020-05-25T00:59:02.png', '/w251-project/stars/images/0+91.62815898019231+2020-05-25T00:59:02.png', '/w251-project/stars/images/0+92.52647426431201+2020-05-25T00:59:02.png', '/w251-project/stars/images/0+93.42478954843172+2020-05-25T00:59:02.png', '/w251-project/stars/images/0+94.32310483255142+2020-05-25T00:59:02.png', '/w251-project/stars/images/0+95.22142011667113+2020-05-25T00:59:02.png', '/w251-project/stars/images/0+96.11973540079083+2020-05-25T00:59:02.png', '/w251-project/stars/images/0+97.01805068491053+2020-05-25T00:59:02.png', '/w251-project/stars/images/0+97.91636596903024+2020-05-25T00:59:02.png', '/w251-project/stars/images/0+98.81468125314994+2020-05-25T00:59:02.png', '/w251-project/stars/images/0+99.71299653726965+2020-05-25T00:59:02.png', '/w251-project/stars/images/43.0+-68.02058113016686+2020-05-25T00:59:02.png', '/w251-project/stars/images/43.0+-68.03471715565367+2020-05-25T00:59:02.png', '/w251-project/stars/images/43.0+-68.04575254135788+2020-05-25T00:59:02.png', '/w251-project/stars/images/43.0+-68.08922694742382+2020-05-25T00:59:02.png', '/w251-project/stars/images/43.0+-68.09505596454966+2020-05-25T00:59:02.png', '/w251-project/stars/images/43.0+-68.10865695512342+2020-05-25T00:59:02.png', '/w251-project/stars/images/43.0+-68.12221676637459+2020-05-25T00:59:02.png', '/w251-project/stars/images/43.0+-68.1694258043178+2020-05-25T00:59:02.png', '/w251-project/stars/images/43.0+-68.19969991626868+2020-05-25T00:59:02.png', '/w251-project/stars/images/43.0+-68.23092652634898+2020-05-25T00:59:02.png', '/w251-project/stars/images/43.0+-68.32067732397768+2020-05-25T00:59:02.png', '/w251-project/stars/images/43.0+-68.32273888847403+2020-05-25T00:59:02.png', '/w251-project/stars/images/43.0+-68.32815376319579+2020-05-25T00:59:02.png', '/w251-project/stars/images/43.0+-68.33386816385814+2020-05-25T00:59:02.png', '/w251-project/stars/images/43.0+-68.36789227153778+2020-05-25T00:59:02.png', '/w251-project/stars/images/43.0+-68.36976038580914+2020-05-25T00:59:02.png', '/w251-project/stars/images/43.0+-68.37583543066341+2020-05-25T00:59:02.png', '/w251-project/stars/images/43.0+-68.39880188650137+2020-05-25T00:59:02.png', '/w251-project/stars/images/43.0+-68.41324927451552+2020-05-25T00:59:02.png', '/w251-project/stars/images/43.0+-68.41825684407144+2020-05-25T00:59:02.png', '/w251-project/stars/images/43.0+-68.42624204516774+2020-05-25T00:59:02.png', '/w251-project/stars/images/43.0+-68.43836907386476+2020-05-25T00:59:02.png', '/w251-project/stars/images/43.0+-68.44821694527988+2020-05-25T00:59:02.png', '/w251-project/stars/images/43.0+-68.45172755094002+2020-05-25T00:59:02.png', '/w251-project/stars/images/43.0+-68.46381024237134+2020-05-25T00:59:02.png', '/w251-project/stars/images/43.0+-68.48446182680023+2020-05-25T00:59:02.png', '/w251-project/stars/images/43.0+-68.49655921211975+2020-05-25T00:59:02.png', '/w251-project/stars/images/43.0+-68.5168129226892+2020-05-25T00:59:02.png', '/w251-project/stars/images/43.0+-68.54279788629255+2020-05-25T00:59:02.png', '/w251-project/stars/images/43.0+-68.55595477162841+2020-05-25T00:59:02.png', '/w251-project/stars/images/43.0+-68.57498653308235+2020-05-25T00:59:02.png', '/w251-project/stars/images/43.0+-68.64052722089204+2020-05-25T00:59:02.png', '/w251-project/stars/images/43.0+-68.6460257682951+2020-05-25T00:59:02.png', '/w251-project/stars/images/43.0+-68.69646708431702+2020-05-25T00:59:02.png', '/w251-project/stars/images/43.0+-68.7110274456159+2020-05-25T00:59:02.png', '/w251-project/stars/images/43.0+-68.7435317531225+2020-05-25T00:59:02.png', '/w251-project/stars/images/43.0+-68.76192945384062+2020-05-25T00:59:02.png', '/w251-project/stars/images/43.0+-68.76715837391332+2020-05-25T00:59:02.png', '/w251-project/stars/images/43.0+-68.79496676862964+2020-05-25T00:59:02.png', '/w251-project/stars/images/43.0+-68.81291838594835+2020-05-25T00:59:02.png', '/w251-project/stars/images/43.0+-68.873293272929+2020-05-25T00:59:02.png', '/w251-project/stars/images/43.0+-68.88548660666238+2020-05-25T00:59:02.png', '/w251-project/stars/images/43.0+-68.90815797725074+2020-05-25T00:59:02.png', '/w251-project/stars/images/43.0+-68.92274217457273+2020-05-25T00:59:02.png', '/w251-project/stars/images/43.0+-68.92641787020263+2020-05-25T00:59:02.png', '/w251-project/stars/images/43.0+-68.93852603157787+2020-05-25T00:59:02.png', '/w251-project/stars/images/43.0+-68.97471449549893+2020-05-25T00:59:02.png', '/w251-project/stars/images/43.00460495114945+-68.45220149686612+2020-05-25T00:59:02.png', '/w251-project/stars/images/43.023587125908215+-68.71166291218202+2020-05-25T00:59:02.png', '/w251-project/stars/images/43.033578721293416+-68.74269544217891+2020-05-25T00:59:02.png', '/w251-project/stars/images/43.041306419161685+-68.81048943596579+2020-05-25T00:59:02.png', '/w251-project/stars/images/43.048663738735044+-68.79688724619723+2020-05-25T00:59:02.png', '/w251-project/stars/images/43.0519438390341+-68.27709563620644+2020-05-25T00:59:02.png', '/w251-project/stars/images/43.05591775802817+-69.0+2020-05-25T00:59:02.png', '/w251-project/stars/images/43.0570647292952+-69.0+2020-05-25T00:59:02.png', '/w251-project/stars/images/43.05839933704875+-68.65412126735757+2020-05-25T00:59:02.png', '/w251-project/stars/images/43.07232628272562+-68.04750084744505+2020-05-25T00:59:02.png', '/w251-project/stars/images/43.07993898329136+-68.35408795020703+2020-05-25T00:59:02.png', '/w251-project/stars/images/43.08748613020276+-68.09314484663817+2020-05-25T00:59:02.png', '/w251-project/stars/images/43.094305880687415+-69.0+2020-05-25T00:59:02.png', '/w251-project/stars/images/43.09833415124404+-68.11705632415347+2020-05-25T00:59:02.png', '/w251-project/stars/images/43.12044002901902+-69.0+2020-05-25T00:59:02.png', '/w251-project/stars/images/43.130031186490086+-68.30031434041368+2020-05-25T00:59:02.png', '/w251-project/stars/images/43.13391876009005+-69.0+2020-05-25T00:59:02.png', '/w251-project/stars/images/43.1361136926662+-68.62023670558304+2020-05-25T00:59:02.png', '/w251-project/stars/images/43.143426772303734+-68.82811939896612+2020-05-25T00:59:02.png', '/w251-project/stars/images/43.14367424668374+-68.83562647815569+2020-05-25T00:59:02.png', '/w251-project/stars/images/43.14601219635385+-69.0+2020-05-25T00:59:02.png', '/w251-project/stars/images/43.146620343211566+-69.0+2020-05-25T00:59:02.png', '/w251-project/stars/images/43.1517554933681+-68.63710714071321+2020-05-25T00:59:02.png', '/w251-project/stars/images/43.16335444143033+-69.0+2020-05-25T00:59:02.png', '/w251-project/stars/images/43.17629865522191+-68.88715073195941+2020-05-25T00:59:02.png', '/w251-project/stars/images/43.183083153922574+-68.6514602808616+2020-05-25T00:59:02.png', '/w251-project/stars/images/43.18821102788038+-68.57910239246814+2020-05-25T00:59:02.png', '/w251-project/stars/images/43.19990398240348+-68.72704958915739+2020-05-25T00:59:02.png', '/w251-project/stars/images/43.20383241355868+-68.24170969718236+2020-05-25T00:59:02.png', '/w251-project/stars/images/43.20567020849009+-68.6724744773056+2020-05-25T00:59:02.png', '/w251-project/stars/images/43.21023298985953+-68.88560268153013+2020-05-25T00:59:02.png', '/w251-project/stars/images/43.218444554261545+-68.99981898840682+2020-05-25T00:59:02.png', '/w251-project/stars/images/43.21952514707363+-69.0+2020-05-25T00:59:02.png', '/w251-project/stars/images/43.22375224760539+-68.22630786445755+2020-05-25T00:59:02.png', '/w251-project/stars/images/43.225597586389206+-68.21397287403758+2020-05-25T00:59:02.png', '/w251-project/stars/images/43.23730321412047+-68.82150010082192+2020-05-25T00:59:02.png', '/w251-project/stars/images/43.24294673800527+-68.07681204268603+2020-05-25T00:59:02.png', '/w251-project/stars/images/43.25512503257435+-68.44509163824111+2020-05-25T00:59:02.png', '/w251-project/stars/images/43.26459932196094+-69.0+2020-05-25T00:59:02.png', '/w251-project/stars/images/43.26658068567884+-69.0+2020-05-25T00:59:02.png', '/w251-project/stars/images/43.28341244517928+-68.87926068995849+2020-05-25T00:59:02.png', '/w251-project/stars/images/43.287099556287245+-68.25242219940868+2020-05-25T00:59:02.png', '/w251-project/stars/images/43.30005872297183+-68.14353866683788+2020-05-25T00:59:02.png', '/w251-project/stars/images/43.305956383941876+-68.95835071665532+2020-05-25T00:59:02.png', '/w251-project/stars/images/43.3090423715813+-68.37379311321841+2020-05-25T00:59:02.png', '/w251-project/stars/images/43.319986578643615+-68.48411914200463+2020-05-25T00:59:02.png', '/w251-project/stars/images/43.332443360830084+-69.0+2020-05-25T00:59:02.png', '/w251-project/stars/images/43.33308252503363+-69.0+2020-05-25T00:59:02.png', '/w251-project/stars/images/43.34483896556235+-68.5355022635615+2020-05-25T00:59:02.png', '/w251-project/stars/images/43.36212682354472+-69.0+2020-05-25T00:59:02.png', '/w251-project/stars/images/43.37077209401591+-69.0+2020-05-25T00:59:02.png', '/w251-project/stars/images/43.37788830457887+-68.74799388988733+2020-05-25T00:59:02.png', '/w251-project/stars/images/43.38185353927176+-69.0+2020-05-25T00:59:02.png', '/w251-project/stars/images/43.38701247767962+-69.0+2020-05-25T00:59:02.png', '/w251-project/stars/images/43.387284021917814+-68.99336504157068+2020-05-25T00:59:02.png', '/w251-project/stars/images/43.39054618051558+-69.0+2020-05-25T00:59:02.png', '/w251-project/stars/images/43.39407268621443+-68.53997686847856+2020-05-25T00:59:02.png', '/w251-project/stars/images/43.39582119768185+-69.0+2020-05-25T00:59:02.png', '/w251-project/stars/images/43.39934996306523+-69.0+2020-05-25T00:59:02.png', '/w251-project/stars/images/43.40897857991855+-69.0+2020-05-25T00:59:02.png', '/w251-project/stars/images/43.42028959186551+-69.0+2020-05-25T00:59:02.png', '/w251-project/stars/images/43.428837311610984+-69.0+2020-05-25T00:59:02.png', '/w251-project/stars/images/43.448612730696766+-68.72087643656484+2020-05-25T00:59:02.png', '/w251-project/stars/images/43.471290962477255+-68.94095236984668+2020-05-25T00:59:02.png', '/w251-project/stars/images/43.47316679974719+-68.92339089412093+2020-05-25T00:59:02.png', '/w251-project/stars/images/43.48048166585144+-68.47434082520607+2020-05-25T00:59:02.png', '/w251-project/stars/images/43.483476215457294+-68.4400910718675+2020-05-25T00:59:02.png', '/w251-project/stars/images/43.4995139780586+-68.7557471896054+2020-05-25T00:59:02.png', '/w251-project/stars/images/43.51141630132668+-69.0+2020-05-25T00:59:02.png', '/w251-project/stars/images/43.518382053309445+-68.38250033189853+2020-05-25T00:59:02.png', '/w251-project/stars/images/43.53164684717309+-69.0+2020-05-25T00:59:02.png', '/w251-project/stars/images/43.53901662882684+-68.47530544570527+2020-05-25T00:59:02.png', '/w251-project/stars/images/43.539162016737066+-68.48142020093191+2020-05-25T00:59:02.png', '/w251-project/stars/images/43.55381820849569+-68.85998680113818+2020-05-25T00:59:02.png', '/w251-project/stars/images/43.570235222706444+-68.10439701098734+2020-05-25T00:59:02.png', '/w251-project/stars/images/43.58198600929134+-68.06708789008054+2020-05-25T00:59:02.png', '/w251-project/stars/images/43.60325194028493+-69.0+2020-05-25T00:59:02.png', '/w251-project/stars/images/43.60537268149221+-69.0+2020-05-25T00:59:02.png', '/w251-project/stars/images/43.60677046130615+-69.0+2020-05-25T00:59:02.png', '/w251-project/stars/images/43.611406435960944+-69.0+2020-05-25T00:59:02.png', '/w251-project/stars/images/43.61560215117828+-68.54659029010298+2020-05-25T00:59:02.png', '/w251-project/stars/images/43.61967699987661+-69.0+2020-05-25T00:59:02.png', '/w251-project/stars/images/43.6253164324891+-68.89835358755353+2020-05-25T00:59:02.png', '/w251-project/stars/images/43.62813318599554+-68.6563687957813+2020-05-25T00:59:02.png', '/w251-project/stars/images/43.6309458127891+-68.05739613699666+2020-05-25T00:59:02.png', '/w251-project/stars/images/43.646395879089276+-69.0+2020-05-25T00:59:02.png', '/w251-project/stars/images/43.65338795701324+-69.0+2020-05-25T00:59:02.png', '/w251-project/stars/images/43.67152379358239+-68.62863967301074+2020-05-25T00:59:02.png', '/w251-project/stars/images/43.682384164225944+-68.04685423190172+2020-05-25T00:59:02.png', '/w251-project/stars/images/43.696183293998885+-68.71719602338653+2020-05-25T00:59:02.png', '/w251-project/stars/images/43.696655359313034+-68.45266134553921+2020-05-25T00:59:02.png', '/w251-project/stars/images/43.700684270782396+-68.50443129851595+2020-05-25T00:59:02.png', '/w251-project/stars/images/43.70675325500974+-69.0+2020-05-25T00:59:02.png', '/w251-project/stars/images/43.708082154488125+-69.0+2020-05-25T00:59:02.png', '/w251-project/stars/images/43.711940020169116+-69.0+2020-05-25T00:59:02.png', '/w251-project/stars/images/43.713813735918485+-68.80787747573973+2020-05-25T00:59:02.png', '/w251-project/stars/images/43.719767841283755+-68.54119100968215+2020-05-25T00:59:02.png', '/w251-project/stars/images/43.735447087478455+-68.83967016090227+2020-05-25T00:59:02.png', '/w251-project/stars/images/43.73545535353427+-68.95879254217702+2020-05-25T00:59:02.png', '/w251-project/stars/images/43.74053993234059+-69.0+2020-05-25T00:59:02.png', '/w251-project/stars/images/43.74608158250454+-68.8634472428454+2020-05-25T00:59:02.png', '/w251-project/stars/images/43.752505517569+-69.0+2020-05-25T00:59:02.png', '/w251-project/stars/images/43.76478457079496+-68.30071802087518+2020-05-25T00:59:02.png', '/w251-project/stars/images/43.76498948632537+-69.0+2020-05-25T00:59:02.png', '/w251-project/stars/images/43.77062848896812+-68.26790454332034+2020-05-25T00:59:02.png', '/w251-project/stars/images/43.77747302542474+-68.20257935585663+2020-05-25T00:59:02.png', '/w251-project/stars/images/43.800555335901464+-68.57887417718035+2020-05-25T00:59:02.png', '/w251-project/stars/images/43.81809360643075+-68.22389371756987+2020-05-25T00:59:02.png', '/w251-project/stars/images/43.83950135541353+-68.42891241474386+2020-05-25T00:59:02.png', '/w251-project/stars/images/43.846775050476154+-69.0+2020-05-25T00:59:02.png', '/w251-project/stars/images/43.856721684481165+-69.0+2020-05-25T00:59:02.png', '/w251-project/stars/images/43.8574627396941+-69.0+2020-05-25T00:59:02.png', '/w251-project/stars/images/43.859803937224115+-69.0+2020-05-25T00:59:02.png', '/w251-project/stars/images/43.86163518710312+-68.54165422904744+2020-05-25T00:59:02.png', '/w251-project/stars/images/43.868149500808926+-68.31988880827271+2020-05-25T00:59:02.png', '/w251-project/stars/images/43.86836731180992+-68.05816330734012+2020-05-25T00:59:02.png', '/w251-project/stars/images/43.87174898618021+-68.48722018423105+2020-05-25T00:59:02.png', '/w251-project/stars/images/43.87510119856214+-69.0+2020-05-25T00:59:02.png', '/w251-project/stars/images/43.877514929047216+-68.78142267202378+2020-05-25T00:59:02.png', '/w251-project/stars/images/43.88129941743086+-68.61076137712632+2020-05-25T00:59:02.png', '/w251-project/stars/images/43.88273484041306+-68.51178088887153+2020-05-25T00:59:02.png', '/w251-project/stars/images/43.88348691397852+-68.32162675661552+2020-05-25T00:59:02.png', '/w251-project/stars/images/43.884189957926026+-68.16645953331721+2020-05-25T00:59:02.png', '/w251-project/stars/images/43.89388171284379+-69.0+2020-05-25T00:59:02.png', '/w251-project/stars/images/43.906182578722074+-68.47846717259013+2020-05-25T00:59:02.png', '/w251-project/stars/images/43.90972727271042+-69.0+2020-05-25T00:59:02.png', '/w251-project/stars/images/43.91391287149157+-68.57994899976117+2020-05-25T00:59:02.png', '/w251-project/stars/images/43.928392225180176+-68.30491888889067+2020-05-25T00:59:02.png', '/w251-project/stars/images/43.9546139462276+-68.4635695824625+2020-05-25T00:59:02.png', '/w251-project/stars/images/43.962330646882414+-68.1249656415171+2020-05-25T00:59:02.png', '/w251-project/stars/images/43.96421033756233+-68.59302926862672+2020-05-25T00:59:02.png', '/w251-project/stars/images/43.966207597724505+-68.28907212701371+2020-05-25T00:59:02.png', '/w251-project/stars/images/43.97137116954344+-68.89347980535183+2020-05-25T00:59:02.png', '/w251-project/stars/images/43.97548088740441+-68.3697128262084+2020-05-25T00:59:02.png', '/w251-project/stars/images/43.97551572229064+-68.98421044391765+2020-05-25T00:59:02.png', '/w251-project/stars/images/43.976109164513986+-68.72307306940588+2020-05-25T00:59:02.png', '/w251-project/stars/images/43.98049417111375+-68.06621835915863+2020-05-25T00:59:02.png', '/w251-project/stars/images/43.98287603626625+-68.48376535392539+2020-05-25T00:59:02.png', '/w251-project/stars/images/43.98904226075654+-69.0+2020-05-25T00:59:02.png', '/w251-project/stars/images/43.99518173811046+-68.31755637353163+2020-05-25T00:59:02.png', '/w251-project/stars/images/43.99696279944528+-68.91473008308544+2020-05-25T00:59:02.png']\n"
     ]
    }
   ],
   "source": [
    "print(test)"
   ]
  },
  {
   "cell_type": "code",
   "execution_count": null,
   "metadata": {},
   "outputs": [],
   "source": []
  }
 ],
 "metadata": {
  "kernelspec": {
   "display_name": "Environment (conda_tensorflow2_p36)",
   "language": "python",
   "name": "conda_tensorflow2_p36"
  },
  "language_info": {
   "codemirror_mode": {
    "name": "ipython",
    "version": 3
   },
   "file_extension": ".py",
   "mimetype": "text/x-python",
   "name": "python",
   "nbconvert_exporter": "python",
   "pygments_lexer": "ipython3",
   "version": "3.6.10"
  }
 },
 "nbformat": 4,
 "nbformat_minor": 4
}
