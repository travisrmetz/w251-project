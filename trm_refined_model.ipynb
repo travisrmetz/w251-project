{
 "cells": [
  {
   "cell_type": "markdown",
   "metadata": {
    "colab_type": "text",
    "id": "ImJOhE4BrfK7"
   },
   "source": [
    "## General Model\n",
    "\n"
   ]
  },
  {
   "cell_type": "markdown",
   "metadata": {},
   "source": []
  },
  {
   "cell_type": "markdown",
   "metadata": {
    "colab_type": "text",
    "id": "OlNrYnNsrp4C"
   },
   "source": [
    "## Import useful packages"
   ]
  },
  {
   "cell_type": "code",
   "execution_count": 39,
   "metadata": {
    "colab": {},
    "colab_type": "code",
    "id": "5Y0LD8oscOFG"
   },
   "outputs": [],
   "source": [
    "import numpy as np\n",
    "import tensorflow as tf\n",
    "import pandas as pd\n",
    "import matplotlib.pyplot as plt\n",
    "import cv2\n",
    "import os\n",
    "from sklearn.model_selection import train_test_split\n",
    "from sklearn.preprocessing import scale\n",
    "import boto3\n",
    "import io\n",
    "from keras.utils import plot_model\n",
    "import random\n",
    "\n"
   ]
  },
  {
   "cell_type": "markdown",
   "metadata": {
    "colab_type": "text",
    "id": "-k4t6YLVrt49"
   },
   "source": [
    "## Define functions to load the data\n"
   ]
  },
  {
   "cell_type": "markdown",
   "metadata": {},
   "source": [
    "#### This code gets list of keys (ie files) in S3 bucket\n",
    "(Should consider moving this into a helper file.)"
   ]
  },
  {
   "cell_type": "code",
   "execution_count": 40,
   "metadata": {},
   "outputs": [],
   "source": [
    "def get_matching_s3_objects(bucket, prefix=\"\", suffix=\"\"):\n",
    "    \"\"\"\n",
    "    Generate objects in an S3 bucket.\n",
    "\n",
    "    :param bucket: Name of the S3 bucket.\n",
    "    :param prefix: Only fetch objects whose key starts with\n",
    "        this prefix (optional).\n",
    "    :param suffix: Only fetch objects whose keys end with\n",
    "        this suffix (optional).\n",
    "    \"\"\"\n",
    "    s3 = boto3.client(\"s3\")\n",
    "    paginator = s3.get_paginator(\"list_objects_v2\")\n",
    "\n",
    "    kwargs = {'Bucket': bucket}\n",
    "\n",
    "    # We can pass the prefix directly to the S3 API.  If the user has passed\n",
    "    # a tuple or list of prefixes, we go through them one by one.\n",
    "    if isinstance(prefix, str):\n",
    "        prefixes = (prefix, )\n",
    "    else:\n",
    "        prefixes = prefix\n",
    "\n",
    "    for key_prefix in prefixes:\n",
    "        kwargs[\"Prefix\"] = key_prefix\n",
    "\n",
    "        for page in paginator.paginate(**kwargs):\n",
    "            try:\n",
    "                contents = page[\"Contents\"]\n",
    "            except KeyError:\n",
    "                break\n",
    "\n",
    "            for obj in contents:\n",
    "                key = obj[\"Key\"]\n",
    "                if key.endswith(suffix):\n",
    "                    yield obj\n",
    "\n",
    "\n",
    "def get_matching_s3_keys(bucket, prefix=\"\", suffix=\"\"):\n",
    "    \"\"\"\n",
    "    Generate the keys in an S3 bucket.\n",
    "\n",
    "    :param bucket: Name of the S3 bucket.\n",
    "    :param prefix: Only fetch keys that start with this prefix (optional).\n",
    "    :param suffix: Only fetch keys that end with this suffix (optional).\n",
    "    \"\"\"\n",
    "    obj_list=[]\n",
    "    for obj in get_matching_s3_objects(bucket, prefix, suffix):\n",
    "        obj_list.append(obj[\"Key\"])\n",
    "    return(obj_list)\n"
   ]
  },
  {
   "cell_type": "markdown",
   "metadata": {},
   "source": [
    "### Key image read-in functions: load_image and build_input"
   ]
  },
  {
   "cell_type": "code",
   "execution_count": 41,
   "metadata": {
    "colab": {},
    "colab_type": "code",
    "id": "FVUFnke4eIZI"
   },
   "outputs": [],
   "source": [
    "def load_image(s3_client,bucket_name,file_name, dim=(224,224)):\n",
    "    \"\"\"\n",
    "    Loads a single image as a Numpy array and resizes it as\n",
    "    desired.  The default dimensions are consistent with\n",
    "    those expected by the VGG models.  \n",
    "\n",
    "    Args:\n",
    "    s3_client:  s3 resource\n",
    "    bucket_name:name of bucket\n",
    "    file_name:  file to convert to image\n",
    "\n",
    "    dim: Two-element tuple giving the desired height\n",
    "         and width of the processed image\n",
    "\n",
    "    Returns:\n",
    "    image:  A single-channel Numpy array\n",
    "    \"\"\"\n",
    "    #image = cv2.imread(image_path, 0)\n",
    "    file_stream = io.BytesIO()\n",
    "    s3.download_fileobj(bucket_name,file_name,file_stream)\n",
    "    nparr = np.frombuffer(file_stream.getvalue(), np.uint8)\n",
    "    image=cv2.imdecode(nparr,0)\n",
    "    image = cv2.resize(image, dim)#, interpolation = cv2.INTER_AREA)\n",
    "    return image"
   ]
  },
  {
   "cell_type": "code",
   "execution_count": 47,
   "metadata": {
    "colab": {},
    "colab_type": "code",
    "id": "CFJgfKxOi9Uj"
   },
   "outputs": [],
   "source": [
    "def build_input(s3_client,bucket_name,file_list,files_to_load):\n",
    "    \"\"\"\n",
    "    Loads all of the images into a single numpy array.\n",
    "    Assumes that there are 101 equally-spaced images\n",
    "    spanning lattitudes from 35N to 45N.  \n",
    "\n",
    "    Args:\n",
    "    s3_client:  s3 resource\n",
    "    bucket_name:name of bucket\n",
    "    file_list:  list of files in bucket\n",
    "    Returns:\n",
    "    X:  A 3-dimensional numpy array containing the\n",
    "        images. Image height and width are set by\n",
    "        `load_images` and default to 224 x 224.\n",
    "\n",
    "    y:  A 1-dimensional numpy array of target lattitudes.\n",
    "    \"\"\"\n",
    "    X = []\n",
    "    i=0\n",
    "    for file in file_list[0:files_to_load]:\n",
    "        if file[-4:] == '.png':\n",
    "            print(file)\n",
    "            image = load_image(s3_client,bucket_name,file)\n",
    "            X.append(image)\n",
    "            if i%100==0:\n",
    "                print('loaded:',i)\n",
    "            i+=1\n",
    "    return (np.array(X) / 255)"
   ]
  },
  {
   "cell_type": "code",
   "execution_count": 48,
   "metadata": {
    "colab": {},
    "colab_type": "code",
    "id": "g4CpV8Yue8G1"
   },
   "outputs": [],
   "source": [
    "def build_labels(file_list,files_to_load):\n",
    "    y = []\n",
    "    for file in file_list[0:files_to_load]:\n",
    "        if file[-4:] == '.png':\n",
    "            file_split = file.split('+')\n",
    "            lat = float(file_split[0])\n",
    "            long = float(file_split[1])\n",
    "            y.append((lat, long))\n",
    "    return np.array(y)"
   ]
  },
  {
   "cell_type": "markdown",
   "metadata": {},
   "source": [
    "#### Test load_image on one image manually"
   ]
  },
  {
   "cell_type": "code",
   "execution_count": 49,
   "metadata": {
    "colab": {
     "base_uri": "https://localhost:8080/",
     "height": 286
    },
    "colab_type": "code",
    "id": "6aWURghls3NV",
    "outputId": "cc7d27e7-ddee-424c-88ed-0bbf23b57972"
   },
   "outputs": [
    {
     "name": "stdout",
     "output_type": "stream",
     "text": [
      "(224, 224)\n"
     ]
    },
    {
     "data": {
      "image/png": "[encoded data removed]",
      "text/plain": [
       "<Figure size 432x288 with 1 Axes>"
      ]
     },
     "metadata": {
      "needs_background": "light"
     },
     "output_type": "display_data"
    }
   ],
   "source": [
    "bucket_name='w251-final-project'\n",
    "file_name='31.4649478225928+-61.88337836181259+2020-07-04T01:00:00.png'\n",
    "s3 = boto3.client('s3')\n",
    "sample_image = load_image(s3,bucket_name,file_name)\n",
    "plt.imshow(sample_image)\n",
    "print(sample_image.shape)"
   ]
  },
  {
   "cell_type": "markdown",
   "metadata": {
    "colab_type": "text",
    "id": "10QkIM_Rso10"
   },
   "source": [
    "## Prepare the data"
   ]
  },
  {
   "cell_type": "markdown",
   "metadata": {
    "colab_type": "text",
    "id": "HkcP-D-Esrce"
   },
   "source": [
    "### Load the images"
   ]
  },
  {
   "cell_type": "code",
   "execution_count": 51,
   "metadata": {
    "colab": {},
    "colab_type": "code",
    "id": "kUp7yqdFkFi0"
   },
   "outputs": [
    {
     "name": "stdout",
     "output_type": "stream",
     "text": [
      "loading from S3\n",
      "about to call build_input on 0  files\n",
      "building labels\n",
      "saving arrays so can reload more easily next time through\n",
      "shape of image array: (0,)\n",
      "shape of label list: (0,)\n"
     ]
    }
   ],
   "source": [
    "#clear out models for memory management purposes\n",
    "tf.keras.backend.clear_session()\n",
    "\n",
    "#change this to true to force it to reload from S3 bucket\n",
    "force_load=True\n",
    "\n",
    "#check if np arrays have already been saved and load if so\n",
    "if ((os.path.exists('x.npy'))&(not force_load)):\n",
    "    print('loading from files')\n",
    "    X=np.load('x.npy')\n",
    "    y=np.load('y.npy')\n",
    "\n",
    "#otherwise go to S3 bucket\n",
    "else:\n",
    "    print('loading from S3')\n",
    "    bucket_name='w251-final-project'\n",
    "    file_list=get_matching_s3_keys(bucket_name)\n",
    "    \n",
    "    #shuffle file list so that if take less than all are distributed.  also makes array randomly shuffled\n",
    "    random.shuffle(file_list)\n",
    "    \n",
    "    s3 = boto3.client('s3')\n",
    "\n",
    "    #max_files=100000\n",
    "    max_files=5000\n",
    "    file_list_length=len(file_list)\n",
    "    files_to_load=np.minimum(max_files,file_list_length)\n",
    "\n",
    "    #get images\n",
    "    print('about to call build_input on',files_to_load,' files')\n",
    "    X = build_input(s3,bucket_name,file_list,files_to_load)\n",
    "\n",
    "\n",
    "    #get labels\n",
    "    print ('building labels')\n",
    "    y = build_labels(file_list,files_to_load)\n",
    "    \n",
    "    print ('saving arrays so can reload more easily next time through')\n",
    "    np.save('x.npy',X)\n",
    "    np.save('y.npy',y)\n",
    "\n",
    "print ('shape of image array:', X.shape)\n",
    "print ('shape of label list:', y.shape)"
   ]
  },
  {
   "cell_type": "markdown",
   "metadata": {
    "colab_type": "text",
    "id": "mdemcB48loMr"
   },
   "source": [
    "\n",
    "### Standardize the values"
   ]
  },
  {
   "cell_type": "code",
   "execution_count": 17,
   "metadata": {},
   "outputs": [],
   "source": [
    "def scale_down(numbers):\n",
    "    top=max(numbers)\n",
    "    bottom=min(numbers)\n",
    "    middle=(top+bottom)/2\n",
    "    number_range=top-bottom\n",
    "    revised=[x-middle for x in numbers]\n",
    "    revised=[x/number_range*2 for x in revised]\n",
    "    return revised,top,bottom\n",
    "\n",
    "def scale_up(numbers,top,bottom):\n",
    "    middle=(top+bottom)/2\n",
    "    number_range=top-bottom\n",
    "    revised=[x*number_range/2 for x in numbers]\n",
    "    revised=[x+middle for x in revised]\n",
    "    return revised"
   ]
  },
  {
   "cell_type": "code",
   "execution_count": 18,
   "metadata": {
    "colab": {},
    "colab_type": "code",
    "id": "CQDi4jNTivAZ"
   },
   "outputs": [
    {
     "name": "stdout",
     "output_type": "stream",
     "text": [
      "0.23577810718460596 0.4560931596906412\n",
      "-0.018305043232464725 0.5884095599507914\n"
     ]
    }
   ],
   "source": [
    "#just scaling down without normalizing\n",
    "y[:,0],toplat,bottomlat=scale_down(y[:,0])\n",
    "y[:,1],toplong,bottomlong=scale_down(y[:,1])\n",
    "\n",
    "#y[:,0] = scale(y[:,0])\n",
    "#y[:,1]=scale(y[:,1])\n",
    "\n",
    "print (y[:,0].mean(),y[:,0].std())\n",
    "print (y[:,1].mean(),y[:,1].std())"
   ]
  },
  {
   "cell_type": "markdown",
   "metadata": {
    "colab_type": "text",
    "id": "fwhGSeYdstxS"
   },
   "source": [
    "### Split into test and training sets"
   ]
  },
  {
   "cell_type": "code",
   "execution_count": 19,
   "metadata": {
    "colab": {
     "base_uri": "https://localhost:8080/",
     "height": 85
    },
    "colab_type": "code",
    "id": "owd0SyrvlUHo",
    "outputId": "e1e23c19-08da-4f84-df78-b6a8b0da9b51"
   },
   "outputs": [
    {
     "name": "stdout",
     "output_type": "stream",
     "text": [
      "(407, 224, 224)\n",
      "(407, 2)\n",
      "(102, 224, 224)\n",
      "(102, 2)\n"
     ]
    }
   ],
   "source": [
    "X_train, X_val, y_train, y_val = train_test_split(X, y, test_size=0.2)\n",
    "print(X_train.shape)\n",
    "print(y_train.shape)\n",
    "print(X_val.shape)\n",
    "print(y_val.shape)"
   ]
  },
  {
   "cell_type": "markdown",
   "metadata": {},
   "source": [
    "### Add channel for CNN"
   ]
  },
  {
   "cell_type": "code",
   "execution_count": 20,
   "metadata": {},
   "outputs": [
    {
     "name": "stdout",
     "output_type": "stream",
     "text": [
      "(407, 224, 224) (407, 2)\n",
      "(407, 224, 224, 1) (102, 224, 224, 1)\n"
     ]
    }
   ],
   "source": [
    "#need to add channel for B&W for CNN\n",
    "#https://machinelearningmastery.com/a-gentle-introduction-to-channels-first-and-channels-last-image-formats-for-deep-learning/\n",
    "\n",
    "print(X_train.shape,y_train.shape)\n",
    "X_train=np.expand_dims(X_train,axis=3)\n",
    "X_val=np.expand_dims(X_val,axis=3)\n",
    "print(X_train.shape,X_val.shape)"
   ]
  },
  {
   "cell_type": "markdown",
   "metadata": {
    "colab_type": "text",
    "id": "otvKdtM3tKDG"
   },
   "source": [
    "## The model\n",
    "\n",
    "[]"
   ]
  },
  {
   "cell_type": "code",
   "execution_count": 21,
   "metadata": {},
   "outputs": [],
   "source": [
    "tf.keras.backend.clear_session()"
   ]
  },
  {
   "cell_type": "code",
   "execution_count": 30,
   "metadata": {},
   "outputs": [],
   "source": [
    "input_shape=(224,224,1)\n",
    "inputs = tf.keras.layers.Input(shape=input_shape)\n",
    "x=tf.keras.layers.Conv2D(64,(5,5),activation='relu',kernel_initializer='he_uniform')(inputs)\n",
    "x=tf.keras.layers.MaxPooling2D((2,2))(x)\n",
    "x=tf.keras.layers.Conv2D(32,(3,3),activation='relu',kernel_initializer='he_uniform')(x)\n",
    "#x=tf.keras.layers.Conv2D(64,(3,3),activation='relu',kernel_initializer='he_uniform')(x)\n",
    "x=tf.keras.layers.MaxPooling2D((2,2))(x)\n",
    "x=tf.keras.layers.Flatten()(x)\n",
    "x=tf.keras.layers.Dense(128,activation='relu')(x)\n",
    "x = tf.keras.layers.Dropout(0.2)(x)\n",
    "x=tf.keras.layers.Dense(64,activation='relu')(x)\n",
    "regression_layer_lat = tf.keras.layers.Dense(1, name='regression_lat')(x)  \n",
    "regression_layer_long = tf.keras.layers.Dense(1, name='regression_long')(x)\n",
    "\n",
    "model_output = [regression_layer_lat, regression_layer_long]\n",
    "losses = ['mean_squared_error', 'mean_squared_error']\n",
    "metrics = ['mean_squared_error', 'mean_squared_error']\n",
    "\n",
    "model = tf.keras.models.Model(inputs, model_output)\n",
    "model.compile(loss=losses,  optimizer='adam', metrics=metrics)"
   ]
  },
  {
   "cell_type": "code",
   "execution_count": 31,
   "metadata": {
    "colab": {
     "base_uri": "https://localhost:8080/",
     "height": 935
    },
    "colab_type": "code",
    "id": "LXYPmjkNckYd",
    "outputId": "777bc221-0672-4c00-f067-2626771c37e1"
   },
   "outputs": [
    {
     "name": "stdout",
     "output_type": "stream",
     "text": [
      "Model: \"model_2\"\n",
      "__________________________________________________________________________________________________\n",
      "Layer (type)                    Output Shape         Param #     Connected to                     \n",
      "==================================================================================================\n",
      "input_3 (InputLayer)            [(None, 224, 224, 1) 0                                            \n",
      "__________________________________________________________________________________________________\n",
      "conv2d_4 (Conv2D)               (None, 220, 220, 64) 1664        input_3[0][0]                    \n",
      "__________________________________________________________________________________________________\n",
      "max_pooling2d_4 (MaxPooling2D)  (None, 110, 110, 64) 0           conv2d_4[0][0]                   \n",
      "__________________________________________________________________________________________________\n",
      "conv2d_5 (Conv2D)               (None, 108, 108, 32) 18464       max_pooling2d_4[0][0]            \n",
      "__________________________________________________________________________________________________\n",
      "max_pooling2d_5 (MaxPooling2D)  (None, 54, 54, 32)   0           conv2d_5[0][0]                   \n",
      "__________________________________________________________________________________________________\n",
      "flatten_2 (Flatten)             (None, 93312)        0           max_pooling2d_5[0][0]            \n",
      "__________________________________________________________________________________________________\n",
      "dense_4 (Dense)                 (None, 128)          11944064    flatten_2[0][0]                  \n",
      "__________________________________________________________________________________________________\n",
      "dropout_2 (Dropout)             (None, 128)          0           dense_4[0][0]                    \n",
      "__________________________________________________________________________________________________\n",
      "dense_5 (Dense)                 (None, 64)           8256        dropout_2[0][0]                  \n",
      "__________________________________________________________________________________________________\n",
      "regression_lat (Dense)          (None, 1)            65          dense_5[0][0]                    \n",
      "__________________________________________________________________________________________________\n",
      "regression_long (Dense)         (None, 1)            65          dense_5[0][0]                    \n",
      "==================================================================================================\n",
      "Total params: 11,972,578\n",
      "Trainable params: 11,972,578\n",
      "Non-trainable params: 0\n",
      "__________________________________________________________________________________________________\n",
      "None\n"
     ]
    }
   ],
   "source": [
    "print(model.summary())\n",
    "#plot_model(model)"
   ]
  },
  {
   "cell_type": "markdown",
   "metadata": {
    "colab_type": "text",
    "id": "45ubHGx-0fZT"
   },
   "source": [
    "### Fit the model"
   ]
  },
  {
   "cell_type": "code",
   "execution_count": 32,
   "metadata": {
    "colab": {
     "base_uri": "https://localhost:8080/",
     "height": 1000
    },
    "colab_type": "code",
    "id": "GSdEVoRTn7KO",
    "outputId": "f18a5e41-575f-4cc5-a200-7ed098765963"
   },
   "outputs": [
    {
     "name": "stdout",
     "output_type": "stream",
     "text": [
      "Train on 407 samples, validate on 102 samples\n",
      "Epoch 1/20\n",
      "407/407 [==============================] - 3s 7ms/sample - loss: 13.8489 - regression_lat_loss: 10.5999 - regression_long_loss: 0.8074 - regression_lat_mean_squared_error: 13.0451 - regression_long_mean_squared_error: 0.8038 - val_loss: 1.3075 - val_regression_lat_loss: 0.7294 - val_regression_long_loss: 0.5781 - val_regression_lat_mean_squared_error: 0.7294 - val_regression_long_mean_squared_error: 0.5781\n",
      "Epoch 2/20\n",
      "407/407 [==============================] - 2s 4ms/sample - loss: 1.1848 - regression_lat_loss: 0.5200 - regression_long_loss: 0.5509 - regression_lat_mean_squared_error: 0.5932 - regression_long_mean_squared_error: 0.5916 - val_loss: 0.6064 - val_regression_lat_loss: 0.2293 - val_regression_long_loss: 0.3771 - val_regression_lat_mean_squared_error: 0.2293 - val_regression_long_mean_squared_error: 0.3771\n",
      "Epoch 3/20\n",
      "407/407 [==============================] - 2s 4ms/sample - loss: 0.7672 - regression_lat_loss: 0.2833 - regression_long_loss: 0.4514 - regression_lat_mean_squared_error: 0.2937 - regression_long_mean_squared_error: 0.4735 - val_loss: 0.5111 - val_regression_lat_loss: 0.2213 - val_regression_long_loss: 0.2898 - val_regression_lat_mean_squared_error: 0.2213 - val_regression_long_mean_squared_error: 0.2898\n",
      "Epoch 4/20\n",
      "407/407 [==============================] - 2s 4ms/sample - loss: 0.6325 - regression_lat_loss: 0.2314 - regression_long_loss: 0.3669 - regression_lat_mean_squared_error: 0.2419 - regression_long_mean_squared_error: 0.3906 - val_loss: 0.4826 - val_regression_lat_loss: 0.2163 - val_regression_long_loss: 0.2663 - val_regression_lat_mean_squared_error: 0.2163 - val_regression_long_mean_squared_error: 0.2663\n",
      "Epoch 5/20\n",
      "407/407 [==============================] - 2s 4ms/sample - loss: 0.5241 - regression_lat_loss: 0.1968 - regression_long_loss: 0.3115 - regression_lat_mean_squared_error: 0.2016 - regression_long_mean_squared_error: 0.3225 - val_loss: 0.4247 - val_regression_lat_loss: 0.2027 - val_regression_long_loss: 0.2220 - val_regression_lat_mean_squared_error: 0.2027 - val_regression_long_mean_squared_error: 0.2220\n",
      "Epoch 6/20\n",
      "407/407 [==============================] - 2s 4ms/sample - loss: 0.4158 - regression_lat_loss: 0.1716 - regression_long_loss: 0.2410 - regression_lat_mean_squared_error: 0.1705 - regression_long_mean_squared_error: 0.2453 - val_loss: 0.3643 - val_regression_lat_loss: 0.1816 - val_regression_long_loss: 0.1827 - val_regression_lat_mean_squared_error: 0.1816 - val_regression_long_mean_squared_error: 0.1827\n",
      "Epoch 7/20\n",
      "407/407 [==============================] - 2s 4ms/sample - loss: 0.3387 - regression_lat_loss: 0.1433 - regression_long_loss: 0.1946 - regression_lat_mean_squared_error: 0.1548 - regression_long_mean_squared_error: 0.1839 - val_loss: 0.3208 - val_regression_lat_loss: 0.1476 - val_regression_long_loss: 0.1732 - val_regression_lat_mean_squared_error: 0.1476 - val_regression_long_mean_squared_error: 0.1732\n",
      "Epoch 8/20\n",
      "407/407 [==============================] - 2s 4ms/sample - loss: 0.2923 - regression_lat_loss: 0.1278 - regression_long_loss: 0.1494 - regression_lat_mean_squared_error: 0.1357 - regression_long_mean_squared_error: 0.1566 - val_loss: 0.3449 - val_regression_lat_loss: 0.1474 - val_regression_long_loss: 0.1975 - val_regression_lat_mean_squared_error: 0.1474 - val_regression_long_mean_squared_error: 0.1975\n",
      "Epoch 9/20\n",
      "407/407 [==============================] - 2s 4ms/sample - loss: 0.2767 - regression_lat_loss: 0.1133 - regression_long_loss: 0.1513 - regression_lat_mean_squared_error: 0.1188 - regression_long_mean_squared_error: 0.1579 - val_loss: 0.3098 - val_regression_lat_loss: 0.1366 - val_regression_long_loss: 0.1732 - val_regression_lat_mean_squared_error: 0.1366 - val_regression_long_mean_squared_error: 0.1732\n",
      "Epoch 10/20\n",
      "407/407 [==============================] - 2s 4ms/sample - loss: 0.2595 - regression_lat_loss: 0.1030 - regression_long_loss: 0.1662 - regression_lat_mean_squared_error: 0.1033 - regression_long_mean_squared_error: 0.1561 - val_loss: 0.3223 - val_regression_lat_loss: 0.1428 - val_regression_long_loss: 0.1795 - val_regression_lat_mean_squared_error: 0.1428 - val_regression_long_mean_squared_error: 0.1795\n",
      "Epoch 11/20\n",
      "407/407 [==============================] - 2s 4ms/sample - loss: 0.2475 - regression_lat_loss: 0.1072 - regression_long_loss: 0.1549 - regression_lat_mean_squared_error: 0.1002 - regression_long_mean_squared_error: 0.1473 - val_loss: 0.3192 - val_regression_lat_loss: 0.1417 - val_regression_long_loss: 0.1776 - val_regression_lat_mean_squared_error: 0.1417 - val_regression_long_mean_squared_error: 0.1776\n",
      "Epoch 12/20\n",
      "407/407 [==============================] - 2s 4ms/sample - loss: 0.2358 - regression_lat_loss: 0.0988 - regression_long_loss: 0.1275 - regression_lat_mean_squared_error: 0.0986 - regression_long_mean_squared_error: 0.1372 - val_loss: 0.3055 - val_regression_lat_loss: 0.1373 - val_regression_long_loss: 0.1682 - val_regression_lat_mean_squared_error: 0.1373 - val_regression_long_mean_squared_error: 0.1682\n",
      "Epoch 13/20\n",
      "407/407 [==============================] - 2s 4ms/sample - loss: 0.2331 - regression_lat_loss: 0.0865 - regression_long_loss: 0.1394 - regression_lat_mean_squared_error: 0.0964 - regression_long_mean_squared_error: 0.1367 - val_loss: 0.3018 - val_regression_lat_loss: 0.1343 - val_regression_long_loss: 0.1675 - val_regression_lat_mean_squared_error: 0.1343 - val_regression_long_mean_squared_error: 0.1675\n",
      "Epoch 14/20\n",
      "407/407 [==============================] - 2s 4ms/sample - loss: 0.2174 - regression_lat_loss: 0.0959 - regression_long_loss: 0.1322 - regression_lat_mean_squared_error: 0.0897 - regression_long_mean_squared_error: 0.1277 - val_loss: 0.2921 - val_regression_lat_loss: 0.1215 - val_regression_long_loss: 0.1705 - val_regression_lat_mean_squared_error: 0.1215 - val_regression_long_mean_squared_error: 0.1705\n",
      "Epoch 15/20\n",
      "407/407 [==============================] - 2s 4ms/sample - loss: 0.1987 - regression_lat_loss: 0.0753 - regression_long_loss: 0.1336 - regression_lat_mean_squared_error: 0.0789 - regression_long_mean_squared_error: 0.1198 - val_loss: 0.2993 - val_regression_lat_loss: 0.1205 - val_regression_long_loss: 0.1788 - val_regression_lat_mean_squared_error: 0.1205 - val_regression_long_mean_squared_error: 0.1788\n",
      "Epoch 16/20\n",
      "407/407 [==============================] - 2s 4ms/sample - loss: 0.1902 - regression_lat_loss: 0.0761 - regression_long_loss: 0.1211 - regression_lat_mean_squared_error: 0.0708 - regression_long_mean_squared_error: 0.1193 - val_loss: 0.2906 - val_regression_lat_loss: 0.1161 - val_regression_long_loss: 0.1746 - val_regression_lat_mean_squared_error: 0.1161 - val_regression_long_mean_squared_error: 0.1746\n",
      "Epoch 17/20\n",
      "407/407 [==============================] - 2s 4ms/sample - loss: 0.1955 - regression_lat_loss: 0.0727 - regression_long_loss: 0.1128 - regression_lat_mean_squared_error: 0.0788 - regression_long_mean_squared_error: 0.1167 - val_loss: 0.2917 - val_regression_lat_loss: 0.1176 - val_regression_long_loss: 0.1741 - val_regression_lat_mean_squared_error: 0.1176 - val_regression_long_mean_squared_error: 0.1741\n",
      "Epoch 18/20\n",
      "407/407 [==============================] - 2s 4ms/sample - loss: 0.1862 - regression_lat_loss: 0.0729 - regression_long_loss: 0.1105 - regression_lat_mean_squared_error: 0.0732 - regression_long_mean_squared_error: 0.1130 - val_loss: 0.2980 - val_regression_lat_loss: 0.1206 - val_regression_long_loss: 0.1774 - val_regression_lat_mean_squared_error: 0.1206 - val_regression_long_mean_squared_error: 0.1774\n",
      "Epoch 19/20\n",
      "407/407 [==============================] - 2s 4ms/sample - loss: 0.1737 - regression_lat_loss: 0.0629 - regression_long_loss: 0.1113 - regression_lat_mean_squared_error: 0.0650 - regression_long_mean_squared_error: 0.1087 - val_loss: 0.3002 - val_regression_lat_loss: 0.1232 - val_regression_long_loss: 0.1769 - val_regression_lat_mean_squared_error: 0.1232 - val_regression_long_mean_squared_error: 0.1769\n",
      "Epoch 20/20\n"
     ]
    },
    {
     "name": "stdout",
     "output_type": "stream",
     "text": [
      "407/407 [==============================] - 2s 4ms/sample - loss: 0.1655 - regression_lat_loss: 0.0638 - regression_long_loss: 0.1063 - regression_lat_mean_squared_error: 0.0625 - regression_long_mean_squared_error: 0.1029 - val_loss: 0.2823 - val_regression_lat_loss: 0.1127 - val_regression_long_loss: 0.1696 - val_regression_lat_mean_squared_error: 0.1127 - val_regression_long_mean_squared_error: 0.1696\n"
     ]
    }
   ],
   "source": [
    "history = model.fit(x=X_train, \n",
    "                    y=[y_train[:,0],y_train[:,1]],\n",
    "                    validation_data=[X_val,[y_val[:,0],y_val[:,1]]],\n",
    "                    verbose=1, epochs=20, batch_size=128)"
   ]
  },
  {
   "cell_type": "markdown",
   "metadata": {
    "colab_type": "text",
    "id": "xgjEi6oP0kNE"
   },
   "source": [
    "### Evaluate model performance"
   ]
  },
  {
   "cell_type": "code",
   "execution_count": 33,
   "metadata": {
    "colab": {
     "base_uri": "https://localhost:8080/",
     "height": 295
    },
    "colab_type": "code",
    "id": "CZNI6nGtzbYy",
    "outputId": "0af1dc94-1682-46eb-e7d9-e5a52d01eacb"
   },
   "outputs": [
    {
     "data": {
      "image/png": "[encoded data removed]",
      "text/plain": [
       "<Figure size 432x288 with 1 Axes>"
      ]
     },
     "metadata": {
      "needs_background": "light"
     },
     "output_type": "display_data"
    }
   ],
   "source": [
    "history_df = pd.DataFrame(history.history)\n",
    "ax = history_df.plot(y=['loss', 'val_loss'],\n",
    "                xticks=np.linspace(0, len(history_df), 6))\n",
    "ax.set_ylabel('Loss')\n",
    "ax.set_xlabel('Epoch')\n",
    "ax.set_title('Evolution of Mean Squared Error')\n",
    "plt.show()\n"
   ]
  },
  {
   "cell_type": "code",
   "execution_count": 34,
   "metadata": {
    "colab": {},
    "colab_type": "code",
    "id": "29eHeDjEoNqj"
   },
   "outputs": [],
   "source": [
    "y_hat = model.predict(X_val)\n",
    "#y_hat_lat=model.predict(X_val)[0]\n",
    "#y_hat_long=model.predict(X_val)[1]\n",
    "y_hat_lat=y_hat[0]\n",
    "y_hat_long=y_hat[1]\n",
    "\n",
    "y_hat_lat=scale_up(y_hat_lat,toplat,bottomlat)\n",
    "y_hat_long=scale_up(y_hat_long,toplong,bottomlong)\n",
    "\n",
    "y_val_lat=y_val[:,0]\n",
    "y_val_long=y_val[:,1]\n",
    "\n",
    "y_val_lat=scale_up(y_val_lat,toplat,bottomlat)\n",
    "y_val_long=scale_up(y_val_long,toplong,bottomlong)"
   ]
  },
  {
   "cell_type": "code",
   "execution_count": 35,
   "metadata": {
    "colab": {
     "base_uri": "https://localhost:8080/",
     "height": 295
    },
    "colab_type": "code",
    "id": "6CoZVBtCrT7K",
    "outputId": "f9b36a5f-5eef-468e-edd9-e6811ba7ea39"
   },
   "outputs": [
    {
     "data": {
      "image/png": "[encoded data removed]",
      "text/plain": [
       "<Figure size 432x288 with 1 Axes>"
      ]
     },
     "metadata": {
      "needs_background": "light"
     },
     "output_type": "display_data"
    }
   ],
   "source": [
    "plt.scatter(y_val_lat, y_hat_lat)\n",
    "plt.title('Predicted lat vs. True lat')\n",
    "plt.xlabel('True lat')\n",
    "plt.ylabel('Predicted lat')\n",
    "plt.show()"
   ]
  },
  {
   "cell_type": "code",
   "execution_count": 36,
   "metadata": {
    "colab": {
     "base_uri": "https://localhost:8080/",
     "height": 295
    },
    "colab_type": "code",
    "id": "n5tCuM2HvK72",
    "outputId": "f1b6570d-1fa3-464c-c820-8e01ca393676"
   },
   "outputs": [
    {
     "data": {
      "image/png": "[encoded data removed]",
      "text/plain": [
       "<Figure size 432x288 with 1 Axes>"
      ]
     },
     "metadata": {
      "needs_background": "light"
     },
     "output_type": "display_data"
    }
   ],
   "source": [
    "plt.scatter(y_val_long, y_hat_long)\n",
    "plt.title('Predicted long vs. True long')\n",
    "plt.xlabel('True long')\n",
    "plt.ylabel('Predicted long')\n",
    "plt.show()"
   ]
  },
  {
   "cell_type": "code",
   "execution_count": null,
   "metadata": {},
   "outputs": [],
   "source": []
  },
  {
   "cell_type": "markdown",
   "metadata": {
    "colab": {},
    "colab_type": "code",
    "id": "l1Lg2v4LqKCp"
   },
   "source": [
    "### Things to consider doing:\n",
    "- don't normalize the lat and long - just scale it DONE\n",
    "- convert back to lat and long DONE\n",
    "- set validation batch size to deal with OOM errors (possibly) DONE\n",
    "- loss weights?\n",
    "- what is resolution of png files coming in?  are they squares?\n",
    "- since set wide rectangle, need to make sure entirely at night time\n"
   ]
  },
  {
   "cell_type": "markdown",
   "metadata": {},
   "source": [
    "### Old models"
   ]
  },
  {
   "cell_type": "code",
   "execution_count": null,
   "metadata": {},
   "outputs": [],
   "source": [
    "# Define Input layer(s)\n",
    "inputShape = (224, 224)\n",
    "inputs = tf.keras.layers.Input(shape=inputShape)\n",
    "\n",
    "flatten = tf.keras.layers.Flatten()(inputs)\n",
    "\n",
    "x=tf.keras.layers.Dense(512,activation='relu')(flatten)\n",
    "x=tf.keras.layers.Dense(512,activation='relu')(x)\n",
    "x=tf.keras.layers.Dense(512,activation='relu')(x)\n",
    "x=tf.keras.layers.Dense(512,activation='relu')(x)\n",
    "regression_layer_lat = tf.keras.layers.Dense(1, name='regression_lat')(x)  \n",
    "regression_layer_long = tf.keras.layers.Dense(1, name='regression_long')(x)\n",
    "\n",
    "\n",
    "# Build and compile model\n",
    "model_input = inputs\n",
    "model_output = [regression_layer_lat, regression_layer_long]\n",
    "losses = ['mean_squared_error', 'mean_squared_error']\n",
    "metrics = ['mean_squared_error', 'mean_squared_error']\n",
    "\n",
    "model = tf.keras.models.Model(model_input, model_output)\n",
    "model.compile(loss=losses,  optimizer='adam', metrics=metrics)"
   ]
  },
  {
   "cell_type": "code",
   "execution_count": null,
   "metadata": {},
   "outputs": [],
   "source": [
    "model = tf.keras.Sequential([\n",
    "    tf.keras.layers.Flatten(input_shape=(224,224)),\n",
    "    tf.keras.layers.Dense(512, activation='relu'),\n",
    "    #tf.keras.layers.Dense(512, activation='relu'),\n",
    "    #tf.keras.layers.Dense(512, activation='relu'),\n",
    "    #tf.keras.layers.Dense(512, activation='relu'),\n",
    "    #tf.keras.layers.Dense(512, activation='relu'),\n",
    "    tf.keras.layers.Dense(256, activation='relu'),\n",
    "    #tf.keras.layers.Dense(256, activation='relu'),\n",
    "    #tf.keras.layers.Dense(256, activation='relu'),\n",
    "    #tf.keras.layers.Dense(256, activation='relu'),\n",
    "    #tf.keras.layers.Dense(256, activation='relu'),\n",
    "    #tf.keras.layers.Dense(256, activation='relu'),\n",
    "    tf.keras.layers.Dense(128, activation='relu'),\n",
    "    #tf.keras.layers.Dense(128, activation='relu'),\n",
    "    #tf.keras.layers.Dense(128, activation='relu'),\n",
    "    #tf.keras.layers.Dense(128, activation='relu'),\n",
    "    #tf.keras.layers.Dense(128, activation='relu'),\n",
    "    #tf.keras.layers.Dense(128, activation='relu'),\n",
    "    #tf.keras.layers.Dense(128, activation='relu'),\n",
    "    tf.keras.layers.Dense(64, activation='relu'),\n",
    "    tf.keras.layers.Dense(32, activation='relu'),\n",
    "    tf.keras.layers.Dropout(0.3),\n",
    "    tf.keras.layers.Dense(2)\n",
    "])"
   ]
  }
 ],
 "metadata": {
  "accelerator": "GPU",
  "colab": {
   "collapsed_sections": [],
   "name": "iso-chron.ipynb",
   "provenance": [],
   "toc_visible": true
  },
  "kernelspec": {
   "display_name": "Environment (conda_tensorflow2_p36)",
   "language": "python",
   "name": "conda_tensorflow2_p36"
  },
  "language_info": {
   "codemirror_mode": {
    "name": "ipython",
    "version": 3
   },
   "file_extension": ".py",
   "mimetype": "text/x-python",
   "name": "python",
   "nbconvert_exporter": "python",
   "pygments_lexer": "ipython3",
   "version": "3.6.10"
  }
 },
 "nbformat": 4,
 "nbformat_minor": 1
}
