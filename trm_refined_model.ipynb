{
 "cells": [
  {
   "cell_type": "markdown",
   "metadata": {
    "colab_type": "text",
    "id": "ImJOhE4BrfK7"
   },
   "source": [
    "## General Model\n",
    "\n"
   ]
  },
  {
   "cell_type": "markdown",
   "metadata": {},
   "source": []
  },
  {
   "cell_type": "markdown",
   "metadata": {
    "colab_type": "text",
    "id": "OlNrYnNsrp4C"
   },
   "source": [
    "## Import useful packages"
   ]
  },
  {
   "cell_type": "code",
   "execution_count": 39,
   "metadata": {
    "colab": {},
    "colab_type": "code",
    "id": "5Y0LD8oscOFG"
   },
   "outputs": [],
   "source": [
    "import numpy as np\n",
    "import tensorflow as tf\n",
    "import pandas as pd\n",
    "import matplotlib.pyplot as plt\n",
    "import cv2\n",
    "import os\n",
    "from sklearn.model_selection import train_test_split\n",
    "from sklearn.preprocessing import scale\n",
    "import boto3\n",
    "import io\n",
    "from keras.utils import plot_model\n",
    "import random\n",
    "\n"
   ]
  },
  {
   "cell_type": "markdown",
   "metadata": {
    "colab_type": "text",
    "id": "-k4t6YLVrt49"
   },
   "source": [
    "## Define functions to load the data\n"
   ]
  },
  {
   "cell_type": "markdown",
   "metadata": {},
   "source": [
    "#### This code gets list of keys (ie files) in S3 bucket\n",
    "(Should consider moving this into a helper file.)"
   ]
  },
  {
   "cell_type": "code",
   "execution_count": 40,
   "metadata": {},
   "outputs": [],
   "source": [
    "def get_matching_s3_objects(bucket, prefix=\"\", suffix=\"\"):\n",
    "    \"\"\"\n",
    "    Generate objects in an S3 bucket.\n",
    "\n",
    "    :param bucket: Name of the S3 bucket.\n",
    "    :param prefix: Only fetch objects whose key starts with\n",
    "        this prefix (optional).\n",
    "    :param suffix: Only fetch objects whose keys end with\n",
    "        this suffix (optional).\n",
    "    \"\"\"\n",
    "    s3 = boto3.client(\"s3\")\n",
    "    paginator = s3.get_paginator(\"list_objects_v2\")\n",
    "\n",
    "    kwargs = {'Bucket': bucket}\n",
    "\n",
    "    # We can pass the prefix directly to the S3 API.  If the user has passed\n",
    "    # a tuple or list of prefixes, we go through them one by one.\n",
    "    if isinstance(prefix, str):\n",
    "        prefixes = (prefix, )\n",
    "    else:\n",
    "        prefixes = prefix\n",
    "\n",
    "    for key_prefix in prefixes:\n",
    "        kwargs[\"Prefix\"] = key_prefix\n",
    "\n",
    "        for page in paginator.paginate(**kwargs):\n",
    "            try:\n",
    "                contents = page[\"Contents\"]\n",
    "            except KeyError:\n",
    "                break\n",
    "\n",
    "            for obj in contents:\n",
    "                key = obj[\"Key\"]\n",
    "                if key.endswith(suffix):\n",
    "                    yield obj\n",
    "\n",
    "\n",
    "def get_matching_s3_keys(bucket, prefix=\"\", suffix=\"\"):\n",
    "    \"\"\"\n",
    "    Generate the keys in an S3 bucket.\n",
    "\n",
    "    :param bucket: Name of the S3 bucket.\n",
    "    :param prefix: Only fetch keys that start with this prefix (optional).\n",
    "    :param suffix: Only fetch keys that end with this suffix (optional).\n",
    "    \"\"\"\n",
    "    obj_list=[]\n",
    "    for obj in get_matching_s3_objects(bucket, prefix, suffix):\n",
    "        obj_list.append(obj[\"Key\"])\n",
    "    return(obj_list)\n"
   ]
  },
  {
   "cell_type": "markdown",
   "metadata": {},
   "source": [
    "### Key image read-in functions: load_image and build_input"
   ]
  },
  {
   "cell_type": "code",
   "execution_count": 41,
   "metadata": {
    "colab": {},
    "colab_type": "code",
    "id": "FVUFnke4eIZI"
   },
   "outputs": [],
   "source": [
    "def load_image(s3_client,bucket_name,file_name, dim=(224,224)):\n",
    "    \"\"\"\n",
    "    Loads a single image as a Numpy array and resizes it as\n",
    "    desired.  The default dimensions are consistent with\n",
    "    those expected by the VGG models.  \n",
    "\n",
    "    Args:\n",
    "    s3_client:  s3 resource\n",
    "    bucket_name:name of bucket\n",
    "    file_name:  file to convert to image\n",
    "\n",
    "    dim: Two-element tuple giving the desired height\n",
    "         and width of the processed image\n",
    "\n",
    "    Returns:\n",
    "    image:  A single-channel Numpy array\n",
    "    \"\"\"\n",
    "    #image = cv2.imread(image_path, 0)\n",
    "    file_stream = io.BytesIO()\n",
    "    s3.download_fileobj(bucket_name,file_name,file_stream)\n",
    "    nparr = np.frombuffer(file_stream.getvalue(), np.uint8)\n",
    "    image=cv2.imdecode(nparr,0)\n",
    "    image = cv2.resize(image, dim)#, interpolation = cv2.INTER_AREA)\n",
    "    return image"
   ]
  },
  {
   "cell_type": "code",
   "execution_count": 47,
   "metadata": {
    "colab": {},
    "colab_type": "code",
    "id": "CFJgfKxOi9Uj"
   },
   "outputs": [],
   "source": [
    "def build_input(s3_client,bucket_name,file_list,files_to_load):\n",
    "    \"\"\"\n",
    "    Loads all of the images into a single numpy array.\n",
    "    Assumes that there are 101 equally-spaced images\n",
    "    spanning lattitudes from 35N to 45N.  \n",
    "\n",
    "    Args:\n",
    "    s3_client:  s3 resource\n",
    "    bucket_name:name of bucket\n",
    "    file_list:  list of files in bucket\n",
    "    Returns:\n",
    "    X:  A 3-dimensional numpy array containing the\n",
    "        images. Image height and width are set by\n",
    "        `load_images` and default to 224 x 224.\n",
    "\n",
    "    y:  A 1-dimensional numpy array of target lattitudes.\n",
    "    \"\"\"\n",
    "    X = []\n",
    "    i=0\n",
    "    for file in file_list[0:files_to_load]:\n",
    "        if file[-4:] == '.png':\n",
    "            print(file)\n",
    "            image = load_image(s3_client,bucket_name,file)\n",
    "            X.append(image)\n",
    "            if i%100==0:\n",
    "                print('loaded:',i)\n",
    "            i+=1\n",
    "    return (np.array(X) / 255)"
   ]
  },
  {
   "cell_type": "code",
   "execution_count": 48,
   "metadata": {
    "colab": {},
    "colab_type": "code",
    "id": "g4CpV8Yue8G1"
   },
   "outputs": [],
   "source": [
    "def build_labels(file_list,files_to_load):\n",
    "    y = []\n",
    "    for file in file_list[0:files_to_load]:\n",
    "        if file[-4:] == '.png':\n",
    "            file_split = file.split('+')\n",
    "            lat = float(file_split[0])\n",
    "            long = float(file_split[1])\n",
    "            y.append((lat, long))\n",
    "    return np.array(y)"
   ]
  },
  {
   "cell_type": "markdown",
   "metadata": {},
   "source": [
    "#### Test load_image on one image manually"
   ]
  },
  {
   "cell_type": "code",
   "execution_count": 49,
   "metadata": {
    "colab": {
     "base_uri": "https://localhost:8080/",
     "height": 286
    },
    "colab_type": "code",
    "id": "6aWURghls3NV",
    "outputId": "cc7d27e7-ddee-424c-88ed-0bbf23b57972"
   },
   "outputs": [
    {
     "name": "stdout",
     "output_type": "stream",
     "text": [
      "(224, 224)\n"
     ]
    },
    {
     "data": {
      "image/png": "[encoded data removed]",
      "text/plain": [
       "<Figure size 432x288 with 1 Axes>"
      ]
     },
     "metadata": {
      "needs_background": "light"
     },
     "output_type": "display_data"
    }
   ],
   "source": [
    "bucket_name='w251-final-project'\n",
    "file_name='31.4649478225928+-61.88337836181259+2020-07-04T01:00:00.png'\n",
    "s3 = boto3.client('s3')\n",
    "sample_image = load_image(s3,bucket_name,file_name)\n",
    "plt.imshow(sample_image)\n",
    "print(sample_image.shape)"
   ]
  },
  {
   "cell_type": "markdown",
   "metadata": {
    "colab_type": "text",
    "id": "10QkIM_Rso10"
   },
   "source": [
    "## Prepare the data"
   ]
  },
  {
   "cell_type": "markdown",
   "metadata": {
    "colab_type": "text",
    "id": "HkcP-D-Esrce"
   },
   "source": [
    "### Load the images"
   ]
  },
  {
   "cell_type": "code",
   "execution_count": 52,
   "metadata": {
    "colab": {},
    "colab_type": "code",
    "id": "kUp7yqdFkFi0"
   },
   "outputs": [
    {
     "name": "stdout",
     "output_type": "stream",
     "text": [
      "loading from S3\n",
      "about to call build_input on 660  files\n",
      "45.51824359790318+-61.993845329152215+2020-07-04T01:00:00.png\n",
      "loaded: 0\n",
      "33.8438901664736+-59.78445466865381+2020-07-04T01:00:00.png\n",
      "39.91971850660452+-68.71180698854408+2020-07-04T01:00:00.png\n",
      "41.79941544939069+-57.47018525484641+2020-07-04T01:00:00.png\n",
      "40.39314089777557+-65.47140950090719+2020-07-04T01:00:00.png\n",
      "44.13621359771078+-68.81802468071767+2020-07-04T01:00:00.png\n",
      "42.58042176881449+-67.31572231501379+2020-07-04T01:00:00.png\n",
      "34.6529969841322+-66.48415020094794+2020-07-04T01:00:00.png\n",
      "45.38134886523299+-61.260355655741776+2020-07-04T01:00:00.png\n",
      "41.24456431627196+-58.026133109564796+2020-07-04T01:00:00.png\n",
      "31.9867208591466+-53.62415685703807+2020-07-04T01:00:00.png\n",
      "38.46269759811392+-56.37114262315416+2020-07-04T01:00:00.png\n",
      "38.07689769003228+-56.07262295581776+2020-07-04T01:00:00.png\n",
      "33.022239981481654+-68.6054621905236+2020-07-04T01:00:00.png\n",
      "48.5409764329287+-55.83079847071735+2020-07-04T01:00:00.png\n",
      "38.05584428683948+-56.960393354720644+2020-07-04T01:00:00.png\n",
      "40.434706293230754+-61.61575219546425+2020-07-04T01:00:00.png\n",
      "32.38726439218872+-57.75818961533879+2020-07-04T01:00:00.png\n",
      "30.40689518819463+-56.361256802298705+2020-07-04T01:00:00.png\n",
      "49.77683294516706+-56.62636989887863+2020-07-04T01:00:00.png\n",
      "41.72903655941681+-57.05501235324462+2020-07-04T01:00:00.png\n",
      "48.98775668970774+-58.21805517278894+2020-07-04T01:00:00.png\n",
      "48.572246722263415+-68.77818151923722+2020-07-04T01:00:00.png\n",
      "32.59425563994954+-58.988683032424326+2020-07-04T01:00:00.png\n",
      "42.550130753104185+-62.73665589925718+2020-07-04T01:00:00.png\n",
      "40.530695324338566+-57.61408553991578+2020-07-04T01:00:00.png\n",
      "35.366359227112184+-50.882492589165004+2020-07-04T01:00:00.png\n",
      "30.44995419421028+-51.065938757950434+2020-07-04T01:00:00.png\n",
      "38.290019077967784+-58.88497232955834+2020-07-04T01:00:00.png\n",
      "44.80871082124155+-62.44401768806148+2020-07-04T01:00:00.png\n",
      "49.64020770222784+-61.7318713612236+2020-07-04T01:00:00.png\n",
      "45.517889776934105+-52.39464189415858+2020-07-04T01:00:00.png\n",
      "48.08842668833278+-64.69533670012467+2020-07-04T01:00:00.png\n",
      "30.037363336363263+-53.133551885225316+2020-07-04T01:00:00.png\n",
      "43.94811259238466+-61.2746329901307+2020-07-04T01:00:00.png\n",
      "31.991812640103056+-51.493776145765395+2020-07-04T01:00:00.png\n",
      "32.7329426174576+-62.448370095709784+2020-07-04T01:00:00.png\n",
      "47.35160596650343+-56.13404675128305+2020-07-04T01:00:00.png\n",
      "34.550678253029254+-67.08363698946903+2020-07-04T01:00:00.png\n",
      "30.171454087572016+-60.6977619122328+2020-07-04T01:00:00.png\n",
      "38.75232423127282+-58.470610533451065+2020-07-04T01:00:00.png\n",
      "37.00659263923617+-69.30056399280984+2020-07-04T01:00:00.png\n",
      "49.44853002886853+-58.84068862829186+2020-07-04T01:00:00.png\n",
      "39.11073998095347+-56.252781509788164+2020-07-04T01:00:00.png\n",
      "33.00936900021954+-58.26599270613145+2020-07-04T01:00:00.png\n",
      "31.39778297260405+-65.21555967788701+2020-07-04T01:00:00.png\n",
      "45.94627803193283+-61.79110912340186+2020-07-04T01:00:00.png\n",
      "36.78480665553018+-52.328782314178554+2020-07-04T01:00:00.png\n",
      "46.358376768076326+-69.98606357935574+2020-07-04T01:00:00.png\n",
      "39.3061590518279+-56.820612870210844+2020-07-04T01:00:00.png\n",
      "45.89731399953057+-62.074151656835994+2020-07-04T01:00:00.png\n",
      "42.84328583581395+-62.27192627187914+2020-07-04T01:00:00.png\n",
      "43.18716876470497+-56.853091259055645+2020-07-04T01:00:00.png\n",
      "36.26462368676155+-54.978366496848324+2020-07-04T01:00:00.png\n",
      "30.382749631888395+-62.67997797112177+2020-07-04T01:00:00.png\n",
      "32.611263528923104+-55.39184406747503+2020-07-04T01:00:00.png\n",
      "47.79882394204388+-67.90598446714976+2020-07-04T01:00:00.png\n",
      "48.02304129999135+-52.29630894141668+2020-07-04T01:00:00.png\n",
      "49.92222095075293+-50.42181128683557+2020-07-04T01:00:00.png\n",
      "41.53521180385356+-53.00935730828069+2020-07-04T01:00:00.png\n",
      "45.02982004669753+-53.53391830215757+2020-07-04T01:00:00.png\n",
      "48.243153039738615+-67.89239222267734+2020-07-04T01:00:00.png\n",
      "46.11517592345299+-60.282123274869825+2020-07-04T01:00:00.png\n",
      "32.22214257940466+-57.58344671948535+2020-07-04T01:00:00.png\n",
      "47.248574550134734+-54.85966477070677+2020-07-04T01:00:00.png\n",
      "41.39670312169471+-57.48991860716868+2020-07-04T01:00:00.png\n",
      "41.1024202938135+-65.81721163024588+2020-07-04T01:00:00.png\n",
      "36.41828298200297+-58.656482711288234+2020-07-04T01:00:00.png\n",
      "30.805598864948468+-68.64407889751152+2020-07-04T01:00:00.png\n",
      "33.20402482328572+-68.75624974855953+2020-07-04T01:00:00.png\n",
      "46.630302567961536+-66.32941307253665+2020-07-04T01:00:00.png\n",
      "42.62493784777445+-64.7858175376839+2020-07-04T01:00:00.png\n",
      "38.396875089885086+-53.023946871553406+2020-07-04T01:00:00.png\n",
      "30.864905305443365+-68.43300068681785+2020-07-04T01:00:00.png\n",
      "33.13735270409878+-68.0617968851647+2020-07-04T01:00:00.png\n",
      "48.160439732842086+-65.91237871856775+2020-07-04T01:00:00.png\n",
      "32.619846944766024+-69.01551920833697+2020-07-04T01:00:00.png\n",
      "48.96308709175284+-66.02783934152343+2020-07-04T01:00:00.png\n",
      "45.11023713061575+-65.47883642623164+2020-07-04T01:00:00.png\n",
      "30.28074152122604+-67.80913091624657+2020-07-04T01:00:00.png\n",
      "44.09627283588033+-62.55697819151827+2020-07-04T01:00:00.png\n",
      "35.937753685660056+-56.892491841811115+2020-07-04T01:00:00.png\n",
      "49.9145540720851+-64.60494309465395+2020-07-04T01:00:00.png\n",
      "45.84961869275263+-67.8759726967598+2020-07-04T01:00:00.png\n",
      "47.170807812269494+-63.3318884377911+2020-07-04T01:00:00.png\n",
      "32.95707545666667+-50.63093935924702+2020-07-04T01:00:00.png\n",
      "39.45003156755334+-62.7898260334358+2020-07-04T01:00:00.png\n",
      "39.18655786322897+-59.841824435049745+2020-07-04T01:00:00.png\n",
      "48.237171728033864+-63.765311863188295+2020-07-04T01:00:00.png\n",
      "40.63656109624316+-50.091599587644545+2020-07-04T01:00:00.png\n",
      "40.29114543123332+-67.00597615941393+2020-07-04T01:00:00.png\n",
      "36.85947072318491+-65.34361881093746+2020-07-04T01:00:00.png\n",
      "45.78375364156494+-51.135284373910565+2020-07-04T01:00:00.png\n",
      "31.96682604201057+-63.66010995585868+2020-07-04T01:00:00.png\n",
      "47.569749633871375+-54.987245557226856+2020-07-04T01:00:00.png\n",
      "32.5020362147757+-54.42574918396953+2020-07-04T01:00:00.png\n",
      "39.82404950716547+-55.498172945685425+2020-07-04T01:00:00.png\n",
      "46.52206492028534+-69.12440650231218+2020-07-04T01:00:00.png\n",
      "39.16081422284411+-55.4495037808448+2020-07-04T01:00:00.png\n",
      "46.63929957655308+-68.76161922122937+2020-07-04T01:00:00.png\n",
      "48.48180355180828+-64.92927696050113+2020-07-04T01:00:00.png\n",
      "loaded: 100\n",
      "30.509127148488457+-58.84261989569065+2020-07-04T01:00:00.png\n",
      "44.71565152090038+-69.41800679136045+2020-07-04T01:00:00.png\n",
      "45.65754580061264+-59.30453633828486+2020-07-04T01:00:00.png\n",
      "35.200453424097596+-58.77574781127418+2020-07-04T01:00:00.png\n",
      "40.9020386945932+-57.58593606459012+2020-07-04T01:00:00.png\n",
      "42.718741841974605+-65.89488480112956+2020-07-04T01:00:00.png\n",
      "34.08675840536226+-50.97699218105881+2020-07-04T01:00:00.png\n",
      "43.020034672145385+-59.80066732865492+2020-07-04T01:00:00.png\n",
      "45.392445769264114+-61.084135029610295+2020-07-04T01:00:00.png\n",
      "44.69180700484816+-58.954116651331155+2020-07-04T01:00:00.png\n",
      "39.08261706986906+-63.378398722807326+2020-07-04T01:00:00.png\n",
      "48.37634018907023+-58.48715550566321+2020-07-04T01:00:00.png\n",
      "38.43116150926015+-52.63663688443562+2020-07-04T01:00:00.png\n",
      "31.855150192020464+-58.43500876943149+2020-07-04T01:00:00.png\n",
      "39.97236435379992+-54.55518623637539+2020-07-04T01:00:00.png\n",
      "35.80094849873004+-63.63000085269225+2020-07-04T01:00:00.png\n",
      "37.594126556172476+-57.37236666186261+2020-07-04T01:00:00.png\n",
      "40.32510913338788+-59.755716927106185+2020-07-04T01:00:00.png\n",
      "31.811262562044675+-63.78197005789288+2020-07-04T01:00:00.png\n",
      "47.366666208506494+-65.50828991809132+2020-07-04T01:00:00.png\n",
      "38.57113326846431+-50.81212212765767+2020-07-04T01:00:00.png\n",
      "36.71082291969147+-63.37295316374535+2020-07-04T01:00:00.png\n",
      "47.61663520013262+-61.61298738297364+2020-07-04T01:00:00.png\n",
      "36.6519694270668+-63.71882711615619+2020-07-04T01:00:00.png\n",
      "43.74788389686566+-62.816740810525616+2020-07-04T01:00:00.png\n",
      "47.30470701173781+-60.77031462202431+2020-07-04T01:00:00.png\n",
      "32.89058154355052+-57.859101480622904+2020-07-04T01:00:00.png\n",
      "43.085205709697945+-56.937768843213696+2020-07-04T01:00:00.png\n",
      "33.47061270637138+-61.995270573575596+2020-07-04T01:00:00.png\n",
      "33.99591646933265+-65.95146308100058+2020-07-04T01:00:00.png\n",
      "35.25241127932854+-69.33842028863134+2020-07-04T01:00:00.png\n",
      "30.330644826300745+-60.96942249952028+2020-07-04T01:00:00.png\n",
      "34.81798771183725+-65.1458793948169+2020-07-04T01:00:00.png\n",
      "40.33770905611683+-61.23183314083143+2020-07-04T01:00:00.png\n"
     ]
    },
    {
     "name": "stdout",
     "output_type": "stream",
     "text": [
      "46.875689824825535+-67.28619614748463+2020-07-04T01:00:00.png\n",
      "31.98565684029824+-58.215419876352314+2020-07-04T01:00:00.png\n",
      "34.74879214177284+-57.33817790007993+2020-07-04T01:00:00.png\n",
      "31.4587207293346+-67.85852619594864+2020-07-04T01:00:00.png\n",
      "37.20961167929816+-69.93884414552097+2020-07-04T01:00:00.png\n",
      "37.824162372923254+-68.15539022042655+2020-07-04T01:00:00.png\n",
      "31.47802154628327+-64.78532963147389+2020-07-04T01:00:00.png\n",
      "48.87658343202536+-61.71188256365021+2020-07-04T01:00:00.png\n",
      "31.943860168447785+-68.54238599680521+2020-07-04T01:00:00.png\n",
      "36.002749018240465+-63.241710602653455+2020-07-04T01:00:00.png\n",
      "45.38171005389778+-54.77911111279912+2020-07-04T01:00:00.png\n",
      "47.50133766542667+-63.97992178847491+2020-07-04T01:00:00.png\n",
      "30.234849584397587+-52.195741951174924+2020-07-04T01:00:00.png\n",
      "31.050511921308+-58.2586300634445+2020-07-04T01:00:00.png\n",
      "32.62880826793623+-59.61923371445511+2020-07-04T01:00:00.png\n",
      "31.040313417983008+-61.785519707450476+2020-07-04T01:00:00.png\n",
      "48.27509048633887+-59.644461755469926+2020-07-04T01:00:00.png\n",
      "47.201954071289876+-60.002427067418495+2020-07-04T01:00:00.png\n",
      "36.3323083012966+-66.23433728981996+2020-07-04T01:00:00.png\n",
      "32.58839881946974+-60.37287868435479+2020-07-04T01:00:00.png\n",
      "49.91477583507583+-51.43451369700203+2020-07-04T01:00:00.png\n",
      "33.81806611878331+-67.13828265135034+2020-07-04T01:00:00.png\n",
      "30.891540581360484+-53.34917860344522+2020-07-04T01:00:00.png\n",
      "43.271490090731746+-59.795968777714904+2020-07-04T01:00:00.png\n",
      "30.10681073507476+-60.63037307228411+2020-07-04T01:00:00.png\n",
      "31.7701368306773+-67.49663284842299+2020-07-04T01:00:00.png\n",
      "43.54387050672691+-54.25029871587163+2020-07-04T01:00:00.png\n",
      "38.09882170070356+-51.191779703260025+2020-07-04T01:00:00.png\n",
      "46.6578371861897+-53.54916066784431+2020-07-04T01:00:00.png\n",
      "43.64420612552338+-54.421810222635294+2020-07-04T01:00:00.png\n",
      "43.82714999162029+-65.1490470181035+2020-07-04T01:00:00.png\n",
      "41.01247877245989+-62.584345607268574+2020-07-04T01:00:00.png\n",
      "34.57788955385956+-54.42435655902075+2020-07-04T01:00:00.png\n",
      "32.71928221451592+-50.50664801560818+2020-07-04T01:00:00.png\n",
      "35.78180088758843+-66.18837743205553+2020-07-04T01:00:00.png\n",
      "44.49257841078122+-57.989490868793766+2020-07-04T01:00:00.png\n",
      "41.47701099521598+-57.87633523938699+2020-07-04T01:00:00.png\n",
      "35.52484363541895+-54.711970442656664+2020-07-04T01:00:00.png\n",
      "30.333013735981723+-62.40760253315088+2020-07-04T01:00:00.png\n",
      "33.46441859886351+-63.41590242708754+2020-07-04T01:00:00.png\n",
      "40.62812784273744+-65.01438233215224+2020-07-04T01:00:00.png\n",
      "49.71461165686037+-69.87754749937035+2020-07-04T01:00:00.png\n",
      "35.85753236269323+-68.66504674732231+2020-07-04T01:00:00.png\n",
      "30.4906225157075+-51.56956943880391+2020-07-04T01:00:00.png\n",
      "44.454837355726184+-60.70198746256433+2020-07-04T01:00:00.png\n",
      "36.57482329214342+-65.18822607861235+2020-07-04T01:00:00.png\n",
      "46.69220035724916+-61.02165784746901+2020-07-04T01:00:00.png\n",
      "36.582762330314786+-55.36622207728338+2020-07-04T01:00:00.png\n",
      "37.387408144403636+-59.8543035589708+2020-07-04T01:00:00.png\n",
      "41.023380781895575+-58.549772674100275+2020-07-04T01:00:00.png\n",
      "31.103442940153872+-59.378009548063524+2020-07-04T01:00:00.png\n",
      "47.94465757366664+-68.50226180172469+2020-07-04T01:00:00.png\n",
      "32.760285396803305+-52.884389290548+2020-07-04T01:00:00.png\n",
      "46.480828341559445+-50.88491198800957+2020-07-04T01:00:00.png\n",
      "30.854384645084252+-60.77183383391422+2020-07-04T01:00:00.png\n",
      "39.1131366898229+-68.68158657611194+2020-07-04T01:00:00.png\n",
      "32.48414282658937+-57.42483797360919+2020-07-04T01:00:00.png\n",
      "43.82807943657514+-51.7866711374308+2020-07-04T01:00:00.png\n",
      "45.57345240847834+-56.336483656197046+2020-07-04T01:00:00.png\n",
      "32.13449393726549+-54.83548635553137+2020-07-04T01:00:00.png\n",
      "33.55829123554733+-53.54641686580625+2020-07-04T01:00:00.png\n",
      "43.83358474253204+-55.885734890613676+2020-07-04T01:00:00.png\n",
      "48.23222693712184+-65.1459692102671+2020-07-04T01:00:00.png\n",
      "34.57845009862594+-62.484370718853626+2020-07-04T01:00:00.png\n",
      "36.342562034424716+-56.11586091679976+2020-07-04T01:00:00.png\n",
      "38.03446039682994+-62.98162641914996+2020-07-04T01:00:00.png\n",
      "loaded: 200\n",
      "45.95986807485291+-69.54678128737768+2020-07-04T01:00:00.png\n",
      "49.41897716531739+-52.508368835412334+2020-07-04T01:00:00.png\n",
      "43.967214763120346+-55.45460718883892+2020-07-04T01:00:00.png\n",
      "34.37738426106962+-55.82132972878908+2020-07-04T01:00:00.png\n",
      "43.555884273970804+-51.69904376398857+2020-07-04T01:00:00.png\n",
      "38.237319236747936+-59.17469851353214+2020-07-04T01:00:00.png\n",
      "44.32982276149397+-52.22826641964342+2020-07-04T01:00:00.png\n",
      "34.583489687988184+-65.21980844168023+2020-07-04T01:00:00.png\n",
      "43.209359833966204+-61.63521236054345+2020-07-04T01:00:00.png\n",
      "32.56719942644091+-64.55992448217442+2020-07-04T01:00:00.png\n",
      "33.817111366890714+-57.82587139433232+2020-07-04T01:00:00.png\n",
      "48.00191031916343+-59.69095489102871+2020-07-04T01:00:00.png\n",
      "30.611588077275+-53.79415346714242+2020-07-04T01:00:00.png\n",
      "32.55457634823406+-55.54400275387503+2020-07-04T01:00:00.png\n",
      "32.633322719322734+-67.06846688776571+2020-07-04T01:00:00.png\n",
      "35.740915866858984+-62.72963613028967+2020-07-04T01:00:00.png\n",
      "32.19105800564887+-57.20279425156147+2020-07-04T01:00:00.png\n",
      "35.34629103627803+-59.42236938884255+2020-07-04T01:00:00.png\n",
      "34.6518304018201+-51.401150539129176+2020-07-04T01:00:00.png\n",
      "42.47413120033156+-67.96659932758376+2020-07-04T01:00:00.png\n",
      "35.31568996110265+-55.07262279056316+2020-07-04T01:00:00.png\n",
      "33.38839500325692+-61.97146658143189+2020-07-04T01:00:00.png\n",
      "42.588108426821044+-57.91731755110369+2020-07-04T01:00:00.png\n",
      "44.25750934050333+-52.112238942670224+2020-07-04T01:00:00.png\n",
      "33.326906483339435+-65.33056045426764+2020-07-04T01:00:00.png\n",
      "38.76877319945916+-65.68106426047834+2020-07-04T01:00:00.png\n",
      "35.37948388520815+-54.4592266159398+2020-07-04T01:00:00.png\n",
      "37.40904996918733+-65.10796496168098+2020-07-04T01:00:00.png\n",
      "38.826577299272344+-68.30493120002409+2020-07-04T01:00:00.png\n",
      "49.086006964204486+-58.31309876657882+2020-07-04T01:00:00.png\n",
      "35.9760866037926+-52.18574519570245+2020-07-04T01:00:00.png\n",
      "38.254231027530125+-56.23603111451021+2020-07-04T01:00:00.png\n",
      "46.770550472938176+-69.54224411834784+2020-07-04T01:00:00.png\n",
      "45.596887094461735+-55.930326000800605+2020-07-04T01:00:00.png\n",
      "48.20385241259697+-65.51888332537047+2020-07-04T01:00:00.png\n",
      "31.617949474395274+-65.53767288822405+2020-07-04T01:00:00.png\n",
      "30.950210662546485+-68.12916724840935+2020-07-04T01:00:00.png\n",
      "34.293672762020755+-66.17328351974436+2020-07-04T01:00:00.png\n",
      "34.115106123268575+-57.08877387794897+2020-07-04T01:00:00.png\n",
      "33.045767468464945+-68.86199607059052+2020-07-04T01:00:00.png\n",
      "32.581249108672466+-59.47789175234341+2020-07-04T01:00:00.png\n",
      "45.07180024532461+-61.30118469719879+2020-07-04T01:00:00.png\n",
      "35.55271416159171+-59.52934763561934+2020-07-04T01:00:00.png\n",
      "41.1957948135626+-62.00436583764641+2020-07-04T01:00:00.png\n",
      "49.63214314493253+-60.61666413836657+2020-07-04T01:00:00.png\n",
      "33.3421985845909+-68.71368240287313+2020-07-04T01:00:00.png\n",
      "31.279305868224338+-50.41395267859163+2020-07-04T01:00:00.png\n",
      "46.26427024889526+-50.6621928752892+2020-07-04T01:00:00.png\n",
      "49.65980261704742+-65.51954708474798+2020-07-04T01:00:00.png\n",
      "46.34334138661877+-64.64486896213347+2020-07-04T01:00:00.png\n",
      "45.29391461160767+-61.01803398872296+2020-07-04T01:00:00.png\n",
      "33.722124566956516+-50.769064761473885+2020-07-04T01:00:00.png\n",
      "45.4586044564965+-66.08824214207809+2020-07-04T01:00:00.png\n",
      "44.04639368443273+-62.15399398933861+2020-07-04T01:00:00.png\n",
      "49.38992012794492+-67.30326129231851+2020-07-04T01:00:00.png\n",
      "49.96731790381719+-61.690908689264624+2020-07-04T01:00:00.png\n",
      "30.861132057701344+-66.88857557276141+2020-07-04T01:00:00.png\n",
      "36.45195367699427+-67.67924814006403+2020-07-04T01:00:00.png\n",
      "47.657185400776235+-68.50137695086167+2020-07-04T01:00:00.png\n",
      "37.6011962592251+-54.81929320322365+2020-07-04T01:00:00.png\n",
      "33.52916133185548+-65.3854525939972+2020-07-04T01:00:00.png\n",
      "35.64511038901196+-52.041560622228744+2020-07-04T01:00:00.png\n",
      "46.432885439406405+-52.321400945917695+2020-07-04T01:00:00.png\n",
      "30.132744365705886+-52.23410977335514+2020-07-04T01:00:00.png\n",
      "45.33688570384631+-67.64342211568203+2020-07-04T01:00:00.png\n",
      "35.456771820431555+-62.56816392091429+2020-07-04T01:00:00.png\n",
      "41.04858846643042+-64.6070712539705+2020-07-04T01:00:00.png\n",
      "41.11072490635208+-66.3337731253332+2020-07-04T01:00:00.png\n",
      "31.482303913142204+-62.90181635846896+2020-07-04T01:00:00.png\n",
      "47.60941195004582+-52.941943528704215+2020-07-04T01:00:00.png\n"
     ]
    },
    {
     "name": "stdout",
     "output_type": "stream",
     "text": [
      "45.293869532367886+-65.76525025113031+2020-07-04T01:00:00.png\n",
      "37.96232628409286+-54.71083563756002+2020-07-04T01:00:00.png\n",
      "37.57424521472311+-66.9261002645736+2020-07-04T01:00:00.png\n",
      "41.36833938316928+-66.83886951371362+2020-07-04T01:00:00.png\n",
      "40.48047621653635+-69.60233720940337+2020-07-04T01:00:00.png\n",
      "47.72349045216233+-69.27814227440506+2020-07-04T01:00:00.png\n",
      "37.36208852366287+-52.722678653089176+2020-07-04T01:00:00.png\n",
      "49.8650143988758+-51.100060777931546+2020-07-04T01:00:00.png\n",
      "47.11200217814047+-63.51625745682239+2020-07-04T01:00:00.png\n",
      "48.125342395638356+-51.9756725808332+2020-07-04T01:00:00.png\n",
      "33.42903104571136+-63.395292835959175+2020-07-04T01:00:00.png\n",
      "39.235274025344154+-61.15625101899918+2020-07-04T01:00:00.png\n",
      "35.05391062276676+-58.96920866463788+2020-07-04T01:00:00.png\n",
      "47.68712118021124+-61.66446714672823+2020-07-04T01:00:00.png\n",
      "47.44067138402892+-67.17471980920314+2020-07-04T01:00:00.png\n",
      "38.93454600865713+-61.717000130600596+2020-07-04T01:00:00.png\n",
      "41.05431224340074+-51.5756557435826+2020-07-04T01:00:00.png\n",
      "30.399953252595868+-65.24175276788026+2020-07-04T01:00:00.png\n",
      "35.944737247183326+-66.97358921377347+2020-07-04T01:00:00.png\n",
      "37.046817452004326+-68.51948618170302+2020-07-04T01:00:00.png\n",
      "37.53163127581994+-54.502632474816615+2020-07-04T01:00:00.png\n",
      "31.45656931382308+-69.66312870569382+2020-07-04T01:00:00.png\n",
      "46.37654929545002+-63.28483150656098+2020-07-04T01:00:00.png\n",
      "34.34424082892934+-51.11554478125857+2020-07-04T01:00:00.png\n",
      "41.19977858762523+-62.48154696825824+2020-07-04T01:00:00.png\n",
      "36.802185797583824+-60.16834667728257+2020-07-04T01:00:00.png\n",
      "34.880751387188916+-58.143001971542816+2020-07-04T01:00:00.png\n",
      "36.60803259691806+-65.92972790091194+2020-07-04T01:00:00.png\n",
      "47.64900306471936+-62.72712716418326+2020-07-04T01:00:00.png\n",
      "36.815273187131005+-58.27975298395073+2020-07-04T01:00:00.png\n",
      "loaded: 300\n",
      "33.419168070575374+-54.90860814866724+2020-07-04T01:00:00.png\n",
      "33.68460035940685+-62.3746094318692+2020-07-04T01:00:00.png\n",
      "39.32366021399716+-69.4975112517937+2020-07-04T01:00:00.png\n",
      "34.55069374235614+-65.23836178536664+2020-07-04T01:00:00.png\n",
      "40.686974936365985+-53.85479271069076+2020-07-04T01:00:00.png\n",
      "36.39483065572687+-60.23053306663646+2020-07-04T01:00:00.png\n",
      "39.11477433607847+-64.87067335234893+2020-07-04T01:00:00.png\n",
      "40.183159028440684+-56.49299266424119+2020-07-04T01:00:00.png\n",
      "48.55588205352989+-59.89853333827197+2020-07-04T01:00:00.png\n",
      "43.08408076502774+-54.76983624260756+2020-07-04T01:00:00.png\n",
      "36.40759891381021+-50.19306968451986+2020-07-04T01:00:00.png\n",
      "34.58079391798027+-56.997442128656886+2020-07-04T01:00:00.png\n",
      "30.92044011656149+-50.21987354206681+2020-07-04T01:00:00.png\n",
      "43.32123885953422+-50.57746287839382+2020-07-04T01:00:00.png\n",
      "49.643608656240716+-66.18122075105242+2020-07-04T01:00:00.png\n",
      "48.74540571270501+-55.250311499021336+2020-07-04T01:00:00.png\n",
      "47.709127666923436+-55.99469032576788+2020-07-04T01:00:00.png\n",
      "32.83734141276185+-64.89353239441778+2020-07-04T01:00:00.png\n",
      "36.90836565877608+-66.50199230873795+2020-07-04T01:00:00.png\n",
      "34.52661396488893+-60.531411136514656+2020-07-04T01:00:00.png\n",
      "30.774053008510162+-53.843306517557366+2020-07-04T01:00:00.png\n",
      "41.55012824263988+-69.02150855445485+2020-07-04T01:00:00.png\n",
      "44.211580801589236+-64.67571671499246+2020-07-04T01:00:00.png\n",
      "38.638118094358376+-58.809536651891484+2020-07-04T01:00:00.png\n",
      "32.16328676691051+-60.75216251937701+2020-07-04T01:00:00.png\n",
      "30.241816981388403+-63.890049594057885+2020-07-04T01:00:00.png\n",
      "47.70674616259798+-58.48546464256785+2020-07-04T01:00:00.png\n",
      "45.48567871049716+-56.511975582728695+2020-07-04T01:00:00.png\n",
      "49.79520204394302+-56.99453164832737+2020-07-04T01:00:00.png\n",
      "49.487235984679536+-66.30982267857217+2020-07-04T01:00:00.png\n",
      "38.28502912052021+-59.143310359739374+2020-07-04T01:00:00.png\n",
      "34.240871765659165+-61.9188077663476+2020-07-04T01:00:00.png\n",
      "47.75042830909919+-69.90948651383266+2020-07-04T01:00:00.png\n",
      "31.86157233367392+-63.50094947401266+2020-07-04T01:00:00.png\n",
      "46.091331809810384+-59.63085625464649+2020-07-04T01:00:00.png\n",
      "34.969172278507656+-69.65461510175129+2020-07-04T01:00:00.png\n",
      "30.250934260591034+-69.70416897018805+2020-07-04T01:00:00.png\n",
      "32.61171920303818+-52.09889405841353+2020-07-04T01:00:00.png\n",
      "36.648710132392985+-55.592447130615035+2020-07-04T01:00:00.png\n",
      "38.733505557319205+-60.74360765637009+2020-07-04T01:00:00.png\n",
      "37.998314441776245+-62.128876068405965+2020-07-04T01:00:00.png\n",
      "34.09045837365345+-57.15370743038389+2020-07-04T01:00:00.png\n",
      "34.147583986197056+-51.70984041145659+2020-07-04T01:00:00.png\n",
      "39.89790984706123+-69.00888925570497+2020-07-04T01:00:00.png\n",
      "31.45664121969798+-57.77630938334015+2020-07-04T01:00:00.png\n",
      "43.30500414315796+-58.76089904629123+2020-07-04T01:00:00.png\n",
      "42.69721329744933+-67.22114640264411+2020-07-04T01:00:00.png\n",
      "42.89283004646195+-55.01419402471452+2020-07-04T01:00:00.png\n",
      "48.71281695516021+-51.81982141439582+2020-07-04T01:00:00.png\n",
      "44.17346773898817+-52.92351841016517+2020-07-04T01:00:00.png\n",
      "40.46739886430139+-53.0250904645912+2020-07-04T01:00:00.png\n",
      "30.09483859161785+-66.54965060401629+2020-07-04T01:00:00.png\n",
      "31.90277098916527+-57.75747577124613+2020-07-04T01:00:00.png\n",
      "43.4221144724046+-58.18789555651695+2020-07-04T01:00:00.png\n",
      "42.75108090630134+-61.876639589332996+2020-07-04T01:00:00.png\n",
      "35.44921391879113+-60.74652243071753+2020-07-04T01:00:00.png\n",
      "34.720786119765044+-56.59710898535945+2020-07-04T01:00:00.png\n",
      "47.885089097772074+-61.33670170770891+2020-07-04T01:00:00.png\n",
      "40.473538673489045+-66.37174553192148+2020-07-04T01:00:00.png\n",
      "33.72623006874117+-62.99530996120761+2020-07-04T01:00:00.png\n",
      "48.624798776955885+-63.11069919506463+2020-07-04T01:00:00.png\n",
      "36.43176260511545+-56.79518450183052+2020-07-04T01:00:00.png\n",
      "45.98763301361981+-61.60355235180832+2020-07-04T01:00:00.png\n",
      "49.14658480958473+-60.60383956936001+2020-07-04T01:00:00.png\n",
      "41.93028562776092+-62.31533559226591+2020-07-04T01:00:00.png\n",
      "46.85052126532321+-62.46600419404038+2020-07-04T01:00:00.png\n",
      "34.65485232982507+-63.155503871981786+2020-07-04T01:00:00.png\n",
      "38.57228292484901+-55.73389801303966+2020-07-04T01:00:00.png\n",
      "41.94579961754073+-64.02941358625472+2020-07-04T01:00:00.png\n",
      "49.57349999514945+-64.8259123641665+2020-07-04T01:00:00.png\n",
      "44.204532402167736+-54.91732546311802+2020-07-04T01:00:00.png\n",
      "36.58457253134329+-68.7050483762467+2020-07-04T01:00:00.png\n",
      "46.901721597862434+-58.19523753180446+2020-07-04T01:00:00.png\n",
      "45.072772109913075+-69.96353967634253+2020-07-04T01:00:00.png\n",
      "34.31318465788724+-56.370490254644935+2020-07-04T01:00:00.png\n",
      "32.56749120304476+-62.84019342271483+2020-07-04T01:00:00.png\n",
      "31.26635321096085+-56.940220553693145+2020-07-04T01:00:00.png\n",
      "41.87522747369177+-61.526432618426895+2020-07-04T01:00:00.png\n",
      "47.21501361518915+-56.42518937924814+2020-07-04T01:00:00.png\n",
      "45.10105332070306+-53.80551519066539+2020-07-04T01:00:00.png\n",
      "48.11219808501194+-58.6898081145594+2020-07-04T01:00:00.png\n",
      "38.36844879202914+-62.58542963749667+2020-07-04T01:00:00.png\n",
      "48.72237895413746+-57.98980769489252+2020-07-04T01:00:00.png\n",
      "42.99935062260762+-60.55037838168197+2020-07-04T01:00:00.png\n",
      "38.5976725153275+-67.59049981836701+2020-07-04T01:00:00.png\n",
      "43.2703973781932+-52.63752567302304+2020-07-04T01:00:00.png\n",
      "43.884386720040084+-66.22279015882705+2020-07-04T01:00:00.png\n",
      "47.86215096031509+-61.566161873733854+2020-07-04T01:00:00.png\n",
      "41.140043065917624+-66.4074093966802+2020-07-04T01:00:00.png\n",
      "32.21226658617412+-52.34354975958153+2020-07-04T01:00:00.png\n",
      "49.85577533374598+-68.38667321787345+2020-07-04T01:00:00.png\n",
      "43.169827956835626+-52.2853797664482+2020-07-04T01:00:00.png\n",
      "49.75766436836208+-67.4393729366758+2020-07-04T01:00:00.png\n",
      "37.47565102492086+-56.14102329511391+2020-07-04T01:00:00.png\n",
      "36.64549755270091+-62.31685877230491+2020-07-04T01:00:00.png\n",
      "35.74426068330743+-65.052360068494+2020-07-04T01:00:00.png\n",
      "31.108808223180443+-55.34742977064743+2020-07-04T01:00:00.png\n",
      "48.70930940858231+-51.47000266726409+2020-07-04T01:00:00.png\n",
      "34.75285637300046+-62.29612175844015+2020-07-04T01:00:00.png\n",
      "44.06548113612932+-60.08321918945343+2020-07-04T01:00:00.png\n",
      "loaded: 400\n",
      "39.229905767446525+-64.78940836726093+2020-07-04T01:00:00.png\n",
      "41.44303605666953+-52.8038417417737+2020-07-04T01:00:00.png\n",
      "41.05105019138527+-56.01077769475678+2020-07-04T01:00:00.png\n",
      "38.69072432204414+-51.06410371003172+2020-07-04T01:00:00.png\n",
      "46.38505498800077+-52.06892117794225+2020-07-04T01:00:00.png\n",
      "31.51768139695009+-65.33127272305578+2020-07-04T01:00:00.png\n"
     ]
    },
    {
     "name": "stdout",
     "output_type": "stream",
     "text": [
      "45.357466815355615+-69.4865126485693+2020-07-04T01:00:00.png\n",
      "39.49298253154307+-54.86909626349116+2020-07-04T01:00:00.png\n",
      "44.35762232941364+-62.592589125494875+2020-07-04T01:00:00.png\n",
      "36.38682404068156+-54.3380519068887+2020-07-04T01:00:00.png\n",
      "30.29155677531626+-55.71488005604556+2020-07-04T01:00:00.png\n",
      "33.324179805199584+-62.7252150510561+2020-07-04T01:00:00.png\n",
      "43.72666578441759+-69.40651495025037+2020-07-04T01:00:00.png\n",
      "36.97678532529191+-63.9372111406258+2020-07-04T01:00:00.png\n",
      "38.84087886004325+-54.68568888976816+2020-07-04T01:00:00.png\n",
      "34.642015288457074+-52.11754689409328+2020-07-04T01:00:00.png\n",
      "48.96799187045265+-50.200595075936164+2020-07-04T01:00:00.png\n",
      "40.19374277372827+-65.34609972952681+2020-07-04T01:00:00.png\n",
      "43.72587487711601+-67.09800453408664+2020-07-04T01:00:00.png\n",
      "38.42721918745265+-61.13601029400517+2020-07-04T01:00:00.png\n",
      "46.483361386898494+-61.44882242365354+2020-07-04T01:00:00.png\n",
      "45.83091644959586+-59.20871322987223+2020-07-04T01:00:00.png\n",
      "42.27758094492134+-52.58963163624167+2020-07-04T01:00:00.png\n",
      "41.9229116347851+-54.36774907736698+2020-07-04T01:00:00.png\n",
      "46.69691825229692+-56.42463005744372+2020-07-04T01:00:00.png\n",
      "47.80243412279211+-57.70187244083098+2020-07-04T01:00:00.png\n",
      "37.090971551234105+-65.12771589844976+2020-07-04T01:00:00.png\n",
      "46.600996404078735+-63.588443120299004+2020-07-04T01:00:00.png\n",
      "36.83927254425739+-58.12932744597879+2020-07-04T01:00:00.png\n",
      "44.57522469712474+-52.15444754190569+2020-07-04T01:00:00.png\n",
      "31.807986883156737+-54.754947251422394+2020-07-04T01:00:00.png\n",
      "32.13246684598674+-53.8833819744043+2020-07-04T01:00:00.png\n",
      "38.067383533563685+-69.00614563752687+2020-07-04T01:00:00.png\n",
      "49.73705866784039+-61.3901614899384+2020-07-04T01:00:00.png\n",
      "33.57028618579742+-65.34715541536588+2020-07-04T01:00:00.png\n",
      "39.438684963082764+-67.88421561598113+2020-07-04T01:00:00.png\n",
      "37.72460763556494+-54.495918425816214+2020-07-04T01:00:00.png\n",
      "31.339153863746972+-58.011823096538386+2020-07-04T01:00:00.png\n",
      "47.76356478280386+-63.920497895131255+2020-07-04T01:00:00.png\n",
      "46.9631535974043+-53.44171226979795+2020-07-04T01:00:00.png\n",
      "38.000755106968086+-68.47838641070155+2020-07-04T01:00:00.png\n",
      "31.29226462156257+-67.08527369225276+2020-07-04T01:00:00.png\n",
      "32.10072398525387+-61.77735751323347+2020-07-04T01:00:00.png\n",
      "39.751872849336095+-69.43373264539389+2020-07-04T01:00:00.png\n",
      "31.247649366861104+-63.36253655141143+2020-07-04T01:00:00.png\n",
      "42.06263483596892+-50.0421006405008+2020-07-04T01:00:00.png\n",
      "46.77320308938711+-58.302946574896296+2020-07-04T01:00:00.png\n",
      "35.97928344822736+-52.862567166535804+2020-07-04T01:00:00.png\n",
      "43.15250189258874+-50.5091185064143+2020-07-04T01:00:00.png\n",
      "47.76034245847117+-68.01179044497634+2020-07-04T01:00:00.png\n",
      "32.53846998841473+-52.7554847403748+2020-07-04T01:00:00.png\n",
      "38.40725525262434+-53.940469460443296+2020-07-04T01:00:00.png\n",
      "40.621397169465766+-57.35786029179977+2020-07-04T01:00:00.png\n",
      "34.28909993902636+-65.89783362986168+2020-07-04T01:00:00.png\n",
      "37.732432093529276+-61.20922317224519+2020-07-04T01:00:00.png\n",
      "47.0190919920051+-63.08804004799394+2020-07-04T01:00:00.png\n",
      "44.41863515458478+-63.1279150005799+2020-07-04T01:00:00.png\n",
      "35.05831826525798+-65.63934097606027+2020-07-04T01:00:00.png\n",
      "39.555896871904665+-53.34269676998123+2020-07-04T01:00:00.png\n",
      "33.37375501378779+-65.717832054785+2020-07-04T01:00:00.png\n",
      "44.71858861074057+-56.15925768119287+2020-07-04T01:00:00.png\n",
      "33.78589256706806+-67.4543896604069+2020-07-04T01:00:00.png\n",
      "48.981939610483025+-65.04004711134274+2020-07-04T01:00:00.png\n",
      "38.904946925602815+-69.19838118984676+2020-07-04T01:00:00.png\n",
      "36.00106880408666+-68.71976958655179+2020-07-04T01:00:00.png\n",
      "32.092674716865126+-69.6172371280803+2020-07-04T01:00:00.png\n",
      "32.44578229509086+-57.36942202184341+2020-07-04T01:00:00.png\n",
      "37.335129403368775+-51.686710621741184+2020-07-04T01:00:00.png\n",
      "32.492476665876495+-58.80978967258993+2020-07-04T01:00:00.png\n",
      "39.73666922092026+-62.45369947283799+2020-07-04T01:00:00.png\n",
      "36.501005782693824+-50.33525334566983+2020-07-04T01:00:00.png\n",
      "45.05591454633664+-53.51064411145185+2020-07-04T01:00:00.png\n",
      "30.685932830530025+-54.94557887031932+2020-07-04T01:00:00.png\n",
      "37.62251093393325+-55.49216132890149+2020-07-04T01:00:00.png\n",
      "34.52003791725672+-65.0084806771153+2020-07-04T01:00:00.png\n",
      "46.14476154087081+-54.42946425777443+2020-07-04T01:00:00.png\n",
      "49.54293870995337+-68.98660623397403+2020-07-04T01:00:00.png\n",
      "40.55656726782588+-58.86198826316402+2020-07-04T01:00:00.png\n",
      "33.1510761472298+-65.01479047334567+2020-07-04T01:00:00.png\n",
      "35.9293139028162+-61.19954893093689+2020-07-04T01:00:00.png\n",
      "42.735806241251666+-55.77357169783102+2020-07-04T01:00:00.png\n",
      "48.86278691047754+-54.69620144596061+2020-07-04T01:00:00.png\n",
      "45.869148644077384+-54.60149073953379+2020-07-04T01:00:00.png\n",
      "39.680683103549875+-56.137242792154645+2020-07-04T01:00:00.png\n",
      "38.50728546601364+-66.57955948744083+2020-07-04T01:00:00.png\n",
      "37.713765480077626+-51.36719672057285+2020-07-04T01:00:00.png\n",
      "48.24502361230663+-59.817893733625816+2020-07-04T01:00:00.png\n",
      "49.0961512662404+-58.79684571751085+2020-07-04T01:00:00.png\n",
      "32.462918732737606+-58.1850618996035+2020-07-04T01:00:00.png\n",
      "43.56857747263099+-57.15223458550877+2020-07-04T01:00:00.png\n",
      "45.08604190893213+-59.842740587407704+2020-07-04T01:00:00.png\n",
      "43.40116194627649+-60.265285725008056+2020-07-04T01:00:00.png\n",
      "46.19480369793229+-60.141392476299195+2020-07-04T01:00:00.png\n",
      "47.040295082952824+-63.688771062362136+2020-07-04T01:00:00.png\n",
      "31.310660266913505+-68.57863158605188+2020-07-04T01:00:00.png\n",
      "30.231690329347312+-62.65145595657003+2020-07-04T01:00:00.png\n",
      "41.81263203472379+-63.79465659942952+2020-07-04T01:00:00.png\n",
      "46.05465733663269+-65.18278801603992+2020-07-04T01:00:00.png\n",
      "45.68385937617755+-55.67585647990303+2020-07-04T01:00:00.png\n",
      "48.373752527371764+-54.40368941655318+2020-07-04T01:00:00.png\n",
      "loaded: 500\n",
      "42.37849187278014+-57.24044022563633+2020-07-04T01:00:00.png\n",
      "39.10021431122272+-53.07058851987087+2020-07-04T01:00:00.png\n",
      "31.845603341048513+-64.05556353094502+2020-07-04T01:00:00.png\n",
      "34.638076401957974+-67.21353090621919+2020-07-04T01:00:00.png\n",
      "44.632567252236974+-64.98564540427336+2020-07-04T01:00:00.png\n",
      "38.20734171630231+-57.33948714773265+2020-07-04T01:00:00.png\n",
      "36.35229798730184+-64.90449685156685+2020-07-04T01:00:00.png\n",
      "47.81291756533085+-59.016771343278315+2020-07-04T01:00:00.png\n",
      "46.093468208127916+-69.3677586243614+2020-07-04T01:00:00.png\n",
      "37.16599551732611+-65.88015569816625+2020-07-04T01:00:00.png\n",
      "37.34990407263707+-50.43382681221039+2020-07-04T01:00:00.png\n",
      "40.79975741346823+-53.14243563967767+2020-07-04T01:00:00.png\n",
      "46.01989313065984+-68.86061231045416+2020-07-04T01:00:00.png\n",
      "33.601030914713895+-57.440449741697996+2020-07-04T01:00:00.png\n",
      "42.95761059694014+-61.93409416111592+2020-07-04T01:00:00.png\n",
      "30.841681112513093+-51.9889699667773+2020-07-04T01:00:00.png\n",
      "32.32969098372854+-61.77270347533009+2020-07-04T01:00:00.png\n",
      "35.81329915568098+-59.562581118429506+2020-07-04T01:00:00.png\n",
      "34.01677851339582+-57.15877268671804+2020-07-04T01:00:00.png\n",
      "37.50432683195455+-50.02980286062774+2020-07-04T01:00:00.png\n",
      "33.72555010829278+-63.693632190052234+2020-07-04T01:00:00.png\n",
      "33.275537395852105+-56.701170428453885+2020-07-04T01:00:00.png\n",
      "33.572586146182104+-59.99982197104151+2020-07-04T01:00:00.png\n",
      "31.95208944467859+-67.52917017344919+2020-07-04T01:00:00.png\n",
      "33.455017486525094+-67.54686754648363+2020-07-04T01:00:00.png\n",
      "39.30836943171502+-55.129682822858264+2020-07-04T01:00:00.png\n",
      "39.42152419621141+-52.09259517360729+2020-07-04T01:00:00.png\n",
      "45.56869470953188+-60.38129233225214+2020-07-04T01:00:00.png\n",
      "42.54247713542306+-65.77909816538684+2020-07-04T01:00:00.png\n",
      "37.70726556644304+-58.07865132680926+2020-07-04T01:00:00.png\n",
      "32.69743826685495+-65.94599069768452+2020-07-04T01:00:00.png\n",
      "42.64956669715929+-54.82784919405019+2020-07-04T01:00:00.png\n",
      "48.153500052915376+-61.0930170474082+2020-07-04T01:00:00.png\n",
      "32.81139499581254+-50.41978959840448+2020-07-04T01:00:00.png\n",
      "40.681870314974134+-50.91150750331694+2020-07-04T01:00:00.png\n",
      "30.629803147008253+-53.823943491985204+2020-07-04T01:00:00.png\n",
      "40.780542641782105+-62.567795252263025+2020-07-04T01:00:00.png\n",
      "48.9699231912604+-57.6919200965004+2020-07-04T01:00:00.png\n",
      "40.34460487401388+-62.64558799082202+2020-07-04T01:00:00.png\n",
      "39.07216879780128+-55.91818745017328+2020-07-04T01:00:00.png\n"
     ]
    },
    {
     "name": "stdout",
     "output_type": "stream",
     "text": [
      "30.187682517654725+-60.699070325649686+2020-07-04T01:00:00.png\n",
      "41.22005670586369+-66.96842059878168+2020-07-04T01:00:00.png\n",
      "33.046646985090945+-63.31861752764124+2020-07-04T01:00:00.png\n",
      "42.24893038499661+-52.01197160983134+2020-07-04T01:00:00.png\n",
      "33.34572094990907+-51.532140480929016+2020-07-04T01:00:00.png\n",
      "49.10876615973744+-66.62589783048107+2020-07-04T01:00:00.png\n",
      "42.11160046633156+-62.32923533354918+2020-07-04T01:00:00.png\n",
      "49.93283278906206+-66.35873827382443+2020-07-04T01:00:00.png\n",
      "32.045414413285044+-67.05559659866324+2020-07-04T01:00:00.png\n",
      "48.83155182039824+-54.88771486827549+2020-07-04T01:00:00.png\n",
      "49.98571358036317+-66.69429656031896+2020-07-04T01:00:00.png\n",
      "43.91459260503023+-64.8107297821658+2020-07-04T01:00:00.png\n",
      "38.009649571039205+-65.70445841805544+2020-07-04T01:00:00.png\n",
      "40.72384055918436+-65.04875719521503+2020-07-04T01:00:00.png\n",
      "37.4769034674342+-64.45778519645994+2020-07-04T01:00:00.png\n",
      "48.40492171687344+-61.791647700601025+2020-07-04T01:00:00.png\n",
      "34.38913417242672+-57.38883829746575+2020-07-04T01:00:00.png\n",
      "40.672487007978155+-65.31311818792412+2020-07-04T01:00:00.png\n",
      "37.90074694853202+-58.07220612957064+2020-07-04T01:00:00.png\n",
      "39.12584676745674+-60.91343085416884+2020-07-04T01:00:00.png\n",
      "32.92989285318229+-67.59468068134667+2020-07-04T01:00:00.png\n",
      "45.68251525676972+-63.38774879911208+2020-07-04T01:00:00.png\n",
      "37.070121200314375+-58.303299087852565+2020-07-04T01:00:00.png\n",
      "41.171672351277294+-52.285324164598414+2020-07-04T01:00:00.png\n",
      "49.257258582655886+-58.201988266176045+2020-07-04T01:00:00.png\n",
      "44.52688616496503+-59.336271389988156+2020-07-04T01:00:00.png\n",
      "48.362282956271315+-62.56469093523204+2020-07-04T01:00:00.png\n",
      "45.32543164761128+-53.934757577531286+2020-07-04T01:00:00.png\n",
      "36.62468337967563+-55.85899010193439+2020-07-04T01:00:00.png\n",
      "34.39218589156875+-65.07927046840352+2020-07-04T01:00:00.png\n",
      "41.00193295328276+-67.27100773925616+2020-07-04T01:00:00.png\n",
      "32.61147581103069+-69.26609192611292+2020-07-04T01:00:00.png\n",
      "33.140444897061336+-55.86887232782689+2020-07-04T01:00:00.png\n",
      "46.51070667928+-59.20199003488372+2020-07-04T01:00:00.png\n",
      "47.075384225723425+-51.319342093124135+2020-07-04T01:00:00.png\n",
      "42.887719688696215+-63.56828017696398+2020-07-04T01:00:00.png\n",
      "33.8724817340508+-61.56696562717443+2020-07-04T01:00:00.png\n",
      "31.766977311149493+-55.63027416996172+2020-07-04T01:00:00.png\n",
      "46.785366824250985+-55.104851212470194+2020-07-04T01:00:00.png\n",
      "31.225995962974974+-55.815349908775126+2020-07-04T01:00:00.png\n",
      "44.624613833249704+-56.82951021619612+2020-07-04T01:00:00.png\n",
      "32.79990127439447+-60.030587842118145+2020-07-04T01:00:00.png\n",
      "30.8964732007558+-59.079795383848555+2020-07-04T01:00:00.png\n",
      "44.72855815266404+-67.85754063925927+2020-07-04T01:00:00.png\n",
      "37.82617275951739+-54.511399937683194+2020-07-04T01:00:00.png\n",
      "40.880946601788224+-68.45530345089561+2020-07-04T01:00:00.png\n",
      "32.52053674873034+-58.78311413734925+2020-07-04T01:00:00.png\n",
      "42.09091327826518+-68.27435503554952+2020-07-04T01:00:00.png\n",
      "43.47535360359306+-60.03093167204116+2020-07-04T01:00:00.png\n",
      "43.595234523187415+-65.25986960595685+2020-07-04T01:00:00.png\n",
      "40.613932926882+-64.15276762811936+2020-07-04T01:00:00.png\n",
      "45.59851965030843+-56.103676910915226+2020-07-04T01:00:00.png\n",
      "42.09805401623959+-66.68597330222732+2020-07-04T01:00:00.png\n",
      "30.4001694838131+-58.07262956853275+2020-07-04T01:00:00.png\n",
      "46.938997425871186+-59.46148999356656+2020-07-04T01:00:00.png\n",
      "44.719538644669115+-68.5954365012429+2020-07-04T01:00:00.png\n",
      "47.54117271196911+-63.74428629415374+2020-07-04T01:00:00.png\n",
      "49.5968259950226+-59.56629320916155+2020-07-04T01:00:00.png\n",
      "32.93060316643132+-61.12696224775627+2020-07-04T01:00:00.png\n",
      "31.614310981849318+-54.76223492030517+2020-07-04T01:00:00.png\n",
      "loaded: 600\n",
      "34.575163968273465+-67.88352083022826+2020-07-04T01:00:00.png\n",
      "49.244608520409756+-52.30937520216801+2020-07-04T01:00:00.png\n",
      "36.7784255878503+-54.19108418049389+2020-07-04T01:00:00.png\n",
      "43.11867752183258+-52.31781756486867+2020-07-04T01:00:00.png\n",
      "45.129224534567555+-54.913104485522155+2020-07-04T01:00:00.png\n",
      "48.31078548608857+-59.469620826503764+2020-07-04T01:00:00.png\n",
      "38.96118429096225+-69.35151593500332+2020-07-04T01:00:00.png\n",
      "31.814958553871367+-61.663565425910875+2020-07-04T01:00:00.png\n",
      "32.510063701402146+-63.25885755544812+2020-07-04T01:00:00.png\n",
      "32.45701067045954+-63.19730413548715+2020-07-04T01:00:00.png\n",
      "34.933672246099846+-50.747632161695904+2020-07-04T01:00:00.png\n",
      "43.3316038261692+-59.2086902882706+2020-07-04T01:00:00.png\n",
      "34.89985303177533+-63.60161515136095+2020-07-04T01:00:00.png\n",
      "31.05801966133698+-61.406573265260604+2020-07-04T01:00:00.png\n",
      "44.72473919266098+-55.24444432537199+2020-07-04T01:00:00.png\n",
      "34.81553239867366+-68.72727807477146+2020-07-04T01:00:00.png\n",
      "36.63298869121001+-69.89182886939635+2020-07-04T01:00:00.png\n",
      "45.81337900801451+-65.05736787305497+2020-07-04T01:00:00.png\n",
      "49.66084305108242+-69.383728989274+2020-07-04T01:00:00.png\n",
      "45.00562312452238+-52.53773507600349+2020-07-04T01:00:00.png\n",
      "45.32878618316283+-65.63581711748348+2020-07-04T01:00:00.png\n",
      "49.774668952621724+-60.74948633298947+2020-07-04T01:00:00.png\n",
      "48.07443085801654+-57.91596922450063+2020-07-04T01:00:00.png\n",
      "45.37828919727244+-69.85416480662101+2020-07-04T01:00:00.png\n",
      "35.62080435117511+-51.191684292440726+2020-07-04T01:00:00.png\n",
      "41.71536841416858+-57.36526075927779+2020-07-04T01:00:00.png\n",
      "32.966851602070896+-69.10637014670414+2020-07-04T01:00:00.png\n",
      "39.245925682710535+-53.185896335227454+2020-07-04T01:00:00.png\n",
      "30.97873731383851+-57.71271854283789+2020-07-04T01:00:00.png\n",
      "49.58727062159346+-51.28381472589182+2020-07-04T01:00:00.png\n",
      "30.24849132568901+-51.7872980681151+2020-07-04T01:00:00.png\n",
      "43.144020297448655+-61.8219459913503+2020-07-04T01:00:00.png\n",
      "45.600950386993546+-55.82325293602234+2020-07-04T01:00:00.png\n",
      "32.65405839094476+-61.30625427894511+2020-07-04T01:00:00.png\n",
      "39.93348013075455+-68.20526829591451+2020-07-04T01:00:00.png\n",
      "49.0497784217127+-69.03047386667963+2020-07-04T01:00:00.png\n",
      "31.56823966805395+-58.36828230883928+2020-07-04T01:00:00.png\n",
      "48.06394345291554+-59.58895221034875+2020-07-04T01:00:00.png\n",
      "44.852859380339666+-62.855093327509806+2020-07-04T01:00:00.png\n",
      "46.777630020335735+-50.272316157640255+2020-07-04T01:00:00.png\n",
      "49.58053331045265+-65.59330989614212+2020-07-04T01:00:00.png\n",
      "40.34357443832543+-67.55157684472273+2020-07-04T01:00:00.png\n",
      "45.84544898740484+-62.13008218027728+2020-07-04T01:00:00.png\n",
      "46.78463130379533+-59.69372594875685+2020-07-04T01:00:00.png\n",
      "30.068209491888172+-54.25625314442777+2020-07-04T01:00:00.png\n",
      "33.0482899250309+-66.88190834058723+2020-07-04T01:00:00.png\n",
      "46.059736052433436+-57.4420604267482+2020-07-04T01:00:00.png\n",
      "41.38176355058338+-67.99735011730856+2020-07-04T01:00:00.png\n",
      "35.58648091608465+-56.381932603567776+2020-07-04T01:00:00.png\n",
      "37.93785953601943+-69.75560547248706+2020-07-04T01:00:00.png\n",
      "36.49575264133332+-68.17582343526949+2020-07-04T01:00:00.png\n",
      "42.483593101059476+-65.82095583480155+2020-07-04T01:00:00.png\n",
      "42.49398978338498+-50.816138032349414+2020-07-04T01:00:00.png\n",
      "47.74997232472247+-62.635327460749494+2020-07-04T01:00:00.png\n",
      "49.14954133980223+-50.37655139176834+2020-07-04T01:00:00.png\n",
      "31.450460459242052+-52.5744988614894+2020-07-04T01:00:00.png\n",
      "39.08357281228445+-69.66017730994334+2020-07-04T01:00:00.png\n",
      "49.387127148369196+-55.44532223147225+2020-07-04T01:00:00.png\n",
      "45.773455272116344+-59.309405377360996+2020-07-04T01:00:00.png\n",
      "building labels\n",
      "saving arrays so can reload more easily next time through\n",
      "shape of image array: (660, 224, 224)\n",
      "shape of label list: (660, 2)\n"
     ]
    }
   ],
   "source": [
    "#clear out models for memory management purposes\n",
    "tf.keras.backend.clear_session()\n",
    "\n",
    "#change this to true to force it to reload from S3 bucket\n",
    "force_load=True\n",
    "\n",
    "#check if np arrays have already been saved and load if so\n",
    "if ((os.path.exists('x.npy'))&(not force_load)):\n",
    "    print('loading from files')\n",
    "    X=np.load('x.npy')\n",
    "    y=np.load('y.npy')\n",
    "\n",
    "#otherwise go to S3 bucket\n",
    "else:\n",
    "    print('loading from S3')\n",
    "    bucket_name='w251-final-project'\n",
    "    file_list=get_matching_s3_keys(bucket_name)\n",
    "    \n",
    "    #shuffle file list so that if take less than all are distributed.  also makes array randomly shuffled\n",
    "    random.shuffle(file_list)\n",
    "    \n",
    "    s3 = boto3.client('s3')\n",
    "\n",
    "    #max_files=100000\n",
    "    max_files=5000\n",
    "    file_list_length=len(file_list)\n",
    "    files_to_load=np.minimum(max_files,file_list_length)\n",
    "\n",
    "    #get images\n",
    "    print('about to call build_input on',files_to_load,' files')\n",
    "    X = build_input(s3,bucket_name,file_list,files_to_load)\n",
    "\n",
    "\n",
    "    #get labels\n",
    "    print ('building labels')\n",
    "    y = build_labels(file_list,files_to_load)\n",
    "    \n",
    "    print ('saving arrays so can reload more easily next time through')\n",
    "    np.save('x.npy',X)\n",
    "    np.save('y.npy',y)\n",
    "\n",
    "print ('shape of image array:', X.shape)\n",
    "print ('shape of label list:', y.shape)"
   ]
  },
  {
   "cell_type": "markdown",
   "metadata": {
    "colab_type": "text",
    "id": "mdemcB48loMr"
   },
   "source": [
    "\n",
    "### Standardize the values"
   ]
  },
  {
   "cell_type": "code",
   "execution_count": 53,
   "metadata": {},
   "outputs": [],
   "source": [
    "def scale_down(numbers):\n",
    "    top=max(numbers)\n",
    "    bottom=min(numbers)\n",
    "    middle=(top+bottom)/2\n",
    "    number_range=top-bottom\n",
    "    revised=[x-middle for x in numbers]\n",
    "    revised=[x/number_range*2 for x in revised]\n",
    "    return revised,top,bottom\n",
    "\n",
    "def scale_up(numbers,top,bottom):\n",
    "    middle=(top+bottom)/2\n",
    "    number_range=top-bottom\n",
    "    revised=[x*number_range/2 for x in numbers]\n",
    "    revised=[x+middle for x in revised]\n",
    "    return revised"
   ]
  },
  {
   "cell_type": "code",
   "execution_count": 54,
   "metadata": {
    "colab": {},
    "colab_type": "code",
    "id": "CQDi4jNTivAZ"
   },
   "outputs": [
    {
     "name": "stdout",
     "output_type": "stream",
     "text": [
      "-0.015741246443521192 0.6059905369451217\n",
      "-0.03653036415342433 0.562817668974893\n"
     ]
    }
   ],
   "source": [
    "#just scaling down without normalizing\n",
    "y[:,0],toplat,bottomlat=scale_down(y[:,0])\n",
    "y[:,1],toplong,bottomlong=scale_down(y[:,1])\n",
    "\n",
    "#y[:,0] = scale(y[:,0])\n",
    "#y[:,1]=scale(y[:,1])\n",
    "\n",
    "print (y[:,0].mean(),y[:,0].std())\n",
    "print (y[:,1].mean(),y[:,1].std())"
   ]
  },
  {
   "cell_type": "markdown",
   "metadata": {
    "colab_type": "text",
    "id": "fwhGSeYdstxS"
   },
   "source": [
    "### Split into test and training sets"
   ]
  },
  {
   "cell_type": "code",
   "execution_count": 55,
   "metadata": {
    "colab": {
     "base_uri": "https://localhost:8080/",
     "height": 85
    },
    "colab_type": "code",
    "id": "owd0SyrvlUHo",
    "outputId": "e1e23c19-08da-4f84-df78-b6a8b0da9b51"
   },
   "outputs": [
    {
     "name": "stdout",
     "output_type": "stream",
     "text": [
      "(528, 224, 224)\n",
      "(528, 2)\n",
      "(132, 224, 224)\n",
      "(132, 2)\n"
     ]
    }
   ],
   "source": [
    "X_train, X_val, y_train, y_val = train_test_split(X, y, test_size=0.2)\n",
    "print(X_train.shape)\n",
    "print(y_train.shape)\n",
    "print(X_val.shape)\n",
    "print(y_val.shape)"
   ]
  },
  {
   "cell_type": "markdown",
   "metadata": {},
   "source": [
    "### Add channel for CNN"
   ]
  },
  {
   "cell_type": "code",
   "execution_count": 56,
   "metadata": {},
   "outputs": [
    {
     "name": "stdout",
     "output_type": "stream",
     "text": [
      "(528, 224, 224) (528, 2)\n",
      "(528, 224, 224, 1) (132, 224, 224, 1)\n"
     ]
    }
   ],
   "source": [
    "#need to add channel for B&W for CNN\n",
    "#https://machinelearningmastery.com/a-gentle-introduction-to-channels-first-and-channels-last-image-formats-for-deep-learning/\n",
    "\n",
    "print(X_train.shape,y_train.shape)\n",
    "X_train=np.expand_dims(X_train,axis=3)\n",
    "X_val=np.expand_dims(X_val,axis=3)\n",
    "print(X_train.shape,X_val.shape)"
   ]
  },
  {
   "cell_type": "markdown",
   "metadata": {
    "colab_type": "text",
    "id": "otvKdtM3tKDG"
   },
   "source": [
    "## The model\n",
    "\n",
    "[]"
   ]
  },
  {
   "cell_type": "code",
   "execution_count": 88,
   "metadata": {},
   "outputs": [],
   "source": [
    "tf.keras.backend.clear_session()"
   ]
  },
  {
   "cell_type": "code",
   "execution_count": 89,
   "metadata": {},
   "outputs": [],
   "source": [
    "input_shape=(224,224,1)\n",
    "inputs = tf.keras.layers.Input(shape=input_shape)\n",
    "x=tf.keras.layers.Conv2D(128,(3,3),activation='relu',kernel_initializer='he_uniform')(inputs)\n",
    "x=tf.keras.layers.MaxPooling2D((2,2))(x)\n",
    "x=tf.keras.layers.Conv2D(64,(3,3),activation='relu',kernel_initializer='he_uniform')(x)\n",
    "#x=tf.keras.layers.Conv2D(64,(3,3),activation='relu',kernel_initializer='he_uniform')(x)\n",
    "x=tf.keras.layers.MaxPooling2D((2,2))(x)\n",
    "x=tf.keras.layers.Conv2D(32,(3,3),activation='relu',kernel_initializer='he_uniform')(x)\n",
    "x=tf.keras.layers.MaxPooling2D((2,2))(x)\n",
    "x=tf.keras.layers.Flatten()(x)\n",
    "x=tf.keras.layers.Dense(256,activation='relu')(x)\n",
    "x = tf.keras.layers.Dropout(0.5)(x)\n",
    "x=tf.keras.layers.Dense(64,activation='relu')(x)\n",
    "regression_layer_lat = tf.keras.layers.Dense(1, name='regression_lat')(x)  \n",
    "regression_layer_long = tf.keras.layers.Dense(1, name='regression_long')(x)\n",
    "\n",
    "model_output = [regression_layer_lat, regression_layer_long]\n",
    "losses = ['mean_squared_error', 'mean_squared_error']\n",
    "metrics = ['mean_squared_error', 'mean_squared_error']\n",
    "\n",
    "model = tf.keras.models.Model(inputs, model_output)\n",
    "model.compile(loss=losses,  optimizer='adam', metrics=metrics)"
   ]
  },
  {
   "cell_type": "code",
   "execution_count": 90,
   "metadata": {
    "colab": {
     "base_uri": "https://localhost:8080/",
     "height": 935
    },
    "colab_type": "code",
    "id": "LXYPmjkNckYd",
    "outputId": "777bc221-0672-4c00-f067-2626771c37e1"
   },
   "outputs": [
    {
     "name": "stdout",
     "output_type": "stream",
     "text": [
      "Model: \"model\"\n",
      "__________________________________________________________________________________________________\n",
      "Layer (type)                    Output Shape         Param #     Connected to                     \n",
      "==================================================================================================\n",
      "input_1 (InputLayer)            [(None, 224, 224, 1) 0                                            \n",
      "__________________________________________________________________________________________________\n",
      "conv2d (Conv2D)                 (None, 222, 222, 128 1280        input_1[0][0]                    \n",
      "__________________________________________________________________________________________________\n",
      "max_pooling2d (MaxPooling2D)    (None, 111, 111, 128 0           conv2d[0][0]                     \n",
      "__________________________________________________________________________________________________\n",
      "conv2d_1 (Conv2D)               (None, 109, 109, 64) 73792       max_pooling2d[0][0]              \n",
      "__________________________________________________________________________________________________\n",
      "max_pooling2d_1 (MaxPooling2D)  (None, 54, 54, 64)   0           conv2d_1[0][0]                   \n",
      "__________________________________________________________________________________________________\n",
      "conv2d_2 (Conv2D)               (None, 52, 52, 32)   18464       max_pooling2d_1[0][0]            \n",
      "__________________________________________________________________________________________________\n",
      "max_pooling2d_2 (MaxPooling2D)  (None, 26, 26, 32)   0           conv2d_2[0][0]                   \n",
      "__________________________________________________________________________________________________\n",
      "flatten (Flatten)               (None, 21632)        0           max_pooling2d_2[0][0]            \n",
      "__________________________________________________________________________________________________\n",
      "dense (Dense)                   (None, 256)          5538048     flatten[0][0]                    \n",
      "__________________________________________________________________________________________________\n",
      "dropout (Dropout)               (None, 256)          0           dense[0][0]                      \n",
      "__________________________________________________________________________________________________\n",
      "dense_1 (Dense)                 (None, 64)           16448       dropout[0][0]                    \n",
      "__________________________________________________________________________________________________\n",
      "regression_lat (Dense)          (None, 1)            65          dense_1[0][0]                    \n",
      "__________________________________________________________________________________________________\n",
      "regression_long (Dense)         (None, 1)            65          dense_1[0][0]                    \n",
      "==================================================================================================\n",
      "Total params: 5,648,162\n",
      "Trainable params: 5,648,162\n",
      "Non-trainable params: 0\n",
      "__________________________________________________________________________________________________\n",
      "None\n"
     ]
    }
   ],
   "source": [
    "print(model.summary())\n",
    "#plot_model(model)"
   ]
  },
  {
   "cell_type": "markdown",
   "metadata": {
    "colab_type": "text",
    "id": "45ubHGx-0fZT"
   },
   "source": [
    "### Fit the model"
   ]
  },
  {
   "cell_type": "code",
   "execution_count": 91,
   "metadata": {
    "colab": {
     "base_uri": "https://localhost:8080/",
     "height": 1000
    },
    "colab_type": "code",
    "id": "GSdEVoRTn7KO",
    "outputId": "f18a5e41-575f-4cc5-a200-7ed098765963"
   },
   "outputs": [
    {
     "name": "stdout",
     "output_type": "stream",
     "text": [
      "Train on 528 samples, validate on 132 samples\n",
      "Epoch 1/20\n",
      "528/528 [==============================] - 7s 12ms/sample - loss: 2.9599 - regression_lat_loss: 0.7175 - regression_long_loss: 1.8523 - regression_lat_mean_squared_error: 0.7673 - regression_long_mean_squared_error: 2.1925 - val_loss: 0.6541 - val_regression_lat_loss: 0.3768 - val_regression_long_loss: 0.2785 - val_regression_lat_mean_squared_error: 0.3571 - val_regression_long_mean_squared_error: 0.2970\n",
      "Epoch 2/20\n",
      "528/528 [==============================] - 6s 12ms/sample - loss: 0.6477 - regression_lat_loss: 0.3378 - regression_long_loss: 0.3002 - regression_lat_mean_squared_error: 0.3511 - regression_long_mean_squared_error: 0.2967 - val_loss: 0.5929 - val_regression_lat_loss: 0.3624 - val_regression_long_loss: 0.2721 - val_regression_lat_mean_squared_error: 0.3326 - val_regression_long_mean_squared_error: 0.2603\n",
      "Epoch 3/20\n",
      "528/528 [==============================] - 6s 12ms/sample - loss: 0.5138 - regression_lat_loss: 0.2789 - regression_long_loss: 0.2496 - regression_lat_mean_squared_error: 0.2713 - regression_long_mean_squared_error: 0.2425 - val_loss: 0.4860 - val_regression_lat_loss: 0.3584 - val_regression_long_loss: 0.3996 - val_regression_lat_mean_squared_error: 0.2527 - val_regression_long_mean_squared_error: 0.2332\n",
      "Epoch 4/20\n",
      "528/528 [==============================] - 6s 12ms/sample - loss: 0.4321 - regression_lat_loss: 0.2299 - regression_long_loss: 0.1902 - regression_lat_mean_squared_error: 0.2350 - regression_long_mean_squared_error: 0.1971 - val_loss: 0.4479 - val_regression_lat_loss: 0.3053 - val_regression_long_loss: 0.2796 - val_regression_lat_mean_squared_error: 0.2385 - val_regression_long_mean_squared_error: 0.2094\n",
      "Epoch 5/20\n",
      "528/528 [==============================] - 6s 11ms/sample - loss: 0.4143 - regression_lat_loss: 0.2255 - regression_long_loss: 0.1815 - regression_lat_mean_squared_error: 0.2236 - regression_long_mean_squared_error: 0.1907 - val_loss: 0.4095 - val_regression_lat_loss: 0.3039 - val_regression_long_loss: 0.3014 - val_regression_lat_mean_squared_error: 0.2193 - val_regression_long_mean_squared_error: 0.1902\n",
      "Epoch 6/20\n",
      "528/528 [==============================] - 6s 12ms/sample - loss: 0.3866 - regression_lat_loss: 0.1933 - regression_long_loss: 0.1878 - regression_lat_mean_squared_error: 0.2090 - regression_long_mean_squared_error: 0.1776 - val_loss: 0.4109 - val_regression_lat_loss: 0.3084 - val_regression_long_loss: 0.3027 - val_regression_lat_mean_squared_error: 0.2214 - val_regression_long_mean_squared_error: 0.1895\n",
      "Epoch 7/20\n",
      "528/528 [==============================] - 6s 12ms/sample - loss: 0.3749 - regression_lat_loss: 0.1874 - regression_long_loss: 0.1570 - regression_lat_mean_squared_error: 0.2033 - regression_long_mean_squared_error: 0.1715 - val_loss: 0.4023 - val_regression_lat_loss: 0.3171 - val_regression_long_loss: 0.3089 - val_regression_lat_mean_squared_error: 0.2178 - val_regression_long_mean_squared_error: 0.1845\n",
      "Epoch 8/20\n",
      "528/528 [==============================] - 6s 12ms/sample - loss: 0.3678 - regression_lat_loss: 0.1958 - regression_long_loss: 0.1586 - regression_lat_mean_squared_error: 0.2017 - regression_long_mean_squared_error: 0.1661 - val_loss: 0.3986 - val_regression_lat_loss: 0.2942 - val_regression_long_loss: 0.2880 - val_regression_lat_mean_squared_error: 0.2140 - val_regression_long_mean_squared_error: 0.1846\n",
      "Epoch 9/20\n",
      "528/528 [==============================] - 6s 12ms/sample - loss: 0.3291 - regression_lat_loss: 0.1708 - regression_long_loss: 0.1432 - regression_lat_mean_squared_error: 0.1748 - regression_long_mean_squared_error: 0.1544 - val_loss: 0.3856 - val_regression_lat_loss: 0.2927 - val_regression_long_loss: 0.3079 - val_regression_lat_mean_squared_error: 0.2018 - val_regression_long_mean_squared_error: 0.1838\n",
      "Epoch 10/20\n",
      "528/528 [==============================] - 6s 12ms/sample - loss: 0.3380 - regression_lat_loss: 0.1890 - regression_long_loss: 0.1649 - regression_lat_mean_squared_error: 0.1826 - regression_long_mean_squared_error: 0.1555 - val_loss: 0.3863 - val_regression_lat_loss: 0.2792 - val_regression_long_loss: 0.3127 - val_regression_lat_mean_squared_error: 0.2004 - val_regression_long_mean_squared_error: 0.1859\n",
      "Epoch 11/20\n",
      "528/528 [==============================] - 6s 12ms/sample - loss: 0.3191 - regression_lat_loss: 0.1706 - regression_long_loss: 0.1363 - regression_lat_mean_squared_error: 0.1742 - regression_long_mean_squared_error: 0.1449 - val_loss: 0.3842 - val_regression_lat_loss: 0.2825 - val_regression_long_loss: 0.3276 - val_regression_lat_mean_squared_error: 0.1954 - val_regression_long_mean_squared_error: 0.1888\n",
      "Epoch 12/20\n",
      "528/528 [==============================] - 6s 12ms/sample - loss: 0.3087 - regression_lat_loss: 0.1705 - regression_long_loss: 0.1422 - regression_lat_mean_squared_error: 0.1653 - regression_long_mean_squared_error: 0.1433 - val_loss: 0.3957 - val_regression_lat_loss: 0.2839 - val_regression_long_loss: 0.3168 - val_regression_lat_mean_squared_error: 0.2052 - val_regression_long_mean_squared_error: 0.1905\n",
      "Epoch 13/20\n",
      "528/528 [==============================] - 6s 12ms/sample - loss: 0.3018 - regression_lat_loss: 0.1732 - regression_long_loss: 0.1300 - regression_lat_mean_squared_error: 0.1617 - regression_long_mean_squared_error: 0.1401 - val_loss: 0.3976 - val_regression_lat_loss: 0.3098 - val_regression_long_loss: 0.3592 - val_regression_lat_mean_squared_error: 0.2001 - val_regression_long_mean_squared_error: 0.1975\n",
      "Epoch 14/20\n",
      "528/528 [==============================] - 6s 12ms/sample - loss: 0.2733 - regression_lat_loss: 0.1444 - regression_long_loss: 0.1294 - regression_lat_mean_squared_error: 0.1446 - regression_long_mean_squared_error: 0.1287 - val_loss: 0.3971 - val_regression_lat_loss: 0.2979 - val_regression_long_loss: 0.3558 - val_regression_lat_mean_squared_error: 0.2003 - val_regression_long_mean_squared_error: 0.1968\n",
      "Epoch 15/20\n",
      "528/528 [==============================] - 6s 12ms/sample - loss: 0.2543 - regression_lat_loss: 0.1401 - regression_long_loss: 0.1139 - regression_lat_mean_squared_error: 0.1352 - regression_long_mean_squared_error: 0.1191 - val_loss: 0.4098 - val_regression_lat_loss: 0.3048 - val_regression_long_loss: 0.3850 - val_regression_lat_mean_squared_error: 0.2041 - val_regression_long_mean_squared_error: 0.2056\n",
      "Epoch 16/20\n",
      "528/528 [==============================] - 6s 12ms/sample - loss: 0.2364 - regression_lat_loss: 0.1157 - regression_long_loss: 0.1056 - regression_lat_mean_squared_error: 0.1234 - regression_long_mean_squared_error: 0.1131 - val_loss: 0.4235 - val_regression_lat_loss: 0.3165 - val_regression_long_loss: 0.3767 - val_regression_lat_mean_squared_error: 0.2097 - val_regression_long_mean_squared_error: 0.2138\n",
      "Epoch 17/20\n",
      "528/528 [==============================] - 6s 12ms/sample - loss: 0.2271 - regression_lat_loss: 0.1103 - regression_long_loss: 0.1088 - regression_lat_mean_squared_error: 0.1216 - regression_long_mean_squared_error: 0.1055 - val_loss: 0.4242 - val_regression_lat_loss: 0.3373 - val_regression_long_loss: 0.4077 - val_regression_lat_mean_squared_error: 0.2130 - val_regression_long_mean_squared_error: 0.2112\n",
      "Epoch 18/20\n",
      "528/528 [==============================] - 6s 12ms/sample - loss: 0.2165 - regression_lat_loss: 0.1084 - regression_long_loss: 0.0992 - regression_lat_mean_squared_error: 0.1156 - regression_long_mean_squared_error: 0.1009 - val_loss: 0.4231 - val_regression_lat_loss: 0.3141 - val_regression_long_loss: 0.4185 - val_regression_lat_mean_squared_error: 0.2089 - val_regression_long_mean_squared_error: 0.2142\n",
      "Epoch 19/20\n",
      "528/528 [==============================] - 6s 12ms/sample - loss: 0.1973 - regression_lat_loss: 0.1002 - regression_long_loss: 0.0952 - regression_lat_mean_squared_error: 0.1049 - regression_long_mean_squared_error: 0.0924 - val_loss: 0.4409 - val_regression_lat_loss: 0.3145 - val_regression_long_loss: 0.4343 - val_regression_lat_mean_squared_error: 0.2122 - val_regression_long_mean_squared_error: 0.2287\n",
      "Epoch 20/20\n"
     ]
    },
    {
     "name": "stdout",
     "output_type": "stream",
     "text": [
      "528/528 [==============================] - 6s 12ms/sample - loss: 0.1729 - regression_lat_loss: 0.0849 - regression_long_loss: 0.0768 - regression_lat_mean_squared_error: 0.0933 - regression_long_mean_squared_error: 0.0796 - val_loss: 0.4394 - val_regression_lat_loss: 0.2935 - val_regression_long_loss: 0.4182 - val_regression_lat_mean_squared_error: 0.2163 - val_regression_long_mean_squared_error: 0.2231\n"
     ]
    }
   ],
   "source": [
    "history = model.fit(x=X_train, \n",
    "                    y=[y_train[:,0],y_train[:,1]],\n",
    "                    validation_data=[X_val,[y_val[:,0],y_val[:,1]]],\n",
    "                    verbose=1, epochs=20, batch_size=128)"
   ]
  },
  {
   "cell_type": "markdown",
   "metadata": {
    "colab_type": "text",
    "id": "xgjEi6oP0kNE"
   },
   "source": [
    "### Evaluate model performance"
   ]
  },
  {
   "cell_type": "code",
   "execution_count": 92,
   "metadata": {
    "colab": {
     "base_uri": "https://localhost:8080/",
     "height": 295
    },
    "colab_type": "code",
    "id": "CZNI6nGtzbYy",
    "outputId": "0af1dc94-1682-46eb-e7d9-e5a52d01eacb"
   },
   "outputs": [
    {
     "data": {
      "image/png": "[encoded data removed]",
      "text/plain": [
       "<Figure size 432x288 with 1 Axes>"
      ]
     },
     "metadata": {
      "needs_background": "light"
     },
     "output_type": "display_data"
    }
   ],
   "source": [
    "history_df = pd.DataFrame(history.history)\n",
    "ax = history_df.plot(y=['loss', 'val_loss'],\n",
    "                xticks=np.linspace(0, len(history_df), 6))\n",
    "ax.set_ylabel('Loss')\n",
    "ax.set_xlabel('Epoch')\n",
    "ax.set_title('Evolution of Mean Squared Error')\n",
    "plt.show()\n"
   ]
  },
  {
   "cell_type": "code",
   "execution_count": 93,
   "metadata": {
    "colab": {},
    "colab_type": "code",
    "id": "29eHeDjEoNqj"
   },
   "outputs": [],
   "source": [
    "y_hat = model.predict(X_val)\n",
    "#y_hat_lat=model.predict(X_val)[0]\n",
    "#y_hat_long=model.predict(X_val)[1]\n",
    "y_hat_lat=y_hat[0]\n",
    "y_hat_long=y_hat[1]\n",
    "\n",
    "y_hat_lat=scale_up(y_hat_lat,toplat,bottomlat)\n",
    "y_hat_long=scale_up(y_hat_long,toplong,bottomlong)\n",
    "\n",
    "y_val_lat=y_val[:,0]\n",
    "y_val_long=y_val[:,1]\n",
    "\n",
    "y_val_lat=scale_up(y_val_lat,toplat,bottomlat)\n",
    "y_val_long=scale_up(y_val_long,toplong,bottomlong)"
   ]
  },
  {
   "cell_type": "code",
   "execution_count": 94,
   "metadata": {
    "colab": {
     "base_uri": "https://localhost:8080/",
     "height": 295
    },
    "colab_type": "code",
    "id": "6CoZVBtCrT7K",
    "outputId": "f9b36a5f-5eef-468e-edd9-e6811ba7ea39"
   },
   "outputs": [
    {
     "data": {
      "image/png": "[encoded data removed]",
      "text/plain": [
       "<Figure size 432x288 with 1 Axes>"
      ]
     },
     "metadata": {
      "needs_background": "light"
     },
     "output_type": "display_data"
    }
   ],
   "source": [
    "plt.scatter(y_val_lat, y_hat_lat)\n",
    "plt.title('Predicted lat vs. True lat')\n",
    "plt.xlabel('True lat')\n",
    "plt.ylabel('Predicted lat')\n",
    "plt.show()"
   ]
  },
  {
   "cell_type": "code",
   "execution_count": 95,
   "metadata": {
    "colab": {
     "base_uri": "https://localhost:8080/",
     "height": 295
    },
    "colab_type": "code",
    "id": "n5tCuM2HvK72",
    "outputId": "f1b6570d-1fa3-464c-c820-8e01ca393676"
   },
   "outputs": [
    {
     "data": {
      "image/png": "[encoded data removed]",
      "text/plain": [
       "<Figure size 432x288 with 1 Axes>"
      ]
     },
     "metadata": {
      "needs_background": "light"
     },
     "output_type": "display_data"
    }
   ],
   "source": [
    "plt.scatter(y_val_long, y_hat_long)\n",
    "plt.title('Predicted long vs. True long')\n",
    "plt.xlabel('True long')\n",
    "plt.ylabel('Predicted long')\n",
    "plt.show()"
   ]
  },
  {
   "cell_type": "code",
   "execution_count": null,
   "metadata": {},
   "outputs": [],
   "source": []
  },
  {
   "cell_type": "markdown",
   "metadata": {
    "colab": {},
    "colab_type": "code",
    "id": "l1Lg2v4LqKCp"
   },
   "source": [
    "### Things to consider doing:\n",
    "- don't normalize the lat and long - just scale it DONE\n",
    "- convert back to lat and long DONE\n",
    "- set validation batch size to deal with OOM errors (possibly) DONE\n",
    "- loss weights?\n",
    "- what is resolution of png files coming in?  are they squares?\n",
    "- since set wide rectangle, need to make sure entirely at night time\n"
   ]
  },
  {
   "cell_type": "markdown",
   "metadata": {},
   "source": [
    "### Old models"
   ]
  },
  {
   "cell_type": "code",
   "execution_count": null,
   "metadata": {},
   "outputs": [],
   "source": [
    "# Define Input layer(s)\n",
    "inputShape = (224, 224)\n",
    "inputs = tf.keras.layers.Input(shape=inputShape)\n",
    "\n",
    "flatten = tf.keras.layers.Flatten()(inputs)\n",
    "\n",
    "x=tf.keras.layers.Dense(512,activation='relu')(flatten)\n",
    "x=tf.keras.layers.Dense(512,activation='relu')(x)\n",
    "x=tf.keras.layers.Dense(512,activation='relu')(x)\n",
    "x=tf.keras.layers.Dense(512,activation='relu')(x)\n",
    "regression_layer_lat = tf.keras.layers.Dense(1, name='regression_lat')(x)  \n",
    "regression_layer_long = tf.keras.layers.Dense(1, name='regression_long')(x)\n",
    "\n",
    "\n",
    "# Build and compile model\n",
    "model_input = inputs\n",
    "model_output = [regression_layer_lat, regression_layer_long]\n",
    "losses = ['mean_squared_error', 'mean_squared_error']\n",
    "metrics = ['mean_squared_error', 'mean_squared_error']\n",
    "\n",
    "model = tf.keras.models.Model(model_input, model_output)\n",
    "model.compile(loss=losses,  optimizer='adam', metrics=metrics)"
   ]
  },
  {
   "cell_type": "code",
   "execution_count": null,
   "metadata": {},
   "outputs": [],
   "source": [
    "model = tf.keras.Sequential([\n",
    "    tf.keras.layers.Flatten(input_shape=(224,224)),\n",
    "    tf.keras.layers.Dense(512, activation='relu'),\n",
    "    #tf.keras.layers.Dense(512, activation='relu'),\n",
    "    #tf.keras.layers.Dense(512, activation='relu'),\n",
    "    #tf.keras.layers.Dense(512, activation='relu'),\n",
    "    #tf.keras.layers.Dense(512, activation='relu'),\n",
    "    tf.keras.layers.Dense(256, activation='relu'),\n",
    "    #tf.keras.layers.Dense(256, activation='relu'),\n",
    "    #tf.keras.layers.Dense(256, activation='relu'),\n",
    "    #tf.keras.layers.Dense(256, activation='relu'),\n",
    "    #tf.keras.layers.Dense(256, activation='relu'),\n",
    "    #tf.keras.layers.Dense(256, activation='relu'),\n",
    "    tf.keras.layers.Dense(128, activation='relu'),\n",
    "    #tf.keras.layers.Dense(128, activation='relu'),\n",
    "    #tf.keras.layers.Dense(128, activation='relu'),\n",
    "    #tf.keras.layers.Dense(128, activation='relu'),\n",
    "    #tf.keras.layers.Dense(128, activation='relu'),\n",
    "    #tf.keras.layers.Dense(128, activation='relu'),\n",
    "    #tf.keras.layers.Dense(128, activation='relu'),\n",
    "    tf.keras.layers.Dense(64, activation='relu'),\n",
    "    tf.keras.layers.Dense(32, activation='relu'),\n",
    "    tf.keras.layers.Dropout(0.3),\n",
    "    tf.keras.layers.Dense(2)\n",
    "])"
   ]
  }
 ],
 "metadata": {
  "accelerator": "GPU",
  "colab": {
   "collapsed_sections": [],
   "name": "iso-chron.ipynb",
   "provenance": [],
   "toc_visible": true
  },
  "kernelspec": {
   "display_name": "Environment (conda_tensorflow2_p36)",
   "language": "python",
   "name": "conda_tensorflow2_p36"
  },
  "language_info": {
   "codemirror_mode": {
    "name": "ipython",
    "version": 3
   },
   "file_extension": ".py",
   "mimetype": "text/x-python",
   "name": "python",
   "nbconvert_exporter": "python",
   "pygments_lexer": "ipython3",
   "version": "3.6.10"
  }
 },
 "nbformat": 4,
 "nbformat_minor": 1
}
