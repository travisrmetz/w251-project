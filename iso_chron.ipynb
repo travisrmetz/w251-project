{
  "nbformat": 4,
  "nbformat_minor": 0,
  "metadata": {
    "colab": {
      "name": "iso-chron.ipynb",
      "provenance": [],
      "collapsed_sections": [],
      "toc_visible": true
    },
    "kernelspec": {
      "name": "python3",
      "display_name": "Python 3"
    },
    "accelerator": "GPU"
  },
  "cells": [
    {
      "cell_type": "markdown",
      "metadata": {
        "id": "ImJOhE4BrfK7",
        "colab_type": "text"
      },
      "source": [
        "# Testing the constant-time case\n"
      ]
    },
    {
      "cell_type": "markdown",
      "metadata": {
        "id": "OlNrYnNsrp4C",
        "colab_type": "text"
      },
      "source": [
        "## Import useful packages"
      ]
    },
    {
      "cell_type": "code",
      "metadata": {
        "id": "5Y0LD8oscOFG",
        "colab_type": "code",
        "colab": {}
      },
      "source": [
        "import numpy as np\n",
        "import tensorflow as tf\n",
        "import pandas as pd\n",
        "import matplotlib.pyplot as plt\n",
        "import cv2\n",
        "import os\n",
        "from sklearn.model_selection import train_test_split\n",
        "from sklearn.preprocessing import scale"
      ],
      "execution_count": null,
      "outputs": []
    },
    {
      "cell_type": "markdown",
      "metadata": {
        "id": "-k4t6YLVrt49",
        "colab_type": "text"
      },
      "source": [
        "## Define functions to load the data\n"
      ]
    },
    {
      "cell_type": "code",
      "metadata": {
        "id": "FVUFnke4eIZI",
        "colab_type": "code",
        "colab": {}
      },
      "source": [
        "def load_image(image_path, dim=(224,224)):\n",
        "  \"\"\"\n",
        "  Loads a single image as a Numpy array and resizes it as\n",
        "  desired.  The default dimensions are consistent with\n",
        "  those expected by the VGG models.  \n",
        "\n",
        "  Args:\n",
        "    image_path: str pointing to the file\n",
        "\n",
        "    dim: Two-element tuple giving the desired height\n",
        "         and width of the processed image\n",
        "\n",
        "  Returns:\n",
        "    image:  A single-channel Numpy array\n",
        "    \"\"\"\n",
        "  image = cv2.imread(image_path, 0)\n",
        "  image = cv2.resize(image, dim)#, interpolation = cv2.INTER_AREA)\n",
        "  return image"
      ],
      "execution_count": null,
      "outputs": []
    },
    {
      "cell_type": "code",
      "metadata": {
        "id": "CFJgfKxOi9Uj",
        "colab_type": "code",
        "colab": {}
      },
      "source": [
        "def build_input(image_dir):\n",
        "  \"\"\"\n",
        "  Loads all of the images into a single numpy array.\n",
        "  Assumes that there are 101 equally-spaced images\n",
        "  spanning lattitudes from 35N to 45N.  \n",
        "\n",
        "  Args:\n",
        "    image_dir: str giving name of the image directory\n",
        "\n",
        "  Returns:\n",
        "    X:  A 3-dimensional numpy array containing the\n",
        "        images. Image height and width are set by\n",
        "        `load_images` and default to 224 x 224.\n",
        "    \n",
        "    y:  A 1-dimensional numpy array of target lattitudes.\n",
        "    \"\"\"\n",
        "  X = []\n",
        "  files = os.listdir(image_dir)\n",
        "  for file in files:\n",
        "    if file[-4:] == '.png':\n",
        "      image_path = os.path.join(image_dir, file)\n",
        "      image = load_image(image_path)\n",
        "      X.append(image)\n",
        "  return (np.array(X) / 255)"
      ],
      "execution_count": null,
      "outputs": []
    },
    {
      "cell_type": "code",
      "metadata": {
        "id": "g4CpV8Yue8G1",
        "colab_type": "code",
        "colab": {}
      },
      "source": [
        "def build_labels(image_dir):\n",
        "  files = os.listdir(image_dir)\n",
        "  y = []\n",
        "  for file in files:\n",
        "    if file[-4:] == '.png':\n",
        "      file_split = file.split('+')\n",
        "      lat = float(file_split[0])\n",
        "      long = float(file_split[1])\n",
        "      y.append((lat, long))\n",
        "  return np.array(y)"
      ],
      "execution_count": null,
      "outputs": []
    },
    {
      "cell_type": "code",
      "metadata": {
        "id": "6aWURghls3NV",
        "colab_type": "code",
        "colab": {
          "base_uri": "https://localhost:8080/",
          "height": 286
        },
        "outputId": "cc7d27e7-ddee-424c-88ed-0bbf23b57972"
      },
      "source": [
        "sample_image = load_image('/content/36.03313909320676+-74.17584963505313+2020-05-25T00:59:02.png')\n",
        "plt.imshow(sample_image)\n",
        "print(sample_image.shape)"
      ],
      "execution_count": null,
      "outputs": [
        {
          "output_type": "stream",
          "text": [
            "(224, 224)\n"
          ],
          "name": "stdout"
        },
        {
          "output_type": "display_data",
          "data": {
            "image/png": "[encoded data removed]",
            "text/plain": [
              "<Figure size 432x288 with 1 Axes>"
            ]
          },
          "metadata": {
            "tags": [],
            "needs_background": "light"
          }
        }
      ]
    },
    {
      "cell_type": "markdown",
      "metadata": {
        "id": "10QkIM_Rso10",
        "colab_type": "text"
      },
      "source": [
        "## Prepare the data"
      ]
    },
    {
      "cell_type": "markdown",
      "metadata": {
        "id": "HkcP-D-Esrce",
        "colab_type": "text"
      },
      "source": [
        "### Load the images"
      ]
    },
    {
      "cell_type": "code",
      "metadata": {
        "colab_type": "code",
        "id": "kUp7yqdFkFi0",
        "colab": {}
      },
      "source": [
        "X = build_input(\"/content\")"
      ],
      "execution_count": null,
      "outputs": []
    },
    {
      "cell_type": "code",
      "metadata": {
        "id": "fcmTDUFkek3S",
        "colab_type": "code",
        "colab": {
          "base_uri": "https://localhost:8080/",
          "height": 34
        },
        "outputId": "77c9ce28-4b75-4980-d25a-50c081c242c2"
      },
      "source": [
        "X.shape"
      ],
      "execution_count": null,
      "outputs": [
        {
          "output_type": "execute_result",
          "data": {
            "text/plain": [
              "(999, 224, 224)"
            ]
          },
          "metadata": {
            "tags": []
          },
          "execution_count": 7
        }
      ]
    },
    {
      "cell_type": "code",
      "metadata": {
        "id": "uX0RGR6Ie5cC",
        "colab_type": "code",
        "colab": {}
      },
      "source": [
        "y = build_labels(\"/content\")"
      ],
      "execution_count": null,
      "outputs": []
    },
    {
      "cell_type": "code",
      "metadata": {
        "id": "A17IE5z-f-Nz",
        "colab_type": "code",
        "colab": {
          "base_uri": "https://localhost:8080/",
          "height": 34
        },
        "outputId": "812474f9-7e65-45f4-f7f0-69d07ce107ba"
      },
      "source": [
        "y.shape"
      ],
      "execution_count": null,
      "outputs": [
        {
          "output_type": "execute_result",
          "data": {
            "text/plain": [
              "(999, 2)"
            ]
          },
          "metadata": {
            "tags": []
          },
          "execution_count": 9
        }
      ]
    },
    {
      "cell_type": "markdown",
      "metadata": {
        "id": "mdemcB48loMr",
        "colab_type": "text"
      },
      "source": [
        "\n",
        "Standardize the values"
      ]
    },
    {
      "cell_type": "code",
      "metadata": {
        "id": "CQDi4jNTivAZ",
        "colab_type": "code",
        "colab": {}
      },
      "source": [
        "y[:,0] = scale(y[:,0])\n",
        "y[:,1] = scale(y[:,1])"
      ],
      "execution_count": null,
      "outputs": []
    },
    {
      "cell_type": "code",
      "metadata": {
        "id": "_0ER131MvzSw",
        "colab_type": "code",
        "colab": {
          "base_uri": "https://localhost:8080/",
          "height": 51
        },
        "outputId": "a623f2fe-986a-4b08-c8e6-2fbf7484e67a"
      },
      "source": [
        "print(y[:,0].mean(), y[:,0].std())\n",
        "print(y[:,1].mean(), y[:,1].std())"
      ],
      "execution_count": null,
      "outputs": [
        {
          "output_type": "stream",
          "text": [
            "2.3933696755082455e-15 0.9999999999999999\n",
            "-6.526644423442061e-15 1.0\n"
          ],
          "name": "stdout"
        }
      ]
    },
    {
      "cell_type": "markdown",
      "metadata": {
        "id": "fwhGSeYdstxS",
        "colab_type": "text"
      },
      "source": [
        "### Split into test and training sets"
      ]
    },
    {
      "cell_type": "code",
      "metadata": {
        "id": "owd0SyrvlUHo",
        "colab_type": "code",
        "colab": {
          "base_uri": "https://localhost:8080/",
          "height": 85
        },
        "outputId": "e1e23c19-08da-4f84-df78-b6a8b0da9b51"
      },
      "source": [
        "X_train, X_val, y_train, y_val = train_test_split(X, y, test_size=0.2)\n",
        "print(X_train.shape)\n",
        "print(y_train.shape)\n",
        "print(X_val.shape)\n",
        "print(y_val.shape)"
      ],
      "execution_count": null,
      "outputs": [
        {
          "output_type": "stream",
          "text": [
            "(799, 224, 224)\n",
            "(799, 2)\n",
            "(200, 224, 224)\n",
            "(200, 2)\n"
          ],
          "name": "stdout"
        }
      ]
    },
    {
      "cell_type": "markdown",
      "metadata": {
        "id": "otvKdtM3tKDG",
        "colab_type": "text"
      },
      "source": [
        "## The model\n",
        "\n",
        "We can probably prune this back a bit.  This is simply a DNN with single layer output suitable for regression."
      ]
    },
    {
      "cell_type": "code",
      "metadata": {
        "id": "IcKrIzxIce1i",
        "colab_type": "code",
        "colab": {}
      },
      "source": [
        "model = tf.keras.Sequential([\n",
        "    tf.keras.layers.Flatten(input_shape=(224,224)),\n",
        "    tf.keras.layers.Dense(512, activation='relu'),\n",
        "    tf.keras.layers.Dense(512, activation='relu'),\n",
        "    tf.keras.layers.Dense(512, activation='relu'),\n",
        "    tf.keras.layers.Dense(512, activation='relu'),\n",
        "    tf.keras.layers.Dense(512, activation='relu'),\n",
        "    tf.keras.layers.Dense(256, activation='relu'),\n",
        "    tf.keras.layers.Dense(256, activation='relu'),\n",
        "    tf.keras.layers.Dense(256, activation='relu'),\n",
        "    tf.keras.layers.Dense(256, activation='relu'),\n",
        "    tf.keras.layers.Dense(256, activation='relu'),\n",
        "    tf.keras.layers.Dense(256, activation='relu'),\n",
        "    tf.keras.layers.Dense(128, activation='relu'),\n",
        "    tf.keras.layers.Dense(128, activation='relu'),\n",
        "    tf.keras.layers.Dense(128, activation='relu'),\n",
        "    tf.keras.layers.Dense(128, activation='relu'),\n",
        "    tf.keras.layers.Dense(128, activation='relu'),\n",
        "    tf.keras.layers.Dense(128, activation='relu'),\n",
        "    tf.keras.layers.Dense(128, activation='relu'),\n",
        "    tf.keras.layers.Dense(64, activation='relu'),\n",
        "    tf.keras.layers.Dense(32, activation='relu'),\n",
        "    tf.keras.layers.Dropout(0.3),\n",
        "    tf.keras.layers.Dense(2)\n",
        "])"
      ],
      "execution_count": null,
      "outputs": []
    },
    {
      "cell_type": "code",
      "metadata": {
        "id": "LXYPmjkNckYd",
        "colab_type": "code",
        "colab": {
          "base_uri": "https://localhost:8080/",
          "height": 935
        },
        "outputId": "777bc221-0672-4c00-f067-2626771c37e1"
      },
      "source": [
        "model.summary()"
      ],
      "execution_count": null,
      "outputs": [
        {
          "output_type": "stream",
          "text": [
            "Model: \"sequential_2\"\n",
            "_________________________________________________________________\n",
            "Layer (type)                 Output Shape              Param #   \n",
            "=================================================================\n",
            "flatten_2 (Flatten)          (None, 50176)             0         \n",
            "_________________________________________________________________\n",
            "dense_42 (Dense)             (None, 512)               25690624  \n",
            "_________________________________________________________________\n",
            "dense_43 (Dense)             (None, 512)               262656    \n",
            "_________________________________________________________________\n",
            "dense_44 (Dense)             (None, 512)               262656    \n",
            "_________________________________________________________________\n",
            "dense_45 (Dense)             (None, 512)               262656    \n",
            "_________________________________________________________________\n",
            "dense_46 (Dense)             (None, 512)               262656    \n",
            "_________________________________________________________________\n",
            "dense_47 (Dense)             (None, 256)               131328    \n",
            "_________________________________________________________________\n",
            "dense_48 (Dense)             (None, 256)               65792     \n",
            "_________________________________________________________________\n",
            "dense_49 (Dense)             (None, 256)               65792     \n",
            "_________________________________________________________________\n",
            "dense_50 (Dense)             (None, 256)               65792     \n",
            "_________________________________________________________________\n",
            "dense_51 (Dense)             (None, 256)               65792     \n",
            "_________________________________________________________________\n",
            "dense_52 (Dense)             (None, 256)               65792     \n",
            "_________________________________________________________________\n",
            "dense_53 (Dense)             (None, 128)               32896     \n",
            "_________________________________________________________________\n",
            "dense_54 (Dense)             (None, 128)               16512     \n",
            "_________________________________________________________________\n",
            "dense_55 (Dense)             (None, 128)               16512     \n",
            "_________________________________________________________________\n",
            "dense_56 (Dense)             (None, 128)               16512     \n",
            "_________________________________________________________________\n",
            "dense_57 (Dense)             (None, 128)               16512     \n",
            "_________________________________________________________________\n",
            "dense_58 (Dense)             (None, 128)               16512     \n",
            "_________________________________________________________________\n",
            "dense_59 (Dense)             (None, 128)               16512     \n",
            "_________________________________________________________________\n",
            "dense_60 (Dense)             (None, 64)                8256      \n",
            "_________________________________________________________________\n",
            "dense_61 (Dense)             (None, 32)                2080      \n",
            "_________________________________________________________________\n",
            "dropout_1 (Dropout)          (None, 32)                0         \n",
            "_________________________________________________________________\n",
            "dense_62 (Dense)             (None, 2)                 66        \n",
            "=================================================================\n",
            "Total params: 27,343,906\n",
            "Trainable params: 27,343,906\n",
            "Non-trainable params: 0\n",
            "_________________________________________________________________\n"
          ],
          "name": "stdout"
        }
      ]
    },
    {
      "cell_type": "code",
      "metadata": {
        "id": "dGQdy3yWehlc",
        "colab_type": "code",
        "colab": {}
      },
      "source": [
        "optimizer = tf.keras.optimizers.RMSprop(learning_rate=0.00001)"
      ],
      "execution_count": null,
      "outputs": []
    },
    {
      "cell_type": "code",
      "metadata": {
        "id": "czM8uT5_j55P",
        "colab_type": "code",
        "colab": {}
      },
      "source": [
        "model.compile(optimizer=optimizer,\n",
        "              loss='mean_squared_error',\n",
        "              metrics=['mean_squared_error'])"
      ],
      "execution_count": null,
      "outputs": []
    },
    {
      "cell_type": "markdown",
      "metadata": {
        "id": "iMpvQhpv0VIk",
        "colab_type": "text"
      },
      "source": [
        "`callbacks` can be used to tell the model when to stop training.  In this case, I'm having it stop if the mean squared error hasn't improved for 20 epochs."
      ]
    },
    {
      "cell_type": "code",
      "metadata": {
        "id": "WxTTZOYSxOD2",
        "colab_type": "code",
        "colab": {}
      },
      "source": [
        "callback = tf.keras.callbacks.EarlyStopping(monitor='mean_squared_error', patience=30)"
      ],
      "execution_count": null,
      "outputs": []
    },
    {
      "cell_type": "markdown",
      "metadata": {
        "id": "45ubHGx-0fZT",
        "colab_type": "text"
      },
      "source": [
        "Fit the model."
      ]
    },
    {
      "cell_type": "code",
      "metadata": {
        "id": "GSdEVoRTn7KO",
        "colab_type": "code",
        "colab": {
          "base_uri": "https://localhost:8080/",
          "height": 1000
        },
        "outputId": "f18a5e41-575f-4cc5-a200-7ed098765963"
      },
      "source": [
        "history = model.fit(x=X_train, y=y_train, validation_data=(X_val, y_val),\n",
        "                    verbose=2, epochs=1000, callbacks=[callback])"
      ],
      "execution_count": null,
      "outputs": [
        {
          "output_type": "stream",
          "text": [
            "Epoch 1/1000\n",
            "25/25 - 0s - loss: 0.9936 - mean_squared_error: 0.9936 - val_loss: 1.0255 - val_mean_squared_error: 1.0255\n",
            "Epoch 2/1000\n",
            "25/25 - 0s - loss: 0.9935 - mean_squared_error: 0.9935 - val_loss: 1.0255 - val_mean_squared_error: 1.0255\n",
            "Epoch 3/1000\n",
            "25/25 - 0s - loss: 0.9935 - mean_squared_error: 0.9935 - val_loss: 1.0255 - val_mean_squared_error: 1.0255\n",
            "Epoch 4/1000\n",
            "25/25 - 0s - loss: 0.9934 - mean_squared_error: 0.9934 - val_loss: 1.0254 - val_mean_squared_error: 1.0254\n",
            "Epoch 5/1000\n",
            "25/25 - 0s - loss: 0.9931 - mean_squared_error: 0.9931 - val_loss: 1.0248 - val_mean_squared_error: 1.0248\n",
            "Epoch 6/1000\n",
            "25/25 - 0s - loss: 0.9924 - mean_squared_error: 0.9924 - val_loss: 1.0248 - val_mean_squared_error: 1.0248\n",
            "Epoch 7/1000\n",
            "25/25 - 0s - loss: 0.9921 - mean_squared_error: 0.9921 - val_loss: 1.0245 - val_mean_squared_error: 1.0245\n",
            "Epoch 8/1000\n",
            "25/25 - 0s - loss: 0.9911 - mean_squared_error: 0.9911 - val_loss: 1.0223 - val_mean_squared_error: 1.0223\n",
            "Epoch 9/1000\n",
            "25/25 - 0s - loss: 0.9901 - mean_squared_error: 0.9901 - val_loss: 1.0207 - val_mean_squared_error: 1.0207\n",
            "Epoch 10/1000\n",
            "25/25 - 0s - loss: 0.9892 - mean_squared_error: 0.9892 - val_loss: 1.0197 - val_mean_squared_error: 1.0197\n",
            "Epoch 11/1000\n",
            "25/25 - 0s - loss: 0.9877 - mean_squared_error: 0.9877 - val_loss: 1.0196 - val_mean_squared_error: 1.0196\n",
            "Epoch 12/1000\n",
            "25/25 - 0s - loss: 0.9864 - mean_squared_error: 0.9864 - val_loss: 1.0163 - val_mean_squared_error: 1.0163\n",
            "Epoch 13/1000\n",
            "25/25 - 0s - loss: 0.9842 - mean_squared_error: 0.9842 - val_loss: 1.0156 - val_mean_squared_error: 1.0156\n",
            "Epoch 14/1000\n",
            "25/25 - 0s - loss: 0.9816 - mean_squared_error: 0.9816 - val_loss: 1.0120 - val_mean_squared_error: 1.0120\n",
            "Epoch 15/1000\n",
            "25/25 - 0s - loss: 0.9793 - mean_squared_error: 0.9793 - val_loss: 1.0096 - val_mean_squared_error: 1.0096\n",
            "Epoch 16/1000\n",
            "25/25 - 0s - loss: 0.9777 - mean_squared_error: 0.9777 - val_loss: 1.0063 - val_mean_squared_error: 1.0063\n",
            "Epoch 17/1000\n",
            "25/25 - 0s - loss: 0.9735 - mean_squared_error: 0.9735 - val_loss: 1.0051 - val_mean_squared_error: 1.0051\n",
            "Epoch 18/1000\n",
            "25/25 - 0s - loss: 0.9694 - mean_squared_error: 0.9694 - val_loss: 1.0073 - val_mean_squared_error: 1.0073\n",
            "Epoch 19/1000\n",
            "25/25 - 0s - loss: 0.9645 - mean_squared_error: 0.9645 - val_loss: 1.0030 - val_mean_squared_error: 1.0030\n",
            "Epoch 20/1000\n",
            "25/25 - 0s - loss: 0.9606 - mean_squared_error: 0.9606 - val_loss: 0.9897 - val_mean_squared_error: 0.9897\n",
            "Epoch 21/1000\n",
            "25/25 - 0s - loss: 0.9539 - mean_squared_error: 0.9539 - val_loss: 0.9852 - val_mean_squared_error: 0.9852\n",
            "Epoch 22/1000\n",
            "25/25 - 0s - loss: 0.9462 - mean_squared_error: 0.9462 - val_loss: 0.9771 - val_mean_squared_error: 0.9771\n",
            "Epoch 23/1000\n",
            "25/25 - 0s - loss: 0.9391 - mean_squared_error: 0.9391 - val_loss: 0.9728 - val_mean_squared_error: 0.9728\n",
            "Epoch 24/1000\n",
            "25/25 - 0s - loss: 0.9308 - mean_squared_error: 0.9308 - val_loss: 0.9585 - val_mean_squared_error: 0.9585\n",
            "Epoch 25/1000\n",
            "25/25 - 0s - loss: 0.9197 - mean_squared_error: 0.9197 - val_loss: 0.9513 - val_mean_squared_error: 0.9513\n",
            "Epoch 26/1000\n",
            "25/25 - 0s - loss: 0.9087 - mean_squared_error: 0.9087 - val_loss: 0.9448 - val_mean_squared_error: 0.9448\n",
            "Epoch 27/1000\n",
            "25/25 - 0s - loss: 0.9017 - mean_squared_error: 0.9017 - val_loss: 0.9267 - val_mean_squared_error: 0.9267\n",
            "Epoch 28/1000\n",
            "25/25 - 0s - loss: 0.8857 - mean_squared_error: 0.8857 - val_loss: 0.9123 - val_mean_squared_error: 0.9123\n",
            "Epoch 29/1000\n",
            "25/25 - 0s - loss: 0.8784 - mean_squared_error: 0.8784 - val_loss: 0.9006 - val_mean_squared_error: 0.9006\n",
            "Epoch 30/1000\n",
            "25/25 - 0s - loss: 0.8590 - mean_squared_error: 0.8590 - val_loss: 0.9014 - val_mean_squared_error: 0.9014\n",
            "Epoch 31/1000\n",
            "25/25 - 0s - loss: 0.8538 - mean_squared_error: 0.8538 - val_loss: 0.8882 - val_mean_squared_error: 0.8882\n",
            "Epoch 32/1000\n",
            "25/25 - 0s - loss: 0.8388 - mean_squared_error: 0.8388 - val_loss: 0.8840 - val_mean_squared_error: 0.8840\n",
            "Epoch 33/1000\n",
            "25/25 - 0s - loss: 0.8284 - mean_squared_error: 0.8284 - val_loss: 0.8441 - val_mean_squared_error: 0.8441\n",
            "Epoch 34/1000\n",
            "25/25 - 0s - loss: 0.8099 - mean_squared_error: 0.8099 - val_loss: 0.8273 - val_mean_squared_error: 0.8273\n",
            "Epoch 35/1000\n",
            "25/25 - 0s - loss: 0.7987 - mean_squared_error: 0.7987 - val_loss: 0.8150 - val_mean_squared_error: 0.8150\n",
            "Epoch 36/1000\n",
            "25/25 - 0s - loss: 0.7845 - mean_squared_error: 0.7845 - val_loss: 0.8017 - val_mean_squared_error: 0.8017\n",
            "Epoch 37/1000\n",
            "25/25 - 0s - loss: 0.7753 - mean_squared_error: 0.7753 - val_loss: 0.7918 - val_mean_squared_error: 0.7918\n",
            "Epoch 38/1000\n",
            "25/25 - 0s - loss: 0.7618 - mean_squared_error: 0.7618 - val_loss: 0.8176 - val_mean_squared_error: 0.8176\n",
            "Epoch 39/1000\n",
            "25/25 - 0s - loss: 0.7450 - mean_squared_error: 0.7450 - val_loss: 0.7896 - val_mean_squared_error: 0.7896\n",
            "Epoch 40/1000\n",
            "25/25 - 0s - loss: 0.7304 - mean_squared_error: 0.7304 - val_loss: 0.7428 - val_mean_squared_error: 0.7428\n",
            "Epoch 41/1000\n",
            "25/25 - 0s - loss: 0.7283 - mean_squared_error: 0.7283 - val_loss: 0.7349 - val_mean_squared_error: 0.7349\n",
            "Epoch 42/1000\n",
            "25/25 - 0s - loss: 0.7183 - mean_squared_error: 0.7183 - val_loss: 0.7133 - val_mean_squared_error: 0.7133\n",
            "Epoch 43/1000\n",
            "25/25 - 0s - loss: 0.7047 - mean_squared_error: 0.7047 - val_loss: 0.7410 - val_mean_squared_error: 0.7410\n",
            "Epoch 44/1000\n",
            "25/25 - 0s - loss: 0.6910 - mean_squared_error: 0.6910 - val_loss: 0.6814 - val_mean_squared_error: 0.6814\n",
            "Epoch 45/1000\n",
            "25/25 - 0s - loss: 0.6874 - mean_squared_error: 0.6874 - val_loss: 0.7076 - val_mean_squared_error: 0.7076\n",
            "Epoch 46/1000\n",
            "25/25 - 0s - loss: 0.6699 - mean_squared_error: 0.6699 - val_loss: 0.6517 - val_mean_squared_error: 0.6517\n",
            "Epoch 47/1000\n",
            "25/25 - 0s - loss: 0.6671 - mean_squared_error: 0.6671 - val_loss: 0.6403 - val_mean_squared_error: 0.6403\n",
            "Epoch 48/1000\n",
            "25/25 - 0s - loss: 0.6415 - mean_squared_error: 0.6415 - val_loss: 0.6619 - val_mean_squared_error: 0.6619\n",
            "Epoch 49/1000\n",
            "25/25 - 0s - loss: 0.6536 - mean_squared_error: 0.6536 - val_loss: 0.6201 - val_mean_squared_error: 0.6201\n",
            "Epoch 50/1000\n",
            "25/25 - 0s - loss: 0.6257 - mean_squared_error: 0.6257 - val_loss: 0.6120 - val_mean_squared_error: 0.6120\n",
            "Epoch 51/1000\n",
            "25/25 - 0s - loss: 0.6343 - mean_squared_error: 0.6343 - val_loss: 0.7328 - val_mean_squared_error: 0.7328\n",
            "Epoch 52/1000\n",
            "25/25 - 0s - loss: 0.6328 - mean_squared_error: 0.6328 - val_loss: 0.5793 - val_mean_squared_error: 0.5793\n",
            "Epoch 53/1000\n",
            "25/25 - 0s - loss: 0.6146 - mean_squared_error: 0.6146 - val_loss: 0.5946 - val_mean_squared_error: 0.5946\n",
            "Epoch 54/1000\n",
            "25/25 - 0s - loss: 0.6025 - mean_squared_error: 0.6025 - val_loss: 0.6020 - val_mean_squared_error: 0.6020\n",
            "Epoch 55/1000\n",
            "25/25 - 0s - loss: 0.5943 - mean_squared_error: 0.5943 - val_loss: 0.6747 - val_mean_squared_error: 0.6747\n",
            "Epoch 56/1000\n",
            "25/25 - 0s - loss: 0.6004 - mean_squared_error: 0.6004 - val_loss: 0.5705 - val_mean_squared_error: 0.5705\n",
            "Epoch 57/1000\n",
            "25/25 - 0s - loss: 0.5752 - mean_squared_error: 0.5752 - val_loss: 0.5354 - val_mean_squared_error: 0.5354\n",
            "Epoch 58/1000\n",
            "25/25 - 0s - loss: 0.5849 - mean_squared_error: 0.5849 - val_loss: 0.5610 - val_mean_squared_error: 0.5610\n",
            "Epoch 59/1000\n",
            "25/25 - 0s - loss: 0.5808 - mean_squared_error: 0.5808 - val_loss: 0.5767 - val_mean_squared_error: 0.5767\n",
            "Epoch 60/1000\n",
            "25/25 - 0s - loss: 0.5870 - mean_squared_error: 0.5870 - val_loss: 0.5429 - val_mean_squared_error: 0.5429\n",
            "Epoch 61/1000\n",
            "25/25 - 0s - loss: 0.5916 - mean_squared_error: 0.5916 - val_loss: 0.5178 - val_mean_squared_error: 0.5178\n",
            "Epoch 62/1000\n",
            "25/25 - 0s - loss: 0.5581 - mean_squared_error: 0.5581 - val_loss: 0.5169 - val_mean_squared_error: 0.5169\n",
            "Epoch 63/1000\n",
            "25/25 - 0s - loss: 0.5722 - mean_squared_error: 0.5722 - val_loss: 0.5188 - val_mean_squared_error: 0.5188\n",
            "Epoch 64/1000\n",
            "25/25 - 0s - loss: 0.5560 - mean_squared_error: 0.5560 - val_loss: 0.5558 - val_mean_squared_error: 0.5558\n",
            "Epoch 65/1000\n",
            "25/25 - 0s - loss: 0.5709 - mean_squared_error: 0.5709 - val_loss: 0.5421 - val_mean_squared_error: 0.5421\n",
            "Epoch 66/1000\n",
            "25/25 - 0s - loss: 0.5487 - mean_squared_error: 0.5487 - val_loss: 0.5298 - val_mean_squared_error: 0.5298\n",
            "Epoch 67/1000\n",
            "25/25 - 0s - loss: 0.5752 - mean_squared_error: 0.5752 - val_loss: 0.5319 - val_mean_squared_error: 0.5319\n",
            "Epoch 68/1000\n",
            "25/25 - 0s - loss: 0.5686 - mean_squared_error: 0.5686 - val_loss: 0.5277 - val_mean_squared_error: 0.5277\n",
            "Epoch 69/1000\n",
            "25/25 - 0s - loss: 0.5564 - mean_squared_error: 0.5564 - val_loss: 0.5355 - val_mean_squared_error: 0.5355\n",
            "Epoch 70/1000\n",
            "25/25 - 0s - loss: 0.5472 - mean_squared_error: 0.5472 - val_loss: 0.5356 - val_mean_squared_error: 0.5356\n",
            "Epoch 71/1000\n",
            "25/25 - 0s - loss: 0.5440 - mean_squared_error: 0.5440 - val_loss: 0.5260 - val_mean_squared_error: 0.5260\n",
            "Epoch 72/1000\n",
            "25/25 - 0s - loss: 0.5499 - mean_squared_error: 0.5499 - val_loss: 0.5044 - val_mean_squared_error: 0.5044\n",
            "Epoch 73/1000\n",
            "25/25 - 0s - loss: 0.5450 - mean_squared_error: 0.5450 - val_loss: 0.5888 - val_mean_squared_error: 0.5888\n",
            "Epoch 74/1000\n",
            "25/25 - 0s - loss: 0.5264 - mean_squared_error: 0.5264 - val_loss: 0.4836 - val_mean_squared_error: 0.4836\n",
            "Epoch 75/1000\n",
            "25/25 - 0s - loss: 0.5288 - mean_squared_error: 0.5288 - val_loss: 0.5021 - val_mean_squared_error: 0.5021\n",
            "Epoch 76/1000\n",
            "25/25 - 0s - loss: 0.5478 - mean_squared_error: 0.5478 - val_loss: 0.5004 - val_mean_squared_error: 0.5004\n",
            "Epoch 77/1000\n",
            "25/25 - 0s - loss: 0.5320 - mean_squared_error: 0.5320 - val_loss: 0.4724 - val_mean_squared_error: 0.4724\n",
            "Epoch 78/1000\n",
            "25/25 - 0s - loss: 0.5446 - mean_squared_error: 0.5446 - val_loss: 0.5233 - val_mean_squared_error: 0.5233\n",
            "Epoch 79/1000\n",
            "25/25 - 0s - loss: 0.5491 - mean_squared_error: 0.5491 - val_loss: 0.4894 - val_mean_squared_error: 0.4894\n",
            "Epoch 80/1000\n",
            "25/25 - 0s - loss: 0.5192 - mean_squared_error: 0.5192 - val_loss: 0.5276 - val_mean_squared_error: 0.5276\n",
            "Epoch 81/1000\n",
            "25/25 - 0s - loss: 0.5333 - mean_squared_error: 0.5333 - val_loss: 0.4789 - val_mean_squared_error: 0.4789\n",
            "Epoch 82/1000\n",
            "25/25 - 0s - loss: 0.5448 - mean_squared_error: 0.5448 - val_loss: 0.4690 - val_mean_squared_error: 0.4690\n",
            "Epoch 83/1000\n",
            "25/25 - 0s - loss: 0.5311 - mean_squared_error: 0.5311 - val_loss: 0.4779 - val_mean_squared_error: 0.4779\n",
            "Epoch 84/1000\n",
            "25/25 - 0s - loss: 0.5118 - mean_squared_error: 0.5118 - val_loss: 0.4649 - val_mean_squared_error: 0.4649\n",
            "Epoch 85/1000\n",
            "25/25 - 0s - loss: 0.5155 - mean_squared_error: 0.5155 - val_loss: 0.4917 - val_mean_squared_error: 0.4917\n",
            "Epoch 86/1000\n",
            "25/25 - 0s - loss: 0.5121 - mean_squared_error: 0.5121 - val_loss: 0.5131 - val_mean_squared_error: 0.5131\n",
            "Epoch 87/1000\n",
            "25/25 - 0s - loss: 0.5145 - mean_squared_error: 0.5145 - val_loss: 0.5511 - val_mean_squared_error: 0.5511\n",
            "Epoch 88/1000\n",
            "25/25 - 0s - loss: 0.5204 - mean_squared_error: 0.5204 - val_loss: 0.4705 - val_mean_squared_error: 0.4705\n",
            "Epoch 89/1000\n",
            "25/25 - 0s - loss: 0.5107 - mean_squared_error: 0.5107 - val_loss: 0.4652 - val_mean_squared_error: 0.4652\n",
            "Epoch 90/1000\n",
            "25/25 - 0s - loss: 0.5048 - mean_squared_error: 0.5048 - val_loss: 0.4823 - val_mean_squared_error: 0.4823\n",
            "Epoch 91/1000\n",
            "25/25 - 0s - loss: 0.5303 - mean_squared_error: 0.5303 - val_loss: 0.4578 - val_mean_squared_error: 0.4578\n",
            "Epoch 92/1000\n",
            "25/25 - 0s - loss: 0.5061 - mean_squared_error: 0.5061 - val_loss: 0.5645 - val_mean_squared_error: 0.5645\n",
            "Epoch 93/1000\n",
            "25/25 - 0s - loss: 0.5105 - mean_squared_error: 0.5105 - val_loss: 0.4884 - val_mean_squared_error: 0.4884\n",
            "Epoch 94/1000\n",
            "25/25 - 0s - loss: 0.5190 - mean_squared_error: 0.5190 - val_loss: 0.5335 - val_mean_squared_error: 0.5335\n",
            "Epoch 95/1000\n",
            "25/25 - 0s - loss: 0.5115 - mean_squared_error: 0.5115 - val_loss: 0.5090 - val_mean_squared_error: 0.5090\n",
            "Epoch 96/1000\n",
            "25/25 - 0s - loss: 0.5042 - mean_squared_error: 0.5042 - val_loss: 0.4850 - val_mean_squared_error: 0.4850\n",
            "Epoch 97/1000\n",
            "25/25 - 0s - loss: 0.4860 - mean_squared_error: 0.4860 - val_loss: 0.5004 - val_mean_squared_error: 0.5004\n",
            "Epoch 98/1000\n",
            "25/25 - 0s - loss: 0.4937 - mean_squared_error: 0.4937 - val_loss: 0.5205 - val_mean_squared_error: 0.5205\n",
            "Epoch 99/1000\n",
            "25/25 - 0s - loss: 0.4985 - mean_squared_error: 0.4985 - val_loss: 0.5585 - val_mean_squared_error: 0.5585\n",
            "Epoch 100/1000\n",
            "25/25 - 0s - loss: 0.5006 - mean_squared_error: 0.5006 - val_loss: 0.5179 - val_mean_squared_error: 0.5179\n",
            "Epoch 101/1000\n",
            "25/25 - 0s - loss: 0.4999 - mean_squared_error: 0.4999 - val_loss: 0.5862 - val_mean_squared_error: 0.5862\n",
            "Epoch 102/1000\n",
            "25/25 - 0s - loss: 0.4994 - mean_squared_error: 0.4994 - val_loss: 0.4715 - val_mean_squared_error: 0.4715\n",
            "Epoch 103/1000\n",
            "25/25 - 0s - loss: 0.5094 - mean_squared_error: 0.5094 - val_loss: 0.4523 - val_mean_squared_error: 0.4523\n",
            "Epoch 104/1000\n",
            "25/25 - 0s - loss: 0.5123 - mean_squared_error: 0.5123 - val_loss: 0.5093 - val_mean_squared_error: 0.5093\n",
            "Epoch 105/1000\n",
            "25/25 - 0s - loss: 0.4883 - mean_squared_error: 0.4883 - val_loss: 0.5593 - val_mean_squared_error: 0.5593\n",
            "Epoch 106/1000\n",
            "25/25 - 0s - loss: 0.5062 - mean_squared_error: 0.5062 - val_loss: 0.4863 - val_mean_squared_error: 0.4863\n",
            "Epoch 107/1000\n",
            "25/25 - 0s - loss: 0.4892 - mean_squared_error: 0.4892 - val_loss: 0.4674 - val_mean_squared_error: 0.4674\n",
            "Epoch 108/1000\n",
            "25/25 - 0s - loss: 0.4912 - mean_squared_error: 0.4912 - val_loss: 0.4543 - val_mean_squared_error: 0.4543\n",
            "Epoch 109/1000\n",
            "25/25 - 0s - loss: 0.4842 - mean_squared_error: 0.4842 - val_loss: 0.4766 - val_mean_squared_error: 0.4766\n",
            "Epoch 110/1000\n",
            "25/25 - 0s - loss: 0.4877 - mean_squared_error: 0.4877 - val_loss: 0.4589 - val_mean_squared_error: 0.4589\n",
            "Epoch 111/1000\n",
            "25/25 - 0s - loss: 0.5106 - mean_squared_error: 0.5106 - val_loss: 0.4673 - val_mean_squared_error: 0.4673\n",
            "Epoch 112/1000\n",
            "25/25 - 0s - loss: 0.5082 - mean_squared_error: 0.5082 - val_loss: 0.4542 - val_mean_squared_error: 0.4542\n",
            "Epoch 113/1000\n",
            "25/25 - 0s - loss: 0.4960 - mean_squared_error: 0.4960 - val_loss: 0.4562 - val_mean_squared_error: 0.4562\n",
            "Epoch 114/1000\n",
            "25/25 - 0s - loss: 0.4923 - mean_squared_error: 0.4923 - val_loss: 0.4847 - val_mean_squared_error: 0.4847\n",
            "Epoch 115/1000\n",
            "25/25 - 0s - loss: 0.4869 - mean_squared_error: 0.4869 - val_loss: 0.4963 - val_mean_squared_error: 0.4963\n",
            "Epoch 116/1000\n",
            "25/25 - 0s - loss: 0.4985 - mean_squared_error: 0.4985 - val_loss: 0.4934 - val_mean_squared_error: 0.4934\n",
            "Epoch 117/1000\n",
            "25/25 - 0s - loss: 0.4924 - mean_squared_error: 0.4924 - val_loss: 0.4557 - val_mean_squared_error: 0.4557\n",
            "Epoch 118/1000\n",
            "25/25 - 0s - loss: 0.4819 - mean_squared_error: 0.4819 - val_loss: 0.4771 - val_mean_squared_error: 0.4771\n",
            "Epoch 119/1000\n",
            "25/25 - 0s - loss: 0.4898 - mean_squared_error: 0.4898 - val_loss: 0.4598 - val_mean_squared_error: 0.4598\n",
            "Epoch 120/1000\n",
            "25/25 - 0s - loss: 0.4847 - mean_squared_error: 0.4847 - val_loss: 0.5076 - val_mean_squared_error: 0.5076\n",
            "Epoch 121/1000\n",
            "25/25 - 0s - loss: 0.4702 - mean_squared_error: 0.4702 - val_loss: 0.5196 - val_mean_squared_error: 0.5196\n",
            "Epoch 122/1000\n",
            "25/25 - 0s - loss: 0.4871 - mean_squared_error: 0.4871 - val_loss: 0.4672 - val_mean_squared_error: 0.4672\n",
            "Epoch 123/1000\n",
            "25/25 - 0s - loss: 0.4794 - mean_squared_error: 0.4794 - val_loss: 0.4914 - val_mean_squared_error: 0.4914\n",
            "Epoch 124/1000\n",
            "25/25 - 0s - loss: 0.4944 - mean_squared_error: 0.4944 - val_loss: 0.4728 - val_mean_squared_error: 0.4728\n",
            "Epoch 125/1000\n",
            "25/25 - 0s - loss: 0.4863 - mean_squared_error: 0.4863 - val_loss: 0.4478 - val_mean_squared_error: 0.4478\n",
            "Epoch 126/1000\n",
            "25/25 - 0s - loss: 0.4989 - mean_squared_error: 0.4989 - val_loss: 0.4516 - val_mean_squared_error: 0.4516\n",
            "Epoch 127/1000\n",
            "25/25 - 0s - loss: 0.4849 - mean_squared_error: 0.4849 - val_loss: 0.4530 - val_mean_squared_error: 0.4530\n",
            "Epoch 128/1000\n",
            "25/25 - 0s - loss: 0.4784 - mean_squared_error: 0.4784 - val_loss: 0.4792 - val_mean_squared_error: 0.4792\n",
            "Epoch 129/1000\n",
            "25/25 - 0s - loss: 0.4742 - mean_squared_error: 0.4742 - val_loss: 0.4793 - val_mean_squared_error: 0.4793\n",
            "Epoch 130/1000\n",
            "25/25 - 0s - loss: 0.4913 - mean_squared_error: 0.4913 - val_loss: 0.4582 - val_mean_squared_error: 0.4582\n",
            "Epoch 131/1000\n",
            "25/25 - 0s - loss: 0.4739 - mean_squared_error: 0.4739 - val_loss: 0.5003 - val_mean_squared_error: 0.5003\n",
            "Epoch 132/1000\n",
            "25/25 - 0s - loss: 0.4906 - mean_squared_error: 0.4906 - val_loss: 0.4548 - val_mean_squared_error: 0.4548\n",
            "Epoch 133/1000\n",
            "25/25 - 0s - loss: 0.4874 - mean_squared_error: 0.4874 - val_loss: 0.4472 - val_mean_squared_error: 0.4472\n",
            "Epoch 134/1000\n",
            "25/25 - 0s - loss: 0.4821 - mean_squared_error: 0.4821 - val_loss: 0.4910 - val_mean_squared_error: 0.4910\n",
            "Epoch 135/1000\n",
            "25/25 - 0s - loss: 0.4684 - mean_squared_error: 0.4684 - val_loss: 0.4902 - val_mean_squared_error: 0.4902\n",
            "Epoch 136/1000\n",
            "25/25 - 0s - loss: 0.4851 - mean_squared_error: 0.4851 - val_loss: 0.4412 - val_mean_squared_error: 0.4412\n",
            "Epoch 137/1000\n",
            "25/25 - 0s - loss: 0.4715 - mean_squared_error: 0.4715 - val_loss: 0.4396 - val_mean_squared_error: 0.4396\n",
            "Epoch 138/1000\n",
            "25/25 - 0s - loss: 0.4804 - mean_squared_error: 0.4804 - val_loss: 0.4914 - val_mean_squared_error: 0.4914\n",
            "Epoch 139/1000\n",
            "25/25 - 0s - loss: 0.4743 - mean_squared_error: 0.4743 - val_loss: 0.5392 - val_mean_squared_error: 0.5392\n",
            "Epoch 140/1000\n",
            "25/25 - 0s - loss: 0.4765 - mean_squared_error: 0.4765 - val_loss: 0.4764 - val_mean_squared_error: 0.4764\n",
            "Epoch 141/1000\n",
            "25/25 - 0s - loss: 0.4664 - mean_squared_error: 0.4664 - val_loss: 0.4679 - val_mean_squared_error: 0.4679\n",
            "Epoch 142/1000\n",
            "25/25 - 0s - loss: 0.4764 - mean_squared_error: 0.4764 - val_loss: 0.5540 - val_mean_squared_error: 0.5540\n",
            "Epoch 143/1000\n",
            "25/25 - 0s - loss: 0.4855 - mean_squared_error: 0.4855 - val_loss: 0.4482 - val_mean_squared_error: 0.4482\n",
            "Epoch 144/1000\n",
            "25/25 - 0s - loss: 0.4784 - mean_squared_error: 0.4784 - val_loss: 0.4914 - val_mean_squared_error: 0.4914\n",
            "Epoch 145/1000\n",
            "25/25 - 0s - loss: 0.4808 - mean_squared_error: 0.4808 - val_loss: 0.4691 - val_mean_squared_error: 0.4691\n",
            "Epoch 146/1000\n",
            "25/25 - 0s - loss: 0.4709 - mean_squared_error: 0.4709 - val_loss: 0.4441 - val_mean_squared_error: 0.4441\n",
            "Epoch 147/1000\n",
            "25/25 - 0s - loss: 0.4531 - mean_squared_error: 0.4531 - val_loss: 0.5432 - val_mean_squared_error: 0.5432\n",
            "Epoch 148/1000\n",
            "25/25 - 0s - loss: 0.4929 - mean_squared_error: 0.4929 - val_loss: 0.4490 - val_mean_squared_error: 0.4490\n",
            "Epoch 149/1000\n",
            "25/25 - 0s - loss: 0.4646 - mean_squared_error: 0.4646 - val_loss: 0.4449 - val_mean_squared_error: 0.4449\n",
            "Epoch 150/1000\n",
            "25/25 - 0s - loss: 0.4681 - mean_squared_error: 0.4681 - val_loss: 0.4413 - val_mean_squared_error: 0.4413\n",
            "Epoch 151/1000\n",
            "25/25 - 0s - loss: 0.4691 - mean_squared_error: 0.4691 - val_loss: 0.4375 - val_mean_squared_error: 0.4375\n",
            "Epoch 152/1000\n",
            "25/25 - 0s - loss: 0.4536 - mean_squared_error: 0.4536 - val_loss: 0.4842 - val_mean_squared_error: 0.4842\n",
            "Epoch 153/1000\n",
            "25/25 - 0s - loss: 0.4590 - mean_squared_error: 0.4590 - val_loss: 0.4500 - val_mean_squared_error: 0.4500\n",
            "Epoch 154/1000\n",
            "25/25 - 0s - loss: 0.4470 - mean_squared_error: 0.4470 - val_loss: 0.5758 - val_mean_squared_error: 0.5758\n",
            "Epoch 155/1000\n",
            "25/25 - 0s - loss: 0.4718 - mean_squared_error: 0.4718 - val_loss: 0.4362 - val_mean_squared_error: 0.4362\n",
            "Epoch 156/1000\n",
            "25/25 - 0s - loss: 0.4652 - mean_squared_error: 0.4652 - val_loss: 0.4441 - val_mean_squared_error: 0.4441\n",
            "Epoch 157/1000\n",
            "25/25 - 0s - loss: 0.4616 - mean_squared_error: 0.4616 - val_loss: 0.4814 - val_mean_squared_error: 0.4814\n",
            "Epoch 158/1000\n",
            "25/25 - 0s - loss: 0.4458 - mean_squared_error: 0.4458 - val_loss: 0.4646 - val_mean_squared_error: 0.4646\n",
            "Epoch 159/1000\n",
            "25/25 - 0s - loss: 0.4569 - mean_squared_error: 0.4569 - val_loss: 0.4659 - val_mean_squared_error: 0.4659\n",
            "Epoch 160/1000\n",
            "25/25 - 0s - loss: 0.4646 - mean_squared_error: 0.4646 - val_loss: 0.5979 - val_mean_squared_error: 0.5979\n",
            "Epoch 161/1000\n",
            "25/25 - 0s - loss: 0.4580 - mean_squared_error: 0.4580 - val_loss: 0.4483 - val_mean_squared_error: 0.4483\n",
            "Epoch 162/1000\n",
            "25/25 - 0s - loss: 0.4547 - mean_squared_error: 0.4547 - val_loss: 0.4751 - val_mean_squared_error: 0.4751\n",
            "Epoch 163/1000\n",
            "25/25 - 0s - loss: 0.4624 - mean_squared_error: 0.4624 - val_loss: 0.5059 - val_mean_squared_error: 0.5059\n",
            "Epoch 164/1000\n",
            "25/25 - 0s - loss: 0.4511 - mean_squared_error: 0.4511 - val_loss: 0.4686 - val_mean_squared_error: 0.4686\n",
            "Epoch 165/1000\n",
            "25/25 - 0s - loss: 0.4803 - mean_squared_error: 0.4803 - val_loss: 0.4523 - val_mean_squared_error: 0.4523\n",
            "Epoch 166/1000\n",
            "25/25 - 0s - loss: 0.4455 - mean_squared_error: 0.4455 - val_loss: 0.4490 - val_mean_squared_error: 0.4490\n",
            "Epoch 167/1000\n",
            "25/25 - 0s - loss: 0.4569 - mean_squared_error: 0.4569 - val_loss: 0.5074 - val_mean_squared_error: 0.5074\n",
            "Epoch 168/1000\n",
            "25/25 - 0s - loss: 0.4494 - mean_squared_error: 0.4494 - val_loss: 0.4321 - val_mean_squared_error: 0.4321\n",
            "Epoch 169/1000\n",
            "25/25 - 0s - loss: 0.4522 - mean_squared_error: 0.4522 - val_loss: 0.4607 - val_mean_squared_error: 0.4607\n",
            "Epoch 170/1000\n",
            "25/25 - 0s - loss: 0.4528 - mean_squared_error: 0.4528 - val_loss: 0.5895 - val_mean_squared_error: 0.5895\n",
            "Epoch 171/1000\n",
            "25/25 - 0s - loss: 0.4687 - mean_squared_error: 0.4687 - val_loss: 0.5341 - val_mean_squared_error: 0.5341\n",
            "Epoch 172/1000\n",
            "25/25 - 0s - loss: 0.4681 - mean_squared_error: 0.4681 - val_loss: 0.4372 - val_mean_squared_error: 0.4372\n",
            "Epoch 173/1000\n",
            "25/25 - 0s - loss: 0.4480 - mean_squared_error: 0.4480 - val_loss: 0.5463 - val_mean_squared_error: 0.5463\n",
            "Epoch 174/1000\n",
            "25/25 - 0s - loss: 0.4487 - mean_squared_error: 0.4487 - val_loss: 0.4307 - val_mean_squared_error: 0.4307\n",
            "Epoch 175/1000\n",
            "25/25 - 0s - loss: 0.4565 - mean_squared_error: 0.4565 - val_loss: 0.4977 - val_mean_squared_error: 0.4977\n",
            "Epoch 176/1000\n",
            "25/25 - 0s - loss: 0.4642 - mean_squared_error: 0.4642 - val_loss: 0.4419 - val_mean_squared_error: 0.4419\n",
            "Epoch 177/1000\n",
            "25/25 - 0s - loss: 0.4532 - mean_squared_error: 0.4532 - val_loss: 0.4551 - val_mean_squared_error: 0.4551\n",
            "Epoch 178/1000\n",
            "25/25 - 0s - loss: 0.4401 - mean_squared_error: 0.4401 - val_loss: 0.4414 - val_mean_squared_error: 0.4414\n",
            "Epoch 179/1000\n",
            "25/25 - 0s - loss: 0.4659 - mean_squared_error: 0.4659 - val_loss: 0.4358 - val_mean_squared_error: 0.4358\n",
            "Epoch 180/1000\n",
            "25/25 - 0s - loss: 0.4412 - mean_squared_error: 0.4412 - val_loss: 0.4762 - val_mean_squared_error: 0.4762\n",
            "Epoch 181/1000\n",
            "25/25 - 0s - loss: 0.4412 - mean_squared_error: 0.4412 - val_loss: 0.4374 - val_mean_squared_error: 0.4374\n",
            "Epoch 182/1000\n",
            "25/25 - 0s - loss: 0.4382 - mean_squared_error: 0.4382 - val_loss: 0.4361 - val_mean_squared_error: 0.4361\n",
            "Epoch 183/1000\n",
            "25/25 - 0s - loss: 0.4632 - mean_squared_error: 0.4632 - val_loss: 0.4381 - val_mean_squared_error: 0.4381\n",
            "Epoch 184/1000\n",
            "25/25 - 0s - loss: 0.4425 - mean_squared_error: 0.4425 - val_loss: 0.4841 - val_mean_squared_error: 0.4841\n",
            "Epoch 185/1000\n",
            "25/25 - 0s - loss: 0.4611 - mean_squared_error: 0.4611 - val_loss: 0.4888 - val_mean_squared_error: 0.4888\n",
            "Epoch 186/1000\n",
            "25/25 - 0s - loss: 0.4451 - mean_squared_error: 0.4451 - val_loss: 0.4369 - val_mean_squared_error: 0.4369\n",
            "Epoch 187/1000\n",
            "25/25 - 0s - loss: 0.4454 - mean_squared_error: 0.4454 - val_loss: 0.4291 - val_mean_squared_error: 0.4291\n",
            "Epoch 188/1000\n",
            "25/25 - 0s - loss: 0.4553 - mean_squared_error: 0.4553 - val_loss: 0.4326 - val_mean_squared_error: 0.4326\n",
            "Epoch 189/1000\n",
            "25/25 - 0s - loss: 0.4497 - mean_squared_error: 0.4497 - val_loss: 0.4332 - val_mean_squared_error: 0.4332\n",
            "Epoch 190/1000\n",
            "25/25 - 0s - loss: 0.4664 - mean_squared_error: 0.4664 - val_loss: 0.4409 - val_mean_squared_error: 0.4409\n",
            "Epoch 191/1000\n",
            "25/25 - 0s - loss: 0.4393 - mean_squared_error: 0.4393 - val_loss: 0.4453 - val_mean_squared_error: 0.4453\n",
            "Epoch 192/1000\n",
            "25/25 - 0s - loss: 0.4517 - mean_squared_error: 0.4517 - val_loss: 0.4291 - val_mean_squared_error: 0.4291\n",
            "Epoch 193/1000\n",
            "25/25 - 0s - loss: 0.4482 - mean_squared_error: 0.4482 - val_loss: 0.4763 - val_mean_squared_error: 0.4763\n",
            "Epoch 194/1000\n",
            "25/25 - 0s - loss: 0.4473 - mean_squared_error: 0.4473 - val_loss: 0.4469 - val_mean_squared_error: 0.4469\n",
            "Epoch 195/1000\n",
            "25/25 - 0s - loss: 0.4426 - mean_squared_error: 0.4426 - val_loss: 0.4968 - val_mean_squared_error: 0.4968\n",
            "Epoch 196/1000\n",
            "25/25 - 0s - loss: 0.4423 - mean_squared_error: 0.4423 - val_loss: 0.4965 - val_mean_squared_error: 0.4965\n",
            "Epoch 197/1000\n",
            "25/25 - 0s - loss: 0.4659 - mean_squared_error: 0.4659 - val_loss: 0.4889 - val_mean_squared_error: 0.4889\n",
            "Epoch 198/1000\n",
            "25/25 - 0s - loss: 0.4398 - mean_squared_error: 0.4398 - val_loss: 0.4296 - val_mean_squared_error: 0.4296\n",
            "Epoch 199/1000\n",
            "25/25 - 0s - loss: 0.4364 - mean_squared_error: 0.4364 - val_loss: 0.4311 - val_mean_squared_error: 0.4311\n",
            "Epoch 200/1000\n",
            "25/25 - 0s - loss: 0.4451 - mean_squared_error: 0.4451 - val_loss: 0.4351 - val_mean_squared_error: 0.4351\n",
            "Epoch 201/1000\n",
            "25/25 - 0s - loss: 0.4491 - mean_squared_error: 0.4491 - val_loss: 0.4479 - val_mean_squared_error: 0.4479\n",
            "Epoch 202/1000\n",
            "25/25 - 0s - loss: 0.4408 - mean_squared_error: 0.4408 - val_loss: 0.4681 - val_mean_squared_error: 0.4681\n",
            "Epoch 203/1000\n",
            "25/25 - 0s - loss: 0.4560 - mean_squared_error: 0.4560 - val_loss: 0.4520 - val_mean_squared_error: 0.4520\n",
            "Epoch 204/1000\n",
            "25/25 - 0s - loss: 0.4399 - mean_squared_error: 0.4399 - val_loss: 0.4599 - val_mean_squared_error: 0.4599\n",
            "Epoch 205/1000\n",
            "25/25 - 0s - loss: 0.4310 - mean_squared_error: 0.4310 - val_loss: 0.5580 - val_mean_squared_error: 0.5580\n",
            "Epoch 206/1000\n",
            "25/25 - 0s - loss: 0.4313 - mean_squared_error: 0.4313 - val_loss: 0.5423 - val_mean_squared_error: 0.5423\n",
            "Epoch 207/1000\n",
            "25/25 - 0s - loss: 0.4274 - mean_squared_error: 0.4274 - val_loss: 0.4601 - val_mean_squared_error: 0.4601\n",
            "Epoch 208/1000\n",
            "25/25 - 0s - loss: 0.4261 - mean_squared_error: 0.4261 - val_loss: 0.4440 - val_mean_squared_error: 0.4440\n",
            "Epoch 209/1000\n",
            "25/25 - 0s - loss: 0.4282 - mean_squared_error: 0.4282 - val_loss: 0.4871 - val_mean_squared_error: 0.4871\n",
            "Epoch 210/1000\n",
            "25/25 - 0s - loss: 0.4390 - mean_squared_error: 0.4390 - val_loss: 0.4385 - val_mean_squared_error: 0.4385\n",
            "Epoch 211/1000\n",
            "25/25 - 0s - loss: 0.4584 - mean_squared_error: 0.4584 - val_loss: 0.4692 - val_mean_squared_error: 0.4692\n",
            "Epoch 212/1000\n",
            "25/25 - 0s - loss: 0.4380 - mean_squared_error: 0.4380 - val_loss: 0.4678 - val_mean_squared_error: 0.4678\n",
            "Epoch 213/1000\n",
            "25/25 - 0s - loss: 0.4452 - mean_squared_error: 0.4452 - val_loss: 0.4399 - val_mean_squared_error: 0.4399\n",
            "Epoch 214/1000\n",
            "25/25 - 0s - loss: 0.4459 - mean_squared_error: 0.4459 - val_loss: 0.4314 - val_mean_squared_error: 0.4314\n",
            "Epoch 215/1000\n",
            "25/25 - 0s - loss: 0.4464 - mean_squared_error: 0.4464 - val_loss: 0.4745 - val_mean_squared_error: 0.4745\n",
            "Epoch 216/1000\n",
            "25/25 - 0s - loss: 0.4302 - mean_squared_error: 0.4302 - val_loss: 0.4344 - val_mean_squared_error: 0.4344\n",
            "Epoch 217/1000\n",
            "25/25 - 0s - loss: 0.4379 - mean_squared_error: 0.4379 - val_loss: 0.4421 - val_mean_squared_error: 0.4421\n",
            "Epoch 218/1000\n",
            "25/25 - 0s - loss: 0.4431 - mean_squared_error: 0.4431 - val_loss: 0.4492 - val_mean_squared_error: 0.4492\n",
            "Epoch 219/1000\n",
            "25/25 - 0s - loss: 0.4388 - mean_squared_error: 0.4388 - val_loss: 0.4393 - val_mean_squared_error: 0.4393\n",
            "Epoch 220/1000\n",
            "25/25 - 0s - loss: 0.4366 - mean_squared_error: 0.4366 - val_loss: 0.4403 - val_mean_squared_error: 0.4403\n",
            "Epoch 221/1000\n",
            "25/25 - 0s - loss: 0.4394 - mean_squared_error: 0.4394 - val_loss: 0.4478 - val_mean_squared_error: 0.4478\n",
            "Epoch 222/1000\n",
            "25/25 - 0s - loss: 0.4238 - mean_squared_error: 0.4238 - val_loss: 0.4542 - val_mean_squared_error: 0.4542\n",
            "Epoch 223/1000\n",
            "25/25 - 0s - loss: 0.4532 - mean_squared_error: 0.4532 - val_loss: 0.4531 - val_mean_squared_error: 0.4531\n",
            "Epoch 224/1000\n",
            "25/25 - 0s - loss: 0.4348 - mean_squared_error: 0.4348 - val_loss: 0.5245 - val_mean_squared_error: 0.5245\n",
            "Epoch 225/1000\n",
            "25/25 - 0s - loss: 0.4440 - mean_squared_error: 0.4440 - val_loss: 0.4654 - val_mean_squared_error: 0.4654\n",
            "Epoch 226/1000\n",
            "25/25 - 0s - loss: 0.4418 - mean_squared_error: 0.4418 - val_loss: 0.4462 - val_mean_squared_error: 0.4462\n",
            "Epoch 227/1000\n",
            "25/25 - 0s - loss: 0.4284 - mean_squared_error: 0.4284 - val_loss: 0.5183 - val_mean_squared_error: 0.5183\n",
            "Epoch 228/1000\n",
            "25/25 - 0s - loss: 0.4367 - mean_squared_error: 0.4367 - val_loss: 0.4492 - val_mean_squared_error: 0.4492\n",
            "Epoch 229/1000\n",
            "25/25 - 0s - loss: 0.4292 - mean_squared_error: 0.4292 - val_loss: 0.4410 - val_mean_squared_error: 0.4410\n",
            "Epoch 230/1000\n",
            "25/25 - 0s - loss: 0.4184 - mean_squared_error: 0.4184 - val_loss: 0.4414 - val_mean_squared_error: 0.4414\n",
            "Epoch 231/1000\n",
            "25/25 - 0s - loss: 0.4371 - mean_squared_error: 0.4371 - val_loss: 0.4474 - val_mean_squared_error: 0.4474\n",
            "Epoch 232/1000\n",
            "25/25 - 0s - loss: 0.4227 - mean_squared_error: 0.4227 - val_loss: 0.4367 - val_mean_squared_error: 0.4367\n",
            "Epoch 233/1000\n",
            "25/25 - 0s - loss: 0.4544 - mean_squared_error: 0.4544 - val_loss: 0.5383 - val_mean_squared_error: 0.5383\n",
            "Epoch 234/1000\n",
            "25/25 - 0s - loss: 0.4179 - mean_squared_error: 0.4179 - val_loss: 0.4813 - val_mean_squared_error: 0.4813\n",
            "Epoch 235/1000\n",
            "25/25 - 0s - loss: 0.4223 - mean_squared_error: 0.4223 - val_loss: 0.4353 - val_mean_squared_error: 0.4353\n",
            "Epoch 236/1000\n",
            "25/25 - 0s - loss: 0.4342 - mean_squared_error: 0.4342 - val_loss: 0.4511 - val_mean_squared_error: 0.4511\n",
            "Epoch 237/1000\n",
            "25/25 - 0s - loss: 0.4305 - mean_squared_error: 0.4305 - val_loss: 0.4422 - val_mean_squared_error: 0.4422\n",
            "Epoch 238/1000\n",
            "25/25 - 0s - loss: 0.4250 - mean_squared_error: 0.4250 - val_loss: 0.4646 - val_mean_squared_error: 0.4646\n",
            "Epoch 239/1000\n",
            "25/25 - 0s - loss: 0.4197 - mean_squared_error: 0.4197 - val_loss: 0.4683 - val_mean_squared_error: 0.4683\n",
            "Epoch 240/1000\n",
            "25/25 - 0s - loss: 0.4398 - mean_squared_error: 0.4398 - val_loss: 0.4563 - val_mean_squared_error: 0.4563\n",
            "Epoch 241/1000\n",
            "25/25 - 0s - loss: 0.4270 - mean_squared_error: 0.4270 - val_loss: 0.4771 - val_mean_squared_error: 0.4771\n",
            "Epoch 242/1000\n",
            "25/25 - 0s - loss: 0.4317 - mean_squared_error: 0.4317 - val_loss: 0.4609 - val_mean_squared_error: 0.4609\n",
            "Epoch 243/1000\n",
            "25/25 - 0s - loss: 0.4428 - mean_squared_error: 0.4428 - val_loss: 0.4499 - val_mean_squared_error: 0.4499\n",
            "Epoch 244/1000\n",
            "25/25 - 0s - loss: 0.4155 - mean_squared_error: 0.4155 - val_loss: 0.4627 - val_mean_squared_error: 0.4627\n",
            "Epoch 245/1000\n",
            "25/25 - 0s - loss: 0.4300 - mean_squared_error: 0.4300 - val_loss: 0.4639 - val_mean_squared_error: 0.4639\n",
            "Epoch 246/1000\n",
            "25/25 - 0s - loss: 0.4335 - mean_squared_error: 0.4335 - val_loss: 0.4450 - val_mean_squared_error: 0.4450\n",
            "Epoch 247/1000\n",
            "25/25 - 0s - loss: 0.4140 - mean_squared_error: 0.4140 - val_loss: 0.4439 - val_mean_squared_error: 0.4439\n",
            "Epoch 248/1000\n",
            "25/25 - 0s - loss: 0.4242 - mean_squared_error: 0.4242 - val_loss: 0.4328 - val_mean_squared_error: 0.4328\n",
            "Epoch 249/1000\n",
            "25/25 - 0s - loss: 0.4452 - mean_squared_error: 0.4452 - val_loss: 0.4616 - val_mean_squared_error: 0.4616\n",
            "Epoch 250/1000\n",
            "25/25 - 0s - loss: 0.4362 - mean_squared_error: 0.4362 - val_loss: 0.4512 - val_mean_squared_error: 0.4512\n",
            "Epoch 251/1000\n",
            "25/25 - 0s - loss: 0.4261 - mean_squared_error: 0.4261 - val_loss: 0.5249 - val_mean_squared_error: 0.5249\n",
            "Epoch 252/1000\n",
            "25/25 - 0s - loss: 0.4441 - mean_squared_error: 0.4441 - val_loss: 0.4432 - val_mean_squared_error: 0.4432\n",
            "Epoch 253/1000\n",
            "25/25 - 0s - loss: 0.4225 - mean_squared_error: 0.4225 - val_loss: 0.4653 - val_mean_squared_error: 0.4653\n",
            "Epoch 254/1000\n",
            "25/25 - 0s - loss: 0.4309 - mean_squared_error: 0.4309 - val_loss: 0.4430 - val_mean_squared_error: 0.4430\n",
            "Epoch 255/1000\n",
            "25/25 - 0s - loss: 0.4343 - mean_squared_error: 0.4343 - val_loss: 0.4639 - val_mean_squared_error: 0.4639\n",
            "Epoch 256/1000\n",
            "25/25 - 0s - loss: 0.4169 - mean_squared_error: 0.4169 - val_loss: 0.4274 - val_mean_squared_error: 0.4274\n",
            "Epoch 257/1000\n",
            "25/25 - 0s - loss: 0.4172 - mean_squared_error: 0.4172 - val_loss: 0.4463 - val_mean_squared_error: 0.4463\n",
            "Epoch 258/1000\n",
            "25/25 - 0s - loss: 0.4315 - mean_squared_error: 0.4315 - val_loss: 0.4319 - val_mean_squared_error: 0.4319\n",
            "Epoch 259/1000\n",
            "25/25 - 0s - loss: 0.4356 - mean_squared_error: 0.4356 - val_loss: 0.5056 - val_mean_squared_error: 0.5056\n",
            "Epoch 260/1000\n",
            "25/25 - 0s - loss: 0.4133 - mean_squared_error: 0.4133 - val_loss: 0.4305 - val_mean_squared_error: 0.4305\n",
            "Epoch 261/1000\n",
            "25/25 - 0s - loss: 0.4349 - mean_squared_error: 0.4349 - val_loss: 0.4952 - val_mean_squared_error: 0.4952\n",
            "Epoch 262/1000\n",
            "25/25 - 0s - loss: 0.4335 - mean_squared_error: 0.4335 - val_loss: 0.4297 - val_mean_squared_error: 0.4297\n",
            "Epoch 263/1000\n",
            "25/25 - 0s - loss: 0.4209 - mean_squared_error: 0.4209 - val_loss: 0.4905 - val_mean_squared_error: 0.4905\n",
            "Epoch 264/1000\n",
            "25/25 - 0s - loss: 0.4274 - mean_squared_error: 0.4274 - val_loss: 0.4530 - val_mean_squared_error: 0.4530\n",
            "Epoch 265/1000\n",
            "25/25 - 0s - loss: 0.4170 - mean_squared_error: 0.4170 - val_loss: 0.4448 - val_mean_squared_error: 0.4448\n",
            "Epoch 266/1000\n",
            "25/25 - 0s - loss: 0.4306 - mean_squared_error: 0.4306 - val_loss: 0.4493 - val_mean_squared_error: 0.4493\n",
            "Epoch 267/1000\n",
            "25/25 - 0s - loss: 0.4170 - mean_squared_error: 0.4170 - val_loss: 0.4367 - val_mean_squared_error: 0.4367\n",
            "Epoch 268/1000\n",
            "25/25 - 0s - loss: 0.4226 - mean_squared_error: 0.4226 - val_loss: 0.5017 - val_mean_squared_error: 0.5017\n",
            "Epoch 269/1000\n",
            "25/25 - 0s - loss: 0.4185 - mean_squared_error: 0.4185 - val_loss: 0.4375 - val_mean_squared_error: 0.4375\n",
            "Epoch 270/1000\n",
            "25/25 - 0s - loss: 0.4203 - mean_squared_error: 0.4203 - val_loss: 0.4316 - val_mean_squared_error: 0.4316\n",
            "Epoch 271/1000\n",
            "25/25 - 0s - loss: 0.4042 - mean_squared_error: 0.4042 - val_loss: 0.4965 - val_mean_squared_error: 0.4965\n",
            "Epoch 272/1000\n",
            "25/25 - 0s - loss: 0.3992 - mean_squared_error: 0.3992 - val_loss: 0.5014 - val_mean_squared_error: 0.5014\n",
            "Epoch 273/1000\n",
            "25/25 - 0s - loss: 0.4163 - mean_squared_error: 0.4163 - val_loss: 0.4493 - val_mean_squared_error: 0.4493\n",
            "Epoch 274/1000\n",
            "25/25 - 0s - loss: 0.4155 - mean_squared_error: 0.4155 - val_loss: 0.4433 - val_mean_squared_error: 0.4433\n",
            "Epoch 275/1000\n",
            "25/25 - 0s - loss: 0.4145 - mean_squared_error: 0.4145 - val_loss: 0.4437 - val_mean_squared_error: 0.4437\n",
            "Epoch 276/1000\n",
            "25/25 - 0s - loss: 0.4089 - mean_squared_error: 0.4089 - val_loss: 0.4287 - val_mean_squared_error: 0.4287\n",
            "Epoch 277/1000\n",
            "25/25 - 0s - loss: 0.4241 - mean_squared_error: 0.4241 - val_loss: 0.4470 - val_mean_squared_error: 0.4470\n",
            "Epoch 278/1000\n",
            "25/25 - 0s - loss: 0.4261 - mean_squared_error: 0.4261 - val_loss: 0.5163 - val_mean_squared_error: 0.5163\n",
            "Epoch 279/1000\n",
            "25/25 - 0s - loss: 0.4291 - mean_squared_error: 0.4291 - val_loss: 0.4292 - val_mean_squared_error: 0.4292\n",
            "Epoch 280/1000\n",
            "25/25 - 0s - loss: 0.4214 - mean_squared_error: 0.4214 - val_loss: 0.4372 - val_mean_squared_error: 0.4372\n",
            "Epoch 281/1000\n",
            "25/25 - 0s - loss: 0.4261 - mean_squared_error: 0.4261 - val_loss: 0.4272 - val_mean_squared_error: 0.4272\n",
            "Epoch 282/1000\n",
            "25/25 - 0s - loss: 0.4214 - mean_squared_error: 0.4214 - val_loss: 0.4631 - val_mean_squared_error: 0.4631\n",
            "Epoch 283/1000\n",
            "25/25 - 0s - loss: 0.4192 - mean_squared_error: 0.4192 - val_loss: 0.4416 - val_mean_squared_error: 0.4416\n",
            "Epoch 284/1000\n",
            "25/25 - 0s - loss: 0.4148 - mean_squared_error: 0.4148 - val_loss: 0.4610 - val_mean_squared_error: 0.4610\n",
            "Epoch 285/1000\n",
            "25/25 - 0s - loss: 0.4153 - mean_squared_error: 0.4153 - val_loss: 0.4298 - val_mean_squared_error: 0.4298\n",
            "Epoch 286/1000\n",
            "25/25 - 0s - loss: 0.4122 - mean_squared_error: 0.4122 - val_loss: 0.5033 - val_mean_squared_error: 0.5033\n",
            "Epoch 287/1000\n",
            "25/25 - 0s - loss: 0.4193 - mean_squared_error: 0.4193 - val_loss: 0.4480 - val_mean_squared_error: 0.4480\n",
            "Epoch 288/1000\n",
            "25/25 - 0s - loss: 0.4138 - mean_squared_error: 0.4138 - val_loss: 0.4407 - val_mean_squared_error: 0.4407\n",
            "Epoch 289/1000\n",
            "25/25 - 0s - loss: 0.4182 - mean_squared_error: 0.4182 - val_loss: 0.4569 - val_mean_squared_error: 0.4569\n",
            "Epoch 290/1000\n",
            "25/25 - 0s - loss: 0.4206 - mean_squared_error: 0.4206 - val_loss: 0.4282 - val_mean_squared_error: 0.4282\n",
            "Epoch 291/1000\n",
            "25/25 - 0s - loss: 0.4196 - mean_squared_error: 0.4196 - val_loss: 0.4334 - val_mean_squared_error: 0.4334\n",
            "Epoch 292/1000\n",
            "25/25 - 0s - loss: 0.4084 - mean_squared_error: 0.4084 - val_loss: 0.4441 - val_mean_squared_error: 0.4441\n",
            "Epoch 293/1000\n",
            "25/25 - 0s - loss: 0.4173 - mean_squared_error: 0.4173 - val_loss: 0.4996 - val_mean_squared_error: 0.4996\n",
            "Epoch 294/1000\n",
            "25/25 - 0s - loss: 0.4150 - mean_squared_error: 0.4150 - val_loss: 0.4365 - val_mean_squared_error: 0.4365\n",
            "Epoch 295/1000\n",
            "25/25 - 0s - loss: 0.4097 - mean_squared_error: 0.4097 - val_loss: 0.4393 - val_mean_squared_error: 0.4393\n",
            "Epoch 296/1000\n",
            "25/25 - 0s - loss: 0.4083 - mean_squared_error: 0.4083 - val_loss: 0.4928 - val_mean_squared_error: 0.4928\n",
            "Epoch 297/1000\n",
            "25/25 - 0s - loss: 0.4163 - mean_squared_error: 0.4163 - val_loss: 0.4414 - val_mean_squared_error: 0.4414\n",
            "Epoch 298/1000\n",
            "25/25 - 0s - loss: 0.4148 - mean_squared_error: 0.4148 - val_loss: 0.4574 - val_mean_squared_error: 0.4574\n",
            "Epoch 299/1000\n",
            "25/25 - 0s - loss: 0.4064 - mean_squared_error: 0.4064 - val_loss: 0.4349 - val_mean_squared_error: 0.4349\n",
            "Epoch 300/1000\n",
            "25/25 - 0s - loss: 0.4216 - mean_squared_error: 0.4216 - val_loss: 0.4568 - val_mean_squared_error: 0.4568\n",
            "Epoch 301/1000\n",
            "25/25 - 0s - loss: 0.4096 - mean_squared_error: 0.4096 - val_loss: 0.4616 - val_mean_squared_error: 0.4616\n",
            "Epoch 302/1000\n",
            "25/25 - 0s - loss: 0.4288 - mean_squared_error: 0.4288 - val_loss: 0.5199 - val_mean_squared_error: 0.5199\n"
          ],
          "name": "stdout"
        }
      ]
    },
    {
      "cell_type": "markdown",
      "metadata": {
        "id": "xgjEi6oP0kNE",
        "colab_type": "text"
      },
      "source": [
        "### Evaluate model performance"
      ]
    },
    {
      "cell_type": "code",
      "metadata": {
        "id": "CZNI6nGtzbYy",
        "colab_type": "code",
        "colab": {
          "base_uri": "https://localhost:8080/",
          "height": 295
        },
        "outputId": "0af1dc94-1682-46eb-e7d9-e5a52d01eacb"
      },
      "source": [
        "history_df = pd.DataFrame(history.history)\n",
        "ax = history_df.plot(y=['loss', 'val_loss'],\n",
        "                xticks=np.linspace(0, len(history_df), 6))\n",
        "ax.set_ylabel('Loss')\n",
        "ax.set_xlabel('Epoch')\n",
        "ax.set_title('Evolution of Mean Squared Error')\n",
        "plt.show()\n"
      ],
      "execution_count": null,
      "outputs": [
        {
          "output_type": "display_data",
          "data": {
            "image/png": "[encoded data removed]",
            "text/plain": [
              "<Figure size 432x288 with 1 Axes>"
            ]
          },
          "metadata": {
            "tags": [],
            "needs_background": "light"
          }
        }
      ]
    },
    {
      "cell_type": "code",
      "metadata": {
        "id": "29eHeDjEoNqj",
        "colab_type": "code",
        "colab": {}
      },
      "source": [
        "y_hat = model.predict(X_val)"
      ],
      "execution_count": null,
      "outputs": []
    },
    {
      "cell_type": "code",
      "metadata": {
        "id": "t4GNQN6umVOa",
        "colab_type": "code",
        "colab": {}
      },
      "source": [
        ""
      ],
      "execution_count": null,
      "outputs": []
    },
    {
      "cell_type": "code",
      "metadata": {
        "id": "6CoZVBtCrT7K",
        "colab_type": "code",
        "colab": {
          "base_uri": "https://localhost:8080/",
          "height": 295
        },
        "outputId": "f9b36a5f-5eef-468e-edd9-e6811ba7ea39"
      },
      "source": [
        "plt.scatter(y_val[:,0], y_hat[:,0])\n",
        "plt.title('Predicted lat vs. True lat')\n",
        "plt.xlabel('True lat')\n",
        "plt.ylabel('Predicted lat')\n",
        "plt.show()"
      ],
      "execution_count": null,
      "outputs": [
        {
          "output_type": "display_data",
          "data": {
            "image/png": "[encoded data removed]",
            "text/plain": [
              "<Figure size 432x288 with 1 Axes>"
            ]
          },
          "metadata": {
            "tags": [],
            "needs_background": "light"
          }
        }
      ]
    },
    {
      "cell_type": "code",
      "metadata": {
        "id": "n5tCuM2HvK72",
        "colab_type": "code",
        "colab": {
          "base_uri": "https://localhost:8080/",
          "height": 295
        },
        "outputId": "f1b6570d-1fa3-464c-c820-8e01ca393676"
      },
      "source": [
        "plt.scatter(y_val[:,1], y_hat[:,1])\n",
        "plt.title('Predicted long vs. True long')\n",
        "plt.xlabel('True long')\n",
        "plt.ylabel('Predicted long')\n",
        "plt.show()"
      ],
      "execution_count": null,
      "outputs": [
        {
          "output_type": "display_data",
          "data": {
            "image/png": "[encoded data removed]",
            "text/plain": [
              "<Figure size 432x288 with 1 Axes>"
            ]
          },
          "metadata": {
            "tags": [],
            "needs_background": "light"
          }
        }
      ]
    },
    {
      "cell_type": "code",
      "metadata": {
        "id": "l1Lg2v4LqKCp",
        "colab_type": "code",
        "colab": {}
      },
      "source": [
        ""
      ],
      "execution_count": null,
      "outputs": []
    }
  ]
}