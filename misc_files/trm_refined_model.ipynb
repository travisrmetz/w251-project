{
 "cells": [
  {
   "cell_type": "markdown",
   "metadata": {
    "colab_type": "text",
    "id": "ImJOhE4BrfK7"
   },
   "source": [
    "## General Model\n",
    "\n"
   ]
  },
  {
   "cell_type": "markdown",
   "metadata": {},
   "source": []
  },
  {
   "cell_type": "markdown",
   "metadata": {
    "colab_type": "text",
    "id": "OlNrYnNsrp4C"
   },
   "source": [
    "## Import useful packages"
   ]
  },
  {
   "cell_type": "code",
   "execution_count": 1,
   "metadata": {
    "colab": {},
    "colab_type": "code",
    "id": "5Y0LD8oscOFG"
   },
   "outputs": [],
   "source": [
    "import numpy as np\n",
    "import tensorflow as tf\n",
    "import pandas as pd \n",
    "import matplotlib.pyplot as plt\n",
    "import cv2\n",
    "import os\n",
    "from sklearn.model_selection import train_test_split\n",
    "from sklearn.preprocessing import scale\n",
    "import boto3\n",
    "import io\n",
    "#from keras.utils import plot_model\n",
    "import random\n",
    "from botocore.exceptions import ClientError\n",
    "import yaml\n",
    "#import ktrain\n",
    "\n"
   ]
  },
  {
   "cell_type": "code",
   "execution_count": 2,
   "metadata": {},
   "outputs": [
    {
     "name": "stderr",
     "output_type": "stream",
     "text": [
      "/home/ubuntu/anaconda3/envs/tensorflow2_p36/lib/python3.6/site-packages/ipykernel/__main__.py:2: YAMLLoadWarning: calling yaml.load() without Loader=... is deprecated, as the default Loader is unsafe. Please read https://msg.pyyaml.org/load for full details.\n",
      "  from ipykernel import kernelapp as app\n"
     ]
    }
   ],
   "source": [
    "with open('model.yml') as config_file:\n",
    "    config_data = yaml.load(config_file)\n",
    "    image_dir = config_data['image_dir']\n",
    "    latstart= config_data['latstart']\n",
    "    latend=config_data['latend']\n",
    "    longstart = config_data['longstart']\n",
    "    longend=config_data['longend']\n",
    "    dtstart= config_data['dtstart']\n",
    "    dtend=config_data['dtend']"
   ]
  },
  {
   "cell_type": "markdown",
   "metadata": {
    "colab_type": "text",
    "id": "-k4t6YLVrt49"
   },
   "source": [
    "## Define functions to load the data\n"
   ]
  },
  {
   "cell_type": "markdown",
   "metadata": {},
   "source": [
    "#### This code gets list of keys (ie files) in S3 bucket\n",
    "(Should consider moving this into a helper file.)"
   ]
  },
  {
   "cell_type": "code",
   "execution_count": 4,
   "metadata": {},
   "outputs": [],
   "source": [
    "def get_matching_s3_objects(bucket, prefix=\"\", suffix=\"\"):\n",
    "    \"\"\"\n",
    "    Generate objects in an S3 bucket.\n",
    "\n",
    "    :param bucket: Name of the S3 bucket.\n",
    "    :param prefix: Only fetch objects whose key starts with\n",
    "        this prefix (optional).\n",
    "    :param suffix: Only fetch objects whose keys end with\n",
    "        this suffix (optional).\n",
    "    \"\"\"\n",
    "    s3 = boto3.client(\"s3\")\n",
    "    paginator = s3.get_paginator(\"list_objects_v2\")\n",
    "\n",
    "    kwargs = {'Bucket': bucket}\n",
    "\n",
    "    # We can pass the prefix directly to the S3 API.  If the user has passed\n",
    "    # a tuple or list of prefixes, we go through them one by one.\n",
    "    if isinstance(prefix, str):\n",
    "        prefixes = (prefix, )\n",
    "    else:\n",
    "        prefixes = prefix\n",
    "\n",
    "    for key_prefix in prefixes:\n",
    "        kwargs[\"Prefix\"] = key_prefix\n",
    "\n",
    "        for page in paginator.paginate(**kwargs):\n",
    "            try:\n",
    "                contents = page[\"Contents\"]\n",
    "            except KeyError:\n",
    "                break\n",
    "\n",
    "            for obj in contents:\n",
    "                key = obj[\"Key\"]\n",
    "                if key.endswith(suffix):\n",
    "                    yield obj\n",
    "\n",
    "\n",
    "def get_matching_s3_keys(bucket, prefix=\"\", suffix=\"\"):\n",
    "    \"\"\"\n",
    "    Generate the keys in an S3 bucket.\n",
    "\n",
    "    :param bucket: Name of the S3 bucket.\n",
    "    :param prefix: Only fetch keys that start with this prefix (optional).\n",
    "    :param suffix: Only fetch keys that end with this suffix (optional).\n",
    "    \"\"\"\n",
    "    obj_list=[]\n",
    "    for obj in get_matching_s3_objects(bucket, prefix, suffix):\n",
    "        obj_list.append(obj[\"Key\"])\n",
    "    return(obj_list)\n"
   ]
  },
  {
   "cell_type": "code",
   "execution_count": 5,
   "metadata": {},
   "outputs": [],
   "source": [
    "def haversine_loss(y_true, y_pred, denorm=(36.0, 4.0, -78.0, 4.0), R=3443.92):\n",
    "    \"\"\"\n",
    "    Returns the mean squared haversine distance\n",
    "    between arrays consisting of lattitudes and\n",
    "    longitudes.\n",
    "    \n",
    "    Args:\n",
    "        y_true:  Either an np.array or a tf.constant\n",
    "                 of dimensions m x 2 where m in the\n",
    "                 number of observations.  Each row is\n",
    "                 an ordered pair of [lat, long].\n",
    "                 \n",
    "        y_pred:  Has the same form as y_true.\n",
    "        \n",
    "        dnorm:   A tuple of four values needed to\n",
    "                 convert normalized lat and long back\n",
    "                 to actual values.\n",
    "        \n",
    "        R:       Float giving the radius of the earth.\n",
    "                 The default value is in nautical\n",
    "                 miles.  Values in other units:\n",
    "                 \n",
    "                 kilometers    -> 6378.14\n",
    "                 statute miles -> 3963.19\n",
    "                 smoots        -> 3.748e+6\n",
    "        \n",
    "    Returns:\n",
    "        tf.tensor of shape () and dtype float64 giving\n",
    "        the mean square distance error using the\n",
    "        haversine function.\n",
    "    \n",
    "    Examples:\n",
    "    \n",
    "        Input:\n",
    "        y1     = np.array([[0, 0]])\n",
    "        y_hat1 = np.array([[0, 180]])\n",
    "        \n",
    "        Expected result:\n",
    "        (pi * R) ** 2 = 117059281.6 nm^2\n",
    "        \n",
    "        Input:\n",
    "        y2     = np.array([[0, 0]])\n",
    "        y_hat2 = np.array([[90, 0]])\n",
    "        \n",
    "        Expected result:\n",
    "        (pi * R / 2) ** 2 = 29264820.4 nm^2\n",
    "        \n",
    "        Input:\n",
    "        Portmsouth, VA to Rota, Spain\n",
    "        y3     = tf.constant([[36.8354, -76.2983]])\n",
    "        y_hat3 = tf.constant([[36.6237, -6.3601]])\n",
    "        \n",
    "        Expected result:\n",
    "        37065212.0 km^2\n",
    "        \n",
    "    Notes:\n",
    "        Closely follows the JS implmentation at\n",
    "        https://www.movable-type.co.uk/scripts/latlong.html.\n",
    "    \"\"\"\n",
    "    # Break inputs into lattitudes and longitudes for\n",
    "    # convienience\n",
    "\n",
    "    # Convert normalized lat and long into actuals\n",
    "    lat_min, lat_range, long_min, long_range = denorm\n",
    "    lat1  = y_true[:,0] * lat_range + lat_min\n",
    "    lat2  = y_pred[:,0] * lat_range + lat_min\n",
    "    long1 = y_true[:,1] * long_range + long_min\n",
    "    long2 = y_pred[:,1] * long_range + long_min\n",
    "    \n",
    "    # Compute phis and lambdas \n",
    "    phi1 = lat1 * np.pi / 180\n",
    "    phi2 = lat2 * np.pi / 180\n",
    "    delta_phi    = (lat2 - lat1) * np.pi / 180\n",
    "    delta_lambda = (long2 - long1) * np.pi / 180\n",
    "    \n",
    "    # Intermediate computations\n",
    "    a = tf.square(tf.sin(delta_phi / 2)) + tf.cos(phi1) * tf.cos(phi2) * tf.square(tf.sin(delta_lambda / 2))\n",
    "    c = 2 * tf.atan2(tf.sqrt(a), tf.sqrt(1 - a))\n",
    "    \n",
    "    # Compute distances\n",
    "    d = R * c\n",
    "    \n",
    "    # Compute the mean squared distance (MSE)\n",
    "    return tf.reduce_mean(d)"
   ]
  },
  {
   "cell_type": "markdown",
   "metadata": {},
   "source": [
    "### Key image read-in functions: load_image and build_input"
   ]
  },
  {
   "cell_type": "code",
   "execution_count": 6,
   "metadata": {
    "colab": {},
    "colab_type": "code",
    "id": "FVUFnke4eIZI"
   },
   "outputs": [],
   "source": [
    "def load_image(s3_client,bucket_name,file_name, dim=(224,224)):\n",
    "    \"\"\"\n",
    "    Loads a single image as a Numpy array and resizes it as\n",
    "    desired.  The default dimensions are consistent with\n",
    "    those expected by the VGG models.  \n",
    "\n",
    "    Args:\n",
    "    s3_client:  s3 resource\n",
    "    bucket_name:name of bucket\n",
    "    file_name:  file to convert to image\n",
    "\n",
    "    dim: Two-element tuple giving the desired height\n",
    "         and width of the processed image\n",
    "\n",
    "    Returns:\n",
    "    image:  A single-channel Numpy array\n",
    "    \"\"\"\n",
    "    #image = cv2.imread(image_path, 0)\n",
    "    file_stream = io.BytesIO()\n",
    "    s3.download_fileobj(bucket_name,file_name,file_stream)\n",
    "    nparr = np.frombuffer(file_stream.getvalue(), np.uint8)\n",
    "    image=cv2.imdecode(nparr,0)\n",
    "    image = cv2.resize(image, dim)#, interpolation = cv2.INTER_AREA)\n",
    "    return image"
   ]
  },
  {
   "cell_type": "code",
   "execution_count": 7,
   "metadata": {
    "colab": {},
    "colab_type": "code",
    "id": "CFJgfKxOi9Uj"
   },
   "outputs": [],
   "source": [
    "def build_input(s3_client,bucket_name,file_list,files_to_load,dim):\n",
    "    \"\"\"\n",
    "    Loads all of the images into a single numpy array.\n",
    "    Assumes that there are 101 equally-spaced images\n",
    "    spanning lattitudes from 35N to 45N.  \n",
    "\n",
    "    Args:\n",
    "    s3_client:  s3 resource\n",
    "    bucket_name:name of bucket\n",
    "    file_list:  list of files in bucket\n",
    "    Returns:\n",
    "    X:  A 3-dimensional numpy array containing the\n",
    "        images. Image height and width are set by\n",
    "        `load_images` and default to 224 x 224.\n",
    "\n",
    "    y:  A 1-dimensional numpy array of target lattitudes.\n",
    "    \"\"\"\n",
    "    X = []\n",
    "    i=0\n",
    "    for file in file_list[0:files_to_load]:\n",
    "        if file[-4:] == '.png':\n",
    "            print(file)\n",
    "            image = load_image(s3_client,bucket_name,file,dim)\n",
    "            X.append(image)\n",
    "            if i%100==0:\n",
    "                print('loaded:',i)\n",
    "            i+=1\n",
    "    return (np.array(X) / 255)"
   ]
  },
  {
   "cell_type": "code",
   "execution_count": 8,
   "metadata": {
    "colab": {},
    "colab_type": "code",
    "id": "g4CpV8Yue8G1"
   },
   "outputs": [],
   "source": [
    "def build_labels(file_list,files_to_load):\n",
    "    y = []\n",
    "    t=[]\n",
    "    for file in file_list[0:files_to_load]:\n",
    "        if file[-4:] == '.png':\n",
    "            file_split = file.split('+')\n",
    "            lat = float(file_split[0])\n",
    "            long = float(file_split[1])\n",
    "            time = file_split[2].split('.')[0]\n",
    "            y.append((lat, long))\n",
    "            t.append(time)\n",
    "    return np.array(y),np.array(t)"
   ]
  },
  {
   "cell_type": "markdown",
   "metadata": {},
   "source": [
    "#### Test load_image on one image manually"
   ]
  },
  {
   "cell_type": "code",
   "execution_count": 9,
   "metadata": {
    "colab": {
     "base_uri": "https://localhost:8080/",
     "height": 286
    },
    "colab_type": "code",
    "id": "6aWURghls3NV",
    "outputId": "cc7d27e7-ddee-424c-88ed-0bbf23b57972"
   },
   "outputs": [
    {
     "name": "stdout",
     "output_type": "stream",
     "text": [
      "(224, 224)\n",
      "[[ 36.00147625 -74.82905304]] ['2020-05-26T01:10:59']\n"
     ]
    },
    {
     "data": {
      "image/png": "[encoded data removed]",
      "text/plain": [
       "<Figure size 432x288 with 1 Axes>"
      ]
     },
     "metadata": {
      "needs_background": "light"
     },
     "output_type": "display_data"
    }
   ],
   "source": [
    "bucket_name='w251-final-project'\n",
    "file_name='36.0014762509164+-74.82905304191733+2020-05-26T01:10:59.png'\n",
    "s3 = boto3.client('s3')\n",
    "sample_image = load_image(s3,bucket_name,file_name)\n",
    "plt.imshow(sample_image)\n",
    "print(sample_image.shape)\n",
    "file_list=[file_name]\n",
    "test_label, test_time=build_labels(file_list,1)\n",
    "print (test_label,test_time)"
   ]
  },
  {
   "cell_type": "markdown",
   "metadata": {
    "colab_type": "text",
    "id": "10QkIM_Rso10"
   },
   "source": [
    "## Prepare the data"
   ]
  },
  {
   "cell_type": "markdown",
   "metadata": {
    "colab_type": "text",
    "id": "HkcP-D-Esrce"
   },
   "source": [
    "### Load the images"
   ]
  },
  {
   "cell_type": "code",
   "execution_count": 18,
   "metadata": {
    "colab": {},
    "colab_type": "code",
    "id": "kUp7yqdFkFi0"
   },
   "outputs": [
    {
     "name": "stdout",
     "output_type": "stream",
     "text": [
      "loading from files\n",
      "shape of image array: (500, 224, 224)\n",
      "shape of label list: (500, 2)\n",
      "shape of time list: (500,)\n"
     ]
    }
   ],
   "source": [
    "#clear out models for memory management purposes\n",
    "tf.keras.backend.clear_session()\n",
    "\n",
    "#change this to true to force it to reload from S3 bucket\n",
    "force_load=False\n",
    "\n",
    "#check if np arrays have already been saved and load if so\n",
    "if ((os.path.exists('x.npy'))&(not force_load)):\n",
    "    print('loading from files')\n",
    "    X=np.load('x.npy')\n",
    "    y=np.load('y.npy')\n",
    "    t=np.load('t.npy')\n",
    "\n",
    "#otherwise go to S3 bucket\n",
    "else:\n",
    "    print('loading from S3')\n",
    "    bucket_name='w251-final-project'\n",
    "    file_list=get_matching_s3_keys(bucket_name)\n",
    "    \n",
    "    #shuffle file list so that if take less than all are distributed.  also makes array randomly shuffled\n",
    "    random.shuffle(file_list)\n",
    "    \n",
    "    s3 = boto3.client('s3')\n",
    "\n",
    "    #max_files=100000\n",
    "    max_files=500\n",
    "    file_list_length=len(file_list)\n",
    "    files_to_load=np.minimum(max_files,file_list_length)\n",
    "\n",
    "    #get images\n",
    "    print('About to call build_input on',files_to_load,' files')\n",
    "    dim=(224,224)\n",
    "    X = build_input(s3,bucket_name,file_list,files_to_load,dim)\n",
    "\n",
    "\n",
    "    #get labels\n",
    "    print ('Building labels')\n",
    "    y,t = build_labels(file_list,files_to_load)\n",
    "    \n",
    "    print ('saving arrays so can reload more easily next time through')\n",
    "    np.save('x.npy',X)\n",
    "    np.save('y.npy',y)\n",
    "    np.save('t.npy',t)\n",
    "\n",
    "print ('shape of image array:', X.shape)\n",
    "print ('shape of label list:', y.shape)\n",
    "print ('shape of time list:',t.shape)"
   ]
  },
  {
   "cell_type": "markdown",
   "metadata": {
    "colab_type": "text",
    "id": "mdemcB48loMr"
   },
   "source": [
    "\n",
    "### Standardize the values"
   ]
  },
  {
   "cell_type": "code",
   "execution_count": 19,
   "metadata": {},
   "outputs": [],
   "source": [
    "def scale_down(numbers,top,bottom):\n",
    "    number_range=top-bottom\n",
    "    revised=[x-bottom for x in numbers]\n",
    "    revised=[x/number_range for x in revised]\n",
    "    return revised\n",
    "\n",
    "def scale_up(number,top,bottom):\n",
    "    number_range=top-bottom\n",
    "    revised=number*number_range\n",
    "    revised=revised+bottom\n",
    "    return revised\n",
    "\n",
    "def normalize_times(times, t_min, t_max):\n",
    "    \"\"\"\n",
    "    Converts times to a float bounded by [0,1]\n",
    "    \n",
    "    Args:\n",
    "        times: numpy.array with dtype datetime64\n",
    "\t\t\t\tt_min: time to fix as 0\n",
    "\t\t\t\tt_max: time to fix as 1\n",
    "        \n",
    "    Returns:\n",
    "        numpy.array of decimal times bounded on [0,1]\n",
    "    \"\"\"\n",
    "    time_range = (t_max - t_min).astype('float64')\n",
    "    seconds_from_t0 = (times - t_min).astype('float64')\n",
    "    \n",
    "    return seconds_from_t0 / time_range\n",
    "\n",
    "\n"
   ]
  },
  {
   "cell_type": "code",
   "execution_count": 20,
   "metadata": {
    "colab": {},
    "colab_type": "code",
    "id": "CQDi4jNTivAZ"
   },
   "outputs": [
    {
     "name": "stdout",
     "output_type": "stream",
     "text": [
      "0.47703348371365917 0.2996816554458038\n",
      "0.49227650530311345 0.2930379213818846\n"
     ]
    }
   ],
   "source": [
    "#just scaling down without normalizing\n",
    "y[:,0]=scale_down(y[:,0],latend,latstart)\n",
    "y[:,1]=scale_down(y[:,1],longend,longstart)\n",
    "\n",
    "#y[:,0] = scale(y[:,0])\n",
    "#y[:,1]=scale(y[:,1])\n",
    "\n",
    "print (y[:,0].mean(),y[:,0].std())\n",
    "print (y[:,1].mean(),y[:,1].std())"
   ]
  },
  {
   "cell_type": "code",
   "execution_count": 21,
   "metadata": {},
   "outputs": [
    {
     "name": "stdout",
     "output_type": "stream",
     "text": [
      "0.4752352777777778 0.2926160640904934\n"
     ]
    }
   ],
   "source": [
    "#normalize times\n",
    "dtstart=np.datetime64(dtstart)\n",
    "dtend=np.datetime64(dtend)\n",
    "#print(dtstart,dtend)\n",
    "t=[np.datetime64(x) for x in t]\n",
    "t=normalize_times(t,dtstart,dtend)\n",
    "print (t.mean(),t.std())"
   ]
  },
  {
   "cell_type": "markdown",
   "metadata": {
    "colab_type": "text",
    "id": "fwhGSeYdstxS"
   },
   "source": [
    "### Split into test and training sets"
   ]
  },
  {
   "cell_type": "code",
   "execution_count": 22,
   "metadata": {
    "colab": {
     "base_uri": "https://localhost:8080/",
     "height": 85
    },
    "colab_type": "code",
    "id": "owd0SyrvlUHo",
    "outputId": "e1e23c19-08da-4f84-df78-b6a8b0da9b51"
   },
   "outputs": [
    {
     "name": "stdout",
     "output_type": "stream",
     "text": [
      "(400, 224, 224)\n",
      "(400, 2)\n",
      "(100, 224, 224)\n",
      "(100, 2)\n",
      "(400,)\n",
      "(100,)\n"
     ]
    }
   ],
   "source": [
    "X_train, X_val, y_train, y_val,t_train,t_val = train_test_split(X, y,t, test_size=0.2)\n",
    "print(X_train.shape)\n",
    "print(y_train.shape)\n",
    "print(X_val.shape)\n",
    "print(y_val.shape)\n",
    "print(t_train.shape)\n",
    "print(t_val.shape)"
   ]
  },
  {
   "cell_type": "code",
   "execution_count": 25,
   "metadata": {},
   "outputs": [
    {
     "name": "stdout",
     "output_type": "stream",
     "text": [
      "(224, 224)\n",
      "[[0.03921569 0.04313725 0.04313725 ... 0.04705882 0.04313725 0.03921569]\n",
      " [0.03921569 0.04313725 0.04313725 ... 0.04705882 0.04313725 0.03921569]\n",
      " [0.04313725 0.04705882 0.04705882 ... 0.05098039 0.04705882 0.04313725]\n",
      " ...\n",
      " [0.02745098 0.03137255 0.03921569 ... 0.03529412 0.03137255 0.03137255]\n",
      " [0.02745098 0.03137255 0.03921569 ... 0.03529412 0.03529412 0.03137255]\n",
      " [0.02745098 0.03137255 0.03921569 ... 0.03529412 0.03529412 0.03137255]]\n",
      "0.984313725490196\n",
      "0.052157972564025615\n"
     ]
    }
   ],
   "source": [
    "print(X_train[0].shape)\n",
    "print (X_train[0])\n",
    "print (X_train[0].max())\n",
    "print (X_train[0].mean())"
   ]
  },
  {
   "cell_type": "markdown",
   "metadata": {},
   "source": [
    "### Add channel for CNN"
   ]
  },
  {
   "cell_type": "code",
   "execution_count": 26,
   "metadata": {},
   "outputs": [
    {
     "name": "stdout",
     "output_type": "stream",
     "text": [
      "(400, 224, 224) (400, 2)\n",
      "(400, 224, 224, 1) (100, 224, 224, 1)\n"
     ]
    }
   ],
   "source": [
    "#need to add channel for B&W for CNN\n",
    "#https://machinelearningmastery.com/a-gentle-introduction-to-channels-first-and-channels-last-image-formats-for-deep-learning/\n",
    "\n",
    "print(X_train.shape,y_train.shape)\n",
    "X_train=np.expand_dims(X_train,axis=3)\n",
    "X_val=np.expand_dims(X_val,axis=3)\n",
    "print(X_train.shape,X_val.shape)"
   ]
  },
  {
   "cell_type": "markdown",
   "metadata": {
    "colab_type": "text",
    "id": "otvKdtM3tKDG"
   },
   "source": [
    "## The model\n"
   ]
  },
  {
   "cell_type": "code",
   "execution_count": 29,
   "metadata": {},
   "outputs": [
    {
     "name": "stdout",
     "output_type": "stream",
     "text": [
      "Model: \"model\"\n",
      "__________________________________________________________________________________________________\n",
      "Layer (type)                    Output Shape         Param #     Connected to                     \n",
      "==================================================================================================\n",
      "input_5 (InputLayer)            [(None, 224, 224, 1) 0                                            \n",
      "__________________________________________________________________________________________________\n",
      "flatten_4 (Flatten)             (None, 50176)        0           input_5[0][0]                    \n",
      "__________________________________________________________________________________________________\n",
      "dense_10 (Dense)                (None, 528)          26493456    flatten_4[0][0]                  \n",
      "__________________________________________________________________________________________________\n",
      "dense_11 (Dense)                (None, 528)          279312      dense_10[0][0]                   \n",
      "__________________________________________________________________________________________________\n",
      "input_6 (InputLayer)            [(None,)]            0                                            \n",
      "__________________________________________________________________________________________________\n",
      "dense_12 (Dense)                (None, 528)          279312      dense_11[0][0]                   \n",
      "__________________________________________________________________________________________________\n",
      "flatten_5 (Flatten)             (None, 1)            0           input_6[0][0]                    \n",
      "__________________________________________________________________________________________________\n",
      "concatenate_2 (Concatenate)     (None, 529)          0           dense_12[0][0]                   \n",
      "                                                                 flatten_5[0][0]                  \n",
      "__________________________________________________________________________________________________\n",
      "dense_13 (Dense)                (None, 256)          135680      concatenate_2[0][0]              \n",
      "__________________________________________________________________________________________________\n",
      "dense_15 (Dense)                (None, 256)          135680      concatenate_2[0][0]              \n",
      "__________________________________________________________________________________________________\n",
      "dropout_2 (Dropout)             (None, 256)          0           dense_13[0][0]                   \n",
      "__________________________________________________________________________________________________\n",
      "dropout_3 (Dropout)             (None, 256)          0           dense_15[0][0]                   \n",
      "__________________________________________________________________________________________________\n",
      "dense_14 (Dense)                (None, 256)          65792       dropout_2[0][0]                  \n",
      "__________________________________________________________________________________________________\n",
      "dense_16 (Dense)                (None, 256)          65792       dropout_3[0][0]                  \n",
      "__________________________________________________________________________________________________\n",
      "regression_lat (Dense)          (None, 1)            257         dense_14[0][0]                   \n",
      "__________________________________________________________________________________________________\n",
      "regression_long (Dense)         (None, 1)            257         dense_16[0][0]                   \n",
      "==================================================================================================\n",
      "Total params: 27,455,538\n",
      "Trainable params: 27,455,538\n",
      "Non-trainable params: 0\n",
      "__________________________________________________________________________________________________\n",
      "None\n"
     ]
    }
   ],
   "source": [
    "#just dense\n",
    "\n",
    "input_shape=(224,224,1)\n",
    "input_image = tf.keras.layers.Input(shape=X_train[0].shape)\n",
    "input_time=input_time=tf.keras.layers.Input(shape=t_train[0].shape)\n",
    "i=tf.keras.layers.Flatten()(input_image)\n",
    "i=tf.keras.layers.Dense(528,activation='relu')(i)\n",
    "i=tf.keras.layers.Dense(528,activation='relu')(i)\n",
    "i=tf.keras.layers.Dense(528,activation='relu')(i)\n",
    "\n",
    "t=tf.keras.layers.Flatten()(input_time)\n",
    "it=tf.keras.layers.concatenate([i,t])\n",
    "\n",
    "xlat=tf.keras.layers.Dense(256,activation='relu')(it)\n",
    "xlat=tf.keras.layers.Dropout(0.25)(xlat)\n",
    "xlat=tf.keras.layers.Dense(256,activation='relu')(xlat)\n",
    "regression_layer_lat = tf.keras.layers.Dense(1, name='regression_lat')(xlat)  \n",
    "\n",
    "xlong=tf.keras.layers.Dense(256,activation='relu')(it)\n",
    "xlong=tf.keras.layers.Dropout(0.25)(xlong)\n",
    "xlong=tf.keras.layers.Dense(256,activation='relu')(xlong)\n",
    "regression_layer_long = tf.keras.layers.Dense(1, name='regression_long')(xlong)\n",
    "\n",
    "model_output = [regression_layer_lat, regression_layer_long]\n",
    "losses = ['mean_squared_error', 'mean_squared_error']\n",
    "metrics = ['mean_squared_error', 'mean_squared_error']\n",
    "\n",
    "model = tf.keras.models.Model([input_image,input_time], model_output)\n",
    "\n",
    "\n",
    "\n",
    "\n",
    "\n"
   ]
  },
  {
   "cell_type": "code",
   "execution_count": 32,
   "metadata": {},
   "outputs": [
    {
     "name": "stdout",
     "output_type": "stream",
     "text": [
      "Model: \"model\"\n",
      "__________________________________________________________________________________________________\n",
      "Layer (type)                    Output Shape         Param #     Connected to                     \n",
      "==================================================================================================\n",
      "input_5 (InputLayer)            [(None, 224, 224, 1) 0                                            \n",
      "__________________________________________________________________________________________________\n",
      "flatten_4 (Flatten)             (None, 50176)        0           input_5[0][0]                    \n",
      "__________________________________________________________________________________________________\n",
      "dense_10 (Dense)                (None, 528)          26493456    flatten_4[0][0]                  \n",
      "__________________________________________________________________________________________________\n",
      "dense_11 (Dense)                (None, 528)          279312      dense_10[0][0]                   \n",
      "__________________________________________________________________________________________________\n",
      "input_6 (InputLayer)            [(None,)]            0                                            \n",
      "__________________________________________________________________________________________________\n",
      "dense_12 (Dense)                (None, 528)          279312      dense_11[0][0]                   \n",
      "__________________________________________________________________________________________________\n",
      "flatten_5 (Flatten)             (None, 1)            0           input_6[0][0]                    \n",
      "__________________________________________________________________________________________________\n",
      "concatenate_2 (Concatenate)     (None, 529)          0           dense_12[0][0]                   \n",
      "                                                                 flatten_5[0][0]                  \n",
      "__________________________________________________________________________________________________\n",
      "dense_13 (Dense)                (None, 256)          135680      concatenate_2[0][0]              \n",
      "__________________________________________________________________________________________________\n",
      "dense_15 (Dense)                (None, 256)          135680      concatenate_2[0][0]              \n",
      "__________________________________________________________________________________________________\n",
      "dropout_2 (Dropout)             (None, 256)          0           dense_13[0][0]                   \n",
      "__________________________________________________________________________________________________\n",
      "dropout_3 (Dropout)             (None, 256)          0           dense_15[0][0]                   \n",
      "__________________________________________________________________________________________________\n",
      "dense_14 (Dense)                (None, 256)          65792       dropout_2[0][0]                  \n",
      "__________________________________________________________________________________________________\n",
      "dense_16 (Dense)                (None, 256)          65792       dropout_3[0][0]                  \n",
      "__________________________________________________________________________________________________\n",
      "regression_lat (Dense)          (None, 1)            257         dense_14[0][0]                   \n",
      "__________________________________________________________________________________________________\n",
      "regression_long (Dense)         (None, 1)            257         dense_16[0][0]                   \n",
      "==================================================================================================\n",
      "Total params: 27,455,538\n",
      "Trainable params: 27,455,538\n",
      "Non-trainable params: 0\n",
      "__________________________________________________________________________________________________\n",
      "None\n"
     ]
    }
   ],
   "source": [
    "losses = ['mean_squared_error','mean_squared_error']\n",
    "metrics = ['mean_squared_error','mean_squared_error']\n",
    "\n",
    "model.compile(optimizer='Adam',\n",
    "                 loss=losses,\n",
    "                 metrics=metrics)\n",
    "\n",
    "print(model.summary())\n"
   ]
  },
  {
   "cell_type": "markdown",
   "metadata": {
    "colab_type": "text",
    "id": "45ubHGx-0fZT"
   },
   "source": [
    "### Fit the model"
   ]
  },
  {
   "cell_type": "code",
   "execution_count": 35,
   "metadata": {
    "colab": {
     "base_uri": "https://localhost:8080/",
     "height": 1000
    },
    "colab_type": "code",
    "id": "GSdEVoRTn7KO",
    "outputId": "f18a5e41-575f-4cc5-a200-7ed098765963"
   },
   "outputs": [
    {
     "name": "stdout",
     "output_type": "stream",
     "text": [
      "Train on 400 samples, validate on 100 samples\n",
      "Epoch 1/15\n",
      "400/400 [==============================] - 3s 7ms/sample - loss: 2.8438 - regression_lat_loss: 1.5783 - regression_long_loss: 1.1837 - regression_lat_mean_squared_error: 1.6291 - regression_long_mean_squared_error: 1.2147 - val_loss: 0.2181 - val_regression_lat_loss: 0.0963 - val_regression_long_loss: 0.1448 - val_regression_lat_mean_squared_error: 0.0998 - val_regression_long_mean_squared_error: 0.1183\n",
      "Epoch 2/15\n",
      "400/400 [==============================] - 2s 4ms/sample - loss: 0.4042 - regression_lat_loss: 0.2014 - regression_long_loss: 0.1960 - regression_lat_mean_squared_error: 0.2052 - regression_long_mean_squared_error: 0.1990 - val_loss: 0.2202 - val_regression_lat_loss: 0.1208 - val_regression_long_loss: 0.1071 - val_regression_lat_mean_squared_error: 0.1267 - val_regression_long_mean_squared_error: 0.0934\n",
      "Epoch 3/15\n",
      "400/400 [==============================] - 2s 4ms/sample - loss: 0.2601 - regression_lat_loss: 0.1225 - regression_long_loss: 0.1341 - regression_lat_mean_squared_error: 0.1247 - regression_long_mean_squared_error: 0.1354 - val_loss: 0.2253 - val_regression_lat_loss: 0.1215 - val_regression_long_loss: 0.1248 - val_regression_lat_mean_squared_error: 0.1224 - val_regression_long_mean_squared_error: 0.1030\n",
      "Epoch 4/15\n",
      "400/400 [==============================] - 2s 4ms/sample - loss: 0.2148 - regression_lat_loss: 0.1088 - regression_long_loss: 0.1043 - regression_lat_mean_squared_error: 0.1104 - regression_long_mean_squared_error: 0.1044 - val_loss: 0.1956 - val_regression_lat_loss: 0.0984 - val_regression_long_loss: 0.1066 - val_regression_lat_mean_squared_error: 0.1008 - val_regression_long_mean_squared_error: 0.0949\n",
      "Epoch 5/15\n",
      "400/400 [==============================] - 2s 4ms/sample - loss: 0.1976 - regression_lat_loss: 0.1030 - regression_long_loss: 0.0937 - regression_lat_mean_squared_error: 0.1038 - regression_long_mean_squared_error: 0.0937 - val_loss: 0.1973 - val_regression_lat_loss: 0.0967 - val_regression_long_loss: 0.1184 - val_regression_lat_mean_squared_error: 0.0985 - val_regression_long_mean_squared_error: 0.0988\n",
      "Epoch 6/15\n",
      "400/400 [==============================] - 2s 4ms/sample - loss: 0.1881 - regression_lat_loss: 0.0999 - regression_long_loss: 0.0884 - regression_lat_mean_squared_error: 0.0993 - regression_long_mean_squared_error: 0.0888 - val_loss: 0.2110 - val_regression_lat_loss: 0.1054 - val_regression_long_loss: 0.1263 - val_regression_lat_mean_squared_error: 0.1066 - val_regression_long_mean_squared_error: 0.1044\n",
      "Epoch 7/15\n",
      "400/400 [==============================] - 2s 4ms/sample - loss: 0.1930 - regression_lat_loss: 0.0977 - regression_long_loss: 0.0947 - regression_lat_mean_squared_error: 0.0983 - regression_long_mean_squared_error: 0.0947 - val_loss: 0.1987 - val_regression_lat_loss: 0.0952 - val_regression_long_loss: 0.1230 - val_regression_lat_mean_squared_error: 0.0969 - val_regression_long_mean_squared_error: 0.1018\n",
      "Epoch 8/15\n",
      "400/400 [==============================] - 2s 4ms/sample - loss: 0.1980 - regression_lat_loss: 0.1026 - regression_long_loss: 0.0971 - regression_lat_mean_squared_error: 0.1016 - regression_long_mean_squared_error: 0.0964 - val_loss: 0.1920 - val_regression_lat_loss: 0.0955 - val_regression_long_loss: 0.1121 - val_regression_lat_mean_squared_error: 0.0971 - val_regression_long_mean_squared_error: 0.0949\n",
      "Epoch 9/15\n",
      "400/400 [==============================] - 2s 4ms/sample - loss: 0.1821 - regression_lat_loss: 0.0974 - regression_long_loss: 0.0837 - regression_lat_mean_squared_error: 0.0985 - regression_long_mean_squared_error: 0.0836 - val_loss: 0.2552 - val_regression_lat_loss: 0.1624 - val_regression_long_loss: 0.1033 - val_regression_lat_mean_squared_error: 0.1611 - val_regression_long_mean_squared_error: 0.0941\n",
      "Epoch 10/15\n",
      "400/400 [==============================] - 2s 4ms/sample - loss: 0.1941 - regression_lat_loss: 0.1027 - regression_long_loss: 0.0906 - regression_lat_mean_squared_error: 0.1022 - regression_long_mean_squared_error: 0.0919 - val_loss: 0.2144 - val_regression_lat_loss: 0.1046 - val_regression_long_loss: 0.1318 - val_regression_lat_mean_squared_error: 0.1060 - val_regression_long_mean_squared_error: 0.1084\n",
      "Epoch 11/15\n",
      "400/400 [==============================] - 2s 4ms/sample - loss: 0.1906 - regression_lat_loss: 0.0979 - regression_long_loss: 0.0915 - regression_lat_mean_squared_error: 0.0984 - regression_long_mean_squared_error: 0.0922 - val_loss: 0.1876 - val_regression_lat_loss: 0.0930 - val_regression_long_loss: 0.1078 - val_regression_lat_mean_squared_error: 0.0954 - val_regression_long_mean_squared_error: 0.0923\n",
      "Epoch 12/15\n",
      "400/400 [==============================] - 2s 4ms/sample - loss: 0.1809 - regression_lat_loss: 0.0930 - regression_long_loss: 0.0884 - regression_lat_mean_squared_error: 0.0938 - regression_long_mean_squared_error: 0.0871 - val_loss: 0.2038 - val_regression_lat_loss: 0.1090 - val_regression_long_loss: 0.1156 - val_regression_lat_mean_squared_error: 0.1074 - val_regression_long_mean_squared_error: 0.0964\n",
      "Epoch 13/15\n",
      "400/400 [==============================] - 2s 4ms/sample - loss: 0.1777 - regression_lat_loss: 0.0957 - regression_long_loss: 0.0809 - regression_lat_mean_squared_error: 0.0971 - regression_long_mean_squared_error: 0.0806 - val_loss: 0.2008 - val_regression_lat_loss: 0.1032 - val_regression_long_loss: 0.1179 - val_regression_lat_mean_squared_error: 0.1031 - val_regression_long_mean_squared_error: 0.0977\n",
      "Epoch 14/15\n",
      "400/400 [==============================] - 2s 4ms/sample - loss: 0.1821 - regression_lat_loss: 0.0957 - regression_long_loss: 0.0860 - regression_lat_mean_squared_error: 0.0955 - regression_long_mean_squared_error: 0.0865 - val_loss: 0.2586 - val_regression_lat_loss: 0.1600 - val_regression_long_loss: 0.1223 - val_regression_lat_mean_squared_error: 0.1573 - val_regression_long_mean_squared_error: 0.1014\n",
      "Epoch 15/15\n",
      "400/400 [==============================] - 2s 4ms/sample - loss: 0.1790 - regression_lat_loss: 0.1001 - regression_long_loss: 0.0786 - regression_lat_mean_squared_error: 0.1003 - regression_long_mean_squared_error: 0.0786 - val_loss: 0.1851 - val_regression_lat_loss: 0.1000 - val_regression_long_loss: 0.0978 - val_regression_lat_mean_squared_error: 0.0996 - val_regression_long_mean_squared_error: 0.0855\n"
     ]
    }
   ],
   "source": [
    "tf.keras.backend.clear_session()\n",
    "history = model.fit(x=[X_train,t_train], \n",
    "                    y=[y_train[:,0],y_train[:,1]],\n",
    "                    validation_data=[[X_val,t_val],[y_val[:,0],y_val[:,1]]],\n",
    "                    verbose=1, epochs=15, batch_size=32)\n",
    "\n",
    "    \n"
   ]
  },
  {
   "cell_type": "markdown",
   "metadata": {
    "colab_type": "text",
    "id": "xgjEi6oP0kNE"
   },
   "source": [
    "### Evaluate model performance"
   ]
  },
  {
   "cell_type": "code",
   "execution_count": 36,
   "metadata": {
    "colab": {
     "base_uri": "https://localhost:8080/",
     "height": 295
    },
    "colab_type": "code",
    "id": "CZNI6nGtzbYy",
    "outputId": "0af1dc94-1682-46eb-e7d9-e5a52d01eacb"
   },
   "outputs": [
    {
     "data": {
      "image/png": "[encoded data removed]",
      "text/plain": [
       "<Figure size 432x288 with 1 Axes>"
      ]
     },
     "metadata": {
      "needs_background": "light"
     },
     "output_type": "display_data"
    }
   ],
   "source": [
    "history_df = pd.DataFrame(history.history)\n",
    "ax = history_df.plot(y=['loss', 'val_loss'],\n",
    "                xticks=np.linspace(0, len(history_df), 6))\n",
    "ax.set_ylabel('Loss')\n",
    "ax.set_xlabel('Epoch')\n",
    "ax.set_title('Evolution of Mean Squared Error')\n",
    "plt.show()\n"
   ]
  },
  {
   "cell_type": "code",
   "execution_count": 37,
   "metadata": {},
   "outputs": [
    {
     "name": "stdout",
     "output_type": "stream",
     "text": [
      "(100, 224, 224, 1)\n",
      "(100, 2)\n"
     ]
    }
   ],
   "source": [
    "print(X_val.shape)\n",
    "print(y_val.shape)"
   ]
  },
  {
   "cell_type": "code",
   "execution_count": 49,
   "metadata": {
    "colab": {},
    "colab_type": "code",
    "id": "29eHeDjEoNqj"
   },
   "outputs": [],
   "source": [
    "y_hat = model.predict([X_val,t_val])\n",
    "#y_hat_lat=model.predict(X_val)[0]\n",
    "#y_hat_long=model.predict(X_val)[1]\n",
    "y_hat_lat=y_hat[:,0]\n",
    "y_hat_long=y_hat[:,1]\n",
    "\n",
    "y_hat_lat=scale_up(y_hat_lat,latend,latstart)\n",
    "y_hat_long=scale_up(y_hat_long,longend,longstart)\n",
    "\n",
    "y_val_lat=y_val[:,0]\n",
    "y_val_long=y_val[:,1]\n",
    "\n",
    "y_val_lat=scale_up(y_val_lat,latend,latstart)\n",
    "y_val_long=scale_up(y_val_long,longend,longstart)"
   ]
  },
  {
   "cell_type": "code",
   "execution_count": 51,
   "metadata": {
    "colab": {
     "base_uri": "https://localhost:8080/",
     "height": 295
    },
    "colab_type": "code",
    "id": "6CoZVBtCrT7K",
    "outputId": "f9b36a5f-5eef-468e-edd9-e6811ba7ea39"
   },
   "outputs": [
    {
     "data": {
      "text/plain": [
       "(36, 40)"
      ]
     },
     "execution_count": 51,
     "metadata": {},
     "output_type": "execute_result"
    },
    {
     "data": {
      "image/png": "[encoded data removed]",
      "text/plain": [
       "<Figure size 864x432 with 1 Axes>"
      ]
     },
     "metadata": {
      "needs_background": "light"
     },
     "output_type": "display_data"
    }
   ],
   "source": [
    "fig = plt.figure(figsize=(12,6))\n",
    "ax=fig.add_subplot(111)\n",
    "ax.scatter(y_val_lat, y_hat_lat)\n",
    "plt.title('Predicted lat vs. True lat')\n",
    "plt.xlabel('True lat')\n",
    "plt.ylabel('Predicted lat')\n",
    "ax.set_xlim(36,40)\n",
    "ax.set_ylim(36,40)\n",
    "#draw straight line\n"
   ]
  },
  {
   "cell_type": "code",
   "execution_count": 36,
   "metadata": {
    "colab": {
     "base_uri": "https://localhost:8080/",
     "height": 295
    },
    "colab_type": "code",
    "id": "n5tCuM2HvK72",
    "outputId": "f1b6570d-1fa3-464c-c820-8e01ca393676"
   },
   "outputs": [
    {
     "data": {
      "text/plain": [
       "(-78, -74)"
      ]
     },
     "execution_count": 36,
     "metadata": {},
     "output_type": "execute_result"
    },
    {
     "data": {
      "image/png": "[encoded data removed]",
      "text/plain": [
       "<Figure size 864x432 with 1 Axes>"
      ]
     },
     "metadata": {
      "needs_background": "light"
     },
     "output_type": "display_data"
    }
   ],
   "source": [
    "fig = plt.figure(figsize=(12,6))\n",
    "ax=fig.add_subplot(111)\n",
    "ax.scatter(y_val_long, y_hat_long)\n",
    "plt.title('Predicted long vs. True long')\n",
    "plt.xlabel('True long')\n",
    "plt.ylabel('Predicted long')\n",
    "ax.set_xlim(-78,-74)\n",
    "ax.set_ylim(-78,-74)\n"
   ]
  },
  {
   "cell_type": "markdown",
   "metadata": {},
   "source": [
    "### Save Model"
   ]
  },
  {
   "cell_type": "code",
   "execution_count": 23,
   "metadata": {},
   "outputs": [
    {
     "name": "stdout",
     "output_type": "stream",
     "text": [
      "WARNING:tensorflow:From /home/ubuntu/anaconda3/envs/tensorflow2_p36/lib/python3.6/site-packages/tensorflow_core/python/ops/resource_variable_ops.py:1786: calling BaseResourceVariable.__init__ (from tensorflow.python.ops.resource_variable_ops) with constraint is deprecated and will be removed in a future version.\n",
      "Instructions for updating:\n",
      "If using Keras pass *_constraint arguments to layers.\n",
      "INFO:tensorflow:Assets written to: inference_model/assets\n"
     ]
    }
   ],
   "source": [
    "model_dir='inference_model'\n",
    "model.save(model_dir)\n"
   ]
  },
  {
   "cell_type": "code",
   "execution_count": 36,
   "metadata": {},
   "outputs": [],
   "source": [
    "test_model=tf.keras.models.load_model(model_dir)\n"
   ]
  },
  {
   "cell_type": "code",
   "execution_count": 24,
   "metadata": {},
   "outputs": [],
   "source": [
    "def upload_model(model_dir,bucket_name):\n",
    "    #s3_client=boto3.client('s3')\n",
    "    session = boto3.Session()\n",
    "    s3 = session.resource('s3')\n",
    "    bucket = s3.Bucket(bucket_name)\n",
    "    for subdir, dirs, files in os.walk(model_dir):\n",
    "        for file in files:\n",
    "            full_path = os.path.join(subdir, file)\n",
    "            with open(full_path, 'rb') as data:\n",
    "                bucket.put_object(Key=full_path[len(model_dir)+1:], Body=data)\n",
    "\n",
    "bucket_name='w251-final-project-model'\n",
    "upload_model(model_dir,bucket_name)"
   ]
  },
  {
   "cell_type": "code",
   "execution_count": null,
   "metadata": {},
   "outputs": [],
   "source": []
  },
  {
   "cell_type": "code",
   "execution_count": null,
   "metadata": {},
   "outputs": [],
   "source": [
    "input_image = tf.keras.layers.Input(shape=X_train[0].shape)\n",
    "input_time=tf.keras.layers.Input(shape=t_train[0].shape)\n",
    "\n",
    "i=tf.keras.layers.Conv2D(filters=5,kernel_size=10,padding='same',activation='relu')(input_image)\n",
    "i=tf.keras.layers.Conv2D(filters=1,kernel_size=10,padding='same',activation='relu') (i)\n",
    "i=tf.keras.layers.Flatten()(i)\n",
    "\n",
    "t=tf.keras.layers.Flatten()(input_time)\n",
    "ti=tf.keras.layers.concatenate([i,t])\n",
    "ti=tf.keras.layers.Dense(256,activation='relu')(ti)\n",
    "ti=tf.keras.layers.Dropout(0.2)(ti)\n",
    "outputs=tf.keras.layers.Dense(2,activation='sigmoid')(ti)\n",
    "\n",
    "model = tf.keras.Model(inputs=[input_image, input_time], outputs=outputs)\n",
    "\n",
    "\n",
    "lr_schedule = tf.keras.optimizers.schedules.ExponentialDecay(\n",
    "    initial_learning_rate=1e-2,\n",
    "    decay_steps=10000,\n",
    "    decay_rate=0.9)\n",
    "\n",
    "optimizer = tf.keras.optimizers.SGD(learning_rate=lr_schedule)\n",
    "\n",
    "model.compile(optimizer=optimizer,\n",
    "                 loss=haversine_loss)\n",
    "\n",
    "print(model.summary())\n",
    "\n",
    "history = model.fit(x=[X_train,t_train], \n",
    "                    y=[y_train],\n",
    "                    validation_data=[[X_val,t_val],y_val],\n",
    "                    verbose=1, epochs=15, batch_size=64)\n"
   ]
  },
  {
   "cell_type": "markdown",
   "metadata": {},
   "source": [
    "### Feed Forward Dense"
   ]
  },
  {
   "cell_type": "code",
   "execution_count": 38,
   "metadata": {},
   "outputs": [
    {
     "name": "stdout",
     "output_type": "stream",
     "text": [
      "Model: \"model_2\"\n",
      "__________________________________________________________________________________________________\n",
      "Layer (type)                    Output Shape         Param #     Connected to                     \n",
      "==================================================================================================\n",
      "input_3 (InputLayer)            [(None, 224, 224, 1) 0                                            \n",
      "__________________________________________________________________________________________________\n",
      "flatten_1 (Flatten)             (None, 50176)        0           input_3[0][0]                    \n",
      "__________________________________________________________________________________________________\n",
      "dense_11 (Dense)                (None, 528)          26493456    flatten_1[0][0]                  \n",
      "__________________________________________________________________________________________________\n",
      "dense_12 (Dense)                (None, 528)          279312      dense_11[0][0]                   \n",
      "__________________________________________________________________________________________________\n",
      "dense_13 (Dense)                (None, 528)          279312      dense_12[0][0]                   \n",
      "__________________________________________________________________________________________________\n",
      "dense_14 (Dense)                (None, 256)          135424      dense_13[0][0]                   \n",
      "__________________________________________________________________________________________________\n",
      "dense_16 (Dense)                (None, 256)          135424      dense_13[0][0]                   \n",
      "__________________________________________________________________________________________________\n",
      "dropout_6 (Dropout)             (None, 256)          0           dense_14[0][0]                   \n",
      "__________________________________________________________________________________________________\n",
      "dropout_7 (Dropout)             (None, 256)          0           dense_16[0][0]                   \n",
      "__________________________________________________________________________________________________\n",
      "dense_15 (Dense)                (None, 256)          65792       dropout_6[0][0]                  \n",
      "__________________________________________________________________________________________________\n",
      "dense_17 (Dense)                (None, 256)          65792       dropout_7[0][0]                  \n",
      "__________________________________________________________________________________________________\n",
      "regression_lat (Dense)          (None, 1)            257         dense_15[0][0]                   \n",
      "__________________________________________________________________________________________________\n",
      "regression_long (Dense)         (None, 1)            257         dense_17[0][0]                   \n",
      "==================================================================================================\n",
      "Total params: 27,455,026\n",
      "Trainable params: 27,455,026\n",
      "Non-trainable params: 0\n",
      "__________________________________________________________________________________________________\n",
      "None\n"
     ]
    }
   ],
   "source": [
    "#just dense\n",
    "\n",
    "input_shape=(224,224,1)\n",
    "inputs = tf.keras.layers.Input(shape=input_shape)\n",
    "x=tf.keras.layers.Flatten()(inputs)\n",
    "x=tf.keras.layers.Dense(528,activation='relu')(x)\n",
    "x=tf.keras.layers.Dense(528,activation='relu')(x)\n",
    "x=tf.keras.layers.Dense(528,activation='relu')(x)\n",
    "\n",
    "xlat=tf.keras.layers.Dense(256,activation='relu')(x)\n",
    "xlat=tf.keras.layers.Dropout(0.25)(xlat)\n",
    "xlat=tf.keras.layers.Dense(256,activation='relu')(xlat)\n",
    "regression_layer_lat = tf.keras.layers.Dense(1, name='regression_lat')(xlat)  \n",
    "\n",
    "xlong=tf.keras.layers.Dense(256,activation='relu')(x)\n",
    "xlong=tf.keras.layers.Dropout(0.25)(xlong)\n",
    "xlong=tf.keras.layers.Dense(256,activation='relu')(xlong)\n",
    "regression_layer_long = tf.keras.layers.Dense(1, name='regression_long')(xlong)\n",
    "\n",
    "model_output = [regression_layer_lat, regression_layer_long]\n",
    "losses = ['mean_squared_error', 'mean_squared_error']\n",
    "metrics = ['mean_squared_error', 'mean_squared_error']\n",
    "\n",
    "model = tf.keras.models.Model(inputs, model_output)\n",
    "model.compile(loss=losses,  optimizer='adam', metrics=metrics)\n",
    "print(model.summary())"
   ]
  },
  {
   "cell_type": "code",
   "execution_count": 39,
   "metadata": {},
   "outputs": [
    {
     "name": "stdout",
     "output_type": "stream",
     "text": [
      "Train on 4000 samples, validate on 1000 samples\n",
      "Epoch 1/20\n",
      "4000/4000 [==============================] - 8s 2ms/sample - loss: 2.0387 - regression_lat_loss: 0.8447 - regression_long_loss: 1.1658 - regression_lat_mean_squared_error: 0.8550 - regression_long_mean_squared_error: 1.1837 - val_loss: 0.6580 - val_regression_lat_loss: 0.3201 - val_regression_long_loss: 0.3377 - val_regression_lat_mean_squared_error: 0.3201 - val_regression_long_mean_squared_error: 0.3379\n",
      "Epoch 2/20\n",
      "4000/4000 [==============================] - 7s 2ms/sample - loss: 0.6928 - regression_lat_loss: 0.3413 - regression_long_loss: 0.3514 - regression_lat_mean_squared_error: 0.3413 - regression_long_mean_squared_error: 0.3516 - val_loss: 0.6555 - val_regression_lat_loss: 0.3144 - val_regression_long_loss: 0.3413 - val_regression_lat_mean_squared_error: 0.3143 - val_regression_long_mean_squared_error: 0.3412\n",
      "Epoch 3/20\n",
      "4000/4000 [==============================] - 7s 2ms/sample - loss: 0.6259 - regression_lat_loss: 0.3081 - regression_long_loss: 0.3141 - regression_lat_mean_squared_error: 0.3084 - regression_long_mean_squared_error: 0.3176 - val_loss: 0.5195 - val_regression_lat_loss: 0.2663 - val_regression_long_loss: 0.2531 - val_regression_lat_mean_squared_error: 0.2660 - val_regression_long_mean_squared_error: 0.2536\n",
      "Epoch 4/20\n",
      "4000/4000 [==============================] - 7s 2ms/sample - loss: 0.4655 - regression_lat_loss: 0.2301 - regression_long_loss: 0.2327 - regression_lat_mean_squared_error: 0.2321 - regression_long_mean_squared_error: 0.2334 - val_loss: 0.3771 - val_regression_lat_loss: 0.1829 - val_regression_long_loss: 0.1943 - val_regression_lat_mean_squared_error: 0.1828 - val_regression_long_mean_squared_error: 0.1943\n",
      "Epoch 5/20\n",
      "4000/4000 [==============================] - 7s 2ms/sample - loss: 0.3892 - regression_lat_loss: 0.1887 - regression_long_loss: 0.2007 - regression_lat_mean_squared_error: 0.1882 - regression_long_mean_squared_error: 0.2010 - val_loss: 0.3974 - val_regression_lat_loss: 0.1948 - val_regression_long_loss: 0.2024 - val_regression_lat_mean_squared_error: 0.1949 - val_regression_long_mean_squared_error: 0.2025\n",
      "Epoch 6/20\n",
      "4000/4000 [==============================] - 7s 2ms/sample - loss: 0.3781 - regression_lat_loss: 0.1807 - regression_long_loss: 0.1954 - regression_lat_mean_squared_error: 0.1817 - regression_long_mean_squared_error: 0.1964 - val_loss: 0.4483 - val_regression_lat_loss: 0.2566 - val_regression_long_loss: 0.1918 - val_regression_lat_mean_squared_error: 0.2560 - val_regression_long_mean_squared_error: 0.1922\n",
      "Epoch 7/20\n",
      "4000/4000 [==============================] - 7s 2ms/sample - loss: 0.3838 - regression_lat_loss: 0.1944 - regression_long_loss: 0.1900 - regression_lat_mean_squared_error: 0.1929 - regression_long_mean_squared_error: 0.1909 - val_loss: 0.3782 - val_regression_lat_loss: 0.1860 - val_regression_long_loss: 0.1922 - val_regression_lat_mean_squared_error: 0.1859 - val_regression_long_mean_squared_error: 0.1923\n",
      "Epoch 8/20\n",
      "4000/4000 [==============================] - 7s 2ms/sample - loss: 0.3571 - regression_lat_loss: 0.1715 - regression_long_loss: 0.1834 - regression_lat_mean_squared_error: 0.1714 - regression_long_mean_squared_error: 0.1857 - val_loss: 0.3816 - val_regression_lat_loss: 0.1794 - val_regression_long_loss: 0.2024 - val_regression_lat_mean_squared_error: 0.1793 - val_regression_long_mean_squared_error: 0.2023\n",
      "Epoch 9/20\n",
      "4000/4000 [==============================] - 7s 2ms/sample - loss: 0.3491 - regression_lat_loss: 0.1743 - regression_long_loss: 0.1752 - regression_lat_mean_squared_error: 0.1735 - regression_long_mean_squared_error: 0.1756 - val_loss: 0.3703 - val_regression_lat_loss: 0.1788 - val_regression_long_loss: 0.1916 - val_regression_lat_mean_squared_error: 0.1786 - val_regression_long_mean_squared_error: 0.1917\n",
      "Epoch 10/20\n",
      "4000/4000 [==============================] - 7s 2ms/sample - loss: 0.3543 - regression_lat_loss: 0.1742 - regression_long_loss: 0.1792 - regression_lat_mean_squared_error: 0.1733 - regression_long_mean_squared_error: 0.1810 - val_loss: 0.3888 - val_regression_lat_loss: 0.1761 - val_regression_long_loss: 0.2130 - val_regression_lat_mean_squared_error: 0.1760 - val_regression_long_mean_squared_error: 0.2128\n",
      "Epoch 11/20\n",
      "4000/4000 [==============================] - 7s 2ms/sample - loss: 0.3569 - regression_lat_loss: 0.1715 - regression_long_loss: 0.1825 - regression_lat_mean_squared_error: 0.1727 - regression_long_mean_squared_error: 0.1841 - val_loss: 0.3953 - val_regression_lat_loss: 0.1814 - val_regression_long_loss: 0.2144 - val_regression_lat_mean_squared_error: 0.1810 - val_regression_long_mean_squared_error: 0.2143\n",
      "Epoch 12/20\n",
      "4000/4000 [==============================] - 7s 2ms/sample - loss: 0.3455 - regression_lat_loss: 0.1708 - regression_long_loss: 0.1751 - regression_lat_mean_squared_error: 0.1699 - regression_long_mean_squared_error: 0.1757 - val_loss: 0.4168 - val_regression_lat_loss: 0.1851 - val_regression_long_loss: 0.2313 - val_regression_lat_mean_squared_error: 0.1852 - val_regression_long_mean_squared_error: 0.2316\n",
      "Epoch 13/20\n",
      "4000/4000 [==============================] - 7s 2ms/sample - loss: 0.3389 - regression_lat_loss: 0.1641 - regression_long_loss: 0.1728 - regression_lat_mean_squared_error: 0.1656 - regression_long_mean_squared_error: 0.1733 - val_loss: 0.3601 - val_regression_lat_loss: 0.1732 - val_regression_long_loss: 0.1871 - val_regression_lat_mean_squared_error: 0.1731 - val_regression_long_mean_squared_error: 0.1870\n",
      "Epoch 14/20\n",
      "4000/4000 [==============================] - 7s 2ms/sample - loss: 0.3312 - regression_lat_loss: 0.1645 - regression_long_loss: 0.1691 - regression_lat_mean_squared_error: 0.1638 - regression_long_mean_squared_error: 0.1674 - val_loss: 0.3601 - val_regression_lat_loss: 0.1734 - val_regression_long_loss: 0.1869 - val_regression_lat_mean_squared_error: 0.1732 - val_regression_long_mean_squared_error: 0.1869\n",
      "Epoch 15/20\n",
      "4000/4000 [==============================] - 7s 2ms/sample - loss: 0.3269 - regression_lat_loss: 0.1605 - regression_long_loss: 0.1680 - regression_lat_mean_squared_error: 0.1604 - regression_long_mean_squared_error: 0.1665 - val_loss: 0.3802 - val_regression_lat_loss: 0.1975 - val_regression_long_loss: 0.1824 - val_regression_lat_mean_squared_error: 0.1978 - val_regression_long_mean_squared_error: 0.1824\n",
      "Epoch 16/20\n",
      "4000/4000 [==============================] - 7s 2ms/sample - loss: 0.3334 - regression_lat_loss: 0.1643 - regression_long_loss: 0.1700 - regression_lat_mean_squared_error: 0.1636 - regression_long_mean_squared_error: 0.1698 - val_loss: 0.3582 - val_regression_lat_loss: 0.1738 - val_regression_long_loss: 0.1844 - val_regression_lat_mean_squared_error: 0.1738 - val_regression_long_mean_squared_error: 0.1844\n",
      "Epoch 17/20\n",
      "4000/4000 [==============================] - 7s 2ms/sample - loss: 0.3380 - regression_lat_loss: 0.1673 - regression_long_loss: 0.1704 - regression_lat_mean_squared_error: 0.1661 - regression_long_mean_squared_error: 0.1719 - val_loss: 0.3588 - val_regression_lat_loss: 0.1739 - val_regression_long_loss: 0.1850 - val_regression_lat_mean_squared_error: 0.1739 - val_regression_long_mean_squared_error: 0.1849\n",
      "Epoch 18/20\n",
      "4000/4000 [==============================] - 7s 2ms/sample - loss: 0.3344 - regression_lat_loss: 0.1579 - regression_long_loss: 0.1756 - regression_lat_mean_squared_error: 0.1582 - regression_long_mean_squared_error: 0.1762 - val_loss: 0.3656 - val_regression_lat_loss: 0.1768 - val_regression_long_loss: 0.1892 - val_regression_lat_mean_squared_error: 0.1766 - val_regression_long_mean_squared_error: 0.1890\n",
      "Epoch 19/20\n",
      "4000/4000 [==============================] - 7s 2ms/sample - loss: 0.3240 - regression_lat_loss: 0.1594 - regression_long_loss: 0.1639 - regression_lat_mean_squared_error: 0.1599 - regression_long_mean_squared_error: 0.1641 - val_loss: 0.3552 - val_regression_lat_loss: 0.1710 - val_regression_long_loss: 0.1843 - val_regression_lat_mean_squared_error: 0.1710 - val_regression_long_mean_squared_error: 0.1842\n",
      "Epoch 20/20\n",
      "4000/4000 [==============================] - 7s 2ms/sample - loss: 0.3197 - regression_lat_loss: 0.1583 - regression_long_loss: 0.1629 - regression_lat_mean_squared_error: 0.1573 - regression_long_mean_squared_error: 0.1624 - val_loss: 0.3567 - val_regression_lat_loss: 0.1698 - val_regression_long_loss: 0.1869 - val_regression_lat_mean_squared_error: 0.1698 - val_regression_long_mean_squared_error: 0.1870\n"
     ]
    }
   ],
   "source": [
    "history = model.fit(x=X_train, \n",
    "                    y=[y_train[:,0],y_train[:,1]],\n",
    "                    validation_data=[X_val,[y_val[:,0],y_val[:,1]]],\n",
    "                    verbose=1, epochs=20, batch_size=128)"
   ]
  },
  {
   "cell_type": "code",
   "execution_count": 40,
   "metadata": {},
   "outputs": [],
   "source": [
    "y_hat = model.predict(X_val)\n",
    "#y_hat_lat=model.predict(X_val)[0]\n",
    "#y_hat_long=model.predict(X_val)[1]\n",
    "y_hat_lat=y_hat[0]\n",
    "y_hat_long=y_hat[1]\n",
    "\n",
    "y_hat_lat=scale_up(y_hat_lat,toplat,bottomlat)\n",
    "y_hat_long=scale_up(y_hat_long,toplong,bottomlong)\n",
    "\n",
    "y_val_lat=y_val[:,0]\n",
    "y_val_long=y_val[:,1]\n",
    "\n",
    "y_val_lat=scale_up(y_val_lat,toplat,bottomlat)\n",
    "y_val_long=scale_up(y_val_long,toplong,bottomlong)"
   ]
  },
  {
   "cell_type": "code",
   "execution_count": 41,
   "metadata": {},
   "outputs": [
    {
     "data": {
      "image/png": "[encoded data removed]",
      "text/plain": [
       "<Figure size 432x288 with 1 Axes>"
      ]
     },
     "metadata": {
      "needs_background": "light"
     },
     "output_type": "display_data"
    }
   ],
   "source": [
    "plt.scatter(y_val_lat, y_hat_lat)\n",
    "plt.title('Predicted lat vs. True lat')\n",
    "plt.xlabel('True lat')\n",
    "plt.ylabel('Predicted lat')\n",
    "plt.show()"
   ]
  },
  {
   "cell_type": "code",
   "execution_count": 42,
   "metadata": {},
   "outputs": [
    {
     "data": {
      "image/png": "[encoded data removed]",
      "text/plain": [
       "<Figure size 432x288 with 1 Axes>"
      ]
     },
     "metadata": {
      "needs_background": "light"
     },
     "output_type": "display_data"
    }
   ],
   "source": [
    "plt.scatter(y_val_long, y_hat_long)\n",
    "plt.title('Predicted long vs. True long')\n",
    "plt.xlabel('True long')\n",
    "plt.ylabel('Predicted long')\n",
    "plt.show()"
   ]
  },
  {
   "cell_type": "code",
   "execution_count": null,
   "metadata": {},
   "outputs": [],
   "source": []
  },
  {
   "cell_type": "code",
   "execution_count": null,
   "metadata": {},
   "outputs": [],
   "source": []
  },
  {
   "cell_type": "markdown",
   "metadata": {
    "colab": {},
    "colab_type": "code",
    "id": "l1Lg2v4LqKCp"
   },
   "source": [
    "### Things to consider doing:\n",
    "- don't normalize the lat and long - just scale it DONE\n",
    "- convert back to lat and long DONE\n",
    "- set validation batch size to deal with OOM errors (possibly) DONE\n",
    "- loss weights?\n",
    "- what is resolution of png files coming in?  are they squares?\n",
    "- since set wide rectangle, need to make sure entirely at night time\n",
    "- change angle of view - look more tired horizon?\n"
   ]
  },
  {
   "cell_type": "markdown",
   "metadata": {},
   "source": [
    "### Old models"
   ]
  },
  {
   "cell_type": "code",
   "execution_count": null,
   "metadata": {},
   "outputs": [],
   "source": [
    "# Define Input layer(s)\n",
    "inputShape = (224, 224)\n",
    "inputs = tf.keras.layers.Input(shape=inputShape)\n",
    "\n",
    "flatten = tf.keras.layers.Flatten()(inputs)\n",
    "\n",
    "x=tf.keras.layers.Dense(512,activation='relu')(flatten)\n",
    "x=tf.keras.layers.Dense(512,activation='relu')(x)\n",
    "x=tf.keras.layers.Dense(512,activation='relu')(x)\n",
    "x=tf.keras.layers.Dense(512,activation='relu')(x)\n",
    "regression_layer_lat = tf.keras.layers.Dense(1, name='regression_lat')(x)  \n",
    "regression_layer_long = tf.keras.layers.Dense(1, name='regression_long')(x)\n",
    "\n",
    "\n",
    "# Build and compile model\n",
    "model_input = inputs\n",
    "model_output = [regression_layer_lat, regression_layer_long]\n",
    "losses = ['mean_squared_error', 'mean_squared_error']\n",
    "metrics = ['mean_squared_error', 'mean_squared_error']\n",
    "\n",
    "model = tf.keras.models.Model(model_input, model_output)\n",
    "model.compile(loss=losses,  optimizer='adam', metrics=metrics)"
   ]
  },
  {
   "cell_type": "code",
   "execution_count": null,
   "metadata": {},
   "outputs": [],
   "source": [
    "#model splits into lat long after convolutional layers\n",
    "\n",
    "input_shape=(270,480,1)\n",
    "input = tf.keras.layers.Input(shape=input_shape)\n",
    "x=tf.keras.layers.Conv2D(64,(3,3),activation='relu')(inputs)\n",
    "x=tf.keras.layers.MaxPooling2D((2,2))(x)\n",
    "x=tf.keras.layers.Conv2D(64,(3,3),activation='relu')(x)\n",
    "x=tf.keras.layers.MaxPooling2D((2,2))(x)\n",
    "x=tf.keras.layers.Dropout(0.25)(x)\n",
    "x=tf.keras.layers.Conv2D(128,(3,3),activation='relu')(x)\n",
    "x=tf.keras.layers.MaxPooling2D((2,2))(x)\n",
    "x=tf.keras.layers.Conv2D(128,(3,3),activation='relu')(x)\n",
    "x=tf.keras.layers.MaxPooling2D((2,2))(x)\n",
    "x=tf.keras.layers.Dropout(0.25)(x)\n",
    "x=tf.keras.layers.Flatten()(x)\n",
    "\n",
    "xlat=tf.keras.layers.Dense(256,activation='relu')(x)\n",
    "xlat=tf.keras.layers.Dropout(0.5)(xlat)\n",
    "xlat=tf.keras.layers.Dense(64,activation='relu')(xlat)\n",
    "regression_layer_lat = tf.keras.layers.Dense(1, name='regression_lat')(xlat)  \n",
    "\n",
    "xlong=tf.keras.layers.Dense(256,activation='relu')(x)\n",
    "xlong=tf.keras.layers.Dropout(0.5)(xlong)\n",
    "xlong=tf.keras.layers.Dense(64,activation='relu')(xlong)\n",
    "regression_layer_long = tf.keras.layers.Dense(1, name='regression_long')(xlong)\n",
    "\n",
    "model_output = [regression_layer_lat, regression_layer_long]\n",
    "losses = ['mean_squared_error', 'mean_squared_error']\n",
    "metrics = ['mean_squared_error', 'mean_squared_error']\n",
    "\n",
    "model = tf.keras.models.Model(inputs, model_output)\n",
    "model.compile(loss=losses,  optimizer='adam', metrics=metrics)"
   ]
  },
  {
   "cell_type": "code",
   "execution_count": null,
   "metadata": {},
   "outputs": [],
   "source": [
    "input_shape=(224,224,1)\n",
    "inputs = tf.keras.layers.Input(shape=input_shape)\n",
    "x=tf.keras.layers.Conv2D(64,(3,3),activation='relu')(inputs)\n",
    "x=tf.keras.layers.MaxPooling2D((2,2))(x)\n",
    "x=tf.keras.layers.Conv2D(64,(3,3),activation='relu')(x)\n",
    "x=tf.keras.layers.MaxPooling2D((2,2))(x)\n",
    "x=tf.keras.layers.Dropout(0.25)(x)\n",
    "x=tf.keras.layers.Conv2D(128,(3,3),activation='relu')(x)\n",
    "x=tf.keras.layers.MaxPooling2D((2,2))(x)\n",
    "x=tf.keras.layers.Conv2D(128,(3,3),activation='relu')(x)\n",
    "x=tf.keras.layers.MaxPooling2D((2,2))(x)\n",
    "x=tf.keras.layers.Dropout(0.25)(x)\n",
    "\n",
    "x=tf.keras.layers.Flatten()(x)\n",
    "x=tf.keras.layers.Dense(256,activation='relu')(x)\n",
    "x=tf.keras.layers.Dropout(0.5)(x)\n",
    "x=tf.keras.layers.Dense(64,activation='relu')(x)\n",
    "regression_layer_lat = tf.keras.layers.Dense(1, name='regression_lat')(x)  \n",
    "regression_layer_long = tf.keras.layers.Dense(1, name='regression_long')(x)\n",
    "\n",
    "model_output = [regression_layer_lat, regression_layer_long]\n",
    "losses = ['mean_squared_error', 'mean_squared_error']\n",
    "metrics = ['mean_squared_error', 'mean_squared_error']\n",
    "\n",
    "model = tf.keras.models.Model(inputs, model_output)\n",
    "model.compile(loss=losses,  optimizer='adam', metrics=metrics)"
   ]
  },
  {
   "cell_type": "code",
   "execution_count": null,
   "metadata": {},
   "outputs": [],
   "source": [
    "model = tf.keras.Sequential([\n",
    "    tf.keras.layers.Flatten(input_shape=(224,224)),\n",
    "    tf.keras.layers.Dense(512, activation='relu'),\n",
    "    #tf.keras.layers.Dense(512, activation='relu'),\n",
    "    #tf.keras.layers.Dense(512, activation='relu'),\n",
    "    #tf.keras.layers.Dense(512, activation='relu'),\n",
    "    #tf.keras.layers.Dense(512, activation='relu'),\n",
    "    tf.keras.layers.Dense(256, activation='relu'),\n",
    "    #tf.keras.layers.Dense(256, activation='relu'),\n",
    "    #tf.keras.layers.Dense(256, activation='relu'),\n",
    "    #tf.keras.layers.Dense(256, activation='relu'),\n",
    "    #tf.keras.layers.Dense(256, activation='relu'),\n",
    "    #tf.keras.layers.Dense(256, activation='relu'),\n",
    "    tf.keras.layers.Dense(128, activation='relu'),\n",
    "    #tf.keras.layers.Dense(128, activation='relu'),\n",
    "    #tf.keras.layers.Dense(128, activation='relu'),\n",
    "    #tf.keras.layers.Dense(128, activation='relu'),\n",
    "    #tf.keras.layers.Dense(128, activation='relu'),\n",
    "    #tf.keras.layers.Dense(128, activation='relu'),\n",
    "    #tf.keras.layers.Dense(128, activation='relu'),\n",
    "    tf.keras.layers.Dense(64, activation='relu'),\n",
    "    tf.keras.layers.Dense(32, activation='relu'),\n",
    "    tf.keras.layers.Dropout(0.3),\n",
    "    tf.keras.layers.Dense(2)\n",
    "])"
   ]
  },
  {
   "cell_type": "code",
   "execution_count": null,
   "metadata": {},
   "outputs": [],
   "source": [
    "losses = ['mean_squared_error', 'mean_squared_error']\n",
    "metrics = ['mean_squared_error', 'mean_squared_error']\n",
    "\n",
    "model = tf.keras.models.Model(inputs, model_output)\n",
    "model.compile(loss=losses,  optimizer='adam', metrics=metrics)"
   ]
  }
 ],
 "metadata": {
  "accelerator": "GPU",
  "colab": {
   "collapsed_sections": [],
   "name": "iso-chron.ipynb",
   "provenance": [],
   "toc_visible": true
  },
  "kernelspec": {
   "display_name": "Environment (conda_tensorflow2_p36)",
   "language": "python",
   "name": "conda_tensorflow2_p36"
  },
  "language_info": {
   "codemirror_mode": {
    "name": "ipython",
    "version": 3
   },
   "file_extension": ".py",
   "mimetype": "text/x-python",
   "name": "python",
   "nbconvert_exporter": "python",
   "pygments_lexer": "ipython3",
   "version": "3.6.10"
  }
 },
 "nbformat": 4,
 "nbformat_minor": 1
}
