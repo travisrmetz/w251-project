{
 "cells": [
  {
   "cell_type": "markdown",
   "metadata": {
    "colab_type": "text",
    "id": "ImJOhE4BrfK7"
   },
   "source": [
    "# First test with non-constant time\n",
    "---\n",
    "\n",
    "This study uses 1,100 images in the area bounded by 36N to 40N and 074W to 078W and 2020-05-25T22:00:00 to 2020-05-26T02:00:00.  Images are compressed to 224 x 224 pixels."
   ]
  },
  {
   "cell_type": "markdown",
   "metadata": {
    "colab_type": "text",
    "id": "OlNrYnNsrp4C"
   },
   "source": [
    "## Import useful packages"
   ]
  },
  {
   "cell_type": "code",
   "execution_count": 1,
   "metadata": {
    "colab": {},
    "colab_type": "code",
    "id": "5Y0LD8oscOFG"
   },
   "outputs": [],
   "source": [
    "import numpy as np\n",
    "import tensorflow as tf\n",
    "from tensorflow.keras.layers import Input, Dense, Conv2D, Dropout, Lambda, Concatenate, Flatten, concatenate\n",
    "from tensorflow.keras import Model\n",
    "import pandas as pd\n",
    "import matplotlib.pyplot as plt\n",
    "import cv2\n",
    "import os\n",
    "from sklearn.model_selection import train_test_split\n",
    "from sklearn.preprocessing import scale\n",
    "import ktrain\n",
    "import random"
   ]
  },
  {
   "cell_type": "code",
   "execution_count": 2,
   "metadata": {},
   "outputs": [],
   "source": [
    "os.environ[\"CUDA_DEVICE_ORDER\"]=\"PCI_BUS_ID\";\n",
    "os.environ[\"CUDA_VISIBLE_DEVICES\"]=\"0,1\"; "
   ]
  },
  {
   "cell_type": "markdown",
   "metadata": {
    "colab_type": "text",
    "id": "-k4t6YLVrt49"
   },
   "source": [
    "## Define functions to load the data\n"
   ]
  },
  {
   "cell_type": "code",
   "execution_count": 3,
   "metadata": {
    "colab": {},
    "colab_type": "code",
    "id": "FVUFnke4eIZI"
   },
   "outputs": [],
   "source": [
    "def load_image(image_path, dim=(224,224), channels=1):\n",
    "    \"\"\"\n",
    "    Loads a single image as a Numpy array and resizes it as\n",
    "    desired.  The default dimensions are consistent with\n",
    "    those expected by the VGG models.  \n",
    "\n",
    "    Args:\n",
    "    image_path: str pointing to the file\n",
    "\n",
    "    dim: Two-element tuple giving the desired height\n",
    "         and width of the processed image\n",
    "\n",
    "    Returns:\n",
    "    image:  A single-channel Numpy array\n",
    "    \"\"\"\n",
    "    if channels == 1:\n",
    "        image = cv2.imread(image_path, 0)\n",
    "    else:\n",
    "        image = cv2.imread(image_path, 1)\n",
    "    image = cv2.resize(image, dim)#, interpolation = cv2.INTER_AREA)\n",
    "    return image"
   ]
  },
  {
   "cell_type": "code",
   "execution_count": 4,
   "metadata": {
    "colab": {},
    "colab_type": "code",
    "id": "CFJgfKxOi9Uj"
   },
   "outputs": [],
   "source": [
    "def build_input(image_dir, channels=1, dim=(224,224)):\n",
    "    \"\"\"\n",
    "    Loads all of the images into a single numpy array.\n",
    "    Assumes that there are 101 equally-spaced images\n",
    "    spanning lattitudes from 35N to 45N.  \n",
    "\n",
    "    Args:\n",
    "        image_dir: str giving name of the image directory\n",
    "\n",
    "    Returns:\n",
    "    X:  A 3-dimensional numpy array containing the\n",
    "        images. Image height and width are set by\n",
    "        `load_images` and default to 224 x 224.\n",
    "\n",
    "    y:  A 1-dimensional numpy array of target lattitudes.\n",
    "    \"\"\"\n",
    "    X = []\n",
    "    files = os.listdir(image_dir)\n",
    "    for file in files:\n",
    "        if file[-4:] == '.png':\n",
    "            image_path = os.path.join(image_dir, file)\n",
    "            image = load_image(image_path, channels=channels, dim=dim)\n",
    "            X.append(image)\n",
    "    return (np.array(X) / 255)"
   ]
  },
  {
   "cell_type": "code",
   "execution_count": 5,
   "metadata": {
    "colab": {},
    "colab_type": "code",
    "id": "g4CpV8Yue8G1"
   },
   "outputs": [],
   "source": [
    "def build_labels(image_dir):\n",
    "    \"\"\"\n",
    "    Parses file names to extract lat, long, and time.\n",
    "    \n",
    "    Args:\n",
    "        image_dir: str giving name of the image directory\n",
    "        \n",
    "    Returns:\n",
    "        numpy.array of lats and longs with dimensions\n",
    "        len(image_dir) x 2\n",
    "        \n",
    "        numpy.array of times\n",
    "    \"\"\"\n",
    "    files = os.listdir(image_dir)\n",
    "    y = []\n",
    "    times = []\n",
    "    for file in files:\n",
    "        if file[-4:] == '.png':\n",
    "            file_split = file.split('+')\n",
    "            lat = float(file_split[0])\n",
    "            long = float(file_split[1])\n",
    "            time = file_split[2].split('.')[0]\n",
    "            y.append((lat, long))\n",
    "            times.append(time)\n",
    "    return np.array(y), np.array(times, dtype='datetime64')"
   ]
  },
  {
   "cell_type": "code",
   "execution_count": 6,
   "metadata": {},
   "outputs": [],
   "source": [
    "def normalize_times(times):\n",
    "    \"\"\"\n",
    "    Converts times to a float bounded by [0,1]\n",
    "    \n",
    "    Args:\n",
    "        times: numpy.array with dtype datetime64\n",
    "        \n",
    "    Returns:\n",
    "        numpy.array of decimal times bounded on [0,1]\n",
    "    \"\"\"\n",
    "    time_range = (times.max() - times.min()).astype('float64')\n",
    "    seconds_from_t0 = (times - times.min()).astype('float64')\n",
    "    \n",
    "    return seconds_from_t0 / time_range"
   ]
  },
  {
   "cell_type": "code",
   "execution_count": 7,
   "metadata": {},
   "outputs": [],
   "source": [
    "def normalize_y(y):\n",
    "    \"\"\"\n",
    "    Converts lats and longs to values bounded by [0,1]\n",
    "    \n",
    "    Args:\n",
    "        y:  numpy.array of dimensions observations x 2\n",
    "        \n",
    "    Returns\n",
    "        numpy.array: normalized values\n",
    "        \n",
    "        tuple: values needed by the Haversine loss function\n",
    "    \"\"\"\n",
    "    lat_min = y[:,0].min()\n",
    "    lat_range = y[:,0].max() - y[:,0].min()\n",
    "    long_min = y[:,1].min()\n",
    "    long_range = y[:,1].max() - y[:,1].min()\n",
    "    \n",
    "    y_norm = np.zeros(y.shape)\n",
    "    \n",
    "    y_norm[:,0] = (y[:,0] - lat_min) / lat_range\n",
    "    y_norm[:,1] = (y[:,1] - long_min) / long_range\n",
    "    \n",
    "    return y_norm, (lat_min, lat_range, long_min, long_range)"
   ]
  },
  {
   "cell_type": "code",
   "execution_count": 8,
   "metadata": {},
   "outputs": [],
   "source": [
    "def evaluate_model(learner, x_test, t_test, y_test,\n",
    "                  x_train, t_train, y_train):\n",
    "    y_hat = learner.model.predict([x_test, t_test])\n",
    "    y_hat_train = learner.model.predict([x_train, t_train])\n",
    "\n",
    "    plt.scatter(y_train[:,0], y_hat_train[:,0])\n",
    "    plt.scatter(y_test[:,0], y_hat[:,0])\n",
    "    plt.title('Predicted lat vs. True lat')\n",
    "    plt.xlabel('True lat')\n",
    "    plt.ylabel('Predicted lat')\n",
    "    plt.show()\n",
    "\n",
    "    plt.scatter(y_train[:,1], y_hat_train[:,1])\n",
    "    plt.scatter(y_test[:,1], y_hat[:,1])\n",
    "    plt.title('Predicted long vs. True long')\n",
    "    plt.xlabel('True long')\n",
    "    plt.ylabel('Predicted long')\n",
    "    plt.show()\n",
    "\n",
    "    print('train loss - ' + str(learner.model.history.history['loss'][-1]))\n",
    "    print('val loss - ' + str(learner.model.history.history['val_loss'][-1]))"
   ]
  },
  {
   "cell_type": "markdown",
   "metadata": {
    "colab_type": "text",
    "id": "zheMHJQI0M6R"
   },
   "source": [
    "## Define the loss function"
   ]
  },
  {
   "cell_type": "code",
   "execution_count": 9,
   "metadata": {
    "colab": {},
    "colab_type": "code",
    "id": "HchIutGk3xoe"
   },
   "outputs": [],
   "source": [
    "def haversine_loss(y_true, y_pred, denorm=(36.0, 4.0, -78.0, 4.0), R=3443.92):\n",
    "    \"\"\"\n",
    "    Returns the mean squared haversine distance\n",
    "    between arrays consisting of lattitudes and\n",
    "    longitudes.\n",
    "    \n",
    "    Args:\n",
    "        y_true:  Either an np.array or a tf.constant\n",
    "                 of dimensions m x 2 where m in the\n",
    "                 number of observations.  Each row is\n",
    "                 an ordered pair of [lat, long].\n",
    "                 \n",
    "        y_pred:  Has the same form as y_true.\n",
    "        \n",
    "        dnorm:   A tuple of four values needed to\n",
    "                 convert normalized lat and long back\n",
    "                 to actual values.\n",
    "        \n",
    "        R:       Float giving the radius of the earth.\n",
    "                 The default value is in nautical\n",
    "                 miles.  Values in other units:\n",
    "                 \n",
    "                 kilometers    -> 6378.14\n",
    "                 statute miles -> 3963.19\n",
    "                 smoots        -> 3.748e+6\n",
    "        \n",
    "    Returns:\n",
    "        tf.tensor of shape () and dtype float64 giving\n",
    "        the mean square distance error using the\n",
    "        haversine function.\n",
    "    \n",
    "    Examples:\n",
    "    \n",
    "        Input:\n",
    "        y1     = np.array([[0, 0]])\n",
    "        y_hat1 = np.array([[0, 180]])\n",
    "        \n",
    "        Expected result:\n",
    "        (pi * R) ** 2 = 117059281.6 nm^2\n",
    "        \n",
    "        Input:\n",
    "        y2     = np.array([[0, 0]])\n",
    "        y_hat2 = np.array([[90, 0]])\n",
    "        \n",
    "        Expected result:\n",
    "        (pi * R / 2) ** 2 = 29264820.4 nm^2\n",
    "        \n",
    "        Input:\n",
    "        Portmsouth, VA to Rota, Spain\n",
    "        y3     = tf.constant([[36.8354, -76.2983]])\n",
    "        y_hat3 = tf.constant([[36.6237, -6.3601]])\n",
    "        \n",
    "        Expected result:\n",
    "        37065212.0 km^2\n",
    "        \n",
    "    Notes:\n",
    "        Closely follows the JS implmentation at\n",
    "        https://www.movable-type.co.uk/scripts/latlong.html.\n",
    "    \"\"\"\n",
    "    # Break inputs into lattitudes and longitudes for\n",
    "    # convienience\n",
    "\n",
    "    # Convert normalized lat and long into actuals\n",
    "    lat_min, lat_range, long_min, long_range = denorm\n",
    "    lat1  = y_true[:,0] * lat_range + lat_min\n",
    "    lat2  = y_pred[:,0] * lat_range + lat_min\n",
    "    long1 = y_true[:,1] * long_range + long_min\n",
    "    long2 = y_pred[:,1] * long_range + long_min\n",
    "    \n",
    "    # Compute phis and lambdas \n",
    "    phi1 = lat1 * np.pi / 180\n",
    "    phi2 = lat2 * np.pi / 180\n",
    "    delta_phi    = (lat2 - lat1) * np.pi / 180\n",
    "    delta_lambda = (long2 - long1) * np.pi / 180\n",
    "    \n",
    "    # Intermediate computations\n",
    "    a = tf.square(tf.sin(delta_phi / 2)) + tf.cos(phi1) * tf.cos(phi2) * tf.square(tf.sin(delta_lambda / 2))\n",
    "    c = 2 * tf.atan2(tf.sqrt(a), tf.sqrt(1 - a))\n",
    "    \n",
    "    # Compute distances\n",
    "    d = R * c\n",
    "    \n",
    "    # Compute the mean squared distance (MSE)\n",
    "    return tf.reduce_mean(d)"
   ]
  },
  {
   "cell_type": "markdown",
   "metadata": {
    "colab_type": "text",
    "id": "10QkIM_Rso10"
   },
   "source": [
    "## Prepare the data"
   ]
  },
  {
   "cell_type": "markdown",
   "metadata": {
    "colab_type": "text",
    "id": "HkcP-D-Esrce"
   },
   "source": [
    "### Load the images"
   ]
  },
  {
   "cell_type": "code",
   "execution_count": 10,
   "metadata": {},
   "outputs": [],
   "source": [
    "X = build_input('../data/small_with_time', channels=1)"
   ]
  },
  {
   "cell_type": "code",
   "execution_count": 11,
   "metadata": {
    "colab": {
     "base_uri": "https://localhost:8080/",
     "height": 34
    },
    "colab_type": "code",
    "id": "fcmTDUFkek3S",
    "outputId": "1f88ab8b-23b3-41ea-a6be-e625e96bf176"
   },
   "outputs": [],
   "source": [
    "X = np.expand_dims(X, 3)"
   ]
  },
  {
   "cell_type": "code",
   "execution_count": 12,
   "metadata": {},
   "outputs": [
    {
     "data": {
      "text/plain": [
       "(1100, 224, 224, 1)"
      ]
     },
     "execution_count": 12,
     "metadata": {},
     "output_type": "execute_result"
    }
   ],
   "source": [
    "X.shape"
   ]
  },
  {
   "cell_type": "code",
   "execution_count": 13,
   "metadata": {
    "colab": {},
    "colab_type": "code",
    "id": "uX0RGR6Ie5cC"
   },
   "outputs": [],
   "source": [
    "y, times = build_labels('../data/small_with_time')"
   ]
  },
  {
   "cell_type": "code",
   "execution_count": 14,
   "metadata": {},
   "outputs": [],
   "source": [
    "y_norm, denorm = normalize_y(y)"
   ]
  },
  {
   "cell_type": "code",
   "execution_count": 15,
   "metadata": {},
   "outputs": [],
   "source": [
    "test_size = 0.1\n",
    "random_draw = np.random.uniform(low=0, high=1, size=len(X))"
   ]
  },
  {
   "cell_type": "markdown",
   "metadata": {},
   "source": [
    "### Split into test and training sets"
   ]
  },
  {
   "cell_type": "code",
   "execution_count": 16,
   "metadata": {},
   "outputs": [],
   "source": [
    "test_mask = random_draw <= test_size"
   ]
  },
  {
   "cell_type": "code",
   "execution_count": 17,
   "metadata": {},
   "outputs": [
    {
     "name": "stdout",
     "output_type": "stream",
     "text": [
      "(124, 224, 224, 1) (124, 2) (124,)\n",
      "(976, 224, 224, 1) (976, 2) (976,)\n"
     ]
    }
   ],
   "source": [
    "norm_times = normalize_times(times)\n",
    "\n",
    "x_test = X[test_mask]\n",
    "y_test = y_norm[test_mask]\n",
    "t_test = norm_times[test_mask]\n",
    "\n",
    "x_train = X[~test_mask]\n",
    "y_train = y_norm[~test_mask]\n",
    "t_train = norm_times[~test_mask]\n",
    "\n",
    "print(x_test.shape, y_test.shape, t_test.shape)\n",
    "print(x_train.shape, y_train.shape, t_train.shape)"
   ]
  },
  {
   "cell_type": "markdown",
   "metadata": {},
   "source": [
    "## A CNN model with multiple inputs\n",
    "-------"
   ]
  },
  {
   "cell_type": "code",
   "execution_count": 30,
   "metadata": {},
   "outputs": [],
   "source": [
    "input_image = Input(shape=x_train[0].shape)\n",
    "input_time = Input(shape=times[0].shape)\n",
    "i = Conv2D(filters=5, kernel_size=10, padding='same', activation='relu')(input_image)\n",
    "i = Conv2D(filters=1, kernel_size=10, padding='same', activation='relu')(i)\n",
    "i = Flatten()(i)\n",
    "t = Flatten()(input_time)\n",
    "ti = concatenate([i, t])\n",
    "ti = Dense(256, activation='relu')(ti)\n",
    "ti = Dropout(0.2)(ti)\n",
    "outputs = Dense(2, activation='sigmoid')(ti)\n",
    "#outputs = Dense(2)(ti)"
   ]
  },
  {
   "cell_type": "code",
   "execution_count": 31,
   "metadata": {},
   "outputs": [],
   "source": [
    "model = Model(inputs=[input_image, input_time], outputs=outputs)"
   ]
  },
  {
   "cell_type": "code",
   "execution_count": 36,
   "metadata": {},
   "outputs": [
    {
     "name": "stdout",
     "output_type": "stream",
     "text": [
      "Model: \"model_1\"\n",
      "__________________________________________________________________________________________________\n",
      "Layer (type)                    Output Shape         Param #     Connected to                     \n",
      "==================================================================================================\n",
      "input_3 (InputLayer)            [(None, 224, 224, 1) 0                                            \n",
      "__________________________________________________________________________________________________\n",
      "conv2d_2 (Conv2D)               (None, 224, 224, 5)  505         input_3[0][0]                    \n",
      "__________________________________________________________________________________________________\n",
      "conv2d_3 (Conv2D)               (None, 224, 224, 1)  501         conv2d_2[0][0]                   \n",
      "__________________________________________________________________________________________________\n",
      "input_4 (InputLayer)            [(None,)]            0                                            \n",
      "__________________________________________________________________________________________________\n",
      "flatten_2 (Flatten)             (None, 50176)        0           conv2d_3[0][0]                   \n",
      "__________________________________________________________________________________________________\n",
      "flatten_3 (Flatten)             (None, 1)            0           input_4[0][0]                    \n",
      "__________________________________________________________________________________________________\n",
      "concatenate_1 (Concatenate)     (None, 50177)        0           flatten_2[0][0]                  \n",
      "                                                                 flatten_3[0][0]                  \n",
      "__________________________________________________________________________________________________\n",
      "dense_2 (Dense)                 (None, 256)          12845568    concatenate_1[0][0]              \n",
      "__________________________________________________________________________________________________\n",
      "dropout_1 (Dropout)             (None, 256)          0           dense_2[0][0]                    \n",
      "__________________________________________________________________________________________________\n",
      "dense_3 (Dense)                 (None, 2)            514         dropout_1[0][0]                  \n",
      "==================================================================================================\n",
      "Total params: 12,847,088\n",
      "Trainable params: 12,847,088\n",
      "Non-trainable params: 0\n",
      "__________________________________________________________________________________________________\n"
     ]
    }
   ],
   "source": [
    "model.summary()"
   ]
  },
  {
   "cell_type": "code",
   "execution_count": 37,
   "metadata": {},
   "outputs": [],
   "source": [
    "model.compile(optimizer='adam',\n",
    "             loss=haversine_loss,\n",
    "             metrics=[haversine_loss])"
   ]
  },
  {
   "cell_type": "code",
   "execution_count": 38,
   "metadata": {},
   "outputs": [],
   "source": [
    "learner = ktrain.get_learner(model, train_data=([x_train, t_train], y_train),\n",
    "                             val_data=([x_test, t_test], y_test))"
   ]
  },
  {
   "cell_type": "code",
   "execution_count": 35,
   "metadata": {},
   "outputs": [
    {
     "name": "stdout",
     "output_type": "stream",
     "text": [
      "simulating training for different learning rates... this may take a few moments...\n"
     ]
    },
    {
     "name": "stderr",
     "output_type": "stream",
     "text": [
      "/usr/local/lib/python3.6/dist-packages/ktrain/core.py:476: UserWarning: max_epochs is being set to 5 since steps per epoch is small. If you wish to estimate LR using more epochs, set max_epochs manually.\n",
      "  'If you wish to estimate LR using more epochs, set max_epochs manually.')\n"
     ]
    },
    {
     "name": "stdout",
     "output_type": "stream",
     "text": [
      "Train on 976 samples\n",
      "Epoch 1/5\n",
      "976/976 [==============================] - 2s 2ms/sample - loss: 91.4486 - haversine_loss: 91.4655\n",
      "Epoch 2/5\n",
      "976/976 [==============================] - 1s 946us/sample - loss: 90.9121 - haversine_loss: 90.6547\n",
      "Epoch 3/5\n",
      "976/976 [==============================] - 1s 939us/sample - loss: nan - haversine_loss: nan\n",
      "Epoch 4/5\n",
      "976/976 [==============================] - 1s 941us/sample - loss: nan - haversine_loss: nan\n",
      "Epoch 5/5\n",
      "976/976 [==============================] - 1s 935us/sample - loss: nan - haversine_loss: nan\n",
      "Call to keras.models.load_model failed.  Try using the learner.model.save_weights and learner.model.load_weights instead.\n",
      "Error was: SavedModel file does not exist at: /tmp/tmpnrxhsz23/{saved_model.pbtxt|saved_model.pb}\n",
      "\n",
      "\n",
      "done.\n",
      "Visually inspect loss plot and select learning rate associated with falling loss\n"
     ]
    },
    {
     "data": {
      "image/png": "[encoded data removed]",
      "text/plain": [
       "<Figure size 432x288 with 1 Axes>"
      ]
     },
     "metadata": {
      "needs_background": "light"
     },
     "output_type": "display_data"
    }
   ],
   "source": [
    "learner.lr_find(show_plot=True)"
   ]
  },
  {
   "cell_type": "code",
   "execution_count": 39,
   "metadata": {},
   "outputs": [
    {
     "name": "stdout",
     "output_type": "stream",
     "text": [
      "early_stopping automatically enabled at patience=5\n",
      "reduce_on_plateau automatically enabled at patience=2\n",
      "\n",
      "\n",
      "begin training using triangular learning rate policy with max lr of 0.001...\n",
      "Train on 976 samples, validate on 124 samples\n",
      "Epoch 1/1024\n",
      "976/976 [==============================] - 2s 2ms/sample - loss: 79.6818 - haversine_loss: 79.2937 - val_loss: 57.7493 - val_haversine_loss: 57.8456\n",
      "Epoch 2/1024\n",
      "976/976 [==============================] - 1s 1ms/sample - loss: 39.7212 - haversine_loss: 39.6850 - val_loss: 28.9658 - val_haversine_loss: 29.0701\n",
      "Epoch 3/1024\n",
      "976/976 [==============================] - 1s 1ms/sample - loss: 26.3340 - haversine_loss: 26.2161 - val_loss: 23.9572 - val_haversine_loss: 24.0476\n",
      "Epoch 4/1024\n",
      "976/976 [==============================] - 1s 1ms/sample - loss: 20.9475 - haversine_loss: 20.9006 - val_loss: 19.4501 - val_haversine_loss: 19.4859\n",
      "Epoch 5/1024\n",
      "976/976 [==============================] - 1s 1ms/sample - loss: 18.0981 - haversine_loss: 18.0658 - val_loss: 20.2785 - val_haversine_loss: 20.3309\n",
      "Epoch 6/1024\n",
      "976/976 [==============================] - 1s 1ms/sample - loss: 16.5650 - haversine_loss: 16.5479 - val_loss: 17.8158 - val_haversine_loss: 17.8381\n",
      "Epoch 7/1024\n",
      "976/976 [==============================] - 1s 1ms/sample - loss: 15.1736 - haversine_loss: 15.1816 - val_loss: 17.4590 - val_haversine_loss: 17.5092\n",
      "Epoch 8/1024\n",
      "976/976 [==============================] - 1s 1ms/sample - loss: 14.0202 - haversine_loss: 14.0637 - val_loss: 15.6416 - val_haversine_loss: 15.6689\n",
      "Epoch 9/1024\n",
      "976/976 [==============================] - 1s 1ms/sample - loss: 12.8919 - haversine_loss: 12.9313 - val_loss: 14.8549 - val_haversine_loss: 14.8612\n",
      "Epoch 10/1024\n",
      "976/976 [==============================] - 1s 1ms/sample - loss: 12.5714 - haversine_loss: 12.6135 - val_loss: 16.3074 - val_haversine_loss: 16.3282\n",
      "Epoch 11/1024\n",
      "976/976 [==============================] - 1s 1ms/sample - loss: 12.2384 - haversine_loss: 12.2411 - val_loss: 14.3681 - val_haversine_loss: 14.4129\n",
      "Epoch 12/1024\n",
      "976/976 [==============================] - 1s 1ms/sample - loss: 11.4533 - haversine_loss: 11.4466 - val_loss: 14.1544 - val_haversine_loss: 14.1569\n",
      "Epoch 13/1024\n",
      "976/976 [==============================] - 1s 1ms/sample - loss: 10.8574 - haversine_loss: 10.8670 - val_loss: 13.7269 - val_haversine_loss: 13.7290\n",
      "Epoch 14/1024\n",
      "976/976 [==============================] - 1s 1ms/sample - loss: 10.7781 - haversine_loss: 10.7966 - val_loss: 12.3712 - val_haversine_loss: 12.3437\n",
      "Epoch 15/1024\n",
      "976/976 [==============================] - 1s 1ms/sample - loss: 10.1839 - haversine_loss: 10.1415 - val_loss: 13.2647 - val_haversine_loss: 13.2607\n",
      "Epoch 16/1024\n",
      "928/976 [===========================>..] - ETA: 0s - loss: 10.3850 - haversine_loss: 10.3850\n",
      "Epoch 00016: Reducing Max LR on Plateau: new max lr will be 0.0005 (if not early_stopping).\n",
      "976/976 [==============================] - 1s 1ms/sample - loss: 10.3621 - haversine_loss: 10.3305 - val_loss: 12.6636 - val_haversine_loss: 12.6731\n",
      "Epoch 17/1024\n",
      "976/976 [==============================] - 1s 1ms/sample - loss: 9.4371 - haversine_loss: 9.4120 - val_loss: 12.0799 - val_haversine_loss: 12.0679\n",
      "Epoch 18/1024\n",
      "976/976 [==============================] - 1s 1ms/sample - loss: 8.6171 - haversine_loss: 8.5960 - val_loss: 11.5946 - val_haversine_loss: 11.5941\n",
      "Epoch 19/1024\n",
      "976/976 [==============================] - 1s 1ms/sample - loss: 8.2814 - haversine_loss: 8.2849 - val_loss: 11.6607 - val_haversine_loss: 11.6318\n",
      "Epoch 20/1024\n",
      "976/976 [==============================] - 1s 1ms/sample - loss: 8.1453 - haversine_loss: 8.1496 - val_loss: 11.1955 - val_haversine_loss: 11.1996\n",
      "Epoch 21/1024\n",
      "976/976 [==============================] - 1s 1ms/sample - loss: 7.9882 - haversine_loss: 8.0071 - val_loss: 11.1981 - val_haversine_loss: 11.1746\n",
      "Epoch 22/1024\n",
      "976/976 [==============================] - 1s 1ms/sample - loss: 8.2058 - haversine_loss: 8.1847 - val_loss: 11.1617 - val_haversine_loss: 11.1400\n",
      "Epoch 23/1024\n",
      "976/976 [==============================] - 1s 1ms/sample - loss: 7.8209 - haversine_loss: 7.8198 - val_loss: 10.6764 - val_haversine_loss: 10.6722\n",
      "Epoch 24/1024\n",
      "976/976 [==============================] - 1s 1ms/sample - loss: 7.6750 - haversine_loss: 7.6706 - val_loss: 11.1329 - val_haversine_loss: 11.1182\n",
      "Epoch 25/1024\n",
      "928/976 [===========================>..] - ETA: 0s - loss: 7.5619 - haversine_loss: 7.5619\n",
      "Epoch 00025: Reducing Max LR on Plateau: new max lr will be 0.00025 (if not early_stopping).\n",
      "976/976 [==============================] - 1s 1ms/sample - loss: 7.5492 - haversine_loss: 7.5790 - val_loss: 11.0435 - val_haversine_loss: 11.0189\n",
      "Epoch 26/1024\n",
      "976/976 [==============================] - 1s 1ms/sample - loss: 7.0399 - haversine_loss: 7.0022 - val_loss: 10.9955 - val_haversine_loss: 10.9855\n",
      "Epoch 27/1024\n",
      "976/976 [==============================] - 1s 1ms/sample - loss: 6.7561 - haversine_loss: 6.7436 - val_loss: 10.5703 - val_haversine_loss: 10.5618\n",
      "Epoch 28/1024\n",
      "976/976 [==============================] - 1s 1ms/sample - loss: 6.8281 - haversine_loss: 6.8179 - val_loss: 10.7102 - val_haversine_loss: 10.6905\n",
      "Epoch 29/1024\n",
      "976/976 [==============================] - 1s 1ms/sample - loss: 6.5995 - haversine_loss: 6.6074 - val_loss: 10.5249 - val_haversine_loss: 10.5017\n",
      "Epoch 30/1024\n",
      "976/976 [==============================] - 1s 1ms/sample - loss: 6.6994 - haversine_loss: 6.7238 - val_loss: 10.6924 - val_haversine_loss: 10.6640\n",
      "Epoch 31/1024\n",
      "928/976 [===========================>..] - ETA: 0s - loss: 6.4429 - haversine_loss: 6.4429\n",
      "Epoch 00031: Reducing Max LR on Plateau: new max lr will be 0.000125 (if not early_stopping).\n",
      "976/976 [==============================] - 1s 1ms/sample - loss: 6.4602 - haversine_loss: 6.4816 - val_loss: 10.6427 - val_haversine_loss: 10.6271\n",
      "Epoch 32/1024\n",
      "976/976 [==============================] - 1s 1ms/sample - loss: 6.3477 - haversine_loss: 6.3517 - val_loss: 10.4705 - val_haversine_loss: 10.4505\n",
      "Epoch 33/1024\n",
      "976/976 [==============================] - 1s 1ms/sample - loss: 6.2284 - haversine_loss: 6.2439 - val_loss: 10.5170 - val_haversine_loss: 10.4978\n",
      "Epoch 34/1024\n",
      "976/976 [==============================] - 1s 1ms/sample - loss: 6.0840 - haversine_loss: 6.1013 - val_loss: 10.3549 - val_haversine_loss: 10.3217\n",
      "Epoch 35/1024\n",
      "976/976 [==============================] - 1s 1ms/sample - loss: 6.2124 - haversine_loss: 6.2343 - val_loss: 10.3469 - val_haversine_loss: 10.3172\n",
      "Epoch 36/1024\n",
      "976/976 [==============================] - 1s 1ms/sample - loss: 5.9646 - haversine_loss: 5.9527 - val_loss: 10.4726 - val_haversine_loss: 10.4474\n",
      "Epoch 37/1024\n",
      "928/976 [===========================>..] - ETA: 0s - loss: 6.0884 - haversine_loss: 6.0884\n",
      "Epoch 00037: Reducing Max LR on Plateau: new max lr will be 6.25e-05 (if not early_stopping).\n",
      "976/976 [==============================] - 1s 1ms/sample - loss: 6.0962 - haversine_loss: 6.0749 - val_loss: 10.4188 - val_haversine_loss: 10.3927\n",
      "Epoch 38/1024\n",
      "976/976 [==============================] - 1s 1ms/sample - loss: 5.8572 - haversine_loss: 5.8427 - val_loss: 10.2977 - val_haversine_loss: 10.2689\n",
      "Epoch 39/1024\n",
      "976/976 [==============================] - 1s 1ms/sample - loss: 5.8295 - haversine_loss: 5.8383 - val_loss: 10.3723 - val_haversine_loss: 10.3460\n",
      "Epoch 40/1024\n",
      "928/976 [===========================>..] - ETA: 0s - loss: 5.7612 - haversine_loss: 5.7612\n",
      "Epoch 00040: Reducing Max LR on Plateau: new max lr will be 3.125e-05 (if not early_stopping).\n",
      "976/976 [==============================] - 1s 1ms/sample - loss: 5.7537 - haversine_loss: 5.7497 - val_loss: 10.4209 - val_haversine_loss: 10.4006\n",
      "Epoch 41/1024\n",
      "976/976 [==============================] - 1s 1ms/sample - loss: 5.6582 - haversine_loss: 5.6518 - val_loss: 10.3095 - val_haversine_loss: 10.2819\n",
      "Epoch 42/1024\n",
      "928/976 [===========================>..] - ETA: 0s - loss: 5.7501 - haversine_loss: 5.7501\n",
      "Epoch 00042: Reducing Max LR on Plateau: new max lr will be 1.5625e-05 (if not early_stopping).\n",
      "976/976 [==============================] - 1s 1ms/sample - loss: 5.7789 - haversine_loss: 5.8133 - val_loss: 10.3984 - val_haversine_loss: 10.3715\n",
      "Epoch 43/1024\n",
      "928/976 [===========================>..] - ETA: 0s - loss: 5.5906 - haversine_loss: 5.5906Restoring model weights from the end of the best epoch.\n",
      "976/976 [==============================] - 1s 1ms/sample - loss: 5.6098 - haversine_loss: 5.6041 - val_loss: 10.4118 - val_haversine_loss: 10.3820\n",
      "Epoch 00043: early stopping\n",
      "Weights from best epoch have been loaded into model.\n"
     ]
    },
    {
     "data": {
      "text/plain": [
       "<tensorflow.python.keras.callbacks.History at 0x7f6b00585eb8>"
      ]
     },
     "execution_count": 39,
     "metadata": {},
     "output_type": "execute_result"
    }
   ],
   "source": [
    "learner.autofit(10e-4)"
   ]
  },
  {
   "cell_type": "markdown",
   "metadata": {
    "colab_type": "text",
    "id": "8M9P6_MZ049h"
   },
   "source": [
    "### Evaluate the CNN model"
   ]
  },
  {
   "cell_type": "code",
   "execution_count": 40,
   "metadata": {},
   "outputs": [
    {
     "data": {
      "image/png": "[encoded data removed]",
      "text/plain": [
       "<Figure size 432x288 with 1 Axes>"
      ]
     },
     "metadata": {
      "needs_background": "light"
     },
     "output_type": "display_data"
    },
    {
     "data": {
      "image/png": "[encoded data removed]",
      "text/plain": [
       "<Figure size 432x288 with 1 Axes>"
      ]
     },
     "metadata": {
      "needs_background": "light"
     },
     "output_type": "display_data"
    },
    {
     "name": "stdout",
     "output_type": "stream",
     "text": [
      "train loss - 5.609847498721764\n",
      "val loss - 10.41181779676868\n"
     ]
    }
   ],
   "source": [
    "evaluate_model(learner, x_test, t_test, y_test, x_train, t_train, y_train)"
   ]
  },
  {
   "cell_type": "code",
   "execution_count": 45,
   "metadata": {},
   "outputs": [],
   "source": [
    "model.save('../models/small_model')"
   ]
  },
  {
   "cell_type": "code",
   "execution_count": 46,
   "metadata": {},
   "outputs": [],
   "source": [
    "model.save_weights('../models/small_model/checkpoint')"
   ]
  },
  {
   "cell_type": "code",
   "execution_count": null,
   "metadata": {},
   "outputs": [],
   "source": []
  }
 ],
 "metadata": {
  "accelerator": "GPU",
  "colab": {
   "collapsed_sections": [],
   "name": "working_copy.ipynb",
   "provenance": [],
   "toc_visible": true
  },
  "kernelspec": {
   "display_name": "Python 3",
   "language": "python",
   "name": "python3"
  },
  "language_info": {
   "codemirror_mode": {
    "name": "ipython",
    "version": 3
   },
   "file_extension": ".py",
   "mimetype": "text/x-python",
   "name": "python",
   "nbconvert_exporter": "python",
   "pygments_lexer": "ipython3",
   "version": "3.6.9"
  }
 },
 "nbformat": 4,
 "nbformat_minor": 4
}
