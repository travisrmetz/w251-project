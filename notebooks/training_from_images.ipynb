{
 "cells": [
  {
   "cell_type": "markdown",
   "metadata": {
    "colab_type": "text",
    "id": "ImJOhE4BrfK7"
   },
   "source": [
    "# Bigger study with more images\n",
    "---"
   ]
  },
  {
   "cell_type": "markdown",
   "metadata": {
    "colab_type": "text",
    "id": "OlNrYnNsrp4C"
   },
   "source": [
    "## Import useful packages"
   ]
  },
  {
   "cell_type": "code",
   "execution_count": 1,
   "metadata": {
    "colab": {},
    "colab_type": "code",
    "id": "5Y0LD8oscOFG"
   },
   "outputs": [],
   "source": [
    "import numpy as np\n",
    "import tensorflow as tf\n",
    "from tensorflow.keras.layers import Input, Dense, Conv2D, Dropout, Lambda, Concatenate, Flatten, concatenate\n",
    "from tensorflow.keras import Model\n",
    "import pandas as pd\n",
    "import matplotlib.pyplot as plt\n",
    "import cv2\n",
    "import os\n",
    "from sklearn.model_selection import train_test_split\n",
    "from sklearn.preprocessing import scale\n",
    "import ktrain\n",
    "import random"
   ]
  },
  {
   "cell_type": "code",
   "execution_count": 2,
   "metadata": {},
   "outputs": [],
   "source": [
    "os.environ[\"CUDA_DEVICE_ORDER\"]=\"PCI_BUS_ID\";\n",
    "os.environ[\"CUDA_VISIBLE_DEVICES\"]=\"0,1\"; "
   ]
  },
  {
   "cell_type": "markdown",
   "metadata": {
    "colab_type": "text",
    "id": "-k4t6YLVrt49"
   },
   "source": [
    "## Define functions to load the data\n"
   ]
  },
  {
   "cell_type": "code",
   "execution_count": 3,
   "metadata": {
    "colab": {},
    "colab_type": "code",
    "id": "FVUFnke4eIZI"
   },
   "outputs": [],
   "source": [
    "def load_image(image_path, dim=(224,224), channels=1):\n",
    "    \"\"\"\n",
    "    Loads a single image as a Numpy array and resizes it as\n",
    "    desired.  The default dimensions are consistent with\n",
    "    those expected by the VGG models.  \n",
    "\n",
    "    Args:\n",
    "    image_path: str pointing to the file\n",
    "\n",
    "    dim: Two-element tuple giving the desired height\n",
    "         and width of the processed image\n",
    "\n",
    "    Returns:\n",
    "    image:  A single-channel Numpy array\n",
    "    \"\"\"\n",
    "    if channels == 1:\n",
    "        image = cv2.imread(image_path, 0)\n",
    "    else:\n",
    "        image = cv2.imread(image_path, 1)\n",
    "    image = cv2.resize(image, dim)#, interpolation = cv2.INTER_AREA)\n",
    "    return image"
   ]
  },
  {
   "cell_type": "code",
   "execution_count": 4,
   "metadata": {
    "colab": {},
    "colab_type": "code",
    "id": "CFJgfKxOi9Uj"
   },
   "outputs": [],
   "source": [
    "def build_input(image_dir, channels=1, dim=(224,224)):\n",
    "    \"\"\"\n",
    "    Loads all of the images into a single numpy array.\n",
    "    Assumes that there are 101 equally-spaced images\n",
    "    spanning lattitudes from 35N to 45N.  \n",
    "\n",
    "    Args:\n",
    "        image_dir: str giving name of the image directory\n",
    "\n",
    "    Returns:\n",
    "    X:  A 3-dimensional numpy array containing the\n",
    "        images. Image height and width are set by\n",
    "        `load_images` and default to 224 x 224.\n",
    "\n",
    "    y:  A 1-dimensional numpy array of target lattitudes.\n",
    "    \"\"\"\n",
    "    X = []\n",
    "    files = os.listdir(image_dir)\n",
    "    for file in files:\n",
    "        if file[-4:] == '.png':\n",
    "            image_path = os.path.join(image_dir, file)\n",
    "            image = load_image(image_path, channels=channels, dim=dim)\n",
    "            X.append(image)\n",
    "    return (np.array(X) / 255)"
   ]
  },
  {
   "cell_type": "code",
   "execution_count": 5,
   "metadata": {
    "colab": {},
    "colab_type": "code",
    "id": "g4CpV8Yue8G1"
   },
   "outputs": [],
   "source": [
    "def build_labels(image_dir):\n",
    "    \"\"\"\n",
    "    Parses file names to extract lat, long, and time.\n",
    "    \n",
    "    Args:\n",
    "        image_dir: str giving name of the image directory\n",
    "        \n",
    "    Returns:\n",
    "        numpy.array of lats and longs with dimensions\n",
    "        len(image_dir) x 2\n",
    "        \n",
    "        numpy.array of times\n",
    "    \"\"\"\n",
    "    files = os.listdir(image_dir)\n",
    "    y = []\n",
    "    times = []\n",
    "    for file in files:\n",
    "        if file[-4:] == '.png':\n",
    "            file_split = file.split('+')\n",
    "            lat = float(file_split[0])\n",
    "            long = float(file_split[1])\n",
    "            time = file_split[2].split('.')[0]\n",
    "            y.append((lat, long))\n",
    "            times.append(time)\n",
    "    return np.array(y), np.array(times, dtype='datetime64')"
   ]
  },
  {
   "cell_type": "code",
   "execution_count": 6,
   "metadata": {},
   "outputs": [],
   "source": [
    "def normalize_times(times):\n",
    "    \"\"\"\n",
    "    Converts times to a float bounded by [0,1]\n",
    "    \n",
    "    Args:\n",
    "        times: numpy.array with dtype datetime64\n",
    "        \n",
    "    Returns:\n",
    "        numpy.array of decimal times bounded on [0,1]\n",
    "    \"\"\"\n",
    "    time_range = (times.max() - times.min()).astype('float64')\n",
    "    seconds_from_t0 = (times - times.min()).astype('float64')\n",
    "    \n",
    "    return seconds_from_t0 / time_range"
   ]
  },
  {
   "cell_type": "code",
   "execution_count": 7,
   "metadata": {},
   "outputs": [],
   "source": [
    "def normalize_y(y):\n",
    "    \"\"\"\n",
    "    Converts lats and longs to values bounded by [0,1]\n",
    "    \n",
    "    Args:\n",
    "        y:  numpy.array of dimensions observations x 2\n",
    "        \n",
    "    Returns\n",
    "        numpy.array: normalized values\n",
    "        \n",
    "        tuple: values needed by the Haversine loss function\n",
    "    \"\"\"\n",
    "    lat_min = y[:,0].min()\n",
    "    lat_range = y[:,0].max() - y[:,0].min()\n",
    "    long_min = y[:,1].min()\n",
    "    long_range = y[:,1].max() - y[:,1].min()\n",
    "    \n",
    "    y_norm = np.zeros(y.shape)\n",
    "    \n",
    "    y_norm[:,0] = (y[:,0] - lat_min) / lat_range\n",
    "    y_norm[:,1] = (y[:,1] - long_min) / long_range\n",
    "    \n",
    "    return y_norm, (lat_min, lat_range, long_min, long_range)"
   ]
  },
  {
   "cell_type": "code",
   "execution_count": 8,
   "metadata": {},
   "outputs": [],
   "source": [
    "def evaluate_model(learner, x_test, t_test, y_test,\n",
    "                  x_train, t_train, y_train):\n",
    "    y_hat = learner.model.predict([x_test, t_test])\n",
    "    y_hat_train = learner.model.predict([x_train, t_train])\n",
    "\n",
    "    plt.scatter(y_train[:,0], y_hat_train[:,0])\n",
    "    plt.scatter(y_test[:,0], y_hat[:,0])\n",
    "    plt.title('Predicted lat vs. True lat')\n",
    "    plt.xlabel('True lat')\n",
    "    plt.ylabel('Predicted lat')\n",
    "    plt.show()\n",
    "\n",
    "    plt.scatter(y_train[:,1], y_hat_train[:,1])\n",
    "    plt.scatter(y_test[:,1], y_hat[:,1])\n",
    "    plt.title('Predicted long vs. True long')\n",
    "    plt.xlabel('True long')\n",
    "    plt.ylabel('Predicted long')\n",
    "    plt.show()\n",
    "\n",
    "    print('train loss - ' + str(learner.model.history.history['loss'][-1]))\n",
    "    print('val loss - ' + str(learner.model.history.history['val_loss'][-1]))"
   ]
  },
  {
   "cell_type": "markdown",
   "metadata": {
    "colab_type": "text",
    "id": "zheMHJQI0M6R"
   },
   "source": [
    "## Define the loss function"
   ]
  },
  {
   "cell_type": "code",
   "execution_count": 9,
   "metadata": {
    "colab": {},
    "colab_type": "code",
    "id": "HchIutGk3xoe"
   },
   "outputs": [],
   "source": [
    "def haversine_loss(y_true, y_pred, denorm=(36.0, 4.0, -78.0, 4.0), R=3443.92):\n",
    "    \"\"\"\n",
    "    Returns the mean squared haversine distance\n",
    "    between arrays consisting of lattitudes and\n",
    "    longitudes.\n",
    "    \n",
    "    Args:\n",
    "        y_true:  Either an np.array or a tf.constant\n",
    "                 of dimensions m x 2 where m in the\n",
    "                 number of observations.  Each row is\n",
    "                 an ordered pair of [lat, long].\n",
    "                 \n",
    "        y_pred:  Has the same form as y_true.\n",
    "        \n",
    "        dnorm:   A tuple of four values needed to\n",
    "                 convert normalized lat and long back\n",
    "                 to actual values.\n",
    "        \n",
    "        R:       Float giving the radius of the earth.\n",
    "                 The default value is in nautical\n",
    "                 miles.  Values in other units:\n",
    "                 \n",
    "                 kilometers    -> 6378.14\n",
    "                 statute miles -> 3963.19\n",
    "                 smoots        -> 3.748e+6\n",
    "        \n",
    "    Returns:\n",
    "        tf.tensor of shape () and dtype float64 giving\n",
    "        the mean square distance error using the\n",
    "        haversine function.\n",
    "    \n",
    "    Examples:\n",
    "    \n",
    "        Input:\n",
    "        y1     = np.array([[0, 0]])\n",
    "        y_hat1 = np.array([[0, 180]])\n",
    "        \n",
    "        Expected result:\n",
    "        (pi * R) ** 2 = 117059281.6 nm^2\n",
    "        \n",
    "        Input:\n",
    "        y2     = np.array([[0, 0]])\n",
    "        y_hat2 = np.array([[90, 0]])\n",
    "        \n",
    "        Expected result:\n",
    "        (pi * R / 2) ** 2 = 29264820.4 nm^2\n",
    "        \n",
    "        Input:\n",
    "        Portmsouth, VA to Rota, Spain\n",
    "        y3     = tf.constant([[36.8354, -76.2983]])\n",
    "        y_hat3 = tf.constant([[36.6237, -6.3601]])\n",
    "        \n",
    "        Expected result:\n",
    "        37065212.0 km^2\n",
    "        \n",
    "    Notes:\n",
    "        Closely follows the JS implmentation at\n",
    "        https://www.movable-type.co.uk/scripts/latlong.html.\n",
    "    \"\"\"\n",
    "    # Break inputs into lattitudes and longitudes for\n",
    "    # convienience\n",
    "\n",
    "    # Convert normalized lat and long into actuals\n",
    "    lat_min, lat_range, long_min, long_range = denorm\n",
    "    lat1  = y_true[:,0] * lat_range + lat_min\n",
    "    lat2  = y_pred[:,0] * lat_range + lat_min\n",
    "    long1 = y_true[:,1] * long_range + long_min\n",
    "    long2 = y_pred[:,1] * long_range + long_min\n",
    "    \n",
    "    # Compute phis and lambdas \n",
    "    phi1 = lat1 * np.pi / 180\n",
    "    phi2 = lat2 * np.pi / 180\n",
    "    delta_phi    = (lat2 - lat1) * np.pi / 180\n",
    "    delta_lambda = (long2 - long1) * np.pi / 180\n",
    "    \n",
    "    # Intermediate computations\n",
    "    a = tf.square(tf.sin(delta_phi / 2)) + tf.cos(phi1) * tf.cos(phi2) * tf.square(tf.sin(delta_lambda / 2))\n",
    "    c = 2 * tf.atan2(tf.sqrt(a), tf.sqrt(1 - a))\n",
    "    \n",
    "    # Compute distances\n",
    "    d = R * c\n",
    "    \n",
    "    # Compute the mean squared distance (MSE)\n",
    "    return tf.reduce_mean(d)"
   ]
  },
  {
   "cell_type": "markdown",
   "metadata": {
    "colab_type": "text",
    "id": "10QkIM_Rso10"
   },
   "source": [
    "## Prepare the data"
   ]
  },
  {
   "cell_type": "markdown",
   "metadata": {
    "colab_type": "text",
    "id": "HkcP-D-Esrce"
   },
   "source": [
    "### Load the images"
   ]
  },
  {
   "cell_type": "code",
   "execution_count": 10,
   "metadata": {},
   "outputs": [],
   "source": [
    "X = build_input('../data/bigger_with_time', channels=1)"
   ]
  },
  {
   "cell_type": "code",
   "execution_count": 11,
   "metadata": {
    "colab": {
     "base_uri": "https://localhost:8080/",
     "height": 34
    },
    "colab_type": "code",
    "id": "fcmTDUFkek3S",
    "outputId": "1f88ab8b-23b3-41ea-a6be-e625e96bf176"
   },
   "outputs": [],
   "source": [
    "X = np.expand_dims(X, 3)"
   ]
  },
  {
   "cell_type": "code",
   "execution_count": 12,
   "metadata": {},
   "outputs": [
    {
     "data": {
      "text/plain": [
       "(7503, 224, 224, 1)"
      ]
     },
     "execution_count": 12,
     "metadata": {},
     "output_type": "execute_result"
    }
   ],
   "source": [
    "X.shape"
   ]
  },
  {
   "cell_type": "code",
   "execution_count": 13,
   "metadata": {
    "colab": {},
    "colab_type": "code",
    "id": "uX0RGR6Ie5cC"
   },
   "outputs": [],
   "source": [
    "y, times = build_labels('../data/bigger_with_time')"
   ]
  },
  {
   "cell_type": "code",
   "execution_count": 14,
   "metadata": {},
   "outputs": [],
   "source": [
    "y_norm, denorm = normalize_y(y)"
   ]
  },
  {
   "cell_type": "code",
   "execution_count": 15,
   "metadata": {},
   "outputs": [],
   "source": [
    "test_size = 0.1\n",
    "random_draw = np.random.uniform(low=0, high=1, size=len(X))"
   ]
  },
  {
   "cell_type": "markdown",
   "metadata": {},
   "source": [
    "### Split into test and training sets"
   ]
  },
  {
   "cell_type": "code",
   "execution_count": 16,
   "metadata": {},
   "outputs": [],
   "source": [
    "test_mask = random_draw <= test_size"
   ]
  },
  {
   "cell_type": "code",
   "execution_count": 17,
   "metadata": {},
   "outputs": [
    {
     "name": "stdout",
     "output_type": "stream",
     "text": [
      "(715, 224, 224, 1) (715, 2) (715,)\n",
      "(6788, 224, 224, 1) (6788, 2) (6788,)\n"
     ]
    }
   ],
   "source": [
    "norm_times = normalize_times(times)\n",
    "\n",
    "x_test = X[test_mask]\n",
    "y_test = y_norm[test_mask]\n",
    "t_test = norm_times[test_mask]\n",
    "\n",
    "x_train = X[~test_mask]\n",
    "y_train = y_norm[~test_mask]\n",
    "t_train = norm_times[~test_mask]\n",
    "\n",
    "print(x_test.shape, y_test.shape, t_test.shape)\n",
    "print(x_train.shape, y_train.shape, t_train.shape)"
   ]
  },
  {
   "cell_type": "code",
   "execution_count": 19,
   "metadata": {},
   "outputs": [],
   "source": [
    "np.save('x_train_big.npy', x_train)\n",
    "np.save('x_test_big.npy', x_test)\n",
    "np.save('y_train_big.npy', y_train)\n",
    "np.save('y_test_big.npy', y_test)\n",
    "np.save('t_train_big.npy', t_train)\n",
    "np.save('t_test_big.npy', t_test)"
   ]
  },
  {
   "cell_type": "markdown",
   "metadata": {},
   "source": [
    "## A CNN model with multiple inputs\n",
    "-------"
   ]
  },
  {
   "cell_type": "code",
   "execution_count": 20,
   "metadata": {},
   "outputs": [],
   "source": [
    "input_image = Input(shape=x_train[0].shape)\n",
    "input_time = Input(shape=times[0].shape)\n",
    "i = Conv2D(filters=5, kernel_size=10, padding='same', activation='relu')(input_image)\n",
    "i = Conv2D(filters=1, kernel_size=10, padding='same', activation='relu')(i)\n",
    "i = Flatten()(i)\n",
    "t = Flatten()(input_time)\n",
    "ti = concatenate([i, t])\n",
    "ti = Dense(256, activation='relu')(ti)\n",
    "ti = Dropout(0.2)(ti)\n",
    "outputs = Dense(2, activation='sigmoid')(ti)\n",
    "#outputs = Dense(2)(ti)"
   ]
  },
  {
   "cell_type": "code",
   "execution_count": 21,
   "metadata": {},
   "outputs": [],
   "source": [
    "model = Model(inputs=[input_image, input_time], outputs=outputs)"
   ]
  },
  {
   "cell_type": "code",
   "execution_count": 22,
   "metadata": {},
   "outputs": [
    {
     "name": "stdout",
     "output_type": "stream",
     "text": [
      "Model: \"model\"\n",
      "__________________________________________________________________________________________________\n",
      "Layer (type)                    Output Shape         Param #     Connected to                     \n",
      "==================================================================================================\n",
      "input_1 (InputLayer)            [(None, 224, 224, 1) 0                                            \n",
      "__________________________________________________________________________________________________\n",
      "conv2d (Conv2D)                 (None, 224, 224, 5)  505         input_1[0][0]                    \n",
      "__________________________________________________________________________________________________\n",
      "conv2d_1 (Conv2D)               (None, 224, 224, 1)  501         conv2d[0][0]                     \n",
      "__________________________________________________________________________________________________\n",
      "input_2 (InputLayer)            [(None,)]            0                                            \n",
      "__________________________________________________________________________________________________\n",
      "flatten (Flatten)               (None, 50176)        0           conv2d_1[0][0]                   \n",
      "__________________________________________________________________________________________________\n",
      "flatten_1 (Flatten)             (None, 1)            0           input_2[0][0]                    \n",
      "__________________________________________________________________________________________________\n",
      "concatenate (Concatenate)       (None, 50177)        0           flatten[0][0]                    \n",
      "                                                                 flatten_1[0][0]                  \n",
      "__________________________________________________________________________________________________\n",
      "dense (Dense)                   (None, 256)          12845568    concatenate[0][0]                \n",
      "__________________________________________________________________________________________________\n",
      "dropout (Dropout)               (None, 256)          0           dense[0][0]                      \n",
      "__________________________________________________________________________________________________\n",
      "dense_1 (Dense)                 (None, 2)            514         dropout[0][0]                    \n",
      "==================================================================================================\n",
      "Total params: 12,847,088\n",
      "Trainable params: 12,847,088\n",
      "Non-trainable params: 0\n",
      "__________________________________________________________________________________________________\n"
     ]
    }
   ],
   "source": [
    "model.summary()"
   ]
  },
  {
   "cell_type": "code",
   "execution_count": null,
   "metadata": {},
   "outputs": [],
   "source": [
    "model.save('../models/main_model')"
   ]
  },
  {
   "cell_type": "code",
   "execution_count": 27,
   "metadata": {},
   "outputs": [],
   "source": [
    "model.compile(optimizer='adam',\n",
    "             loss=haversine_loss,\n",
    "             metrics=[haversine_loss])"
   ]
  },
  {
   "cell_type": "code",
   "execution_count": 28,
   "metadata": {},
   "outputs": [],
   "source": [
    "learner = ktrain.get_learner(model, train_data=([x_train, t_train], y_train),\n",
    "                             val_data=([x_test, t_test], y_test))"
   ]
  },
  {
   "cell_type": "code",
   "execution_count": 25,
   "metadata": {},
   "outputs": [
    {
     "name": "stdout",
     "output_type": "stream",
     "text": [
      "simulating training for different learning rates... this may take a few moments...\n",
      "Train on 6788 samples\n",
      "Epoch 1/1024\n",
      "6788/6788 [==============================] - 7s 1ms/sample - loss: 90.2907 - haversine_loss: 90.3832\n",
      "Epoch 2/1024\n",
      "6788/6788 [==============================] - 4s 579us/sample - loss: 87.1213 - haversine_loss: 87.1281\n",
      "Epoch 3/1024\n",
      "6788/6788 [==============================] - 4s 581us/sample - loss: 58.8863 - haversine_loss: 58.7812\n",
      "Epoch 4/1024\n",
      "6788/6788 [==============================] - 4s 582us/sample - loss: 32.1059 - haversine_loss: 32.0346\n",
      "Epoch 5/1024\n",
      "6788/6788 [==============================] - 4s 580us/sample - loss: 22.3759 - haversine_loss: 22.3565\n",
      "Epoch 6/1024\n",
      "6788/6788 [==============================] - 4s 578us/sample - loss: 22.0942 - haversine_loss: 22.1287\n",
      "Epoch 7/1024\n",
      "6788/6788 [==============================] - 4s 582us/sample - loss: nan - haversine_loss: nan\n",
      "Epoch 8/1024\n",
      "6788/6788 [==============================] - 4s 585us/sample - loss: nan - haversine_loss: nan\n",
      "Epoch 9/1024\n",
      "4736/6788 [===================>..........] - ETA: 1s - loss: nan - haversine_loss: nanCall to keras.models.load_model failed.  Try using the learner.model.save_weights and learner.model.load_weights instead.\n",
      "Error was: SavedModel file does not exist at: /tmp/tmpzek3z69u/{saved_model.pbtxt|saved_model.pb}\n",
      "\n",
      "\n",
      "done.\n",
      "Visually inspect loss plot and select learning rate associated with falling loss\n"
     ]
    },
    {
     "data": {
      "image/png": "[encoded data removed]",
      "text/plain": [
       "<Figure size 432x288 with 1 Axes>"
      ]
     },
     "metadata": {
      "needs_background": "light"
     },
     "output_type": "display_data"
    }
   ],
   "source": [
    "learner.lr_find(show_plot=True)"
   ]
  },
  {
   "cell_type": "code",
   "execution_count": 29,
   "metadata": {},
   "outputs": [
    {
     "name": "stdout",
     "output_type": "stream",
     "text": [
      "early_stopping automatically enabled at patience=5\n",
      "reduce_on_plateau automatically enabled at patience=2\n",
      "\n",
      "\n",
      "begin training using triangular learning rate policy with max lr of 0.0002...\n",
      "Train on 6788 samples, validate on 715 samples\n",
      "Epoch 1/1024\n",
      "6788/6788 [==============================] - 5s 767us/sample - loss: 48.7780 - haversine_loss: 48.7090 - val_loss: 28.4076 - val_haversine_loss: 28.5413\n",
      "Epoch 2/1024\n",
      "6788/6788 [==============================] - 4s 646us/sample - loss: 26.4281 - haversine_loss: 26.4099 - val_loss: 23.3467 - val_haversine_loss: 23.4607\n",
      "Epoch 3/1024\n",
      "6788/6788 [==============================] - 4s 649us/sample - loss: 20.9252 - haversine_loss: 20.9792 - val_loss: 19.0993 - val_haversine_loss: 19.1685\n",
      "Epoch 4/1024\n",
      "6788/6788 [==============================] - 4s 655us/sample - loss: 17.1249 - haversine_loss: 17.1324 - val_loss: 16.2008 - val_haversine_loss: 16.2234\n",
      "Epoch 5/1024\n",
      "6788/6788 [==============================] - 4s 653us/sample - loss: 14.5306 - haversine_loss: 14.5021 - val_loss: 14.2414 - val_haversine_loss: 14.3164\n",
      "Epoch 6/1024\n",
      "6788/6788 [==============================] - 4s 655us/sample - loss: 12.6711 - haversine_loss: 12.6566 - val_loss: 12.9390 - val_haversine_loss: 12.9672\n",
      "Epoch 7/1024\n",
      "6788/6788 [==============================] - 4s 649us/sample - loss: 11.4767 - haversine_loss: 11.5156 - val_loss: 11.9508 - val_haversine_loss: 11.9784\n",
      "Epoch 8/1024\n",
      "6788/6788 [==============================] - 4s 655us/sample - loss: 10.6169 - haversine_loss: 10.6205 - val_loss: 11.4557 - val_haversine_loss: 11.4840\n",
      "Epoch 9/1024\n",
      "6788/6788 [==============================] - 4s 650us/sample - loss: 9.7447 - haversine_loss: 9.7369 - val_loss: 10.9337 - val_haversine_loss: 10.9339\n",
      "Epoch 10/1024\n",
      "6788/6788 [==============================] - 4s 652us/sample - loss: 9.3234 - haversine_loss: 9.3312 - val_loss: 10.3886 - val_haversine_loss: 10.4421\n",
      "Epoch 11/1024\n",
      "6788/6788 [==============================] - 4s 659us/sample - loss: 8.8408 - haversine_loss: 8.8426 - val_loss: 9.9163 - val_haversine_loss: 9.9731\n",
      "Epoch 12/1024\n",
      "6788/6788 [==============================] - 4s 654us/sample - loss: 8.5675 - haversine_loss: 8.5768 - val_loss: 9.6764 - val_haversine_loss: 9.6988\n",
      "Epoch 13/1024\n",
      "6788/6788 [==============================] - 4s 662us/sample - loss: 8.1975 - haversine_loss: 8.2085 - val_loss: 9.4731 - val_haversine_loss: 9.5269\n",
      "Epoch 14/1024\n",
      "6788/6788 [==============================] - 4s 657us/sample - loss: 7.9726 - haversine_loss: 7.9639 - val_loss: 8.9180 - val_haversine_loss: 8.9348\n",
      "Epoch 15/1024\n",
      "6788/6788 [==============================] - 4s 657us/sample - loss: 7.7321 - haversine_loss: 7.7300 - val_loss: 8.7196 - val_haversine_loss: 8.7375\n",
      "Epoch 16/1024\n",
      "6788/6788 [==============================] - 4s 655us/sample - loss: 7.5440 - haversine_loss: 7.5545 - val_loss: 8.6601 - val_haversine_loss: 8.6816\n",
      "Epoch 17/1024\n",
      "6788/6788 [==============================] - 4s 659us/sample - loss: 7.3202 - haversine_loss: 7.3163 - val_loss: 8.5297 - val_haversine_loss: 8.5412\n",
      "Epoch 18/1024\n",
      "6788/6788 [==============================] - 4s 657us/sample - loss: 7.2159 - haversine_loss: 7.2142 - val_loss: 8.5007 - val_haversine_loss: 8.5489\n",
      "Epoch 19/1024\n",
      "6788/6788 [==============================] - 4s 659us/sample - loss: 7.0586 - haversine_loss: 7.0405 - val_loss: 8.2934 - val_haversine_loss: 8.3354\n",
      "Epoch 20/1024\n",
      "6788/6788 [==============================] - 4s 658us/sample - loss: 6.9406 - haversine_loss: 6.9382 - val_loss: 8.1624 - val_haversine_loss: 8.1994\n",
      "Epoch 21/1024\n",
      "6788/6788 [==============================] - 4s 654us/sample - loss: 6.8883 - haversine_loss: 6.8902 - val_loss: 8.1529 - val_haversine_loss: 8.1787\n",
      "Epoch 22/1024\n",
      "6788/6788 [==============================] - 4s 642us/sample - loss: 6.7380 - haversine_loss: 6.7387 - val_loss: 8.2040 - val_haversine_loss: 8.2239\n",
      "Epoch 23/1024\n",
      "6788/6788 [==============================] - 4s 653us/sample - loss: 6.5755 - haversine_loss: 6.5691 - val_loss: 7.9852 - val_haversine_loss: 8.0099\n",
      "Epoch 24/1024\n",
      "6788/6788 [==============================] - 4s 657us/sample - loss: 6.5943 - haversine_loss: 6.6006 - val_loss: 7.9467 - val_haversine_loss: 8.0006\n",
      "Epoch 25/1024\n",
      "6788/6788 [==============================] - 4s 658us/sample - loss: 6.4685 - haversine_loss: 6.4534 - val_loss: 7.8050 - val_haversine_loss: 7.8246\n",
      "Epoch 26/1024\n",
      "6788/6788 [==============================] - 4s 636us/sample - loss: 6.3323 - haversine_loss: 6.3290 - val_loss: 7.8722 - val_haversine_loss: 7.8842\n",
      "Epoch 27/1024\n",
      "6788/6788 [==============================] - 4s 661us/sample - loss: 6.2967 - haversine_loss: 6.2977 - val_loss: 7.5603 - val_haversine_loss: 7.5988\n",
      "Epoch 28/1024\n",
      "6788/6788 [==============================] - 4s 638us/sample - loss: 6.2217 - haversine_loss: 6.2333 - val_loss: 7.5948 - val_haversine_loss: 7.6397\n",
      "Epoch 29/1024\n",
      "6752/6788 [============================>.] - ETA: 0s - loss: 6.2710 - haversine_loss: 6.2710\n",
      "Epoch 00029: Reducing Max LR on Plateau: new max lr will be 0.0001 (if not early_stopping).\n",
      "6788/6788 [==============================] - 4s 637us/sample - loss: 6.2677 - haversine_loss: 6.2700 - val_loss: 7.7747 - val_haversine_loss: 7.8094\n",
      "Epoch 30/1024\n",
      "6788/6788 [==============================] - 4s 654us/sample - loss: 5.8424 - haversine_loss: 5.8414 - val_loss: 7.2811 - val_haversine_loss: 7.2886\n",
      "Epoch 31/1024\n",
      "6788/6788 [==============================] - 4s 657us/sample - loss: 5.5787 - haversine_loss: 5.5702 - val_loss: 7.1090 - val_haversine_loss: 7.1298\n",
      "Epoch 32/1024\n",
      "6788/6788 [==============================] - 4s 642us/sample - loss: 5.4455 - haversine_loss: 5.4421 - val_loss: 7.1756 - val_haversine_loss: 7.1752\n",
      "Epoch 33/1024\n",
      "6752/6788 [============================>.] - ETA: 0s - loss: 5.4119 - haversine_loss: 5.4119\n",
      "Epoch 00033: Reducing Max LR on Plateau: new max lr will be 5e-05 (if not early_stopping).\n",
      "6788/6788 [==============================] - 4s 638us/sample - loss: 5.4143 - haversine_loss: 5.4180 - val_loss: 7.1745 - val_haversine_loss: 7.1960\n",
      "Epoch 34/1024\n",
      "6788/6788 [==============================] - 4s 655us/sample - loss: 5.2733 - haversine_loss: 5.2724 - val_loss: 7.0120 - val_haversine_loss: 7.0314\n",
      "Epoch 35/1024\n",
      "6788/6788 [==============================] - 4s 657us/sample - loss: 5.0695 - haversine_loss: 5.0757 - val_loss: 7.0048 - val_haversine_loss: 7.0030\n",
      "Epoch 36/1024\n",
      "6788/6788 [==============================] - 4s 658us/sample - loss: 5.0836 - haversine_loss: 5.0819 - val_loss: 6.9515 - val_haversine_loss: 6.9728\n",
      "Epoch 37/1024\n",
      "6788/6788 [==============================] - 4s 656us/sample - loss: 5.0467 - haversine_loss: 5.0417 - val_loss: 6.8658 - val_haversine_loss: 6.8873\n",
      "Epoch 38/1024\n",
      "6788/6788 [==============================] - 4s 638us/sample - loss: 4.9962 - haversine_loss: 4.9888 - val_loss: 6.9228 - val_haversine_loss: 6.9380\n",
      "Epoch 39/1024\n",
      "6752/6788 [============================>.] - ETA: 0s - loss: 4.9916 - haversine_loss: 4.9916\n",
      "Epoch 00039: Reducing Max LR on Plateau: new max lr will be 2.5e-05 (if not early_stopping).\n",
      "6788/6788 [==============================] - 4s 637us/sample - loss: 4.9916 - haversine_loss: 4.9851 - val_loss: 6.9144 - val_haversine_loss: 6.9133\n",
      "Epoch 40/1024\n",
      "6788/6788 [==============================] - 4s 659us/sample - loss: 4.8354 - haversine_loss: 4.8300 - val_loss: 6.8092 - val_haversine_loss: 6.8190\n",
      "Epoch 41/1024\n",
      "6788/6788 [==============================] - 4s 639us/sample - loss: 4.7812 - haversine_loss: 4.7885 - val_loss: 6.8635 - val_haversine_loss: 6.8809\n",
      "Epoch 42/1024\n",
      "6788/6788 [==============================] - 4s 655us/sample - loss: 4.7691 - haversine_loss: 4.7664 - val_loss: 6.7757 - val_haversine_loss: 6.8019\n",
      "Epoch 43/1024\n",
      "6788/6788 [==============================] - 4s 632us/sample - loss: 4.7580 - haversine_loss: 4.7626 - val_loss: 6.7850 - val_haversine_loss: 6.8035\n",
      "Epoch 44/1024\n",
      "6752/6788 [============================>.] - ETA: 0s - loss: 4.7319 - haversine_loss: 4.7319\n",
      "Epoch 00044: Reducing Max LR on Plateau: new max lr will be 1.25e-05 (if not early_stopping).\n",
      "6788/6788 [==============================] - 4s 637us/sample - loss: 4.7345 - haversine_loss: 4.7491 - val_loss: 6.8239 - val_haversine_loss: 6.8440\n",
      "Epoch 45/1024\n",
      "6788/6788 [==============================] - 4s 632us/sample - loss: 4.7419 - haversine_loss: 4.7525 - val_loss: 6.7908 - val_haversine_loss: 6.8120\n",
      "Epoch 46/1024\n",
      "6752/6788 [============================>.] - ETA: 0s - loss: 4.6811 - haversine_loss: 4.6811\n",
      "Epoch 00046: Reducing Max LR on Plateau: new max lr will be 6.25e-06 (if not early_stopping).\n",
      "6788/6788 [==============================] - 4s 634us/sample - loss: 4.6810 - haversine_loss: 4.6792 - val_loss: 6.7824 - val_haversine_loss: 6.8009\n",
      "Epoch 47/1024\n",
      "6788/6788 [==============================] - 4s 650us/sample - loss: 4.7066 - haversine_loss: 4.7188 - val_loss: 6.7411 - val_haversine_loss: 6.7713\n",
      "Epoch 48/1024\n",
      "6788/6788 [==============================] - 4s 636us/sample - loss: 4.5790 - haversine_loss: 4.5789 - val_loss: 6.7442 - val_haversine_loss: 6.7729\n",
      "Epoch 49/1024\n",
      "6752/6788 [============================>.] - ETA: 0s - loss: 4.6655 - haversine_loss: 4.6655\n",
      "Epoch 00049: Reducing Max LR on Plateau: new max lr will be 3.125e-06 (if not early_stopping).\n",
      "6788/6788 [==============================] - 4s 637us/sample - loss: 4.6660 - haversine_loss: 4.6666 - val_loss: 6.7442 - val_haversine_loss: 6.7691\n",
      "Epoch 50/1024\n",
      "6788/6788 [==============================] - 4s 637us/sample - loss: 4.5360 - haversine_loss: 4.5370 - val_loss: 6.7829 - val_haversine_loss: 6.8116\n",
      "Epoch 51/1024\n",
      "6752/6788 [============================>.] - ETA: 0s - loss: 4.6706 - haversine_loss: 4.6706\n",
      "Epoch 00051: Reducing Max LR on Plateau: new max lr will be 1.5625e-06 (if not early_stopping).\n",
      "6788/6788 [==============================] - 4s 639us/sample - loss: 4.6731 - haversine_loss: 4.6769 - val_loss: 6.7836 - val_haversine_loss: 6.8043\n",
      "Epoch 52/1024\n",
      "6752/6788 [============================>.] - ETA: 0s - loss: 4.5898 - haversine_loss: 4.5898Restoring model weights from the end of the best epoch.\n",
      "6788/6788 [==============================] - 4s 653us/sample - loss: 4.5855 - haversine_loss: 4.5811 - val_loss: 6.7669 - val_haversine_loss: 6.7907\n",
      "Epoch 00052: early stopping\n",
      "Weights from best epoch have been loaded into model.\n"
     ]
    },
    {
     "data": {
      "text/plain": [
       "<tensorflow.python.keras.callbacks.History at 0x7fd2a890cba8>"
      ]
     },
     "execution_count": 29,
     "metadata": {},
     "output_type": "execute_result"
    }
   ],
   "source": [
    "learner.autofit(2e-4)"
   ]
  },
  {
   "cell_type": "markdown",
   "metadata": {
    "colab_type": "text",
    "id": "8M9P6_MZ049h"
   },
   "source": [
    "### Evaluate the CNN model"
   ]
  },
  {
   "cell_type": "code",
   "execution_count": 30,
   "metadata": {},
   "outputs": [
    {
     "data": {
      "image/png": "[encoded data removed]",
      "text/plain": [
       "<Figure size 432x288 with 1 Axes>"
      ]
     },
     "metadata": {
      "needs_background": "light"
     },
     "output_type": "display_data"
    },
    {
     "data": {
      "image/png": "[encoded data removed]",
      "text/plain": [
       "<Figure size 432x288 with 1 Axes>"
      ]
     },
     "metadata": {
      "needs_background": "light"
     },
     "output_type": "display_data"
    },
    {
     "name": "stdout",
     "output_type": "stream",
     "text": [
      "train loss - 4.585480593342464\n",
      "val loss - 6.7669083721987855\n"
     ]
    }
   ],
   "source": [
    "evaluate_model(learner, x_test, t_test, y_test, x_train, t_train, y_train)"
   ]
  },
  {
   "cell_type": "code",
   "execution_count": 31,
   "metadata": {},
   "outputs": [],
   "source": [
    "model.save('../models/big_model')"
   ]
  },
  {
   "cell_type": "code",
   "execution_count": 32,
   "metadata": {},
   "outputs": [],
   "source": [
    "model.save_weights('../models/big_model/checkpoint')"
   ]
  },
  {
   "cell_type": "code",
   "execution_count": null,
   "metadata": {},
   "outputs": [],
   "source": []
  }
 ],
 "metadata": {
  "accelerator": "GPU",
  "colab": {
   "collapsed_sections": [],
   "name": "working_copy.ipynb",
   "provenance": [],
   "toc_visible": true
  },
  "kernelspec": {
   "display_name": "Python 3",
   "language": "python",
   "name": "python3"
  },
  "language_info": {
   "codemirror_mode": {
    "name": "ipython",
    "version": 3
   },
   "file_extension": ".py",
   "mimetype": "text/x-python",
   "name": "python",
   "nbconvert_exporter": "python",
   "pygments_lexer": "ipython3",
   "version": "3.6.9"
  }
 },
 "nbformat": 4,
 "nbformat_minor": 4
}
