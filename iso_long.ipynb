{
  "nbformat": 4,
  "nbformat_minor": 0,
  "metadata": {
    "colab": {
      "name": "iso-long.ipynb",
      "provenance": [],
      "collapsed_sections": []
    },
    "kernelspec": {
      "name": "python3",
      "display_name": "Python 3"
    },
    "accelerator": "GPU"
  },
  "cells": [
    {
      "cell_type": "markdown",
      "metadata": {
        "id": "ImJOhE4BrfK7",
        "colab_type": "text"
      },
      "source": [
        "# Testing the constant-longitude, constant-time case\n",
        "\n",
        "#### TL;DR It actually sort-of works"
      ]
    },
    {
      "cell_type": "markdown",
      "metadata": {
        "id": "OlNrYnNsrp4C",
        "colab_type": "text"
      },
      "source": [
        "## Import useful packages"
      ]
    },
    {
      "cell_type": "code",
      "metadata": {
        "id": "5Y0LD8oscOFG",
        "colab_type": "code",
        "colab": {}
      },
      "source": [
        "import numpy as np\n",
        "import tensorflow as tf\n",
        "import pandas as pd\n",
        "import matplotlib.pyplot as plt\n",
        "import cv2\n",
        "import os\n",
        "from sklearn.model_selection import train_test_split"
      ],
      "execution_count": 0,
      "outputs": []
    },
    {
      "cell_type": "markdown",
      "metadata": {
        "id": "-k4t6YLVrt49",
        "colab_type": "text"
      },
      "source": [
        "## Define functions to load the data"
      ]
    },
    {
      "cell_type": "code",
      "metadata": {
        "id": "FVUFnke4eIZI",
        "colab_type": "code",
        "colab": {}
      },
      "source": [
        "def load_image(image_path, dim=(224,224)):\n",
        "  \"\"\"\n",
        "  Loads a single image as a Numpy array and resizes it as\n",
        "  desired.  The default dimensions are consistent with\n",
        "  those expected by the VGG models.  \n",
        "\n",
        "  Args:\n",
        "    image_path: str pointing to the file\n",
        "\n",
        "    dim: Two-element tuple giving the desired height\n",
        "         and width of the processed image\n",
        "\n",
        "  Returns:\n",
        "    image:  A single-channel Numpy array\n",
        "    \"\"\"\n",
        "  image = cv2.imread(image_path, 0)\n",
        "  image = cv2.resize(image, dim, interpolation = cv2.INTER_AREA)\n",
        "  return image"
      ],
      "execution_count": 0,
      "outputs": []
    },
    {
      "cell_type": "code",
      "metadata": {
        "id": "CFJgfKxOi9Uj",
        "colab_type": "code",
        "colab": {}
      },
      "source": [
        "def build_input(image_dir):\n",
        "  \"\"\"\n",
        "  Loads all of the images into a single numpy array.\n",
        "  Assumes that there are 101 equally-spaced images\n",
        "  spanning lattitudes from 35N to 45N.  \n",
        "\n",
        "  Args:\n",
        "    image_dir: str giving name of the image directory\n",
        "\n",
        "  Returns:\n",
        "    X:  A 3-dimensional numpy array containing the\n",
        "        images. Image height and width are set by\n",
        "        `load_images` and default to 224 x 224.\n",
        "    \n",
        "    y:  A 1-dimensional numpy array of target lattitudes.\n",
        "    \"\"\"\n",
        "  X = []\n",
        "  y = np.arange(35, 45.01, step=0.1)\n",
        "  for i in range(101):\n",
        "    file_name = 'image' + str(i) + '.png'\n",
        "    image_path = os.path.join(image_dir, file_name)\n",
        "    image = load_image(image_path)\n",
        "    X.append(image)\n",
        "  return (np.array(X) / 255, y)"
      ],
      "execution_count": 0,
      "outputs": []
    },
    {
      "cell_type": "code",
      "metadata": {
        "id": "6aWURghls3NV",
        "colab_type": "code",
        "colab": {
          "base_uri": "https://localhost:8080/",
          "height": 286
        },
        "outputId": "f7b6c97d-1291-43f4-a1b2-ad1893943d93"
      },
      "source": [
        "sample_image = load_image('/content/image19.png')\n",
        "plt.imshow(sample_image)\n",
        "print(sample_image.shape)"
      ],
      "execution_count": 4,
      "outputs": [
        {
          "output_type": "stream",
          "text": [
            "(224, 224)\n"
          ],
          "name": "stdout"
        },
        {
          "output_type": "display_data",
          "data": {
            "image/png": "[encoded data removed]",
            "text/plain": [
              "<Figure size 432x288 with 1 Axes>"
            ]
          },
          "metadata": {
            "tags": [],
            "needs_background": "light"
          }
        }
      ]
    },
    {
      "cell_type": "markdown",
      "metadata": {
        "id": "10QkIM_Rso10",
        "colab_type": "text"
      },
      "source": [
        "## Prepare the data"
      ]
    },
    {
      "cell_type": "markdown",
      "metadata": {
        "id": "HkcP-D-Esrce",
        "colab_type": "text"
      },
      "source": [
        "### Load the images"
      ]
    },
    {
      "cell_type": "code",
      "metadata": {
        "colab_type": "code",
        "id": "kUp7yqdFkFi0",
        "colab": {}
      },
      "source": [
        "X, y = build_input(\"/content\")\n",
        "y = y / 40"
      ],
      "execution_count": 0,
      "outputs": []
    },
    {
      "cell_type": "markdown",
      "metadata": {
        "id": "fwhGSeYdstxS",
        "colab_type": "text"
      },
      "source": [
        "### Split into test and training sets"
      ]
    },
    {
      "cell_type": "code",
      "metadata": {
        "id": "owd0SyrvlUHo",
        "colab_type": "code",
        "colab": {
          "base_uri": "https://localhost:8080/",
          "height": 85
        },
        "outputId": "b158ffab-4713-4ccb-aafc-fae16c0c0183"
      },
      "source": [
        "X_train, X_val, y_train, y_val = train_test_split(X, y, test_size=0.2)\n",
        "print(X_train.shape)\n",
        "print(y_train.shape)\n",
        "print(X_val.shape)\n",
        "print(y_val.shape)"
      ],
      "execution_count": 6,
      "outputs": [
        {
          "output_type": "stream",
          "text": [
            "(80, 224, 224)\n",
            "(80,)\n",
            "(21, 224, 224)\n",
            "(21,)\n"
          ],
          "name": "stdout"
        }
      ]
    },
    {
      "cell_type": "markdown",
      "metadata": {
        "id": "otvKdtM3tKDG",
        "colab_type": "text"
      },
      "source": [
        "## The model\n",
        "\n",
        "We can probably prune this back a bit.  This is simply a DNN with single layer output suitable for regression."
      ]
    },
    {
      "cell_type": "code",
      "metadata": {
        "id": "IcKrIzxIce1i",
        "colab_type": "code",
        "colab": {}
      },
      "source": [
        "model = tf.keras.Sequential([\n",
        "    tf.keras.layers.Flatten(input_shape=(224,224)),\n",
        "    tf.keras.layers.Dense(1024, activation='relu'),\n",
        "    tf.keras.layers.Dense(1024, activation='relu'),\n",
        "    tf.keras.layers.Dense(512, activation='relu'),\n",
        "    tf.keras.layers.Dense(512, activation='relu'),\n",
        "    tf.keras.layers.Dense(256, activation='relu'),\n",
        "    tf.keras.layers.Dense(256, activation='relu'),\n",
        "    tf.keras.layers.Dense(128, activation='relu'),\n",
        "    tf.keras.layers.Dense(128, activation='relu'),\n",
        "    tf.keras.layers.Dense(64, activation='relu'),\n",
        "    tf.keras.layers.Dense(32, activation='relu'),\n",
        "    tf.keras.layers.Dense(1)\n",
        "])"
      ],
      "execution_count": 0,
      "outputs": []
    },
    {
      "cell_type": "code",
      "metadata": {
        "id": "LXYPmjkNckYd",
        "colab_type": "code",
        "outputId": "2bc788b1-e096-4988-e8bd-a62368f81c53",
        "colab": {
          "base_uri": "https://localhost:8080/",
          "height": 561
        }
      },
      "source": [
        "model.summary()"
      ],
      "execution_count": 8,
      "outputs": [
        {
          "output_type": "stream",
          "text": [
            "Model: \"sequential\"\n",
            "_________________________________________________________________\n",
            "Layer (type)                 Output Shape              Param #   \n",
            "=================================================================\n",
            "flatten (Flatten)            (None, 50176)             0         \n",
            "_________________________________________________________________\n",
            "dense (Dense)                (None, 1024)              51381248  \n",
            "_________________________________________________________________\n",
            "dense_1 (Dense)              (None, 1024)              1049600   \n",
            "_________________________________________________________________\n",
            "dense_2 (Dense)              (None, 512)               524800    \n",
            "_________________________________________________________________\n",
            "dense_3 (Dense)              (None, 512)               262656    \n",
            "_________________________________________________________________\n",
            "dense_4 (Dense)              (None, 256)               131328    \n",
            "_________________________________________________________________\n",
            "dense_5 (Dense)              (None, 256)               65792     \n",
            "_________________________________________________________________\n",
            "dense_6 (Dense)              (None, 128)               32896     \n",
            "_________________________________________________________________\n",
            "dense_7 (Dense)              (None, 128)               16512     \n",
            "_________________________________________________________________\n",
            "dense_8 (Dense)              (None, 64)                8256      \n",
            "_________________________________________________________________\n",
            "dense_9 (Dense)              (None, 32)                2080      \n",
            "_________________________________________________________________\n",
            "dense_10 (Dense)             (None, 1)                 33        \n",
            "=================================================================\n",
            "Total params: 53,475,201\n",
            "Trainable params: 53,475,201\n",
            "Non-trainable params: 0\n",
            "_________________________________________________________________\n"
          ],
          "name": "stdout"
        }
      ]
    },
    {
      "cell_type": "markdown",
      "metadata": {
        "id": "fCGZMmoUvw34",
        "colab_type": "text"
      },
      "source": [
        "I put the barest effort into choosing an optimizer and learning rate.  We can probably do better."
      ]
    },
    {
      "cell_type": "code",
      "metadata": {
        "id": "dGQdy3yWehlc",
        "colab_type": "code",
        "colab": {}
      },
      "source": [
        "optimizer = tf.keras.optimizers.RMSprop(learning_rate=0.00001)"
      ],
      "execution_count": 0,
      "outputs": []
    },
    {
      "cell_type": "code",
      "metadata": {
        "id": "czM8uT5_j55P",
        "colab_type": "code",
        "colab": {}
      },
      "source": [
        "model.compile(optimizer=optimizer,\n",
        "              loss='mean_squared_error',\n",
        "              metrics=['mean_squared_error'])"
      ],
      "execution_count": 0,
      "outputs": []
    },
    {
      "cell_type": "markdown",
      "metadata": {
        "id": "iMpvQhpv0VIk",
        "colab_type": "text"
      },
      "source": [
        "`callbacks` can be used to tell the model when to stop training.  In this case, I'm having it stop if the mean squared error hasn't improved for 20 epochs."
      ]
    },
    {
      "cell_type": "code",
      "metadata": {
        "id": "WxTTZOYSxOD2",
        "colab_type": "code",
        "colab": {}
      },
      "source": [
        "callback = tf.keras.callbacks.EarlyStopping(monitor='mean_squared_error', patience=20)"
      ],
      "execution_count": 0,
      "outputs": []
    },
    {
      "cell_type": "markdown",
      "metadata": {
        "id": "45ubHGx-0fZT",
        "colab_type": "text"
      },
      "source": [
        "Fit the model."
      ]
    },
    {
      "cell_type": "code",
      "metadata": {
        "id": "GSdEVoRTn7KO",
        "colab_type": "code",
        "colab": {
          "base_uri": "https://localhost:8080/",
          "height": 1000
        },
        "outputId": "234bbb72-fb98-4223-c18e-767c42fa7a3a"
      },
      "source": [
        "history = model.fit(x=X_train, y=y_train, validation_data=(X_val, y_val),\n",
        "                    verbose=2, epochs=200, callbacks=[callback])"
      ],
      "execution_count": 12,
      "outputs": [
        {
          "output_type": "stream",
          "text": [
            "Epoch 1/200\n",
            "3/3 - 0s - loss: 0.9749 - mean_squared_error: 0.9749 - val_loss: 0.9744 - val_mean_squared_error: 0.9744\n",
            "Epoch 2/200\n",
            "3/3 - 0s - loss: 0.8968 - mean_squared_error: 0.8968 - val_loss: 0.8936 - val_mean_squared_error: 0.8936\n",
            "Epoch 3/200\n",
            "3/3 - 0s - loss: 0.8182 - mean_squared_error: 0.8182 - val_loss: 0.8124 - val_mean_squared_error: 0.8124\n",
            "Epoch 4/200\n",
            "3/3 - 0s - loss: 0.7410 - mean_squared_error: 0.7410 - val_loss: 0.7353 - val_mean_squared_error: 0.7353\n",
            "Epoch 5/200\n",
            "3/3 - 0s - loss: 0.6650 - mean_squared_error: 0.6650 - val_loss: 0.6582 - val_mean_squared_error: 0.6582\n",
            "Epoch 6/200\n",
            "3/3 - 0s - loss: 0.5907 - mean_squared_error: 0.5907 - val_loss: 0.5744 - val_mean_squared_error: 0.5744\n",
            "Epoch 7/200\n",
            "3/3 - 0s - loss: 0.5108 - mean_squared_error: 0.5108 - val_loss: 0.4924 - val_mean_squared_error: 0.4924\n",
            "Epoch 8/200\n",
            "3/3 - 0s - loss: 0.4335 - mean_squared_error: 0.4335 - val_loss: 0.4152 - val_mean_squared_error: 0.4152\n",
            "Epoch 9/200\n",
            "3/3 - 0s - loss: 0.3585 - mean_squared_error: 0.3585 - val_loss: 0.3431 - val_mean_squared_error: 0.3431\n",
            "Epoch 10/200\n",
            "3/3 - 0s - loss: 0.2906 - mean_squared_error: 0.2906 - val_loss: 0.2741 - val_mean_squared_error: 0.2741\n",
            "Epoch 11/200\n",
            "3/3 - 0s - loss: 0.2278 - mean_squared_error: 0.2278 - val_loss: 0.2089 - val_mean_squared_error: 0.2089\n",
            "Epoch 12/200\n",
            "3/3 - 0s - loss: 0.1688 - mean_squared_error: 0.1688 - val_loss: 0.1543 - val_mean_squared_error: 0.1543\n",
            "Epoch 13/200\n",
            "3/3 - 0s - loss: 0.1209 - mean_squared_error: 0.1209 - val_loss: 0.1093 - val_mean_squared_error: 0.1093\n",
            "Epoch 14/200\n",
            "3/3 - 0s - loss: 0.0809 - mean_squared_error: 0.0809 - val_loss: 0.0725 - val_mean_squared_error: 0.0725\n",
            "Epoch 15/200\n",
            "3/3 - 0s - loss: 0.0507 - mean_squared_error: 0.0507 - val_loss: 0.0456 - val_mean_squared_error: 0.0456\n",
            "Epoch 16/200\n",
            "3/3 - 0s - loss: 0.0299 - mean_squared_error: 0.0299 - val_loss: 0.0278 - val_mean_squared_error: 0.0278\n",
            "Epoch 17/200\n",
            "3/3 - 0s - loss: 0.0170 - mean_squared_error: 0.0170 - val_loss: 0.0175 - val_mean_squared_error: 0.0175\n",
            "Epoch 18/200\n",
            "3/3 - 0s - loss: 0.0102 - mean_squared_error: 0.0102 - val_loss: 0.0113 - val_mean_squared_error: 0.0113\n",
            "Epoch 19/200\n",
            "3/3 - 0s - loss: 0.0069 - mean_squared_error: 0.0069 - val_loss: 0.0086 - val_mean_squared_error: 0.0086\n",
            "Epoch 20/200\n",
            "3/3 - 0s - loss: 0.0059 - mean_squared_error: 0.0059 - val_loss: 0.0074 - val_mean_squared_error: 0.0074\n",
            "Epoch 21/200\n",
            "3/3 - 0s - loss: 0.0056 - mean_squared_error: 0.0056 - val_loss: 0.0074 - val_mean_squared_error: 0.0074\n",
            "Epoch 22/200\n",
            "3/3 - 0s - loss: 0.0055 - mean_squared_error: 0.0055 - val_loss: 0.0067 - val_mean_squared_error: 0.0067\n",
            "Epoch 23/200\n",
            "3/3 - 0s - loss: 0.0055 - mean_squared_error: 0.0055 - val_loss: 0.0070 - val_mean_squared_error: 0.0070\n",
            "Epoch 24/200\n",
            "3/3 - 0s - loss: 0.0053 - mean_squared_error: 0.0053 - val_loss: 0.0069 - val_mean_squared_error: 0.0069\n",
            "Epoch 25/200\n",
            "3/3 - 0s - loss: 0.0053 - mean_squared_error: 0.0053 - val_loss: 0.0065 - val_mean_squared_error: 0.0065\n",
            "Epoch 26/200\n",
            "3/3 - 0s - loss: 0.0054 - mean_squared_error: 0.0054 - val_loss: 0.0084 - val_mean_squared_error: 0.0084\n",
            "Epoch 27/200\n",
            "3/3 - 0s - loss: 0.0052 - mean_squared_error: 0.0052 - val_loss: 0.0059 - val_mean_squared_error: 0.0059\n",
            "Epoch 28/200\n",
            "3/3 - 0s - loss: 0.0053 - mean_squared_error: 0.0053 - val_loss: 0.0061 - val_mean_squared_error: 0.0061\n",
            "Epoch 29/200\n",
            "3/3 - 0s - loss: 0.0049 - mean_squared_error: 0.0049 - val_loss: 0.0051 - val_mean_squared_error: 0.0051\n",
            "Epoch 30/200\n",
            "3/3 - 0s - loss: 0.0051 - mean_squared_error: 0.0051 - val_loss: 0.0059 - val_mean_squared_error: 0.0059\n",
            "Epoch 31/200\n",
            "3/3 - 0s - loss: 0.0045 - mean_squared_error: 0.0045 - val_loss: 0.0069 - val_mean_squared_error: 0.0069\n",
            "Epoch 32/200\n",
            "3/3 - 0s - loss: 0.0045 - mean_squared_error: 0.0045 - val_loss: 0.0061 - val_mean_squared_error: 0.0061\n",
            "Epoch 33/200\n",
            "3/3 - 0s - loss: 0.0043 - mean_squared_error: 0.0043 - val_loss: 0.0074 - val_mean_squared_error: 0.0074\n",
            "Epoch 34/200\n",
            "3/3 - 0s - loss: 0.0045 - mean_squared_error: 0.0045 - val_loss: 0.0064 - val_mean_squared_error: 0.0064\n",
            "Epoch 35/200\n",
            "3/3 - 0s - loss: 0.0048 - mean_squared_error: 0.0048 - val_loss: 0.0046 - val_mean_squared_error: 0.0046\n",
            "Epoch 36/200\n",
            "3/3 - 0s - loss: 0.0041 - mean_squared_error: 0.0041 - val_loss: 0.0053 - val_mean_squared_error: 0.0053\n",
            "Epoch 37/200\n",
            "3/3 - 0s - loss: 0.0040 - mean_squared_error: 0.0040 - val_loss: 0.0048 - val_mean_squared_error: 0.0048\n",
            "Epoch 38/200\n",
            "3/3 - 0s - loss: 0.0034 - mean_squared_error: 0.0034 - val_loss: 0.0036 - val_mean_squared_error: 0.0036\n",
            "Epoch 39/200\n",
            "3/3 - 0s - loss: 0.0035 - mean_squared_error: 0.0035 - val_loss: 0.0047 - val_mean_squared_error: 0.0047\n",
            "Epoch 40/200\n",
            "3/3 - 0s - loss: 0.0031 - mean_squared_error: 0.0031 - val_loss: 0.0045 - val_mean_squared_error: 0.0045\n",
            "Epoch 41/200\n",
            "3/3 - 0s - loss: 0.0033 - mean_squared_error: 0.0033 - val_loss: 0.0041 - val_mean_squared_error: 0.0041\n",
            "Epoch 42/200\n",
            "3/3 - 0s - loss: 0.0044 - mean_squared_error: 0.0044 - val_loss: 0.0031 - val_mean_squared_error: 0.0031\n",
            "Epoch 43/200\n",
            "3/3 - 0s - loss: 0.0033 - mean_squared_error: 0.0033 - val_loss: 0.0071 - val_mean_squared_error: 0.0071\n",
            "Epoch 44/200\n",
            "3/3 - 0s - loss: 0.0033 - mean_squared_error: 0.0033 - val_loss: 0.0027 - val_mean_squared_error: 0.0027\n",
            "Epoch 45/200\n",
            "3/3 - 0s - loss: 0.0026 - mean_squared_error: 0.0026 - val_loss: 0.0029 - val_mean_squared_error: 0.0029\n",
            "Epoch 46/200\n",
            "3/3 - 0s - loss: 0.0024 - mean_squared_error: 0.0024 - val_loss: 0.0027 - val_mean_squared_error: 0.0027\n",
            "Epoch 47/200\n",
            "3/3 - 0s - loss: 0.0023 - mean_squared_error: 0.0023 - val_loss: 0.0026 - val_mean_squared_error: 0.0026\n",
            "Epoch 48/200\n",
            "3/3 - 0s - loss: 0.0021 - mean_squared_error: 0.0021 - val_loss: 0.0031 - val_mean_squared_error: 0.0031\n",
            "Epoch 49/200\n",
            "3/3 - 0s - loss: 0.0022 - mean_squared_error: 0.0022 - val_loss: 0.0020 - val_mean_squared_error: 0.0020\n",
            "Epoch 50/200\n",
            "3/3 - 0s - loss: 0.0027 - mean_squared_error: 0.0027 - val_loss: 0.0064 - val_mean_squared_error: 0.0064\n",
            "Epoch 51/200\n",
            "3/3 - 0s - loss: 0.0027 - mean_squared_error: 0.0027 - val_loss: 0.0019 - val_mean_squared_error: 0.0019\n",
            "Epoch 52/200\n",
            "3/3 - 0s - loss: 0.0018 - mean_squared_error: 0.0018 - val_loss: 0.0020 - val_mean_squared_error: 0.0020\n",
            "Epoch 53/200\n",
            "3/3 - 0s - loss: 0.0017 - mean_squared_error: 0.0017 - val_loss: 0.0023 - val_mean_squared_error: 0.0023\n",
            "Epoch 54/200\n",
            "3/3 - 0s - loss: 0.0016 - mean_squared_error: 0.0016 - val_loss: 0.0015 - val_mean_squared_error: 0.0015\n",
            "Epoch 55/200\n",
            "3/3 - 0s - loss: 0.0025 - mean_squared_error: 0.0025 - val_loss: 0.0055 - val_mean_squared_error: 0.0055\n",
            "Epoch 56/200\n",
            "3/3 - 0s - loss: 0.0027 - mean_squared_error: 0.0027 - val_loss: 0.0014 - val_mean_squared_error: 0.0014\n",
            "Epoch 57/200\n",
            "3/3 - 0s - loss: 0.0016 - mean_squared_error: 0.0016 - val_loss: 0.0015 - val_mean_squared_error: 0.0015\n",
            "Epoch 58/200\n",
            "3/3 - 0s - loss: 0.0012 - mean_squared_error: 0.0012 - val_loss: 0.0017 - val_mean_squared_error: 0.0017\n",
            "Epoch 59/200\n",
            "3/3 - 0s - loss: 0.0015 - mean_squared_error: 0.0015 - val_loss: 0.0014 - val_mean_squared_error: 0.0014\n",
            "Epoch 60/200\n",
            "3/3 - 0s - loss: 0.0019 - mean_squared_error: 0.0019 - val_loss: 0.0012 - val_mean_squared_error: 0.0012\n",
            "Epoch 61/200\n",
            "3/3 - 0s - loss: 0.0014 - mean_squared_error: 0.0014 - val_loss: 0.0037 - val_mean_squared_error: 0.0037\n",
            "Epoch 62/200\n",
            "3/3 - 0s - loss: 0.0029 - mean_squared_error: 0.0029 - val_loss: 0.0010 - val_mean_squared_error: 0.0010\n",
            "Epoch 63/200\n",
            "3/3 - 0s - loss: 0.0013 - mean_squared_error: 0.0013 - val_loss: 9.0690e-04 - val_mean_squared_error: 9.0690e-04\n",
            "Epoch 64/200\n",
            "3/3 - 0s - loss: 0.0010 - mean_squared_error: 0.0010 - val_loss: 0.0014 - val_mean_squared_error: 0.0014\n",
            "Epoch 65/200\n",
            "3/3 - 0s - loss: 8.0834e-04 - mean_squared_error: 8.0834e-04 - val_loss: 0.0019 - val_mean_squared_error: 0.0019\n",
            "Epoch 66/200\n",
            "3/3 - 0s - loss: 0.0018 - mean_squared_error: 0.0018 - val_loss: 8.5943e-04 - val_mean_squared_error: 8.5943e-04\n",
            "Epoch 67/200\n",
            "3/3 - 0s - loss: 9.3810e-04 - mean_squared_error: 9.3810e-04 - val_loss: 6.9032e-04 - val_mean_squared_error: 6.9032e-04\n",
            "Epoch 68/200\n",
            "3/3 - 0s - loss: 8.6502e-04 - mean_squared_error: 8.6502e-04 - val_loss: 0.0017 - val_mean_squared_error: 0.0017\n",
            "Epoch 69/200\n",
            "3/3 - 0s - loss: 8.4167e-04 - mean_squared_error: 8.4167e-04 - val_loss: 8.9969e-04 - val_mean_squared_error: 8.9969e-04\n",
            "Epoch 70/200\n",
            "3/3 - 0s - loss: 0.0013 - mean_squared_error: 0.0013 - val_loss: 0.0020 - val_mean_squared_error: 0.0020\n",
            "Epoch 71/200\n",
            "3/3 - 0s - loss: 0.0013 - mean_squared_error: 0.0013 - val_loss: 7.6040e-04 - val_mean_squared_error: 7.6040e-04\n",
            "Epoch 72/200\n",
            "3/3 - 0s - loss: 8.8813e-04 - mean_squared_error: 8.8813e-04 - val_loss: 0.0012 - val_mean_squared_error: 0.0012\n",
            "Epoch 73/200\n",
            "3/3 - 0s - loss: 5.6670e-04 - mean_squared_error: 5.6670e-04 - val_loss: 0.0010 - val_mean_squared_error: 0.0010\n",
            "Epoch 74/200\n",
            "3/3 - 0s - loss: 9.6114e-04 - mean_squared_error: 9.6114e-04 - val_loss: 0.0016 - val_mean_squared_error: 0.0016\n",
            "Epoch 75/200\n",
            "3/3 - 0s - loss: 0.0019 - mean_squared_error: 0.0019 - val_loss: 0.0025 - val_mean_squared_error: 0.0025\n",
            "Epoch 76/200\n",
            "3/3 - 0s - loss: 8.5227e-04 - mean_squared_error: 8.5227e-04 - val_loss: 5.9790e-04 - val_mean_squared_error: 5.9790e-04\n",
            "Epoch 77/200\n",
            "3/3 - 0s - loss: 4.5881e-04 - mean_squared_error: 4.5881e-04 - val_loss: 3.6755e-04 - val_mean_squared_error: 3.6755e-04\n",
            "Epoch 78/200\n",
            "3/3 - 0s - loss: 5.5047e-04 - mean_squared_error: 5.5047e-04 - val_loss: 6.4669e-04 - val_mean_squared_error: 6.4669e-04\n",
            "Epoch 79/200\n",
            "3/3 - 0s - loss: 0.0014 - mean_squared_error: 0.0014 - val_loss: 0.0023 - val_mean_squared_error: 0.0023\n",
            "Epoch 80/200\n",
            "3/3 - 0s - loss: 0.0014 - mean_squared_error: 0.0014 - val_loss: 3.5471e-04 - val_mean_squared_error: 3.5471e-04\n",
            "Epoch 81/200\n",
            "3/3 - 0s - loss: 4.6480e-04 - mean_squared_error: 4.6480e-04 - val_loss: 0.0011 - val_mean_squared_error: 0.0011\n",
            "Epoch 82/200\n",
            "3/3 - 0s - loss: 9.9156e-04 - mean_squared_error: 9.9156e-04 - val_loss: 5.7401e-04 - val_mean_squared_error: 5.7401e-04\n",
            "Epoch 83/200\n",
            "3/3 - 0s - loss: 6.8535e-04 - mean_squared_error: 6.8535e-04 - val_loss: 3.6238e-04 - val_mean_squared_error: 3.6238e-04\n",
            "Epoch 84/200\n",
            "3/3 - 0s - loss: 2.4443e-04 - mean_squared_error: 2.4443e-04 - val_loss: 2.9382e-04 - val_mean_squared_error: 2.9382e-04\n",
            "Epoch 85/200\n",
            "3/3 - 0s - loss: 4.7043e-04 - mean_squared_error: 4.7043e-04 - val_loss: 8.8676e-04 - val_mean_squared_error: 8.8676e-04\n",
            "Epoch 86/200\n",
            "3/3 - 0s - loss: 0.0014 - mean_squared_error: 0.0014 - val_loss: 7.6563e-04 - val_mean_squared_error: 7.6563e-04\n",
            "Epoch 87/200\n",
            "3/3 - 0s - loss: 4.5097e-04 - mean_squared_error: 4.5097e-04 - val_loss: 4.9903e-04 - val_mean_squared_error: 4.9903e-04\n",
            "Epoch 88/200\n",
            "3/3 - 0s - loss: 9.4648e-04 - mean_squared_error: 9.4648e-04 - val_loss: 9.9466e-04 - val_mean_squared_error: 9.9466e-04\n",
            "Epoch 89/200\n",
            "3/3 - 0s - loss: 5.9106e-04 - mean_squared_error: 5.9106e-04 - val_loss: 1.6570e-04 - val_mean_squared_error: 1.6570e-04\n",
            "Epoch 90/200\n",
            "3/3 - 0s - loss: 1.8609e-04 - mean_squared_error: 1.8609e-04 - val_loss: 1.3054e-04 - val_mean_squared_error: 1.3054e-04\n",
            "Epoch 91/200\n",
            "3/3 - 0s - loss: 3.8232e-04 - mean_squared_error: 3.8232e-04 - val_loss: 0.0022 - val_mean_squared_error: 0.0022\n",
            "Epoch 92/200\n",
            "3/3 - 0s - loss: 0.0017 - mean_squared_error: 0.0017 - val_loss: 1.9917e-04 - val_mean_squared_error: 1.9917e-04\n",
            "Epoch 93/200\n",
            "3/3 - 0s - loss: 3.1272e-04 - mean_squared_error: 3.1272e-04 - val_loss: 2.5478e-04 - val_mean_squared_error: 2.5478e-04\n",
            "Epoch 94/200\n",
            "3/3 - 0s - loss: 3.1323e-04 - mean_squared_error: 3.1323e-04 - val_loss: 3.2705e-04 - val_mean_squared_error: 3.2705e-04\n",
            "Epoch 95/200\n",
            "3/3 - 0s - loss: 7.7015e-04 - mean_squared_error: 7.7015e-04 - val_loss: 0.0013 - val_mean_squared_error: 0.0013\n",
            "Epoch 96/200\n",
            "3/3 - 0s - loss: 7.9869e-04 - mean_squared_error: 7.9869e-04 - val_loss: 4.0316e-04 - val_mean_squared_error: 4.0316e-04\n",
            "Epoch 97/200\n",
            "3/3 - 0s - loss: 4.2605e-04 - mean_squared_error: 4.2605e-04 - val_loss: 5.0204e-04 - val_mean_squared_error: 5.0204e-04\n",
            "Epoch 98/200\n",
            "3/3 - 0s - loss: 4.7318e-04 - mean_squared_error: 4.7318e-04 - val_loss: 2.9189e-04 - val_mean_squared_error: 2.9189e-04\n",
            "Epoch 99/200\n",
            "3/3 - 0s - loss: 6.5219e-04 - mean_squared_error: 6.5219e-04 - val_loss: 9.8081e-04 - val_mean_squared_error: 9.8081e-04\n",
            "Epoch 100/200\n",
            "3/3 - 0s - loss: 7.9358e-04 - mean_squared_error: 7.9358e-04 - val_loss: 3.1358e-04 - val_mean_squared_error: 3.1358e-04\n",
            "Epoch 101/200\n",
            "3/3 - 0s - loss: 3.4401e-04 - mean_squared_error: 3.4401e-04 - val_loss: 1.7401e-04 - val_mean_squared_error: 1.7401e-04\n",
            "Epoch 102/200\n",
            "3/3 - 0s - loss: 1.5983e-04 - mean_squared_error: 1.5983e-04 - val_loss: 1.5817e-04 - val_mean_squared_error: 1.5817e-04\n",
            "Epoch 103/200\n",
            "3/3 - 0s - loss: 6.7356e-04 - mean_squared_error: 6.7356e-04 - val_loss: 0.0017 - val_mean_squared_error: 0.0017\n",
            "Epoch 104/200\n",
            "3/3 - 0s - loss: 0.0010 - mean_squared_error: 0.0010 - val_loss: 2.2139e-04 - val_mean_squared_error: 2.2139e-04\n",
            "Epoch 105/200\n",
            "3/3 - 0s - loss: 2.8439e-04 - mean_squared_error: 2.8439e-04 - val_loss: 4.5377e-04 - val_mean_squared_error: 4.5377e-04\n",
            "Epoch 106/200\n",
            "3/3 - 0s - loss: 4.7355e-04 - mean_squared_error: 4.7355e-04 - val_loss: 4.2883e-04 - val_mean_squared_error: 4.2883e-04\n",
            "Epoch 107/200\n",
            "3/3 - 0s - loss: 6.1712e-04 - mean_squared_error: 6.1712e-04 - val_loss: 9.7690e-04 - val_mean_squared_error: 9.7690e-04\n",
            "Epoch 108/200\n",
            "3/3 - 0s - loss: 9.2136e-04 - mean_squared_error: 9.2136e-04 - val_loss: 3.2882e-04 - val_mean_squared_error: 3.2882e-04\n",
            "Epoch 109/200\n",
            "3/3 - 0s - loss: 4.6317e-04 - mean_squared_error: 4.6317e-04 - val_loss: 3.9155e-04 - val_mean_squared_error: 3.9155e-04\n",
            "Epoch 110/200\n",
            "3/3 - 0s - loss: 3.5538e-04 - mean_squared_error: 3.5538e-04 - val_loss: 2.1211e-04 - val_mean_squared_error: 2.1211e-04\n",
            "Epoch 111/200\n",
            "3/3 - 0s - loss: 4.3323e-04 - mean_squared_error: 4.3323e-04 - val_loss: 7.7007e-04 - val_mean_squared_error: 7.7007e-04\n",
            "Epoch 112/200\n",
            "3/3 - 0s - loss: 7.9144e-04 - mean_squared_error: 7.9144e-04 - val_loss: 5.9443e-04 - val_mean_squared_error: 5.9443e-04\n",
            "Epoch 113/200\n",
            "3/3 - 0s - loss: 8.8641e-04 - mean_squared_error: 8.8641e-04 - val_loss: 0.0011 - val_mean_squared_error: 0.0011\n",
            "Epoch 114/200\n",
            "3/3 - 0s - loss: 8.4190e-04 - mean_squared_error: 8.4190e-04 - val_loss: 2.2289e-04 - val_mean_squared_error: 2.2289e-04\n",
            "Epoch 115/200\n",
            "3/3 - 0s - loss: 3.2925e-04 - mean_squared_error: 3.2925e-04 - val_loss: 2.3636e-04 - val_mean_squared_error: 2.3636e-04\n",
            "Epoch 116/200\n",
            "3/3 - 0s - loss: 1.7942e-04 - mean_squared_error: 1.7942e-04 - val_loss: 1.3485e-04 - val_mean_squared_error: 1.3485e-04\n",
            "Epoch 117/200\n",
            "3/3 - 0s - loss: 2.9235e-04 - mean_squared_error: 2.9235e-04 - val_loss: 5.2376e-04 - val_mean_squared_error: 5.2376e-04\n",
            "Epoch 118/200\n",
            "3/3 - 0s - loss: 8.8062e-04 - mean_squared_error: 8.8062e-04 - val_loss: 0.0010 - val_mean_squared_error: 0.0010\n",
            "Epoch 119/200\n",
            "3/3 - 0s - loss: 7.4445e-04 - mean_squared_error: 7.4445e-04 - val_loss: 1.1141e-04 - val_mean_squared_error: 1.1141e-04\n",
            "Epoch 120/200\n",
            "3/3 - 0s - loss: 8.0688e-05 - mean_squared_error: 8.0688e-05 - val_loss: 3.7392e-05 - val_mean_squared_error: 3.7392e-05\n",
            "Epoch 121/200\n",
            "3/3 - 0s - loss: 1.0442e-04 - mean_squared_error: 1.0442e-04 - val_loss: 2.1499e-04 - val_mean_squared_error: 2.1499e-04\n",
            "Epoch 122/200\n",
            "3/3 - 0s - loss: 4.8435e-04 - mean_squared_error: 4.8435e-04 - val_loss: 0.0010 - val_mean_squared_error: 0.0010\n",
            "Epoch 123/200\n",
            "3/3 - 0s - loss: 0.0012 - mean_squared_error: 0.0012 - val_loss: 5.1056e-04 - val_mean_squared_error: 5.1056e-04\n",
            "Epoch 124/200\n",
            "3/3 - 0s - loss: 4.4107e-04 - mean_squared_error: 4.4107e-04 - val_loss: 7.4718e-05 - val_mean_squared_error: 7.4718e-05\n",
            "Epoch 125/200\n",
            "3/3 - 0s - loss: 1.8851e-04 - mean_squared_error: 1.8851e-04 - val_loss: 3.0873e-04 - val_mean_squared_error: 3.0873e-04\n",
            "Epoch 126/200\n",
            "3/3 - 0s - loss: 3.5754e-04 - mean_squared_error: 3.5754e-04 - val_loss: 7.6743e-04 - val_mean_squared_error: 7.6743e-04\n",
            "Epoch 127/200\n",
            "3/3 - 0s - loss: 7.6423e-04 - mean_squared_error: 7.6423e-04 - val_loss: 3.0264e-04 - val_mean_squared_error: 3.0264e-04\n",
            "Epoch 128/200\n",
            "3/3 - 0s - loss: 1.7163e-04 - mean_squared_error: 1.7163e-04 - val_loss: 1.6277e-04 - val_mean_squared_error: 1.6277e-04\n",
            "Epoch 129/200\n",
            "3/3 - 0s - loss: 4.8633e-04 - mean_squared_error: 4.8633e-04 - val_loss: 7.5055e-04 - val_mean_squared_error: 7.5055e-04\n",
            "Epoch 130/200\n",
            "3/3 - 0s - loss: 6.5081e-04 - mean_squared_error: 6.5081e-04 - val_loss: 6.1730e-04 - val_mean_squared_error: 6.1730e-04\n",
            "Epoch 131/200\n",
            "3/3 - 0s - loss: 5.8340e-04 - mean_squared_error: 5.8340e-04 - val_loss: 4.0966e-04 - val_mean_squared_error: 4.0966e-04\n",
            "Epoch 132/200\n",
            "3/3 - 0s - loss: 3.4689e-04 - mean_squared_error: 3.4689e-04 - val_loss: 2.7603e-04 - val_mean_squared_error: 2.7603e-04\n",
            "Epoch 133/200\n",
            "3/3 - 0s - loss: 5.0133e-04 - mean_squared_error: 5.0133e-04 - val_loss: 6.7424e-04 - val_mean_squared_error: 6.7424e-04\n",
            "Epoch 134/200\n",
            "3/3 - 0s - loss: 5.3657e-04 - mean_squared_error: 5.3657e-04 - val_loss: 2.3174e-04 - val_mean_squared_error: 2.3174e-04\n",
            "Epoch 135/200\n",
            "3/3 - 0s - loss: 2.5746e-04 - mean_squared_error: 2.5746e-04 - val_loss: 5.6759e-04 - val_mean_squared_error: 5.6759e-04\n",
            "Epoch 136/200\n",
            "3/3 - 0s - loss: 7.9381e-04 - mean_squared_error: 7.9381e-04 - val_loss: 7.3228e-04 - val_mean_squared_error: 7.3228e-04\n",
            "Epoch 137/200\n",
            "3/3 - 0s - loss: 6.7832e-04 - mean_squared_error: 6.7832e-04 - val_loss: 6.0768e-04 - val_mean_squared_error: 6.0768e-04\n",
            "Epoch 138/200\n",
            "3/3 - 0s - loss: 4.7741e-04 - mean_squared_error: 4.7741e-04 - val_loss: 1.9538e-04 - val_mean_squared_error: 1.9538e-04\n",
            "Epoch 139/200\n",
            "3/3 - 0s - loss: 3.6601e-04 - mean_squared_error: 3.6601e-04 - val_loss: 2.5191e-04 - val_mean_squared_error: 2.5191e-04\n",
            "Epoch 140/200\n",
            "3/3 - 0s - loss: 2.6196e-04 - mean_squared_error: 2.6196e-04 - val_loss: 5.0402e-04 - val_mean_squared_error: 5.0402e-04\n"
          ],
          "name": "stdout"
        }
      ]
    },
    {
      "cell_type": "markdown",
      "metadata": {
        "id": "xgjEi6oP0kNE",
        "colab_type": "text"
      },
      "source": [
        "### Evaluate model performance"
      ]
    },
    {
      "cell_type": "code",
      "metadata": {
        "id": "CZNI6nGtzbYy",
        "colab_type": "code",
        "colab": {
          "base_uri": "https://localhost:8080/",
          "height": 295
        },
        "outputId": "02b631e0-b4cc-4da1-856f-4348aa0435df"
      },
      "source": [
        "history_df = pd.DataFrame(history.history)\n",
        "ax = history_df.plot(y=['loss', 'val_loss'],\n",
        "                xticks=np.linspace(0, len(history_df), 6))\n",
        "ax.set_ylabel('Loss')\n",
        "ax.set_xlabel('Epoch')\n",
        "ax.set_title('Evolution of Mean Squared Error')\n",
        "plt.show()\n"
      ],
      "execution_count": 13,
      "outputs": [
        {
          "output_type": "display_data",
          "data": {
            "image/png": "[encoded data removed]",
            "text/plain": [
              "<Figure size 432x288 with 1 Axes>"
            ]
          },
          "metadata": {
            "tags": [],
            "needs_background": "light"
          }
        }
      ]
    },
    {
      "cell_type": "code",
      "metadata": {
        "id": "29eHeDjEoNqj",
        "colab_type": "code",
        "colab": {}
      },
      "source": [
        "y_hat = model.predict(X_val)"
      ],
      "execution_count": 0,
      "outputs": []
    },
    {
      "cell_type": "code",
      "metadata": {
        "id": "6CoZVBtCrT7K",
        "colab_type": "code",
        "colab": {
          "base_uri": "https://localhost:8080/",
          "height": 295
        },
        "outputId": "3446a1ba-f552-4190-bcd2-a8e2090e95e3"
      },
      "source": [
        "plt.scatter(y_val * 40, y_hat * 40)\n",
        "plt.title('Predicted lat vs. True lat')\n",
        "plt.xlabel('True lat')\n",
        "plt.ylabel('Predicted lat')\n",
        "plt.show()"
      ],
      "execution_count": 15,
      "outputs": [
        {
          "output_type": "display_data",
          "data": {
            "image/png": "[encoded data removed]",
            "text/plain": [
              "<Figure size 432x288 with 1 Axes>"
            ]
          },
          "metadata": {
            "tags": [],
            "needs_background": "light"
          }
        }
      ]
    },
    {
      "cell_type": "code",
      "metadata": {
        "id": "n5tCuM2HvK72",
        "colab_type": "code",
        "colab": {}
      },
      "source": [
        ""
      ],
      "execution_count": 0,
      "outputs": []
    }
  ]
}